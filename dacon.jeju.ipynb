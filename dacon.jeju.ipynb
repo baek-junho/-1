{
 "cells": [
  {
   "cell_type": "code",
   "execution_count": 1,
   "metadata": {},
   "outputs": [],
   "source": [
    "import pandas as pd\n",
    "import numpy as np\n",
    "import matplotlib.pyplot as plt\n",
    "import seaborn as sns\n",
    "import folium\n",
    "from folium import plugins\n",
    "from folium.plugins import MousePosition\n",
    "from pyproj import Proj, Transformer\n",
    "import json"
   ]
  },
  {
   "cell_type": "code",
   "execution_count": 2,
   "metadata": {},
   "outputs": [],
   "source": [
    "# 한글깨짐 방지\n",
    "plt.rc(\"font\", family = \"Malgun GOthic\")\n",
    "plt.rc(\"axes\", unicode_minus=False)\n",
    "import matplotlib\n",
    "from matplotlib import font_manager, rc\n",
    "import warnings\n",
    "warnings.filterwarnings('ignore')\n"
   ]
  },
  {
   "cell_type": "markdown",
   "metadata": {},
   "source": [
    "데이터 정의\n",
    "\n",
    "- YM : 기준년월\n",
    "- SIDO : 지역대분류명\n",
    "- SIGUNGU : 지역중분류명\n",
    "- FranClass : 소상공인구분\n",
    "- Type : 업종명\n",
    "- Time : 시간대\n",
    "- TotalSpent : 총사용금액\n",
    "- DisSpent : 재난지원금 사용금액\n",
    "- NumOfSpent : 총 이용건수\n",
    "- NumOfDisSpent : 총 재난지원금 이용건수\n",
    "- POINT_X, POINT_Y : X,Y 좌표"
   ]
  },
  {
   "cell_type": "markdown",
   "metadata": {},
   "source": [
    "# 제주도 재난지원금 데이터 이전의 읍면동별 카드 소비 분석\n",
    "- 재난지원금의 데이터는 20년 5월~8월, 그래서 그 전인 20년 1~4월로 카드결제 금액으로 소비 분석"
   ]
  },
  {
   "cell_type": "code",
   "execution_count": 3,
   "metadata": {},
   "outputs": [
    {
     "data": {
      "text/plain": [
       "(90543, 11)"
      ]
     },
     "execution_count": 3,
     "metadata": {},
     "output_type": "execute_result"
    }
   ],
   "source": [
    "# 커드 데이터 가져오기\n",
    "card = pd.read_csv('카드 매출액 변화 데이터.csv', encoding='ansi')\n",
    "card.shape"
   ]
  },
  {
   "cell_type": "code",
   "execution_count": 4,
   "metadata": {},
   "outputs": [
    {
     "data": {
      "text/html": [
       "<div>\n",
       "<style scoped>\n",
       "    .dataframe tbody tr th:only-of-type {\n",
       "        vertical-align: middle;\n",
       "    }\n",
       "\n",
       "    .dataframe tbody tr th {\n",
       "        vertical-align: top;\n",
       "    }\n",
       "\n",
       "    .dataframe thead th {\n",
       "        text-align: right;\n",
       "    }\n",
       "</style>\n",
       "<table border=\"1\" class=\"dataframe\">\n",
       "  <thead>\n",
       "    <tr style=\"text-align: right;\">\n",
       "      <th></th>\n",
       "      <th>년월</th>\n",
       "      <th>시도명</th>\n",
       "      <th>읍면동명</th>\n",
       "      <th>업종명</th>\n",
       "      <th>성별</th>\n",
       "      <th>이용자수</th>\n",
       "      <th>이용금액</th>\n",
       "      <th>거주인구</th>\n",
       "      <th>근무인구</th>\n",
       "      <th>방문인구</th>\n",
       "      <th>데이터기준일자</th>\n",
       "    </tr>\n",
       "  </thead>\n",
       "  <tbody>\n",
       "    <tr>\n",
       "      <th>0</th>\n",
       "      <td>2017-01</td>\n",
       "      <td>서귀포시</td>\n",
       "      <td>남원읍</td>\n",
       "      <td>건강보조식품 소매업</td>\n",
       "      <td>남성</td>\n",
       "      <td>11</td>\n",
       "      <td>137500</td>\n",
       "      <td>4365500.518</td>\n",
       "      <td>380992.059</td>\n",
       "      <td>2844836.615</td>\n",
       "      <td>2020-12-15</td>\n",
       "    </tr>\n",
       "    <tr>\n",
       "      <th>1</th>\n",
       "      <td>2017-01</td>\n",
       "      <td>서귀포시</td>\n",
       "      <td>남원읍</td>\n",
       "      <td>골프장 운영업</td>\n",
       "      <td>남성</td>\n",
       "      <td>1988</td>\n",
       "      <td>285901584</td>\n",
       "      <td>4365500.518</td>\n",
       "      <td>380992.059</td>\n",
       "      <td>2844836.615</td>\n",
       "      <td>2020-12-15</td>\n",
       "    </tr>\n",
       "    <tr>\n",
       "      <th>2</th>\n",
       "      <td>2017-01</td>\n",
       "      <td>서귀포시</td>\n",
       "      <td>남원읍</td>\n",
       "      <td>과실 및 채소 소매업</td>\n",
       "      <td>남성</td>\n",
       "      <td>685</td>\n",
       "      <td>49486002</td>\n",
       "      <td>4365500.518</td>\n",
       "      <td>380992.059</td>\n",
       "      <td>2844836.615</td>\n",
       "      <td>2020-12-15</td>\n",
       "    </tr>\n",
       "    <tr>\n",
       "      <th>3</th>\n",
       "      <td>2017-01</td>\n",
       "      <td>서귀포시</td>\n",
       "      <td>남원읍</td>\n",
       "      <td>관광 민예품 및 선물용품 소매업</td>\n",
       "      <td>남성</td>\n",
       "      <td>6</td>\n",
       "      <td>116000</td>\n",
       "      <td>4365500.518</td>\n",
       "      <td>380992.059</td>\n",
       "      <td>2844836.615</td>\n",
       "      <td>2020-12-15</td>\n",
       "    </tr>\n",
       "    <tr>\n",
       "      <th>4</th>\n",
       "      <td>2017-01</td>\n",
       "      <td>서귀포시</td>\n",
       "      <td>남원읍</td>\n",
       "      <td>그외 기타 종합 소매업</td>\n",
       "      <td>남성</td>\n",
       "      <td>1</td>\n",
       "      <td>100000</td>\n",
       "      <td>4365500.518</td>\n",
       "      <td>380992.059</td>\n",
       "      <td>2844836.615</td>\n",
       "      <td>2020-12-15</td>\n",
       "    </tr>\n",
       "  </tbody>\n",
       "</table>\n",
       "</div>"
      ],
      "text/plain": [
       "        년월   시도명 읍면동명                업종명  성별  이용자수       이용금액         거주인구  \\\n",
       "0  2017-01  서귀포시  남원읍         건강보조식품 소매업  남성    11     137500  4365500.518   \n",
       "1  2017-01  서귀포시  남원읍            골프장 운영업  남성  1988  285901584  4365500.518   \n",
       "2  2017-01  서귀포시  남원읍        과실 및 채소 소매업  남성   685   49486002  4365500.518   \n",
       "3  2017-01  서귀포시  남원읍  관광 민예품 및 선물용품 소매업  남성     6     116000  4365500.518   \n",
       "4  2017-01  서귀포시  남원읍       그외 기타 종합 소매업  남성     1     100000  4365500.518   \n",
       "\n",
       "         근무인구         방문인구     데이터기준일자  \n",
       "0  380992.059  2844836.615  2020-12-15  \n",
       "1  380992.059  2844836.615  2020-12-15  \n",
       "2  380992.059  2844836.615  2020-12-15  \n",
       "3  380992.059  2844836.615  2020-12-15  \n",
       "4  380992.059  2844836.615  2020-12-15  "
      ]
     },
     "execution_count": 4,
     "metadata": {},
     "output_type": "execute_result"
    }
   ],
   "source": [
    "card.head()"
   ]
  },
  {
   "cell_type": "code",
   "execution_count": 5,
   "metadata": {},
   "outputs": [
    {
     "data": {
      "text/html": [
       "<div>\n",
       "<style scoped>\n",
       "    .dataframe tbody tr th:only-of-type {\n",
       "        vertical-align: middle;\n",
       "    }\n",
       "\n",
       "    .dataframe tbody tr th {\n",
       "        vertical-align: top;\n",
       "    }\n",
       "\n",
       "    .dataframe thead th {\n",
       "        text-align: right;\n",
       "    }\n",
       "</style>\n",
       "<table border=\"1\" class=\"dataframe\">\n",
       "  <thead>\n",
       "    <tr style=\"text-align: right;\">\n",
       "      <th></th>\n",
       "      <th>년월</th>\n",
       "      <th>시도명</th>\n",
       "      <th>읍면동명</th>\n",
       "      <th>업종명</th>\n",
       "      <th>성별</th>\n",
       "      <th>이용자수</th>\n",
       "      <th>이용금액</th>\n",
       "      <th>거주인구</th>\n",
       "      <th>근무인구</th>\n",
       "      <th>방문인구</th>\n",
       "      <th>데이터기준일자</th>\n",
       "    </tr>\n",
       "  </thead>\n",
       "  <tbody>\n",
       "    <tr>\n",
       "      <th>90538</th>\n",
       "      <td>2020-04</td>\n",
       "      <td>제주시</td>\n",
       "      <td>화북동</td>\n",
       "      <td>체인화 편의점</td>\n",
       "      <td>여성</td>\n",
       "      <td>4912</td>\n",
       "      <td>38606200</td>\n",
       "      <td>9241265.99</td>\n",
       "      <td>481026.216</td>\n",
       "      <td>2598152.464</td>\n",
       "      <td>2020-12-15</td>\n",
       "    </tr>\n",
       "    <tr>\n",
       "      <th>90539</th>\n",
       "      <td>2020-04</td>\n",
       "      <td>제주시</td>\n",
       "      <td>화북동</td>\n",
       "      <td>택시 운송업</td>\n",
       "      <td>여성</td>\n",
       "      <td>29</td>\n",
       "      <td>211680</td>\n",
       "      <td>9241265.99</td>\n",
       "      <td>481026.216</td>\n",
       "      <td>2598152.464</td>\n",
       "      <td>2020-12-15</td>\n",
       "    </tr>\n",
       "    <tr>\n",
       "      <th>90540</th>\n",
       "      <td>2020-04</td>\n",
       "      <td>제주시</td>\n",
       "      <td>화북동</td>\n",
       "      <td>피자, 햄버거, 샌드위치 및 유사 음식점업</td>\n",
       "      <td>여성</td>\n",
       "      <td>1193</td>\n",
       "      <td>17417160</td>\n",
       "      <td>9241265.99</td>\n",
       "      <td>481026.216</td>\n",
       "      <td>2598152.464</td>\n",
       "      <td>2020-12-15</td>\n",
       "    </tr>\n",
       "    <tr>\n",
       "      <th>90541</th>\n",
       "      <td>2020-04</td>\n",
       "      <td>제주시</td>\n",
       "      <td>화북동</td>\n",
       "      <td>한식 음식점업</td>\n",
       "      <td>여성</td>\n",
       "      <td>4632</td>\n",
       "      <td>149658745</td>\n",
       "      <td>9241265.99</td>\n",
       "      <td>481026.216</td>\n",
       "      <td>2598152.464</td>\n",
       "      <td>2020-12-15</td>\n",
       "    </tr>\n",
       "    <tr>\n",
       "      <th>90542</th>\n",
       "      <td>2020-04</td>\n",
       "      <td>제주시</td>\n",
       "      <td>화북동</td>\n",
       "      <td>화장품 및 방향제 소매업</td>\n",
       "      <td>여성</td>\n",
       "      <td>163</td>\n",
       "      <td>14553710</td>\n",
       "      <td>9241265.99</td>\n",
       "      <td>481026.216</td>\n",
       "      <td>2598152.464</td>\n",
       "      <td>2020-12-15</td>\n",
       "    </tr>\n",
       "  </tbody>\n",
       "</table>\n",
       "</div>"
      ],
      "text/plain": [
       "            년월  시도명 읍면동명                      업종명  성별  이용자수       이용금액  \\\n",
       "90538  2020-04  제주시  화북동                  체인화 편의점  여성  4912   38606200   \n",
       "90539  2020-04  제주시  화북동                   택시 운송업  여성    29     211680   \n",
       "90540  2020-04  제주시  화북동  피자, 햄버거, 샌드위치 및 유사 음식점업  여성  1193   17417160   \n",
       "90541  2020-04  제주시  화북동                  한식 음식점업  여성  4632  149658745   \n",
       "90542  2020-04  제주시  화북동            화장품 및 방향제 소매업  여성   163   14553710   \n",
       "\n",
       "             거주인구        근무인구         방문인구     데이터기준일자  \n",
       "90538  9241265.99  481026.216  2598152.464  2020-12-15  \n",
       "90539  9241265.99  481026.216  2598152.464  2020-12-15  \n",
       "90540  9241265.99  481026.216  2598152.464  2020-12-15  \n",
       "90541  9241265.99  481026.216  2598152.464  2020-12-15  \n",
       "90542  9241265.99  481026.216  2598152.464  2020-12-15  "
      ]
     },
     "execution_count": 5,
     "metadata": {},
     "output_type": "execute_result"
    }
   ],
   "source": [
    "card.tail()"
   ]
  },
  {
   "cell_type": "code",
   "execution_count": 6,
   "metadata": {},
   "outputs": [
    {
     "data": {
      "text/html": [
       "<div>\n",
       "<style scoped>\n",
       "    .dataframe tbody tr th:only-of-type {\n",
       "        vertical-align: middle;\n",
       "    }\n",
       "\n",
       "    .dataframe tbody tr th {\n",
       "        vertical-align: top;\n",
       "    }\n",
       "\n",
       "    .dataframe thead th {\n",
       "        text-align: right;\n",
       "    }\n",
       "</style>\n",
       "<table border=\"1\" class=\"dataframe\">\n",
       "  <thead>\n",
       "    <tr style=\"text-align: right;\">\n",
       "      <th></th>\n",
       "      <th>년월</th>\n",
       "      <th>시도명</th>\n",
       "      <th>읍면동명</th>\n",
       "      <th>업종명</th>\n",
       "      <th>성별</th>\n",
       "      <th>이용자수</th>\n",
       "      <th>이용금액</th>\n",
       "      <th>거주인구</th>\n",
       "      <th>근무인구</th>\n",
       "      <th>방문인구</th>\n",
       "      <th>데이터기준일자</th>\n",
       "    </tr>\n",
       "  </thead>\n",
       "  <tbody>\n",
       "    <tr>\n",
       "      <th>81567</th>\n",
       "      <td>2020-01</td>\n",
       "      <td>서귀포시</td>\n",
       "      <td>남원읍</td>\n",
       "      <td>건강보조식품 소매업</td>\n",
       "      <td>남성</td>\n",
       "      <td>2</td>\n",
       "      <td>65000</td>\n",
       "      <td>4869067.386</td>\n",
       "      <td>444319.725</td>\n",
       "      <td>3304302.997</td>\n",
       "      <td>2020-12-15</td>\n",
       "    </tr>\n",
       "    <tr>\n",
       "      <th>81568</th>\n",
       "      <td>2020-01</td>\n",
       "      <td>서귀포시</td>\n",
       "      <td>남원읍</td>\n",
       "      <td>골프장 운영업</td>\n",
       "      <td>남성</td>\n",
       "      <td>1980</td>\n",
       "      <td>297727940</td>\n",
       "      <td>4869067.386</td>\n",
       "      <td>444319.725</td>\n",
       "      <td>3304302.997</td>\n",
       "      <td>2020-12-15</td>\n",
       "    </tr>\n",
       "    <tr>\n",
       "      <th>81569</th>\n",
       "      <td>2020-01</td>\n",
       "      <td>서귀포시</td>\n",
       "      <td>남원읍</td>\n",
       "      <td>과실 및 채소 소매업</td>\n",
       "      <td>남성</td>\n",
       "      <td>1429</td>\n",
       "      <td>59655253</td>\n",
       "      <td>4869067.386</td>\n",
       "      <td>444319.725</td>\n",
       "      <td>3304302.997</td>\n",
       "      <td>2020-12-15</td>\n",
       "    </tr>\n",
       "    <tr>\n",
       "      <th>81570</th>\n",
       "      <td>2020-01</td>\n",
       "      <td>서귀포시</td>\n",
       "      <td>남원읍</td>\n",
       "      <td>관광 민예품 및 선물용품 소매업</td>\n",
       "      <td>남성</td>\n",
       "      <td>74</td>\n",
       "      <td>1730000</td>\n",
       "      <td>4869067.386</td>\n",
       "      <td>444319.725</td>\n",
       "      <td>3304302.997</td>\n",
       "      <td>2020-12-15</td>\n",
       "    </tr>\n",
       "    <tr>\n",
       "      <th>81571</th>\n",
       "      <td>2020-01</td>\n",
       "      <td>서귀포시</td>\n",
       "      <td>남원읍</td>\n",
       "      <td>그외 기타 종합 소매업</td>\n",
       "      <td>남성</td>\n",
       "      <td>1</td>\n",
       "      <td>100000</td>\n",
       "      <td>4869067.386</td>\n",
       "      <td>444319.725</td>\n",
       "      <td>3304302.997</td>\n",
       "      <td>2020-12-15</td>\n",
       "    </tr>\n",
       "  </tbody>\n",
       "</table>\n",
       "</div>"
      ],
      "text/plain": [
       "            년월   시도명 읍면동명                업종명  성별  이용자수       이용금액  \\\n",
       "81567  2020-01  서귀포시  남원읍         건강보조식품 소매업  남성     2      65000   \n",
       "81568  2020-01  서귀포시  남원읍            골프장 운영업  남성  1980  297727940   \n",
       "81569  2020-01  서귀포시  남원읍        과실 및 채소 소매업  남성  1429   59655253   \n",
       "81570  2020-01  서귀포시  남원읍  관광 민예품 및 선물용품 소매업  남성    74    1730000   \n",
       "81571  2020-01  서귀포시  남원읍       그외 기타 종합 소매업  남성     1     100000   \n",
       "\n",
       "              거주인구        근무인구         방문인구     데이터기준일자  \n",
       "81567  4869067.386  444319.725  3304302.997  2020-12-15  \n",
       "81568  4869067.386  444319.725  3304302.997  2020-12-15  \n",
       "81569  4869067.386  444319.725  3304302.997  2020-12-15  \n",
       "81570  4869067.386  444319.725  3304302.997  2020-12-15  \n",
       "81571  4869067.386  444319.725  3304302.997  2020-12-15  "
      ]
     },
     "execution_count": 6,
     "metadata": {},
     "output_type": "execute_result"
    }
   ],
   "source": [
    "# 17년도 부터 있으니 필요한 20년 1월~4월 빼고 제거\n",
    "card = card[card[\"년월\"].str.contains(\"2020\")]\n",
    "card.head()"
   ]
  },
  {
   "cell_type": "code",
   "execution_count": 7,
   "metadata": {},
   "outputs": [
    {
     "data": {
      "text/plain": [
       "(8976, 11)"
      ]
     },
     "execution_count": 7,
     "metadata": {},
     "output_type": "execute_result"
    }
   ],
   "source": [
    "card.shape"
   ]
  },
  {
   "cell_type": "code",
   "execution_count": 8,
   "metadata": {},
   "outputs": [
    {
     "data": {
      "text/html": [
       "<div>\n",
       "<style scoped>\n",
       "    .dataframe tbody tr th:only-of-type {\n",
       "        vertical-align: middle;\n",
       "    }\n",
       "\n",
       "    .dataframe tbody tr th {\n",
       "        vertical-align: top;\n",
       "    }\n",
       "\n",
       "    .dataframe thead th {\n",
       "        text-align: right;\n",
       "    }\n",
       "</style>\n",
       "<table border=\"1\" class=\"dataframe\">\n",
       "  <thead>\n",
       "    <tr style=\"text-align: right;\">\n",
       "      <th></th>\n",
       "      <th>이용자수</th>\n",
       "      <th>이용금액</th>\n",
       "      <th>거주인구</th>\n",
       "      <th>근무인구</th>\n",
       "      <th>방문인구</th>\n",
       "    </tr>\n",
       "    <tr>\n",
       "      <th>년월</th>\n",
       "      <th></th>\n",
       "      <th></th>\n",
       "      <th></th>\n",
       "      <th></th>\n",
       "      <th></th>\n",
       "    </tr>\n",
       "  </thead>\n",
       "  <tbody>\n",
       "    <tr>\n",
       "      <th>2020-01</th>\n",
       "      <td>3938776</td>\n",
       "      <td>138167118226</td>\n",
       "      <td>1.084438e+10</td>\n",
       "      <td>1.125537e+09</td>\n",
       "      <td>6.979003e+09</td>\n",
       "    </tr>\n",
       "    <tr>\n",
       "      <th>2020-02</th>\n",
       "      <td>3180770</td>\n",
       "      <td>101657255580</td>\n",
       "      <td>1.041415e+10</td>\n",
       "      <td>9.977364e+08</td>\n",
       "      <td>5.302893e+09</td>\n",
       "    </tr>\n",
       "    <tr>\n",
       "      <th>2020-03</th>\n",
       "      <td>3306862</td>\n",
       "      <td>102934625430</td>\n",
       "      <td>1.175674e+10</td>\n",
       "      <td>1.034136e+09</td>\n",
       "      <td>5.207861e+09</td>\n",
       "    </tr>\n",
       "    <tr>\n",
       "      <th>2020-04</th>\n",
       "      <td>3443416</td>\n",
       "      <td>107121260529</td>\n",
       "      <td>1.128469e+10</td>\n",
       "      <td>9.385870e+08</td>\n",
       "      <td>4.981342e+09</td>\n",
       "    </tr>\n",
       "  </tbody>\n",
       "</table>\n",
       "</div>"
      ],
      "text/plain": [
       "            이용자수          이용금액          거주인구          근무인구          방문인구\n",
       "년월                                                                      \n",
       "2020-01  3938776  138167118226  1.084438e+10  1.125537e+09  6.979003e+09\n",
       "2020-02  3180770  101657255580  1.041415e+10  9.977364e+08  5.302893e+09\n",
       "2020-03  3306862  102934625430  1.175674e+10  1.034136e+09  5.207861e+09\n",
       "2020-04  3443416  107121260529  1.128469e+10  9.385870e+08  4.981342e+09"
      ]
     },
     "execution_count": 8,
     "metadata": {},
     "output_type": "execute_result"
    }
   ],
   "source": [
    "card.groupby(['년월']).sum()"
   ]
  },
  {
   "cell_type": "code",
   "execution_count": 9,
   "metadata": {},
   "outputs": [],
   "source": [
    "# 월별 소비분석\n",
    "price = card.groupby([\"년월\"]).sum().이용금액"
   ]
  },
  {
   "cell_type": "code",
   "execution_count": 10,
   "metadata": {},
   "outputs": [
    {
     "data": {
      "text/plain": [
       "년월\n",
       "2020-01    138167118226\n",
       "2020-02    101657255580\n",
       "2020-03    102934625430\n",
       "2020-04    107121260529\n",
       "Name: 이용금액, dtype: int64"
      ]
     },
     "execution_count": 10,
     "metadata": {},
     "output_type": "execute_result"
    }
   ],
   "source": [
    "price"
   ]
  },
  {
   "cell_type": "code",
   "execution_count": 11,
   "metadata": {},
   "outputs": [
    {
     "data": {
      "text/plain": [
       "<matplotlib.axes._subplots.AxesSubplot at 0x22ee05efa48>"
      ]
     },
     "execution_count": 11,
     "metadata": {},
     "output_type": "execute_result"
    },
    {
     "data": {
      "image/png": "[encoded data removed]",
      "text/plain": [
       "<Figure size 432x288 with 1 Axes>"
      ]
     },
     "metadata": {
      "needs_background": "light"
     },
     "output_type": "display_data"
    }
   ],
   "source": [
    "sns.lineplot(y='이용금액', x='년월', data=card)"
   ]
  },
  {
   "cell_type": "code",
   "execution_count": 12,
   "metadata": {},
   "outputs": [
    {
     "data": {
      "text/plain": [
       "<matplotlib.axes._subplots.AxesSubplot at 0x22ee0e33cc8>"
      ]
     },
     "execution_count": 12,
     "metadata": {},
     "output_type": "execute_result"
    },
    {
     "data": {
      "image/png": "[encoded data removed]",
      "text/plain": [
       "<Figure size 432x288 with 1 Axes>"
      ]
     },
     "metadata": {
      "needs_background": "light"
     },
     "output_type": "display_data"
    }
   ],
   "source": [
    "sns.barplot(y='이용금액', x='년월', data=card)"
   ]
  },
  {
   "cell_type": "markdown",
   "metadata": {},
   "source": [
    "코로나가 시작할때쯤 낮아졌다가 다시 증가한것같다"
   ]
  },
  {
   "cell_type": "code",
   "execution_count": 13,
   "metadata": {},
   "outputs": [
    {
     "data": {
      "text/html": [
       "<div>\n",
       "<style scoped>\n",
       "    .dataframe tbody tr th:only-of-type {\n",
       "        vertical-align: middle;\n",
       "    }\n",
       "\n",
       "    .dataframe tbody tr th {\n",
       "        vertical-align: top;\n",
       "    }\n",
       "\n",
       "    .dataframe thead th {\n",
       "        text-align: right;\n",
       "    }\n",
       "</style>\n",
       "<table border=\"1\" class=\"dataframe\">\n",
       "  <thead>\n",
       "    <tr style=\"text-align: right;\">\n",
       "      <th></th>\n",
       "      <th>업종명</th>\n",
       "      <th>이용금액</th>\n",
       "    </tr>\n",
       "  </thead>\n",
       "  <tbody>\n",
       "    <tr>\n",
       "      <th>36</th>\n",
       "      <td>한식 음식점업</td>\n",
       "      <td>99616018289</td>\n",
       "    </tr>\n",
       "    <tr>\n",
       "      <th>19</th>\n",
       "      <td>슈퍼마켓</td>\n",
       "      <td>51168020405</td>\n",
       "    </tr>\n",
       "    <tr>\n",
       "      <th>32</th>\n",
       "      <td>차량용 주유소 운영업</td>\n",
       "      <td>42112272500</td>\n",
       "    </tr>\n",
       "    <tr>\n",
       "      <th>33</th>\n",
       "      <td>체인화 편의점</td>\n",
       "      <td>35281987673</td>\n",
       "    </tr>\n",
       "    <tr>\n",
       "      <th>7</th>\n",
       "      <td>기타 대형 종합 소매업</td>\n",
       "      <td>21346220866</td>\n",
       "    </tr>\n",
       "    <tr>\n",
       "      <th>11</th>\n",
       "      <td>기타음식료품위주종합소매업</td>\n",
       "      <td>19331179610</td>\n",
       "    </tr>\n",
       "    <tr>\n",
       "      <th>14</th>\n",
       "      <td>면세점</td>\n",
       "      <td>18886618997</td>\n",
       "    </tr>\n",
       "    <tr>\n",
       "      <th>25</th>\n",
       "      <td>일반유흥 주점업</td>\n",
       "      <td>14159755021</td>\n",
       "    </tr>\n",
       "    <tr>\n",
       "      <th>20</th>\n",
       "      <td>스포츠 및 레크레이션 용품 임대업</td>\n",
       "      <td>12756960944</td>\n",
       "    </tr>\n",
       "    <tr>\n",
       "      <th>17</th>\n",
       "      <td>서양식 음식점업</td>\n",
       "      <td>12723045067</td>\n",
       "    </tr>\n",
       "  </tbody>\n",
       "</table>\n",
       "</div>"
      ],
      "text/plain": [
       "                   업종명         이용금액\n",
       "36             한식 음식점업  99616018289\n",
       "19                슈퍼마켓  51168020405\n",
       "32         차량용 주유소 운영업  42112272500\n",
       "33             체인화 편의점  35281987673\n",
       "7         기타 대형 종합 소매업  21346220866\n",
       "11       기타음식료품위주종합소매업  19331179610\n",
       "14                 면세점  18886618997\n",
       "25            일반유흥 주점업  14159755021\n",
       "20  스포츠 및 레크레이션 용품 임대업  12756960944\n",
       "17            서양식 음식점업  12723045067"
      ]
     },
     "execution_count": 13,
     "metadata": {},
     "output_type": "execute_result"
    }
   ],
   "source": [
    "card.groupby('업종명').sum().이용금액.to_frame().reset_index().sort_values(by='이용금액', ascending=False)[:10]"
   ]
  },
  {
   "cell_type": "markdown",
   "metadata": {},
   "source": [
    "업종별로 이용금액 많은수 top10"
   ]
  },
  {
   "cell_type": "code",
   "execution_count": 14,
   "metadata": {},
   "outputs": [
    {
     "data": {
      "text/plain": [
       "(array([0, 1, 2, 3, 4, 5, 6, 7, 8, 9]), <a list of 10 Text xticklabel objects>)"
      ]
     },
     "execution_count": 14,
     "metadata": {},
     "output_type": "execute_result"
    },
    {
     "data": {
      "image/png": "[encoded data removed]",
      "text/plain": [
       "<Figure size 1080x720 with 1 Axes>"
      ]
     },
     "metadata": {
      "needs_background": "light"
     },
     "output_type": "display_data"
    }
   ],
   "source": [
    "plt.figure(figsize=(15,10))\n",
    "sns.barplot(data=card.groupby('업종명').sum().이용금액.to_frame().reset_index().sort_values(by='이용금액', ascending=False)[:10], x='업종명', y='이용금액', palette='Paired')\n",
    "plt.xticks(rotation=45, size=14)"
   ]
  },
  {
   "cell_type": "code",
   "execution_count": 15,
   "metadata": {},
   "outputs": [
    {
     "data": {
      "text/html": [
       "<div>\n",
       "<style scoped>\n",
       "    .dataframe tbody tr th:only-of-type {\n",
       "        vertical-align: middle;\n",
       "    }\n",
       "\n",
       "    .dataframe tbody tr th {\n",
       "        vertical-align: top;\n",
       "    }\n",
       "\n",
       "    .dataframe thead th {\n",
       "        text-align: right;\n",
       "    }\n",
       "</style>\n",
       "<table border=\"1\" class=\"dataframe\">\n",
       "  <thead>\n",
       "    <tr style=\"text-align: right;\">\n",
       "      <th></th>\n",
       "      <th>년월</th>\n",
       "      <th>시도명</th>\n",
       "      <th>읍면동명</th>\n",
       "      <th>업종명</th>\n",
       "      <th>이용자수</th>\n",
       "      <th>이용금액</th>\n",
       "      <th>총 유동인구</th>\n",
       "      <th>데이터기준일자</th>\n",
       "    </tr>\n",
       "  </thead>\n",
       "  <tbody>\n",
       "    <tr>\n",
       "      <th>0</th>\n",
       "      <td>2018-01</td>\n",
       "      <td>서귀포시</td>\n",
       "      <td>남원읍</td>\n",
       "      <td>건강보조식품 소매업</td>\n",
       "      <td>7</td>\n",
       "      <td>789000</td>\n",
       "      <td>15559582.61</td>\n",
       "      <td>2020-12-15</td>\n",
       "    </tr>\n",
       "    <tr>\n",
       "      <th>1</th>\n",
       "      <td>2018-01</td>\n",
       "      <td>서귀포시</td>\n",
       "      <td>남원읍</td>\n",
       "      <td>골프장 운영업</td>\n",
       "      <td>3277</td>\n",
       "      <td>484029251</td>\n",
       "      <td>15559582.61</td>\n",
       "      <td>2020-12-15</td>\n",
       "    </tr>\n",
       "    <tr>\n",
       "      <th>2</th>\n",
       "      <td>2018-01</td>\n",
       "      <td>서귀포시</td>\n",
       "      <td>남원읍</td>\n",
       "      <td>과실 및 채소 소매업</td>\n",
       "      <td>1251</td>\n",
       "      <td>103272305</td>\n",
       "      <td>15559582.61</td>\n",
       "      <td>2020-12-15</td>\n",
       "    </tr>\n",
       "    <tr>\n",
       "      <th>3</th>\n",
       "      <td>2018-01</td>\n",
       "      <td>서귀포시</td>\n",
       "      <td>남원읍</td>\n",
       "      <td>관광 민예품 및 선물용품 소매업</td>\n",
       "      <td>147</td>\n",
       "      <td>5320500</td>\n",
       "      <td>15559582.61</td>\n",
       "      <td>2020-12-15</td>\n",
       "    </tr>\n",
       "    <tr>\n",
       "      <th>4</th>\n",
       "      <td>2018-01</td>\n",
       "      <td>서귀포시</td>\n",
       "      <td>남원읍</td>\n",
       "      <td>그외 기타 종합 소매업</td>\n",
       "      <td>9</td>\n",
       "      <td>5640000</td>\n",
       "      <td>15559582.61</td>\n",
       "      <td>2020-12-15</td>\n",
       "    </tr>\n",
       "  </tbody>\n",
       "</table>\n",
       "</div>"
      ],
      "text/plain": [
       "        년월   시도명 읍면동명                업종명  이용자수       이용금액       총 유동인구  \\\n",
       "0  2018-01  서귀포시  남원읍         건강보조식품 소매업     7     789000  15559582.61   \n",
       "1  2018-01  서귀포시  남원읍            골프장 운영업  3277  484029251  15559582.61   \n",
       "2  2018-01  서귀포시  남원읍        과실 및 채소 소매업  1251  103272305  15559582.61   \n",
       "3  2018-01  서귀포시  남원읍  관광 민예품 및 선물용품 소매업   147    5320500  15559582.61   \n",
       "4  2018-01  서귀포시  남원읍       그외 기타 종합 소매업     9    5640000  15559582.61   \n",
       "\n",
       "      데이터기준일자  \n",
       "0  2020-12-15  \n",
       "1  2020-12-15  \n",
       "2  2020-12-15  \n",
       "3  2020-12-15  \n",
       "4  2020-12-15  "
      ]
     },
     "execution_count": 15,
     "metadata": {},
     "output_type": "execute_result"
    }
   ],
   "source": [
    "# 유동인구별, 이용금액 20년도 데이터만\n",
    "place = pd.read_csv(\"인기있는 업종 추천 데이터.csv\", encoding='ansi')\n",
    "place.head()"
   ]
  },
  {
   "cell_type": "code",
   "execution_count": 16,
   "metadata": {},
   "outputs": [
    {
     "data": {
      "text/html": [
       "<div>\n",
       "<style scoped>\n",
       "    .dataframe tbody tr th:only-of-type {\n",
       "        vertical-align: middle;\n",
       "    }\n",
       "\n",
       "    .dataframe tbody tr th {\n",
       "        vertical-align: top;\n",
       "    }\n",
       "\n",
       "    .dataframe thead th {\n",
       "        text-align: right;\n",
       "    }\n",
       "</style>\n",
       "<table border=\"1\" class=\"dataframe\">\n",
       "  <thead>\n",
       "    <tr style=\"text-align: right;\">\n",
       "      <th></th>\n",
       "      <th>년월</th>\n",
       "      <th>시도명</th>\n",
       "      <th>읍면동명</th>\n",
       "      <th>업종명</th>\n",
       "      <th>이용자수</th>\n",
       "      <th>이용금액</th>\n",
       "      <th>총 유동인구</th>\n",
       "      <th>데이터기준일자</th>\n",
       "    </tr>\n",
       "  </thead>\n",
       "  <tbody>\n",
       "    <tr>\n",
       "      <th>28310</th>\n",
       "      <td>2020-01</td>\n",
       "      <td>서귀포시</td>\n",
       "      <td>남원읍</td>\n",
       "      <td>건강보조식품 소매업</td>\n",
       "      <td>10</td>\n",
       "      <td>1475000</td>\n",
       "      <td>16801997.61</td>\n",
       "      <td>2020-12-15</td>\n",
       "    </tr>\n",
       "    <tr>\n",
       "      <th>28311</th>\n",
       "      <td>2020-01</td>\n",
       "      <td>서귀포시</td>\n",
       "      <td>남원읍</td>\n",
       "      <td>골프장 운영업</td>\n",
       "      <td>3929</td>\n",
       "      <td>727062477</td>\n",
       "      <td>16801997.61</td>\n",
       "      <td>2020-12-15</td>\n",
       "    </tr>\n",
       "    <tr>\n",
       "      <th>28312</th>\n",
       "      <td>2020-01</td>\n",
       "      <td>서귀포시</td>\n",
       "      <td>남원읍</td>\n",
       "      <td>과실 및 채소 소매업</td>\n",
       "      <td>3313</td>\n",
       "      <td>159828593</td>\n",
       "      <td>16801997.61</td>\n",
       "      <td>2020-12-15</td>\n",
       "    </tr>\n",
       "    <tr>\n",
       "      <th>28313</th>\n",
       "      <td>2020-01</td>\n",
       "      <td>서귀포시</td>\n",
       "      <td>남원읍</td>\n",
       "      <td>관광 민예품 및 선물용품 소매업</td>\n",
       "      <td>366</td>\n",
       "      <td>6843000</td>\n",
       "      <td>16801997.61</td>\n",
       "      <td>2020-12-15</td>\n",
       "    </tr>\n",
       "    <tr>\n",
       "      <th>28314</th>\n",
       "      <td>2020-01</td>\n",
       "      <td>서귀포시</td>\n",
       "      <td>남원읍</td>\n",
       "      <td>그외 기타 종합 소매업</td>\n",
       "      <td>12</td>\n",
       "      <td>5210000</td>\n",
       "      <td>16801997.61</td>\n",
       "      <td>2020-12-15</td>\n",
       "    </tr>\n",
       "  </tbody>\n",
       "</table>\n",
       "</div>"
      ],
      "text/plain": [
       "            년월   시도명 읍면동명                업종명  이용자수       이용금액       총 유동인구  \\\n",
       "28310  2020-01  서귀포시  남원읍         건강보조식품 소매업    10    1475000  16801997.61   \n",
       "28311  2020-01  서귀포시  남원읍            골프장 운영업  3929  727062477  16801997.61   \n",
       "28312  2020-01  서귀포시  남원읍        과실 및 채소 소매업  3313  159828593  16801997.61   \n",
       "28313  2020-01  서귀포시  남원읍  관광 민예품 및 선물용품 소매업   366    6843000  16801997.61   \n",
       "28314  2020-01  서귀포시  남원읍       그외 기타 종합 소매업    12    5210000  16801997.61   \n",
       "\n",
       "          데이터기준일자  \n",
       "28310  2020-12-15  \n",
       "28311  2020-12-15  \n",
       "28312  2020-12-15  \n",
       "28313  2020-12-15  \n",
       "28314  2020-12-15  "
      ]
     },
     "execution_count": 16,
     "metadata": {},
     "output_type": "execute_result"
    }
   ],
   "source": [
    "place = place[place['년월'].str.contains('2020')]\n",
    "place.head()"
   ]
  },
  {
   "cell_type": "markdown",
   "metadata": {},
   "source": [
    "## 읍면동별 이용금액"
   ]
  },
  {
   "cell_type": "code",
   "execution_count": 17,
   "metadata": {},
   "outputs": [
    {
     "data": {
      "text/plain": [
       "(array([ 0,  1,  2,  3,  4,  5,  6,  7,  8,  9, 10, 11, 12, 13, 14, 15, 16,\n",
       "        17, 18, 19, 20, 21, 22, 23, 24, 25, 26, 27, 28, 29, 30, 31, 32, 33,\n",
       "        34, 35, 36, 37, 38, 39, 40, 41, 42]),\n",
       " <a list of 43 Text xticklabel objects>)"
      ]
     },
     "execution_count": 17,
     "metadata": {},
     "output_type": "execute_result"
    },
    {
     "data": {
      "image/png": "[encoded data removed]",
      "text/plain": [
       "<Figure size 1080x720 with 1 Axes>"
      ]
     },
     "metadata": {
      "needs_background": "light"
     },
     "output_type": "display_data"
    }
   ],
   "source": [
    "plt.figure(figsize=(15,10))\n",
    "sns.barplot(x='읍면동명', y='이용금액', data = card, palette = 'Paired')\n",
    "plt.xticks(rotation=45, size=14)"
   ]
  },
  {
   "cell_type": "code",
   "execution_count": 18,
   "metadata": {},
   "outputs": [
    {
     "data": {
      "text/plain": [
       "(array([ 0,  1,  2,  3,  4,  5,  6,  7,  8,  9, 10, 11, 12, 13, 14, 15, 16,\n",
       "        17, 18, 19, 20, 21, 22, 23, 24, 25, 26, 27, 28, 29, 30, 31, 32, 33,\n",
       "        34, 35, 36, 37, 38, 39, 40, 41, 42]),\n",
       " <a list of 43 Text xticklabel objects>)"
      ]
     },
     "execution_count": 18,
     "metadata": {},
     "output_type": "execute_result"
    },
    {
     "data": {
      "image/png": "[encoded data removed]",
      "text/plain": [
       "<Figure size 1080x720 with 1 Axes>"
      ]
     },
     "metadata": {
      "needs_background": "light"
     },
     "output_type": "display_data"
    }
   ],
   "source": [
    "# 유동인구가 많은 지역 소비금액 확인\n",
    "plt.figure(figsize=(15,10))\n",
    "sns.barplot(data = place, y='총 유동인구', x='읍면동명', palette='Paired')\n",
    "plt.xticks(rotation=45, size=14)"
   ]
  },
  {
   "cell_type": "code",
   "execution_count": 19,
   "metadata": {},
   "outputs": [
    {
     "data": {
      "text/html": [
       "<div>\n",
       "<style scoped>\n",
       "    .dataframe tbody tr th:only-of-type {\n",
       "        vertical-align: middle;\n",
       "    }\n",
       "\n",
       "    .dataframe tbody tr th {\n",
       "        vertical-align: top;\n",
       "    }\n",
       "\n",
       "    .dataframe thead th {\n",
       "        text-align: right;\n",
       "    }\n",
       "</style>\n",
       "<table border=\"1\" class=\"dataframe\">\n",
       "  <thead>\n",
       "    <tr style=\"text-align: right;\">\n",
       "      <th></th>\n",
       "      <th>읍면동명</th>\n",
       "      <th>이용자수</th>\n",
       "      <th>이용금액</th>\n",
       "      <th>총 유동인구</th>\n",
       "      <th>유동인구대비소비금액</th>\n",
       "    </tr>\n",
       "  </thead>\n",
       "  <tbody>\n",
       "    <tr>\n",
       "      <th>0</th>\n",
       "      <td>건입동</td>\n",
       "      <td>210074</td>\n",
       "      <td>8336112219</td>\n",
       "      <td>1.059961e+09</td>\n",
       "      <td>7.864546</td>\n",
       "    </tr>\n",
       "    <tr>\n",
       "      <th>1</th>\n",
       "      <td>구좌읍</td>\n",
       "      <td>249118</td>\n",
       "      <td>8499987560</td>\n",
       "      <td>1.554873e+09</td>\n",
       "      <td>5.466678</td>\n",
       "    </tr>\n",
       "    <tr>\n",
       "      <th>2</th>\n",
       "      <td>남원읍</td>\n",
       "      <td>232930</td>\n",
       "      <td>10446920083</td>\n",
       "      <td>1.690815e+09</td>\n",
       "      <td>6.178631</td>\n",
       "    </tr>\n",
       "    <tr>\n",
       "      <th>3</th>\n",
       "      <td>노형동</td>\n",
       "      <td>1401507</td>\n",
       "      <td>49623229156</td>\n",
       "      <td>7.442107e+09</td>\n",
       "      <td>6.667900</td>\n",
       "    </tr>\n",
       "    <tr>\n",
       "      <th>4</th>\n",
       "      <td>대륜동</td>\n",
       "      <td>305776</td>\n",
       "      <td>11935673521</td>\n",
       "      <td>1.658275e+09</td>\n",
       "      <td>7.197645</td>\n",
       "    </tr>\n",
       "  </tbody>\n",
       "</table>\n",
       "</div>"
      ],
      "text/plain": [
       "  읍면동명     이용자수         이용금액        총 유동인구  유동인구대비소비금액\n",
       "0  건입동   210074   8336112219  1.059961e+09    7.864546\n",
       "1  구좌읍   249118   8499987560  1.554873e+09    5.466678\n",
       "2  남원읍   232930  10446920083  1.690815e+09    6.178631\n",
       "3  노형동  1401507  49623229156  7.442107e+09    6.667900\n",
       "4  대륜동   305776  11935673521  1.658275e+09    7.197645"
      ]
     },
     "execution_count": 19,
     "metadata": {},
     "output_type": "execute_result"
    }
   ],
   "source": [
    "# 유동인구 대비 소비금액\n",
    "temp = place.groupby('읍면동명').sum()\n",
    "temp['유동인구대비소비금액'] = temp['이용금액'] / temp['총 유동인구']\n",
    "temp.reset_index().head()"
   ]
  },
  {
   "cell_type": "code",
   "execution_count": 20,
   "metadata": {},
   "outputs": [
    {
     "data": {
      "text/html": [
       "<div>\n",
       "<style scoped>\n",
       "    .dataframe tbody tr th:only-of-type {\n",
       "        vertical-align: middle;\n",
       "    }\n",
       "\n",
       "    .dataframe tbody tr th {\n",
       "        vertical-align: top;\n",
       "    }\n",
       "\n",
       "    .dataframe thead th {\n",
       "        text-align: right;\n",
       "    }\n",
       "</style>\n",
       "<table border=\"1\" class=\"dataframe\">\n",
       "  <thead>\n",
       "    <tr style=\"text-align: right;\">\n",
       "      <th></th>\n",
       "      <th>이용자수</th>\n",
       "      <th>이용금액</th>\n",
       "      <th>총 유동인구</th>\n",
       "      <th>유동인구대비소비금액</th>\n",
       "    </tr>\n",
       "    <tr>\n",
       "      <th>읍면동명</th>\n",
       "      <th></th>\n",
       "      <th></th>\n",
       "      <th></th>\n",
       "      <th></th>\n",
       "    </tr>\n",
       "  </thead>\n",
       "  <tbody>\n",
       "    <tr>\n",
       "      <th>노형동</th>\n",
       "      <td>1401507</td>\n",
       "      <td>49623229156</td>\n",
       "      <td>7.442107e+09</td>\n",
       "      <td>6.667900</td>\n",
       "    </tr>\n",
       "    <tr>\n",
       "      <th>연동</th>\n",
       "      <td>1192524</td>\n",
       "      <td>57433741256</td>\n",
       "      <td>6.650776e+09</td>\n",
       "      <td>8.635645</td>\n",
       "    </tr>\n",
       "    <tr>\n",
       "      <th>이도2동</th>\n",
       "      <td>1169473</td>\n",
       "      <td>40365306813</td>\n",
       "      <td>6.645690e+09</td>\n",
       "      <td>6.073908</td>\n",
       "    </tr>\n",
       "    <tr>\n",
       "      <th>애월읍</th>\n",
       "      <td>639370</td>\n",
       "      <td>24371535811</td>\n",
       "      <td>5.111164e+09</td>\n",
       "      <td>4.768295</td>\n",
       "    </tr>\n",
       "    <tr>\n",
       "      <th>아라동</th>\n",
       "      <td>666501</td>\n",
       "      <td>17699636136</td>\n",
       "      <td>4.145900e+09</td>\n",
       "      <td>4.269190</td>\n",
       "    </tr>\n",
       "    <tr>\n",
       "      <th>일도2동</th>\n",
       "      <td>566225</td>\n",
       "      <td>21065184161</td>\n",
       "      <td>3.067710e+09</td>\n",
       "      <td>6.866745</td>\n",
       "    </tr>\n",
       "    <tr>\n",
       "      <th>조천읍</th>\n",
       "      <td>424016</td>\n",
       "      <td>14565366953</td>\n",
       "      <td>2.896719e+09</td>\n",
       "      <td>5.028229</td>\n",
       "    </tr>\n",
       "    <tr>\n",
       "      <th>화북동</th>\n",
       "      <td>313173</td>\n",
       "      <td>9914738913</td>\n",
       "      <td>2.640346e+09</td>\n",
       "      <td>3.755090</td>\n",
       "    </tr>\n",
       "    <tr>\n",
       "      <th>송산동</th>\n",
       "      <td>969143</td>\n",
       "      <td>37746595664</td>\n",
       "      <td>2.625388e+09</td>\n",
       "      <td>14.377528</td>\n",
       "    </tr>\n",
       "    <tr>\n",
       "      <th>한림읍</th>\n",
       "      <td>394907</td>\n",
       "      <td>16730331959</td>\n",
       "      <td>2.464294e+09</td>\n",
       "      <td>6.789097</td>\n",
       "    </tr>\n",
       "    <tr>\n",
       "      <th>안덕면</th>\n",
       "      <td>290229</td>\n",
       "      <td>12731320412</td>\n",
       "      <td>2.192958e+09</td>\n",
       "      <td>5.805548</td>\n",
       "    </tr>\n",
       "    <tr>\n",
       "      <th>대정읍</th>\n",
       "      <td>357928</td>\n",
       "      <td>13322750963</td>\n",
       "      <td>2.064540e+09</td>\n",
       "      <td>6.453132</td>\n",
       "    </tr>\n",
       "    <tr>\n",
       "      <th>오라동</th>\n",
       "      <td>267123</td>\n",
       "      <td>10596235832</td>\n",
       "      <td>2.029422e+09</td>\n",
       "      <td>5.221307</td>\n",
       "    </tr>\n",
       "    <tr>\n",
       "      <th>동홍동</th>\n",
       "      <td>349071</td>\n",
       "      <td>12627819164</td>\n",
       "      <td>2.025753e+09</td>\n",
       "      <td>6.233642</td>\n",
       "    </tr>\n",
       "    <tr>\n",
       "      <th>성산읍</th>\n",
       "      <td>361654</td>\n",
       "      <td>13776737910</td>\n",
       "      <td>1.909224e+09</td>\n",
       "      <td>7.215883</td>\n",
       "    </tr>\n",
       "    <tr>\n",
       "      <th>삼양동</th>\n",
       "      <td>337653</td>\n",
       "      <td>10210444290</td>\n",
       "      <td>1.823817e+09</td>\n",
       "      <td>5.598393</td>\n",
       "    </tr>\n",
       "    <tr>\n",
       "      <th>남원읍</th>\n",
       "      <td>232930</td>\n",
       "      <td>10446920083</td>\n",
       "      <td>1.690815e+09</td>\n",
       "      <td>6.178631</td>\n",
       "    </tr>\n",
       "    <tr>\n",
       "      <th>대륜동</th>\n",
       "      <td>305776</td>\n",
       "      <td>11935673521</td>\n",
       "      <td>1.658275e+09</td>\n",
       "      <td>7.197645</td>\n",
       "    </tr>\n",
       "    <tr>\n",
       "      <th>구좌읍</th>\n",
       "      <td>249118</td>\n",
       "      <td>8499987560</td>\n",
       "      <td>1.554873e+09</td>\n",
       "      <td>5.466678</td>\n",
       "    </tr>\n",
       "    <tr>\n",
       "      <th>용담2동</th>\n",
       "      <td>703434</td>\n",
       "      <td>35207274909</td>\n",
       "      <td>1.540260e+09</td>\n",
       "      <td>22.858009</td>\n",
       "    </tr>\n",
       "    <tr>\n",
       "      <th>외도동</th>\n",
       "      <td>308408</td>\n",
       "      <td>8857235628</td>\n",
       "      <td>1.388057e+09</td>\n",
       "      <td>6.381031</td>\n",
       "    </tr>\n",
       "    <tr>\n",
       "      <th>이도1동</th>\n",
       "      <td>193463</td>\n",
       "      <td>11038518470</td>\n",
       "      <td>1.292421e+09</td>\n",
       "      <td>8.540959</td>\n",
       "    </tr>\n",
       "    <tr>\n",
       "      <th>중문동</th>\n",
       "      <td>250112</td>\n",
       "      <td>9400466388</td>\n",
       "      <td>1.271985e+09</td>\n",
       "      <td>7.390390</td>\n",
       "    </tr>\n",
       "    <tr>\n",
       "      <th>삼도1동</th>\n",
       "      <td>194606</td>\n",
       "      <td>6667768377</td>\n",
       "      <td>1.220547e+09</td>\n",
       "      <td>5.462935</td>\n",
       "    </tr>\n",
       "    <tr>\n",
       "      <th>표선면</th>\n",
       "      <td>218730</td>\n",
       "      <td>8480730601</td>\n",
       "      <td>1.213230e+09</td>\n",
       "      <td>6.990211</td>\n",
       "    </tr>\n",
       "    <tr>\n",
       "      <th>건입동</th>\n",
       "      <td>210074</td>\n",
       "      <td>8336112219</td>\n",
       "      <td>1.059961e+09</td>\n",
       "      <td>7.864546</td>\n",
       "    </tr>\n",
       "    <tr>\n",
       "      <th>천지동</th>\n",
       "      <td>604015</td>\n",
       "      <td>21944664416</td>\n",
       "      <td>1.050339e+09</td>\n",
       "      <td>20.892941</td>\n",
       "    </tr>\n",
       "    <tr>\n",
       "      <th>용담1동</th>\n",
       "      <td>90443</td>\n",
       "      <td>3665501701</td>\n",
       "      <td>9.040096e+08</td>\n",
       "      <td>4.054716</td>\n",
       "    </tr>\n",
       "    <tr>\n",
       "      <th>대천동</th>\n",
       "      <td>213139</td>\n",
       "      <td>6210449059</td>\n",
       "      <td>8.975071e+08</td>\n",
       "      <td>6.919666</td>\n",
       "    </tr>\n",
       "    <tr>\n",
       "      <th>삼도2동</th>\n",
       "      <td>215079</td>\n",
       "      <td>10221483134</td>\n",
       "      <td>8.187861e+08</td>\n",
       "      <td>12.483704</td>\n",
       "    </tr>\n",
       "    <tr>\n",
       "      <th>한경면</th>\n",
       "      <td>112618</td>\n",
       "      <td>4597604948</td>\n",
       "      <td>7.780749e+08</td>\n",
       "      <td>5.908949</td>\n",
       "    </tr>\n",
       "    <tr>\n",
       "      <th>서홍동</th>\n",
       "      <td>108733</td>\n",
       "      <td>2563398238</td>\n",
       "      <td>6.983208e+08</td>\n",
       "      <td>3.670803</td>\n",
       "    </tr>\n",
       "    <tr>\n",
       "      <th>예래동</th>\n",
       "      <td>183188</td>\n",
       "      <td>13031029264</td>\n",
       "      <td>6.848055e+08</td>\n",
       "      <td>19.028803</td>\n",
       "    </tr>\n",
       "    <tr>\n",
       "      <th>중앙동</th>\n",
       "      <td>495282</td>\n",
       "      <td>19381266178</td>\n",
       "      <td>5.153541e+08</td>\n",
       "      <td>37.607666</td>\n",
       "    </tr>\n",
       "    <tr>\n",
       "      <th>영천동</th>\n",
       "      <td>177411</td>\n",
       "      <td>10220897568</td>\n",
       "      <td>4.745711e+08</td>\n",
       "      <td>21.537127</td>\n",
       "    </tr>\n",
       "    <tr>\n",
       "      <th>정방동</th>\n",
       "      <td>495282</td>\n",
       "      <td>19381266178</td>\n",
       "      <td>4.554402e+08</td>\n",
       "      <td>42.555019</td>\n",
       "    </tr>\n",
       "    <tr>\n",
       "      <th>봉개동</th>\n",
       "      <td>102124</td>\n",
       "      <td>3834068176</td>\n",
       "      <td>4.521579e+08</td>\n",
       "      <td>8.479490</td>\n",
       "    </tr>\n",
       "    <tr>\n",
       "      <th>이호동</th>\n",
       "      <td>71072</td>\n",
       "      <td>4544420084</td>\n",
       "      <td>4.263855e+08</td>\n",
       "      <td>10.658009</td>\n",
       "    </tr>\n",
       "    <tr>\n",
       "      <th>효돈동</th>\n",
       "      <td>70395</td>\n",
       "      <td>2144505876</td>\n",
       "      <td>3.138471e+08</td>\n",
       "      <td>6.832964</td>\n",
       "    </tr>\n",
       "    <tr>\n",
       "      <th>일도1동</th>\n",
       "      <td>157288</td>\n",
       "      <td>7899498795</td>\n",
       "      <td>2.866453e+08</td>\n",
       "      <td>27.558445</td>\n",
       "    </tr>\n",
       "    <tr>\n",
       "      <th>도두동</th>\n",
       "      <td>125803</td>\n",
       "      <td>4889877344</td>\n",
       "      <td>2.794349e+08</td>\n",
       "      <td>17.499167</td>\n",
       "    </tr>\n",
       "    <tr>\n",
       "      <th>우도면</th>\n",
       "      <td>56802</td>\n",
       "      <td>1623324724</td>\n",
       "      <td>1.323079e+08</td>\n",
       "      <td>12.269294</td>\n",
       "    </tr>\n",
       "    <tr>\n",
       "      <th>추자면</th>\n",
       "      <td>14198</td>\n",
       "      <td>703940312</td>\n",
       "      <td>1.205626e+08</td>\n",
       "      <td>5.838797</td>\n",
       "    </tr>\n",
       "  </tbody>\n",
       "</table>\n",
       "</div>"
      ],
      "text/plain": [
       "         이용자수         이용금액        총 유동인구  유동인구대비소비금액\n",
       "읍면동명                                                \n",
       "노형동   1401507  49623229156  7.442107e+09    6.667900\n",
       "연동    1192524  57433741256  6.650776e+09    8.635645\n",
       "이도2동  1169473  40365306813  6.645690e+09    6.073908\n",
       "애월읍    639370  24371535811  5.111164e+09    4.768295\n",
       "아라동    666501  17699636136  4.145900e+09    4.269190\n",
       "일도2동   566225  21065184161  3.067710e+09    6.866745\n",
       "조천읍    424016  14565366953  2.896719e+09    5.028229\n",
       "화북동    313173   9914738913  2.640346e+09    3.755090\n",
       "송산동    969143  37746595664  2.625388e+09   14.377528\n",
       "한림읍    394907  16730331959  2.464294e+09    6.789097\n",
       "안덕면    290229  12731320412  2.192958e+09    5.805548\n",
       "대정읍    357928  13322750963  2.064540e+09    6.453132\n",
       "오라동    267123  10596235832  2.029422e+09    5.221307\n",
       "동홍동    349071  12627819164  2.025753e+09    6.233642\n",
       "성산읍    361654  13776737910  1.909224e+09    7.215883\n",
       "삼양동    337653  10210444290  1.823817e+09    5.598393\n",
       "남원읍    232930  10446920083  1.690815e+09    6.178631\n",
       "대륜동    305776  11935673521  1.658275e+09    7.197645\n",
       "구좌읍    249118   8499987560  1.554873e+09    5.466678\n",
       "용담2동   703434  35207274909  1.540260e+09   22.858009\n",
       "외도동    308408   8857235628  1.388057e+09    6.381031\n",
       "이도1동   193463  11038518470  1.292421e+09    8.540959\n",
       "중문동    250112   9400466388  1.271985e+09    7.390390\n",
       "삼도1동   194606   6667768377  1.220547e+09    5.462935\n",
       "표선면    218730   8480730601  1.213230e+09    6.990211\n",
       "건입동    210074   8336112219  1.059961e+09    7.864546\n",
       "천지동    604015  21944664416  1.050339e+09   20.892941\n",
       "용담1동    90443   3665501701  9.040096e+08    4.054716\n",
       "대천동    213139   6210449059  8.975071e+08    6.919666\n",
       "삼도2동   215079  10221483134  8.187861e+08   12.483704\n",
       "한경면    112618   4597604948  7.780749e+08    5.908949\n",
       "서홍동    108733   2563398238  6.983208e+08    3.670803\n",
       "예래동    183188  13031029264  6.848055e+08   19.028803\n",
       "중앙동    495282  19381266178  5.153541e+08   37.607666\n",
       "영천동    177411  10220897568  4.745711e+08   21.537127\n",
       "정방동    495282  19381266178  4.554402e+08   42.555019\n",
       "봉개동    102124   3834068176  4.521579e+08    8.479490\n",
       "이호동     71072   4544420084  4.263855e+08   10.658009\n",
       "효돈동     70395   2144505876  3.138471e+08    6.832964\n",
       "일도1동   157288   7899498795  2.866453e+08   27.558445\n",
       "도두동    125803   4889877344  2.794349e+08   17.499167\n",
       "우도면     56802   1623324724  1.323079e+08   12.269294\n",
       "추자면     14198    703940312  1.205626e+08    5.838797"
      ]
     },
     "execution_count": 20,
     "metadata": {},
     "output_type": "execute_result"
    }
   ],
   "source": [
    "temp.sort_values(by='총 유동인구', ascending=False)"
   ]
  },
  {
   "cell_type": "code",
   "execution_count": 21,
   "metadata": {},
   "outputs": [
    {
     "data": {
      "text/plain": [
       "(array([ 0,  1,  2,  3,  4,  5,  6,  7,  8,  9, 10, 11, 12, 13, 14, 15, 16,\n",
       "        17, 18, 19, 20, 21, 22, 23, 24, 25, 26, 27, 28, 29, 30, 31, 32, 33,\n",
       "        34, 35, 36, 37, 38, 39, 40, 41, 42]),\n",
       " <a list of 43 Text xticklabel objects>)"
      ]
     },
     "execution_count": 21,
     "metadata": {},
     "output_type": "execute_result"
    },
    {
     "data": {
      "image/png": "[encoded data removed]",
      "text/plain": [
       "<Figure size 1080x720 with 1 Axes>"
      ]
     },
     "metadata": {
      "needs_background": "light"
     },
     "output_type": "display_data"
    }
   ],
   "source": [
    "plt.figure(figsize=(15,10))\n",
    "sns.barplot(data=temp, x=temp.index, y='유동인구대비소비금액', palette='Paired')\n",
    "plt.xticks(rotation=45, size=14)"
   ]
  },
  {
   "cell_type": "markdown",
   "metadata": {},
   "source": [
    " 유동인구가 많다고 소비금액이 많은건 아니다"
   ]
  },
  {
   "cell_type": "markdown",
   "metadata": {},
   "source": [
    "## 재난지원금 데이터 분석"
   ]
  },
  {
   "cell_type": "markdown",
   "metadata": {},
   "source": [
    " - 재난지원금의 데이터는 20년 5~8월 데이터가 있음"
   ]
  },
  {
   "cell_type": "code",
   "execution_count": 22,
   "metadata": {},
   "outputs": [
    {
     "data": {
      "text/html": [
       "<div>\n",
       "<style scoped>\n",
       "    .dataframe tbody tr th:only-of-type {\n",
       "        vertical-align: middle;\n",
       "    }\n",
       "\n",
       "    .dataframe tbody tr th {\n",
       "        vertical-align: top;\n",
       "    }\n",
       "\n",
       "    .dataframe thead th {\n",
       "        text-align: right;\n",
       "    }\n",
       "</style>\n",
       "<table border=\"1\" class=\"dataframe\">\n",
       "  <thead>\n",
       "    <tr style=\"text-align: right;\">\n",
       "      <th></th>\n",
       "      <th>YM</th>\n",
       "      <th>SIDO</th>\n",
       "      <th>SIGUNGU</th>\n",
       "      <th>FranClass</th>\n",
       "      <th>Type</th>\n",
       "      <th>Time</th>\n",
       "      <th>TotalSpent</th>\n",
       "      <th>DisSpent</th>\n",
       "      <th>NumofSpent</th>\n",
       "      <th>NumofDisSpent</th>\n",
       "      <th>POINT_X</th>\n",
       "      <th>POINT_Y</th>\n",
       "    </tr>\n",
       "  </thead>\n",
       "  <tbody>\n",
       "    <tr>\n",
       "      <th>0</th>\n",
       "      <td>202005</td>\n",
       "      <td>제주특별자치도</td>\n",
       "      <td>제주시</td>\n",
       "      <td>영세</td>\n",
       "      <td>일반한식</td>\n",
       "      <td>00시</td>\n",
       "      <td>363000</td>\n",
       "      <td>66500</td>\n",
       "      <td>10</td>\n",
       "      <td>2</td>\n",
       "      <td>877005.9834</td>\n",
       "      <td>1.479766e+06</td>\n",
       "    </tr>\n",
       "    <tr>\n",
       "      <th>1</th>\n",
       "      <td>202005</td>\n",
       "      <td>제주특별자치도</td>\n",
       "      <td>제주시</td>\n",
       "      <td>영세</td>\n",
       "      <td>단란주점</td>\n",
       "      <td>00시</td>\n",
       "      <td>1180000</td>\n",
       "      <td>0</td>\n",
       "      <td>3</td>\n",
       "      <td>0</td>\n",
       "      <td>877005.7447</td>\n",
       "      <td>1.479816e+06</td>\n",
       "    </tr>\n",
       "    <tr>\n",
       "      <th>2</th>\n",
       "      <td>202005</td>\n",
       "      <td>제주특별자치도</td>\n",
       "      <td>제주시</td>\n",
       "      <td>중소1</td>\n",
       "      <td>편의점</td>\n",
       "      <td>00시</td>\n",
       "      <td>157670</td>\n",
       "      <td>6850</td>\n",
       "      <td>20</td>\n",
       "      <td>2</td>\n",
       "      <td>877056.6756</td>\n",
       "      <td>1.479616e+06</td>\n",
       "    </tr>\n",
       "    <tr>\n",
       "      <th>3</th>\n",
       "      <td>202005</td>\n",
       "      <td>제주특별자치도</td>\n",
       "      <td>제주시</td>\n",
       "      <td>영세</td>\n",
       "      <td>편의점</td>\n",
       "      <td>00시</td>\n",
       "      <td>46600</td>\n",
       "      <td>0</td>\n",
       "      <td>2</td>\n",
       "      <td>0</td>\n",
       "      <td>877055.9593</td>\n",
       "      <td>1.479766e+06</td>\n",
       "    </tr>\n",
       "    <tr>\n",
       "      <th>4</th>\n",
       "      <td>202005</td>\n",
       "      <td>제주특별자치도</td>\n",
       "      <td>제주시</td>\n",
       "      <td>영세</td>\n",
       "      <td>주점</td>\n",
       "      <td>00시</td>\n",
       "      <td>66000</td>\n",
       "      <td>0</td>\n",
       "      <td>2</td>\n",
       "      <td>0</td>\n",
       "      <td>877055.4817</td>\n",
       "      <td>1.479866e+06</td>\n",
       "    </tr>\n",
       "  </tbody>\n",
       "</table>\n",
       "</div>"
      ],
      "text/plain": [
       "       YM     SIDO SIGUNGU FranClass  Type Time  TotalSpent  DisSpent  \\\n",
       "0  202005  제주특별자치도     제주시        영세  일반한식  00시      363000     66500   \n",
       "1  202005  제주특별자치도     제주시        영세  단란주점  00시     1180000         0   \n",
       "2  202005  제주특별자치도     제주시       중소1   편의점  00시      157670      6850   \n",
       "3  202005  제주특별자치도     제주시        영세   편의점  00시       46600         0   \n",
       "4  202005  제주특별자치도     제주시        영세    주점  00시       66000         0   \n",
       "\n",
       "   NumofSpent  NumofDisSpent      POINT_X       POINT_Y  \n",
       "0          10              2  877005.9834  1.479766e+06  \n",
       "1           3              0  877005.7447  1.479816e+06  \n",
       "2          20              2  877056.6756  1.479616e+06  \n",
       "3           2              0  877055.9593  1.479766e+06  \n",
       "4           2              0  877055.4817  1.479866e+06  "
      ]
     },
     "execution_count": 22,
     "metadata": {},
     "output_type": "execute_result"
    }
   ],
   "source": [
    "#  https://codingfactory.tistory.com/54 블로그 참고하여 위도 경도 변환\n",
    "\n",
    "data5 = pd.read_csv('jeju_data5.txt', engine='python', encoding='utf-8')\n",
    "data5 = data5.drop(['OBJECTID', 'Field1'], axis=1)\n",
    "data5.head()"
   ]
  },
  {
   "cell_type": "code",
   "execution_count": 26,
   "metadata": {},
   "outputs": [],
   "source": [
    "transformer = Transformer.from_proj(Proj(init='epsg:5178'), Proj(init='epsg:4326'))\n",
    "points = []\n",
    "for index, item in data5[['POINT_X', 'POINT_Y']].iterrows():\n",
    "    points.append((item.POINT_X, item.POINT_Y))\n",
    "    \n",
    "latlist, lnglist = [], []\n",
    "for pt in transformer.itransform(points):\n",
    "    latlist.append(pt[1])\n",
    "    lnglist.append(pt[0])\n",
    "    \n",
    "data5['lat'] = latlist\n",
    "data5['lng'] = lnglist"
   ]
  },
  {
   "cell_type": "code",
   "execution_count": 27,
   "metadata": {},
   "outputs": [
    {
     "data": {
      "text/html": [
       "<div>\n",
       "<style scoped>\n",
       "    .dataframe tbody tr th:only-of-type {\n",
       "        vertical-align: middle;\n",
       "    }\n",
       "\n",
       "    .dataframe tbody tr th {\n",
       "        vertical-align: top;\n",
       "    }\n",
       "\n",
       "    .dataframe thead th {\n",
       "        text-align: right;\n",
       "    }\n",
       "</style>\n",
       "<table border=\"1\" class=\"dataframe\">\n",
       "  <thead>\n",
       "    <tr style=\"text-align: right;\">\n",
       "      <th></th>\n",
       "      <th>YM</th>\n",
       "      <th>SIDO</th>\n",
       "      <th>SIGUNGU</th>\n",
       "      <th>FranClass</th>\n",
       "      <th>Type</th>\n",
       "      <th>Time</th>\n",
       "      <th>TotalSpent</th>\n",
       "      <th>DisSpent</th>\n",
       "      <th>NumofSpent</th>\n",
       "      <th>NumofDisSpent</th>\n",
       "      <th>POINT_X</th>\n",
       "      <th>POINT_Y</th>\n",
       "      <th>lat</th>\n",
       "      <th>lng</th>\n",
       "    </tr>\n",
       "  </thead>\n",
       "  <tbody>\n",
       "    <tr>\n",
       "      <th>0</th>\n",
       "      <td>202005</td>\n",
       "      <td>제주특별자치도</td>\n",
       "      <td>제주시</td>\n",
       "      <td>영세</td>\n",
       "      <td>일반한식</td>\n",
       "      <td>00시</td>\n",
       "      <td>363000</td>\n",
       "      <td>66500</td>\n",
       "      <td>10</td>\n",
       "      <td>2</td>\n",
       "      <td>877005.9834</td>\n",
       "      <td>1.479766e+06</td>\n",
       "      <td>33.305090</td>\n",
       "      <td>126.176746</td>\n",
       "    </tr>\n",
       "    <tr>\n",
       "      <th>1</th>\n",
       "      <td>202005</td>\n",
       "      <td>제주특별자치도</td>\n",
       "      <td>제주시</td>\n",
       "      <td>영세</td>\n",
       "      <td>단란주점</td>\n",
       "      <td>00시</td>\n",
       "      <td>1180000</td>\n",
       "      <td>0</td>\n",
       "      <td>3</td>\n",
       "      <td>0</td>\n",
       "      <td>877005.7447</td>\n",
       "      <td>1.479816e+06</td>\n",
       "      <td>33.305540</td>\n",
       "      <td>126.176737</td>\n",
       "    </tr>\n",
       "    <tr>\n",
       "      <th>2</th>\n",
       "      <td>202005</td>\n",
       "      <td>제주특별자치도</td>\n",
       "      <td>제주시</td>\n",
       "      <td>중소1</td>\n",
       "      <td>편의점</td>\n",
       "      <td>00시</td>\n",
       "      <td>157670</td>\n",
       "      <td>6850</td>\n",
       "      <td>20</td>\n",
       "      <td>2</td>\n",
       "      <td>877056.6756</td>\n",
       "      <td>1.479616e+06</td>\n",
       "      <td>33.303746</td>\n",
       "      <td>126.177311</td>\n",
       "    </tr>\n",
       "    <tr>\n",
       "      <th>3</th>\n",
       "      <td>202005</td>\n",
       "      <td>제주특별자치도</td>\n",
       "      <td>제주시</td>\n",
       "      <td>영세</td>\n",
       "      <td>편의점</td>\n",
       "      <td>00시</td>\n",
       "      <td>46600</td>\n",
       "      <td>0</td>\n",
       "      <td>2</td>\n",
       "      <td>0</td>\n",
       "      <td>877055.9593</td>\n",
       "      <td>1.479766e+06</td>\n",
       "      <td>33.305098</td>\n",
       "      <td>126.177283</td>\n",
       "    </tr>\n",
       "    <tr>\n",
       "      <th>4</th>\n",
       "      <td>202005</td>\n",
       "      <td>제주특별자치도</td>\n",
       "      <td>제주시</td>\n",
       "      <td>영세</td>\n",
       "      <td>주점</td>\n",
       "      <td>00시</td>\n",
       "      <td>66000</td>\n",
       "      <td>0</td>\n",
       "      <td>2</td>\n",
       "      <td>0</td>\n",
       "      <td>877055.4817</td>\n",
       "      <td>1.479866e+06</td>\n",
       "      <td>33.305999</td>\n",
       "      <td>126.177264</td>\n",
       "    </tr>\n",
       "  </tbody>\n",
       "</table>\n",
       "</div>"
      ],
      "text/plain": [
       "       YM     SIDO SIGUNGU FranClass  Type Time  TotalSpent  DisSpent  \\\n",
       "0  202005  제주특별자치도     제주시        영세  일반한식  00시      363000     66500   \n",
       "1  202005  제주특별자치도     제주시        영세  단란주점  00시     1180000         0   \n",
       "2  202005  제주특별자치도     제주시       중소1   편의점  00시      157670      6850   \n",
       "3  202005  제주특별자치도     제주시        영세   편의점  00시       46600         0   \n",
       "4  202005  제주특별자치도     제주시        영세    주점  00시       66000         0   \n",
       "\n",
       "   NumofSpent  NumofDisSpent      POINT_X       POINT_Y        lat         lng  \n",
       "0          10              2  877005.9834  1.479766e+06  33.305090  126.176746  \n",
       "1           3              0  877005.7447  1.479816e+06  33.305540  126.176737  \n",
       "2          20              2  877056.6756  1.479616e+06  33.303746  126.177311  \n",
       "3           2              0  877055.9593  1.479766e+06  33.305098  126.177283  \n",
       "4           2              0  877055.4817  1.479866e+06  33.305999  126.177264  "
      ]
     },
     "execution_count": 27,
     "metadata": {},
     "output_type": "execute_result"
    }
   ],
   "source": [
    "data5.head()"
   ]
  },
  {
   "cell_type": "code",
   "execution_count": 28,
   "metadata": {},
   "outputs": [],
   "source": [
    "data5 = data5.drop(['POINT_X', 'POINT_Y'], axis=1)"
   ]
  },
  {
   "cell_type": "code",
   "execution_count": 30,
   "metadata": {},
   "outputs": [],
   "source": [
    "data6 = pd.read_csv('jeju_data6.txt', engine='python', encoding='utf-8')"
   ]
  },
  {
   "cell_type": "code",
   "execution_count": 31,
   "metadata": {},
   "outputs": [],
   "source": [
    "data7 = pd.read_csv('jeju_data7.txt', engine='python', encoding='utf-8')"
   ]
  },
  {
   "cell_type": "code",
   "execution_count": 29,
   "metadata": {},
   "outputs": [
    {
     "data": {
      "text/html": [
       "<div>\n",
       "<style scoped>\n",
       "    .dataframe tbody tr th:only-of-type {\n",
       "        vertical-align: middle;\n",
       "    }\n",
       "\n",
       "    .dataframe tbody tr th {\n",
       "        vertical-align: top;\n",
       "    }\n",
       "\n",
       "    .dataframe thead th {\n",
       "        text-align: right;\n",
       "    }\n",
       "</style>\n",
       "<table border=\"1\" class=\"dataframe\">\n",
       "  <thead>\n",
       "    <tr style=\"text-align: right;\">\n",
       "      <th></th>\n",
       "      <th>OBJECTID</th>\n",
       "      <th>Field1</th>\n",
       "      <th>YM</th>\n",
       "      <th>SIDO</th>\n",
       "      <th>SIGUNGU</th>\n",
       "      <th>FranClass</th>\n",
       "      <th>Type</th>\n",
       "      <th>Time</th>\n",
       "      <th>TotalSpent</th>\n",
       "      <th>DisSpent</th>\n",
       "      <th>NumofSpent</th>\n",
       "      <th>NumofDisSpent</th>\n",
       "      <th>POINT_X</th>\n",
       "      <th>POINT_Y</th>\n",
       "    </tr>\n",
       "  </thead>\n",
       "  <tbody>\n",
       "    <tr>\n",
       "      <th>0</th>\n",
       "      <td>1</td>\n",
       "      <td>1</td>\n",
       "      <td>202008</td>\n",
       "      <td>제주특별자치도</td>\n",
       "      <td>제주시</td>\n",
       "      <td>영세</td>\n",
       "      <td>일반한식</td>\n",
       "      <td>00시</td>\n",
       "      <td>249500</td>\n",
       "      <td>0</td>\n",
       "      <td>7</td>\n",
       "      <td>0</td>\n",
       "      <td>877005.9834</td>\n",
       "      <td>1.479766e+06</td>\n",
       "    </tr>\n",
       "    <tr>\n",
       "      <th>1</th>\n",
       "      <td>2</td>\n",
       "      <td>2</td>\n",
       "      <td>202008</td>\n",
       "      <td>제주특별자치도</td>\n",
       "      <td>제주시</td>\n",
       "      <td>영세</td>\n",
       "      <td>단란주점</td>\n",
       "      <td>00시</td>\n",
       "      <td>2010000</td>\n",
       "      <td>0</td>\n",
       "      <td>7</td>\n",
       "      <td>0</td>\n",
       "      <td>877005.7447</td>\n",
       "      <td>1.479816e+06</td>\n",
       "    </tr>\n",
       "    <tr>\n",
       "      <th>2</th>\n",
       "      <td>3</td>\n",
       "      <td>3</td>\n",
       "      <td>202008</td>\n",
       "      <td>제주특별자치도</td>\n",
       "      <td>제주시</td>\n",
       "      <td>중소1</td>\n",
       "      <td>편의점</td>\n",
       "      <td>00시</td>\n",
       "      <td>401210</td>\n",
       "      <td>0</td>\n",
       "      <td>41</td>\n",
       "      <td>0</td>\n",
       "      <td>877056.6756</td>\n",
       "      <td>1.479616e+06</td>\n",
       "    </tr>\n",
       "    <tr>\n",
       "      <th>3</th>\n",
       "      <td>4</td>\n",
       "      <td>4</td>\n",
       "      <td>202008</td>\n",
       "      <td>제주특별자치도</td>\n",
       "      <td>제주시</td>\n",
       "      <td>영세</td>\n",
       "      <td>편의점</td>\n",
       "      <td>00시</td>\n",
       "      <td>12250</td>\n",
       "      <td>0</td>\n",
       "      <td>1</td>\n",
       "      <td>0</td>\n",
       "      <td>877055.9593</td>\n",
       "      <td>1.479766e+06</td>\n",
       "    </tr>\n",
       "    <tr>\n",
       "      <th>4</th>\n",
       "      <td>5</td>\n",
       "      <td>5</td>\n",
       "      <td>202008</td>\n",
       "      <td>제주특별자치도</td>\n",
       "      <td>제주시</td>\n",
       "      <td>영세</td>\n",
       "      <td>주점</td>\n",
       "      <td>00시</td>\n",
       "      <td>33000</td>\n",
       "      <td>0</td>\n",
       "      <td>1</td>\n",
       "      <td>0</td>\n",
       "      <td>877055.4817</td>\n",
       "      <td>1.479866e+06</td>\n",
       "    </tr>\n",
       "  </tbody>\n",
       "</table>\n",
       "</div>"
      ],
      "text/plain": [
       "   OBJECTID  Field1      YM     SIDO SIGUNGU FranClass  Type Time  TotalSpent  \\\n",
       "0         1       1  202008  제주특별자치도     제주시        영세  일반한식  00시      249500   \n",
       "1         2       2  202008  제주특별자치도     제주시        영세  단란주점  00시     2010000   \n",
       "2         3       3  202008  제주특별자치도     제주시       중소1   편의점  00시      401210   \n",
       "3         4       4  202008  제주특별자치도     제주시        영세   편의점  00시       12250   \n",
       "4         5       5  202008  제주특별자치도     제주시        영세    주점  00시       33000   \n",
       "\n",
       "   DisSpent  NumofSpent  NumofDisSpent      POINT_X       POINT_Y  \n",
       "0         0           7              0  877005.9834  1.479766e+06  \n",
       "1         0           7              0  877005.7447  1.479816e+06  \n",
       "2         0          41              0  877056.6756  1.479616e+06  \n",
       "3         0           1              0  877055.9593  1.479766e+06  \n",
       "4         0           1              0  877055.4817  1.479866e+06  "
      ]
     },
     "execution_count": 29,
     "metadata": {},
     "output_type": "execute_result"
    }
   ],
   "source": [
    "data8 = pd.read_csv('jeju_data8.txt', engine='python', encoding='utf-8')\n",
    "data8.head()"
   ]
  },
  {
   "cell_type": "code",
   "execution_count": 32,
   "metadata": {},
   "outputs": [],
   "source": [
    "transformer = Transformer.from_proj(Proj(init='epsg:5178'), Proj(init='epsg:4326'))\n",
    "points = []\n",
    "for index, item in data6[['POINT_X', 'POINT_Y']].iterrows():\n",
    "    points.append((item.POINT_X, item.POINT_Y))\n",
    "    \n",
    "latlist, lnglist = [], []\n",
    "for pt in transformer.itransform(points):\n",
    "    latlist.append(pt[1])\n",
    "    lnglist.append(pt[0])\n",
    "    \n",
    "data6['lat'] = latlist\n",
    "data6['lng'] = lnglist"
   ]
  },
  {
   "cell_type": "code",
   "execution_count": 33,
   "metadata": {},
   "outputs": [],
   "source": [
    "transformer = Transformer.from_proj(Proj(init='epsg:5178'), Proj(init='epsg:4326'))\n",
    "points = []\n",
    "for index, item in data7[['POINT_X', 'POINT_Y']].iterrows():\n",
    "    points.append((item.POINT_X, item.POINT_Y))\n",
    "    \n",
    "latlist, lnglist = [], []\n",
    "for pt in transformer.itransform(points):\n",
    "    latlist.append(pt[1])\n",
    "    lnglist.append(pt[0])\n",
    "    \n",
    "data7['lat'] = latlist\n",
    "data7['lng'] = lnglist"
   ]
  },
  {
   "cell_type": "code",
   "execution_count": 34,
   "metadata": {},
   "outputs": [],
   "source": [
    "transformer = Transformer.from_proj(Proj(init='epsg:5178'), Proj(init='epsg:4326'))\n",
    "points = []\n",
    "for index, item in data8[['POINT_X', 'POINT_Y']].iterrows():\n",
    "    points.append((item.POINT_X, item.POINT_Y))\n",
    "    \n",
    "latlist, lnglist = [], []\n",
    "for pt in transformer.itransform(points):\n",
    "    latlist.append(pt[1])\n",
    "    lnglist.append(pt[0])\n",
    "    \n",
    "data8['lat'] = latlist\n",
    "data8['lng'] = lnglist"
   ]
  },
  {
   "cell_type": "code",
   "execution_count": 36,
   "metadata": {},
   "outputs": [],
   "source": [
    "data6 = data6.drop(['POINT_X', 'POINT_Y'], axis=1)\n",
    "data7 = data7.drop(['POINT_X', 'POINT_Y'], axis=1)\n",
    "data8 = data8.drop(['POINT_X', 'POINT_Y'], axis=1)"
   ]
  },
  {
   "cell_type": "code",
   "execution_count": 37,
   "metadata": {},
   "outputs": [
    {
     "data": {
      "text/html": [
       "<div>\n",
       "<style scoped>\n",
       "    .dataframe tbody tr th:only-of-type {\n",
       "        vertical-align: middle;\n",
       "    }\n",
       "\n",
       "    .dataframe tbody tr th {\n",
       "        vertical-align: top;\n",
       "    }\n",
       "\n",
       "    .dataframe thead th {\n",
       "        text-align: right;\n",
       "    }\n",
       "</style>\n",
       "<table border=\"1\" class=\"dataframe\">\n",
       "  <thead>\n",
       "    <tr style=\"text-align: right;\">\n",
       "      <th></th>\n",
       "      <th>YM</th>\n",
       "      <th>SIDO</th>\n",
       "      <th>SIGUNGU</th>\n",
       "      <th>FranClass</th>\n",
       "      <th>Type</th>\n",
       "      <th>Time</th>\n",
       "      <th>TotalSpent</th>\n",
       "      <th>DisSpent</th>\n",
       "      <th>NumofSpent</th>\n",
       "      <th>NumofDisSpent</th>\n",
       "      <th>lat</th>\n",
       "      <th>lng</th>\n",
       "      <th>OBJECTID</th>\n",
       "      <th>Field1</th>\n",
       "      <th>X</th>\n",
       "      <th>Y</th>\n",
       "    </tr>\n",
       "  </thead>\n",
       "  <tbody>\n",
       "    <tr>\n",
       "      <th>0</th>\n",
       "      <td>202005</td>\n",
       "      <td>제주특별자치도</td>\n",
       "      <td>제주시</td>\n",
       "      <td>영세</td>\n",
       "      <td>일반한식</td>\n",
       "      <td>00시</td>\n",
       "      <td>363000</td>\n",
       "      <td>66500</td>\n",
       "      <td>10</td>\n",
       "      <td>2</td>\n",
       "      <td>33.305090</td>\n",
       "      <td>126.176746</td>\n",
       "      <td>NaN</td>\n",
       "      <td>NaN</td>\n",
       "      <td>NaN</td>\n",
       "      <td>NaN</td>\n",
       "    </tr>\n",
       "    <tr>\n",
       "      <th>1</th>\n",
       "      <td>202005</td>\n",
       "      <td>제주특별자치도</td>\n",
       "      <td>제주시</td>\n",
       "      <td>영세</td>\n",
       "      <td>단란주점</td>\n",
       "      <td>00시</td>\n",
       "      <td>1180000</td>\n",
       "      <td>0</td>\n",
       "      <td>3</td>\n",
       "      <td>0</td>\n",
       "      <td>33.305540</td>\n",
       "      <td>126.176737</td>\n",
       "      <td>NaN</td>\n",
       "      <td>NaN</td>\n",
       "      <td>NaN</td>\n",
       "      <td>NaN</td>\n",
       "    </tr>\n",
       "    <tr>\n",
       "      <th>2</th>\n",
       "      <td>202005</td>\n",
       "      <td>제주특별자치도</td>\n",
       "      <td>제주시</td>\n",
       "      <td>중소1</td>\n",
       "      <td>편의점</td>\n",
       "      <td>00시</td>\n",
       "      <td>157670</td>\n",
       "      <td>6850</td>\n",
       "      <td>20</td>\n",
       "      <td>2</td>\n",
       "      <td>33.303746</td>\n",
       "      <td>126.177311</td>\n",
       "      <td>NaN</td>\n",
       "      <td>NaN</td>\n",
       "      <td>NaN</td>\n",
       "      <td>NaN</td>\n",
       "    </tr>\n",
       "    <tr>\n",
       "      <th>3</th>\n",
       "      <td>202005</td>\n",
       "      <td>제주특별자치도</td>\n",
       "      <td>제주시</td>\n",
       "      <td>영세</td>\n",
       "      <td>편의점</td>\n",
       "      <td>00시</td>\n",
       "      <td>46600</td>\n",
       "      <td>0</td>\n",
       "      <td>2</td>\n",
       "      <td>0</td>\n",
       "      <td>33.305098</td>\n",
       "      <td>126.177283</td>\n",
       "      <td>NaN</td>\n",
       "      <td>NaN</td>\n",
       "      <td>NaN</td>\n",
       "      <td>NaN</td>\n",
       "    </tr>\n",
       "    <tr>\n",
       "      <th>4</th>\n",
       "      <td>202005</td>\n",
       "      <td>제주특별자치도</td>\n",
       "      <td>제주시</td>\n",
       "      <td>영세</td>\n",
       "      <td>주점</td>\n",
       "      <td>00시</td>\n",
       "      <td>66000</td>\n",
       "      <td>0</td>\n",
       "      <td>2</td>\n",
       "      <td>0</td>\n",
       "      <td>33.305999</td>\n",
       "      <td>126.177264</td>\n",
       "      <td>NaN</td>\n",
       "      <td>NaN</td>\n",
       "      <td>NaN</td>\n",
       "      <td>NaN</td>\n",
       "    </tr>\n",
       "  </tbody>\n",
       "</table>\n",
       "</div>"
      ],
      "text/plain": [
       "       YM     SIDO SIGUNGU FranClass  Type Time  TotalSpent  DisSpent  \\\n",
       "0  202005  제주특별자치도     제주시        영세  일반한식  00시      363000     66500   \n",
       "1  202005  제주특별자치도     제주시        영세  단란주점  00시     1180000         0   \n",
       "2  202005  제주특별자치도     제주시       중소1   편의점  00시      157670      6850   \n",
       "3  202005  제주특별자치도     제주시        영세   편의점  00시       46600         0   \n",
       "4  202005  제주특별자치도     제주시        영세    주점  00시       66000         0   \n",
       "\n",
       "   NumofSpent  NumofDisSpent        lat         lng  OBJECTID  Field1   X   Y  \n",
       "0          10              2  33.305090  126.176746       NaN     NaN NaN NaN  \n",
       "1           3              0  33.305540  126.176737       NaN     NaN NaN NaN  \n",
       "2          20              2  33.303746  126.177311       NaN     NaN NaN NaN  \n",
       "3           2              0  33.305098  126.177283       NaN     NaN NaN NaN  \n",
       "4           2              0  33.305999  126.177264       NaN     NaN NaN NaN  "
      ]
     },
     "execution_count": 37,
     "metadata": {},
     "output_type": "execute_result"
    }
   ],
   "source": [
    "total = pd.concat([data5, data6, data7, data8])\n",
    "total.head()"
   ]
  },
  {
   "cell_type": "code",
   "execution_count": 39,
   "metadata": {},
   "outputs": [
    {
     "data": {
      "text/html": [
       "<div>\n",
       "<style scoped>\n",
       "    .dataframe tbody tr th:only-of-type {\n",
       "        vertical-align: middle;\n",
       "    }\n",
       "\n",
       "    .dataframe tbody tr th {\n",
       "        vertical-align: top;\n",
       "    }\n",
       "\n",
       "    .dataframe thead th {\n",
       "        text-align: right;\n",
       "    }\n",
       "</style>\n",
       "<table border=\"1\" class=\"dataframe\">\n",
       "  <thead>\n",
       "    <tr style=\"text-align: right;\">\n",
       "      <th></th>\n",
       "      <th>YM</th>\n",
       "      <th>SIDO</th>\n",
       "      <th>SIGUNGU</th>\n",
       "      <th>FranClass</th>\n",
       "      <th>Type</th>\n",
       "      <th>Time</th>\n",
       "      <th>TotalSpent</th>\n",
       "      <th>DisSpent</th>\n",
       "      <th>NumofSpent</th>\n",
       "      <th>NumofDisSpent</th>\n",
       "      <th>lat</th>\n",
       "      <th>lng</th>\n",
       "    </tr>\n",
       "  </thead>\n",
       "  <tbody>\n",
       "    <tr>\n",
       "      <th>0</th>\n",
       "      <td>202005</td>\n",
       "      <td>제주특별자치도</td>\n",
       "      <td>제주시</td>\n",
       "      <td>영세</td>\n",
       "      <td>일반한식</td>\n",
       "      <td>00시</td>\n",
       "      <td>363000</td>\n",
       "      <td>66500</td>\n",
       "      <td>10</td>\n",
       "      <td>2</td>\n",
       "      <td>33.305090</td>\n",
       "      <td>126.176746</td>\n",
       "    </tr>\n",
       "    <tr>\n",
       "      <th>1</th>\n",
       "      <td>202005</td>\n",
       "      <td>제주특별자치도</td>\n",
       "      <td>제주시</td>\n",
       "      <td>영세</td>\n",
       "      <td>단란주점</td>\n",
       "      <td>00시</td>\n",
       "      <td>1180000</td>\n",
       "      <td>0</td>\n",
       "      <td>3</td>\n",
       "      <td>0</td>\n",
       "      <td>33.305540</td>\n",
       "      <td>126.176737</td>\n",
       "    </tr>\n",
       "    <tr>\n",
       "      <th>2</th>\n",
       "      <td>202005</td>\n",
       "      <td>제주특별자치도</td>\n",
       "      <td>제주시</td>\n",
       "      <td>중소1</td>\n",
       "      <td>편의점</td>\n",
       "      <td>00시</td>\n",
       "      <td>157670</td>\n",
       "      <td>6850</td>\n",
       "      <td>20</td>\n",
       "      <td>2</td>\n",
       "      <td>33.303746</td>\n",
       "      <td>126.177311</td>\n",
       "    </tr>\n",
       "    <tr>\n",
       "      <th>3</th>\n",
       "      <td>202005</td>\n",
       "      <td>제주특별자치도</td>\n",
       "      <td>제주시</td>\n",
       "      <td>영세</td>\n",
       "      <td>편의점</td>\n",
       "      <td>00시</td>\n",
       "      <td>46600</td>\n",
       "      <td>0</td>\n",
       "      <td>2</td>\n",
       "      <td>0</td>\n",
       "      <td>33.305098</td>\n",
       "      <td>126.177283</td>\n",
       "    </tr>\n",
       "    <tr>\n",
       "      <th>4</th>\n",
       "      <td>202005</td>\n",
       "      <td>제주특별자치도</td>\n",
       "      <td>제주시</td>\n",
       "      <td>영세</td>\n",
       "      <td>주점</td>\n",
       "      <td>00시</td>\n",
       "      <td>66000</td>\n",
       "      <td>0</td>\n",
       "      <td>2</td>\n",
       "      <td>0</td>\n",
       "      <td>33.305999</td>\n",
       "      <td>126.177264</td>\n",
       "    </tr>\n",
       "  </tbody>\n",
       "</table>\n",
       "</div>"
      ],
      "text/plain": [
       "       YM     SIDO SIGUNGU FranClass  Type Time  TotalSpent  DisSpent  \\\n",
       "0  202005  제주특별자치도     제주시        영세  일반한식  00시      363000     66500   \n",
       "1  202005  제주특별자치도     제주시        영세  단란주점  00시     1180000         0   \n",
       "2  202005  제주특별자치도     제주시       중소1   편의점  00시      157670      6850   \n",
       "3  202005  제주특별자치도     제주시        영세   편의점  00시       46600         0   \n",
       "4  202005  제주특별자치도     제주시        영세    주점  00시       66000         0   \n",
       "\n",
       "   NumofSpent  NumofDisSpent        lat         lng  \n",
       "0          10              2  33.305090  126.176746  \n",
       "1           3              0  33.305540  126.176737  \n",
       "2          20              2  33.303746  126.177311  \n",
       "3           2              0  33.305098  126.177283  \n",
       "4           2              0  33.305999  126.177264  "
      ]
     },
     "execution_count": 39,
     "metadata": {},
     "output_type": "execute_result"
    }
   ],
   "source": [
    "total = total.drop(['OBJECTID', 'Field1', 'X', 'Y'], axis=1)\n",
    "total.head()"
   ]
  },
  {
   "cell_type": "code",
   "execution_count": 41,
   "metadata": {},
   "outputs": [
    {
     "name": "stdout",
     "output_type": "stream",
     "text": [
      "<class 'pandas.core.frame.DataFrame'>\n",
      "Int64Index: 1119429 entries, 0 to 280084\n",
      "Data columns (total 12 columns):\n",
      " #   Column         Non-Null Count    Dtype  \n",
      "---  ------         --------------    -----  \n",
      " 0   YM             1119429 non-null  int64  \n",
      " 1   SIDO           1119429 non-null  object \n",
      " 2   SIGUNGU        1119429 non-null  object \n",
      " 3   FranClass      1119429 non-null  object \n",
      " 4   Type           1119429 non-null  object \n",
      " 5   Time           1119429 non-null  object \n",
      " 6   TotalSpent     1119429 non-null  int64  \n",
      " 7   DisSpent       1119429 non-null  int64  \n",
      " 8   NumofSpent     1119429 non-null  int64  \n",
      " 9   NumofDisSpent  1119429 non-null  int64  \n",
      " 10  lat            1119429 non-null  float64\n",
      " 11  lng            1119429 non-null  float64\n",
      "dtypes: float64(2), int64(5), object(5)\n",
      "memory usage: 111.0+ MB\n"
     ]
    }
   ],
   "source": [
    "total.info()"
   ]
  },
  {
   "cell_type": "code",
   "execution_count": 42,
   "metadata": {},
   "outputs": [],
   "source": [
    "total['YM'] = total.YM.astype('str')"
   ]
  },
  {
   "cell_type": "code",
   "execution_count": 46,
   "metadata": {},
   "outputs": [
    {
     "data": {
      "text/plain": [
       "<matplotlib.axes._subplots.AxesSubplot at 0x22e87c23248>"
      ]
     },
     "execution_count": 46,
     "metadata": {},
     "output_type": "execute_result"
    },
    {
     "data": {
      "image/png": "[encoded data removed]",
      "text/plain": [
       "<Figure size 432x288 with 1 Axes>"
      ]
     },
     "metadata": {
      "needs_background": "light"
     },
     "output_type": "display_data"
    }
   ],
   "source": [
    "# 각 월별 매출(지원금 포함)\n",
    "sns.lineplot(x = 'YM', y = 'TotalSpent', data=total)"
   ]
  },
  {
   "cell_type": "code",
   "execution_count": 48,
   "metadata": {},
   "outputs": [
    {
     "data": {
      "text/plain": [
       "<matplotlib.axes._subplots.AxesSubplot at 0x22ee31dfc48>"
      ]
     },
     "execution_count": 48,
     "metadata": {},
     "output_type": "execute_result"
    },
    {
     "data": {
      "image/png": "[encoded data removed]",
      "text/plain": [
       "<Figure size 432x288 with 1 Axes>"
      ]
     },
     "metadata": {
      "needs_background": "light"
     },
     "output_type": "display_data"
    }
   ],
   "source": [
    "# 월별 매출(지원금만)\n",
    "sns.lineplot(data=total, x='YM', y='DisSpent')"
   ]
  },
  {
   "cell_type": "markdown",
   "metadata": {},
   "source": [
    "사용금액은 감소했다 점점 증가하지만, 재난지원금 사용금액은 점차 감소한다"
   ]
  },
  {
   "cell_type": "markdown",
   "metadata": {},
   "source": [
    " - 재난지원금 월별 매출금액"
   ]
  },
  {
   "cell_type": "code",
   "execution_count": 51,
   "metadata": {},
   "outputs": [
    {
     "data": {
      "text/plain": [
       "<matplotlib.axes._subplots.AxesSubplot at 0x22e882bce48>"
      ]
     },
     "execution_count": 51,
     "metadata": {},
     "output_type": "execute_result"
    },
    {
     "data": {
      "image/png": "[encoded data removed]",
      "text/plain": [
       "<Figure size 1080x720 with 1 Axes>"
      ]
     },
     "metadata": {
      "needs_background": "light"
     },
     "output_type": "display_data"
    }
   ],
   "source": [
    "plt.figure(figsize=(15,10))\n",
    "sns.barplot(data=total, x='FranClass', y='DisSpent', palette='rainbow', hue='YM')"
   ]
  },
  {
   "cell_type": "markdown",
   "metadata": {},
   "source": [
    "- 시간대별 사용 금액"
   ]
  },
  {
   "cell_type": "code",
   "execution_count": 53,
   "metadata": {},
   "outputs": [
    {
     "data": {
      "text/plain": [
       "<matplotlib.axes._subplots.AxesSubplot at 0x22e882c3748>"
      ]
     },
     "execution_count": 53,
     "metadata": {},
     "output_type": "execute_result"
    },
    {
     "data": {
      "image/png": "[encoded data removed]",
      "text/plain": [
       "<Figure size 1080x720 with 1 Axes>"
      ]
     },
     "metadata": {
      "needs_background": "light"
     },
     "output_type": "display_data"
    }
   ],
   "source": [
    "plt.figure(figsize=(15,10))\n",
    "sns.barplot(data=total, x='Time', y='DisSpent', palette='rainbow')"
   ]
  },
  {
   "cell_type": "markdown",
   "metadata": {},
   "source": [
    " -  재난지원금 어느지역이 많은지"
   ]
  },
  {
   "cell_type": "code",
   "execution_count": 56,
   "metadata": {},
   "outputs": [
    {
     "data": {
      "text/plain": [
       "<matplotlib.axes._subplots.AxesSubplot at 0x22e8889ef88>"
      ]
     },
     "execution_count": 56,
     "metadata": {},
     "output_type": "execute_result"
    },
    {
     "data": {
      "image/png": "[encoded data removed]",
      "text/plain": [
       "<Figure size 1080x720 with 1 Axes>"
      ]
     },
     "metadata": {
      "needs_background": "light"
     },
     "output_type": "display_data"
    }
   ],
   "source": [
    "plt.figure(figsize=(15,10))\n",
    "sns.barplot(data=total, x='SIGUNGU', y='DisSpent')"
   ]
  },
  {
   "cell_type": "markdown",
   "metadata": {},
   "source": [
    " - 지역별 지원금 사용시간"
   ]
  },
  {
   "cell_type": "code",
   "execution_count": 57,
   "metadata": {},
   "outputs": [
    {
     "data": {
      "text/plain": [
       "<matplotlib.axes._subplots.AxesSubplot at 0x22e882c3d48>"
      ]
     },
     "execution_count": 57,
     "metadata": {},
     "output_type": "execute_result"
    },
    {
     "data": {
      "image/png": "[encoded data removed]",
      "text/plain": [
       "<Figure size 1080x720 with 1 Axes>"
      ]
     },
     "metadata": {
      "needs_background": "light"
     },
     "output_type": "display_data"
    }
   ],
   "source": [
    "plt.figure(figsize=(15,10))\n",
    "sns.barplot(data=total, x='SIGUNGU', y='DisSpent', palette='rainbow', hue='Time')"
   ]
  },
  {
   "cell_type": "markdown",
   "metadata": {},
   "source": [
    " - 재난지원금 사용 대분류"
   ]
  },
  {
   "cell_type": "code",
   "execution_count": 60,
   "metadata": {},
   "outputs": [
    {
     "data": {
      "text/plain": [
       "<matplotlib.axes._subplots.AxesSubplot at 0x22e8bc13488>"
      ]
     },
     "execution_count": 60,
     "metadata": {},
     "output_type": "execute_result"
    },
    {
     "data": {
      "image/png": "[encoded data removed]",
      "text/plain": [
       "<Figure size 1080x720 with 1 Axes>"
      ]
     },
     "metadata": {
      "needs_background": "light"
     },
     "output_type": "display_data"
    }
   ],
   "source": [
    "plt.figure(figsize=(15,10))\n",
    "sns.barplot(data=total, x='SIGUNGU', y='DisSpent', palette='rainbow', hue='FranClass')"
   ]
  },
  {
   "cell_type": "markdown",
   "metadata": {},
   "source": [
    " - 소분류별 지원금 상위10개"
   ]
  },
  {
   "cell_type": "code",
   "execution_count": 69,
   "metadata": {},
   "outputs": [
    {
     "data": {
      "text/plain": [
       "<matplotlib.axes._subplots.AxesSubplot at 0x22e90c07f08>"
      ]
     },
     "execution_count": 69,
     "metadata": {},
     "output_type": "execute_result"
    },
    {
     "data": {
      "image/png": "[encoded data removed]",
      "text/plain": [
       "<Figure size 1080x720 with 1 Axes>"
      ]
     },
     "metadata": {
      "needs_background": "light"
     },
     "output_type": "display_data"
    }
   ],
   "source": [
    "plt.figure(figsize=(15,10))\n",
    "sns.barplot(data=total.groupby('Type').sum().DisSpent.to_frame().reset_index().sort_values(by='DisSpent',ascending=False)[:10], x='Type', y='DisSpent', palette='rainbow')"
   ]
  },
  {
   "cell_type": "code",
   "execution_count": null,
   "metadata": {},
   "outputs": [],
   "source": []
  },
  {
   "cell_type": "code",
   "execution_count": null,
   "metadata": {},
   "outputs": [],
   "source": []
  },
  {
   "cell_type": "code",
   "execution_count": null,
   "metadata": {},
   "outputs": [],
   "source": []
  }
 ],
 "metadata": {
  "hide_input": false,
  "kernelspec": {
   "display_name": "Python 3",
   "language": "python",
   "name": "python3"
  },
  "language_info": {
   "codemirror_mode": {
    "name": "ipython",
    "version": 3
   },
   "file_extension": ".py",
   "mimetype": "text/x-python",
   "name": "python",
   "nbconvert_exporter": "python",
   "pygments_lexer": "ipython3",
   "version": "3.7.6"
  },
  "toc": {
   "base_numbering": 1,
   "nav_menu": {},
   "number_sections": true,
   "sideBar": true,
   "skip_h1_title": false,
   "title_cell": "Table of Contents",
   "title_sidebar": "Contents",
   "toc_cell": false,
   "toc_position": {},
   "toc_section_display": true,
   "toc_window_display": false
  }
 },
 "nbformat": 4,
 "nbformat_minor": 4
}
