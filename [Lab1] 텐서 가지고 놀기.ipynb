{
 "cells": [
  {
   "cell_type": "code",
   "execution_count": 1,
   "metadata": {},
   "outputs": [],
   "source": [
    "import torch"
   ]
  },
  {
   "cell_type": "markdown",
   "metadata": {},
   "source": [
    "### 초기화를 하지 않은 비어있는 8x4 matrix를 만들어 보세요"
   ]
  },
  {
   "cell_type": "code",
   "execution_count": 2,
   "metadata": {},
   "outputs": [
    {
     "name": "stdout",
     "output_type": "stream",
     "text": [
      "torch.Size([8, 4])\n"
     ]
    }
   ],
   "source": [
    "x = torch.empty(8, 4)\n",
    "print(x.shape)"
   ]
  },
  {
   "cell_type": "code",
   "execution_count": 2,
   "metadata": {},
   "outputs": [
    {
     "name": "stdout",
     "output_type": "stream",
     "text": [
      "tensor([[1.9208e+31, 7.1538e+22, 7.7764e+31, 7.1441e+31],\n",
      "        [1.0899e+27, 3.1040e+27, 1.6931e+22, 2.0283e-19],\n",
      "        [1.9432e-19, 1.8068e-19, 1.9206e+31, 2.7523e+23],\n",
      "        [4.2322e+21, 2.8068e+20, 8.4006e-33, 1.7554e+25],\n",
      "        [2.9602e+29, 7.1447e+31, 2.0196e-19, 1.2414e+28],\n",
      "        [1.1839e+22, 6.8002e+22, 7.5551e+31, 1.0947e+27],\n",
      "        [6.6532e-33, 4.3612e+27, 1.8177e+31, 6.6554e-33],\n",
      "        [1.3563e-19, 1.6114e-19, 1.6020e-19, 4.4721e+21]])\n"
     ]
    }
   ],
   "source": [
    "x = torch.empty(8, 4)\n",
    "print(x)"
   ]
  },
  {
   "cell_type": "markdown",
   "metadata": {},
   "source": [
    "# Note\n",
    "\n",
    "torch.empty를 하면 값이 들어있지만 명시적인 값을 포함하지는 않는다. \\\n",
    "즉 당시 메모리에 할당되어 있던 값들이 들어가게 된다."
   ]
  },
  {
   "cell_type": "markdown",
   "metadata": {},
   "source": [
    "### 평균 5 표준편차 0.5로 초기화된 8x4 matrix를 만들어 보세요"
   ]
  },
  {
   "cell_type": "code",
   "execution_count": 3,
   "metadata": {},
   "outputs": [
    {
     "name": "stdout",
     "output_type": "stream",
     "text": [
      "tensor([[4.5150, 5.1500, 4.6943, 5.6825],\n",
      "        [4.3610, 3.9612, 5.3652, 5.4946],\n",
      "        [4.3496, 5.3495, 4.8267, 5.1166],\n",
      "        [4.1521, 5.0385, 5.0090, 5.7111],\n",
      "        [3.0722, 5.3551, 4.6422, 5.0723],\n",
      "        [3.6937, 4.8502, 4.7636, 4.3589],\n",
      "        [4.9427, 4.6512, 4.7024, 5.1892],\n",
      "        [5.8472, 5.1168, 4.8032, 4.3172]])\n"
     ]
    }
   ],
   "source": [
    "x = torch.empty(8, 4).normal_(mean=5, std=0.5)\n",
    "print(x)"
   ]
  },
  {
   "cell_type": "markdown",
   "metadata": {},
   "source": [
    "### 평균 0 표준편차 1로 초기화된 8x4 matrix를 만들어 보세요"
   ]
  },
  {
   "cell_type": "code",
   "execution_count": 4,
   "metadata": {},
   "outputs": [
    {
     "name": "stdout",
     "output_type": "stream",
     "text": [
      "tensor([[-0.0039,  1.0035, -1.1693,  0.8994],\n",
      "        [ 0.5585,  0.7548,  1.4745, -0.2823],\n",
      "        [-0.8771,  1.0778,  1.6641,  1.0259],\n",
      "        [-1.0090,  1.0915, -0.5237, -0.6970],\n",
      "        [-0.2477, -0.1297, -0.6466,  0.5858],\n",
      "        [-0.0740,  0.1176, -0.9773,  2.0920],\n",
      "        [-0.5181, -1.1684,  0.5327, -1.6922],\n",
      "        [-0.3953, -1.7849, -0.6660,  0.7235]])\n"
     ]
    }
   ],
   "source": [
    "x = torch.empty(8, 4).normal_(mean=0, std=1)\n",
    "print(x)"
   ]
  },
  {
   "cell_type": "code",
   "execution_count": 5,
   "metadata": {},
   "outputs": [
    {
     "name": "stdout",
     "output_type": "stream",
     "text": [
      "tensor([[-2.1958, -1.0537, -0.2865, -1.9334],\n",
      "        [ 1.0008, -0.6228,  0.8290,  2.3613],\n",
      "        [-0.3583,  0.2696, -0.0111, -0.4043],\n",
      "        [-0.5755, -0.9351,  1.3290, -0.6095],\n",
      "        [ 0.7900, -0.0737, -2.0427,  1.1189],\n",
      "        [-0.9315, -0.1332, -0.3986, -1.1409],\n",
      "        [-0.3407,  1.0172,  0.3098,  0.4418],\n",
      "        [-0.5439, -0.9579, -0.9243, -1.8234]])\n"
     ]
    }
   ],
   "source": [
    "x = torch.randn(8, 4)\n",
    "print(x)"
   ]
  },
  {
   "cell_type": "markdown",
   "metadata": {},
   "source": [
    "### 0으로 초기화된 5x5 matrix를 만들어 보세요"
   ]
  },
  {
   "cell_type": "code",
   "execution_count": 6,
   "metadata": {},
   "outputs": [
    {
     "name": "stdout",
     "output_type": "stream",
     "text": [
      "tensor([[0., 0., 0., 0., 0.],\n",
      "        [0., 0., 0., 0., 0.],\n",
      "        [0., 0., 0., 0., 0.],\n",
      "        [0., 0., 0., 0., 0.],\n",
      "        [0., 0., 0., 0., 0.]])\n"
     ]
    }
   ],
   "source": [
    "x = torch.zeros(5, 5)\n",
    "print(x)"
   ]
  },
  {
   "cell_type": "markdown",
   "metadata": {},
   "source": [
    "### list [[2,3],[4,4]]를 tensor로 변경해 보세요"
   ]
  },
  {
   "cell_type": "code",
   "execution_count": 7,
   "metadata": {},
   "outputs": [],
   "source": [
    "x = list([[2,3],[4,4]])"
   ]
  },
  {
   "cell_type": "code",
   "execution_count": 8,
   "metadata": {},
   "outputs": [
    {
     "name": "stdout",
     "output_type": "stream",
     "text": [
      "tensor([[2, 3],\n",
      "        [4, 4]])\n"
     ]
    }
   ],
   "source": [
    "x = torch.tensor(x)\n",
    "print(x)"
   ]
  },
  {
   "cell_type": "markdown",
   "metadata": {},
   "source": [
    "### 1로 초기화된 7x4 matrix를 만들어 보세요"
   ]
  },
  {
   "cell_type": "code",
   "execution_count": 3,
   "metadata": {},
   "outputs": [
    {
     "name": "stdout",
     "output_type": "stream",
     "text": [
      "tensor([[1., 1., 1., 1.],\n",
      "        [1., 1., 1., 1.],\n",
      "        [1., 1., 1., 1.],\n",
      "        [1., 1., 1., 1.],\n",
      "        [1., 1., 1., 1.],\n",
      "        [1., 1., 1., 1.],\n",
      "        [1., 1., 1., 1.]])\n"
     ]
    }
   ],
   "source": [
    "x = torch.ones(7, 4)\n",
    "print(x)"
   ]
  },
  {
   "cell_type": "markdown",
   "metadata": {},
   "source": [
    "### torch.randn을 이용하여 float 타입의 5x5 matrix를 만들어 보세요"
   ]
  },
  {
   "cell_type": "code",
   "execution_count": 4,
   "metadata": {},
   "outputs": [
    {
     "name": "stdout",
     "output_type": "stream",
     "text": [
      "tensor([[ 2.0919, -1.2152, -0.5937, -1.2268,  0.2094],\n",
      "        [-0.1619,  1.2171, -1.1337,  1.0146, -0.5983],\n",
      "        [-2.6574,  0.7220, -1.3212, -0.2555,  0.3813],\n",
      "        [ 0.9597,  1.5991,  0.0416, -1.1972, -1.4226],\n",
      "        [-0.4071, -2.0633, -0.3227,  0.1044, -0.6463]])\n"
     ]
    }
   ],
   "source": [
    "x = torch.randn(5, 5, dtype=torch.float)\n",
    "print(x)"
   ]
  },
  {
   "cell_type": "markdown",
   "metadata": {},
   "source": [
    "### torch.ones를 이용하여 long 타입의 5x5 mtrix를 만들어 보세요"
   ]
  },
  {
   "cell_type": "code",
   "execution_count": 8,
   "metadata": {},
   "outputs": [
    {
     "name": "stdout",
     "output_type": "stream",
     "text": [
      "tensor([[1, 1, 1, 1, 1],\n",
      "        [1, 1, 1, 1, 1],\n",
      "        [1, 1, 1, 1, 1],\n",
      "        [1, 1, 1, 1, 1],\n",
      "        [1, 1, 1, 1, 1]])\n"
     ]
    }
   ],
   "source": [
    "x = torch.ones(5, 5, dtype=torch.long)\n",
    "print(x)"
   ]
  },
  {
   "cell_type": "markdown",
   "metadata": {},
   "source": [
    "### torch.randn을 이용하여 [100, 50] 2차원 matrix를 만들어 보세요"
   ]
  },
  {
   "cell_type": "code",
   "execution_count": 5,
   "metadata": {},
   "outputs": [
    {
     "name": "stdout",
     "output_type": "stream",
     "text": [
      "torch.Size([100, 50])\n"
     ]
    }
   ],
   "source": [
    "x = torch.randn(100, 50)\n",
    "print(x.shape)"
   ]
  },
  {
   "cell_type": "code",
   "execution_count": 29,
   "metadata": {},
   "outputs": [
    {
     "name": "stdout",
     "output_type": "stream",
     "text": [
      "torch.Size([100, 50])\n"
     ]
    }
   ],
   "source": [
    "x = torch.randn(100, 50)\n",
    "print(x.shape)"
   ]
  },
  {
   "cell_type": "code",
   "execution_count": null,
   "metadata": {},
   "outputs": [],
   "source": [
    "#위에서 만든 [100, 20] matirx로 for문을 이용하여 [100] matrix 20개를 출력해 보세요"
   ]
  },
  {
   "cell_type": "markdown",
   "metadata": {},
   "source": [
    "### torch.randn를 이용하여 [100, 50, 20] 3차원 matrix를 만들어 보세요"
   ]
  },
  {
   "cell_type": "code",
   "execution_count": 7,
   "metadata": {},
   "outputs": [
    {
     "name": "stdout",
     "output_type": "stream",
     "text": [
      "torch.Size([100, 50, 20])\n"
     ]
    }
   ],
   "source": [
    "x = torch.randn(100, 50, 20)\n",
    "print(x.shape)"
   ]
  },
  {
   "cell_type": "code",
   "execution_count": null,
   "metadata": {},
   "outputs": [],
   "source": [
    "100,50"
   ]
  },
  {
   "cell_type": "code",
   "execution_count": null,
   "metadata": {},
   "outputs": [],
   "source": []
  },
  {
   "cell_type": "code",
   "execution_count": 25,
   "metadata": {},
   "outputs": [],
   "source": [
    "x = torch.randn(2, 30, 20, 10)"
   ]
  },
  {
   "cell_type": "code",
   "execution_count": 27,
   "metadata": {},
   "outputs": [
    {
     "ename": "IndexError",
     "evalue": "index 2 is out of bounds for dimension 0 with size 2",
     "output_type": "error",
     "traceback": [
      "\u001b[0;31m---------------------------------------------------------------------------\u001b[0m",
      "\u001b[0;31mIndexError\u001b[0m                                Traceback (most recent call last)",
      "\u001b[0;32m<ipython-input-27-c6d7bc6a2745>\u001b[0m in \u001b[0;36m<module>\u001b[0;34m\u001b[0m\n\u001b[0;32m----> 1\u001b[0;31m \u001b[0mx\u001b[0m\u001b[0;34m[\u001b[0m\u001b[0;36m2\u001b[0m\u001b[0;34m,\u001b[0m\u001b[0;34m:\u001b[0m\u001b[0;34m,\u001b[0m\u001b[0;34m:\u001b[0m\u001b[0;34m,\u001b[0m\u001b[0;34m:\u001b[0m\u001b[0;34m]\u001b[0m\u001b[0;34m\u001b[0m\u001b[0;34m\u001b[0m\u001b[0m\n\u001b[0m",
      "\u001b[0;31mIndexError\u001b[0m: index 2 is out of bounds for dimension 0 with size 2"
     ]
    }
   ],
   "source": [
    "x[2,:,:,:]"
   ]
  },
  {
   "cell_type": "code",
   "execution_count": null,
   "metadata": {},
   "outputs": [],
   "source": []
  },
  {
   "cell_type": "code",
   "execution_count": 11,
   "metadata": {},
   "outputs": [
    {
     "name": "stdout",
     "output_type": "stream",
     "text": [
      "torch.Size([100, 50, 20])\n"
     ]
    }
   ],
   "source": [
    "x = torch.randn(100, 50, 20)\n",
    "print(x.shape)"
   ]
  },
  {
   "cell_type": "markdown",
   "metadata": {},
   "source": [
    "### 위에서 만든 [100,50,20] matrix로 for문을 이용하여 [100, 20] matrix 50개를 출력해 보세요"
   ]
  },
  {
   "cell_type": "code",
   "execution_count": 13,
   "metadata": {},
   "outputs": [
    {
     "name": "stdout",
     "output_type": "stream",
     "text": [
      "torch.Size([100, 20])\n",
      "torch.Size([100, 20])\n",
      "torch.Size([100, 20])\n",
      "torch.Size([100, 20])\n",
      "torch.Size([100, 20])\n",
      "torch.Size([100, 20])\n",
      "torch.Size([100, 20])\n",
      "torch.Size([100, 20])\n",
      "torch.Size([100, 20])\n",
      "torch.Size([100, 20])\n",
      "torch.Size([100, 20])\n",
      "torch.Size([100, 20])\n",
      "torch.Size([100, 20])\n",
      "torch.Size([100, 20])\n",
      "torch.Size([100, 20])\n",
      "torch.Size([100, 20])\n",
      "torch.Size([100, 20])\n",
      "torch.Size([100, 20])\n",
      "torch.Size([100, 20])\n",
      "torch.Size([100, 20])\n",
      "torch.Size([100, 20])\n",
      "torch.Size([100, 20])\n",
      "torch.Size([100, 20])\n",
      "torch.Size([100, 20])\n",
      "torch.Size([100, 20])\n",
      "torch.Size([100, 20])\n",
      "torch.Size([100, 20])\n",
      "torch.Size([100, 20])\n",
      "torch.Size([100, 20])\n",
      "torch.Size([100, 20])\n",
      "torch.Size([100, 20])\n",
      "torch.Size([100, 20])\n",
      "torch.Size([100, 20])\n",
      "torch.Size([100, 20])\n",
      "torch.Size([100, 20])\n",
      "torch.Size([100, 20])\n",
      "torch.Size([100, 20])\n",
      "torch.Size([100, 20])\n",
      "torch.Size([100, 20])\n",
      "torch.Size([100, 20])\n",
      "torch.Size([100, 20])\n",
      "torch.Size([100, 20])\n",
      "torch.Size([100, 20])\n",
      "torch.Size([100, 20])\n",
      "torch.Size([100, 20])\n",
      "torch.Size([100, 20])\n",
      "torch.Size([100, 20])\n",
      "torch.Size([100, 20])\n",
      "torch.Size([100, 20])\n",
      "torch.Size([100, 20])\n"
     ]
    }
   ],
   "source": [
    "for i in range(x.shape[1]):\n",
    "    print(x[:,i,:].shape)"
   ]
  },
  {
   "cell_type": "markdown",
   "metadata": {},
   "source": [
    "### 위에서 만든 [100,50,20]로 for문을 이용하여 [50, 20] matrix 100개를 출력해 보세요"
   ]
  },
  {
   "cell_type": "code",
   "execution_count": 14,
   "metadata": {},
   "outputs": [
    {
     "name": "stdout",
     "output_type": "stream",
     "text": [
      "torch.Size([50, 20])\n",
      "torch.Size([50, 20])\n",
      "torch.Size([50, 20])\n",
      "torch.Size([50, 20])\n",
      "torch.Size([50, 20])\n",
      "torch.Size([50, 20])\n",
      "torch.Size([50, 20])\n",
      "torch.Size([50, 20])\n",
      "torch.Size([50, 20])\n",
      "torch.Size([50, 20])\n",
      "torch.Size([50, 20])\n",
      "torch.Size([50, 20])\n",
      "torch.Size([50, 20])\n",
      "torch.Size([50, 20])\n",
      "torch.Size([50, 20])\n",
      "torch.Size([50, 20])\n",
      "torch.Size([50, 20])\n",
      "torch.Size([50, 20])\n",
      "torch.Size([50, 20])\n",
      "torch.Size([50, 20])\n",
      "torch.Size([50, 20])\n",
      "torch.Size([50, 20])\n",
      "torch.Size([50, 20])\n",
      "torch.Size([50, 20])\n",
      "torch.Size([50, 20])\n",
      "torch.Size([50, 20])\n",
      "torch.Size([50, 20])\n",
      "torch.Size([50, 20])\n",
      "torch.Size([50, 20])\n",
      "torch.Size([50, 20])\n",
      "torch.Size([50, 20])\n",
      "torch.Size([50, 20])\n",
      "torch.Size([50, 20])\n",
      "torch.Size([50, 20])\n",
      "torch.Size([50, 20])\n",
      "torch.Size([50, 20])\n",
      "torch.Size([50, 20])\n",
      "torch.Size([50, 20])\n",
      "torch.Size([50, 20])\n",
      "torch.Size([50, 20])\n",
      "torch.Size([50, 20])\n",
      "torch.Size([50, 20])\n",
      "torch.Size([50, 20])\n",
      "torch.Size([50, 20])\n",
      "torch.Size([50, 20])\n",
      "torch.Size([50, 20])\n",
      "torch.Size([50, 20])\n",
      "torch.Size([50, 20])\n",
      "torch.Size([50, 20])\n",
      "torch.Size([50, 20])\n",
      "torch.Size([50, 20])\n",
      "torch.Size([50, 20])\n",
      "torch.Size([50, 20])\n",
      "torch.Size([50, 20])\n",
      "torch.Size([50, 20])\n",
      "torch.Size([50, 20])\n",
      "torch.Size([50, 20])\n",
      "torch.Size([50, 20])\n",
      "torch.Size([50, 20])\n",
      "torch.Size([50, 20])\n",
      "torch.Size([50, 20])\n",
      "torch.Size([50, 20])\n",
      "torch.Size([50, 20])\n",
      "torch.Size([50, 20])\n",
      "torch.Size([50, 20])\n",
      "torch.Size([50, 20])\n",
      "torch.Size([50, 20])\n",
      "torch.Size([50, 20])\n",
      "torch.Size([50, 20])\n",
      "torch.Size([50, 20])\n",
      "torch.Size([50, 20])\n",
      "torch.Size([50, 20])\n",
      "torch.Size([50, 20])\n",
      "torch.Size([50, 20])\n",
      "torch.Size([50, 20])\n",
      "torch.Size([50, 20])\n",
      "torch.Size([50, 20])\n",
      "torch.Size([50, 20])\n",
      "torch.Size([50, 20])\n",
      "torch.Size([50, 20])\n",
      "torch.Size([50, 20])\n",
      "torch.Size([50, 20])\n",
      "torch.Size([50, 20])\n",
      "torch.Size([50, 20])\n",
      "torch.Size([50, 20])\n",
      "torch.Size([50, 20])\n",
      "torch.Size([50, 20])\n",
      "torch.Size([50, 20])\n",
      "torch.Size([50, 20])\n",
      "torch.Size([50, 20])\n",
      "torch.Size([50, 20])\n",
      "torch.Size([50, 20])\n",
      "torch.Size([50, 20])\n",
      "torch.Size([50, 20])\n",
      "torch.Size([50, 20])\n",
      "torch.Size([50, 20])\n",
      "torch.Size([50, 20])\n",
      "torch.Size([50, 20])\n",
      "torch.Size([50, 20])\n",
      "torch.Size([50, 20])\n"
     ]
    }
   ],
   "source": [
    "for i in range(x.shape[0]):\n",
    "    print(x[i,:,:].shape)"
   ]
  },
  {
   "cell_type": "markdown",
   "metadata": {},
   "source": [
    "### 위에서 만든 [100,50,20]로 for문을 이용하여 [100, 50] matrix 20개를 출력해 보세요"
   ]
  },
  {
   "cell_type": "code",
   "execution_count": 16,
   "metadata": {},
   "outputs": [
    {
     "name": "stdout",
     "output_type": "stream",
     "text": [
      "torch.Size([100, 50])\n",
      "torch.Size([100, 50])\n",
      "torch.Size([100, 50])\n",
      "torch.Size([100, 50])\n",
      "torch.Size([100, 50])\n",
      "torch.Size([100, 50])\n",
      "torch.Size([100, 50])\n",
      "torch.Size([100, 50])\n",
      "torch.Size([100, 50])\n",
      "torch.Size([100, 50])\n",
      "torch.Size([100, 50])\n",
      "torch.Size([100, 50])\n",
      "torch.Size([100, 50])\n",
      "torch.Size([100, 50])\n",
      "torch.Size([100, 50])\n",
      "torch.Size([100, 50])\n",
      "torch.Size([100, 50])\n",
      "torch.Size([100, 50])\n",
      "torch.Size([100, 50])\n",
      "torch.Size([100, 50])\n"
     ]
    }
   ],
   "source": [
    "for i in range(x.shape[2]):\n",
    "    print(x[:,:,i].shape)"
   ]
  },
  {
   "cell_type": "markdown",
   "metadata": {},
   "source": [
    "### [30, 20] matrx를 만든 후 torch.randn_like를 이용하여 같은 shape의 matrix를 만들어 보세요"
   ]
  },
  {
   "cell_type": "code",
   "execution_count": 17,
   "metadata": {},
   "outputs": [],
   "source": [
    "x = torch.randn(30, 20)"
   ]
  },
  {
   "cell_type": "code",
   "execution_count": 19,
   "metadata": {},
   "outputs": [
    {
     "name": "stdout",
     "output_type": "stream",
     "text": [
      "torch.Size([30, 20])\n"
     ]
    }
   ],
   "source": [
    "y = torch.randn_like(x)\n",
    "print(y.shape)"
   ]
  },
  {
   "cell_type": "markdown",
   "metadata": {},
   "source": [
    "# operations"
   ]
  },
  {
   "cell_type": "code",
   "execution_count": 23,
   "metadata": {},
   "outputs": [],
   "source": [
    "x = torch.randn(5, 3)\n",
    "y = torch.randn(5, 3)"
   ]
  },
  {
   "cell_type": "markdown",
   "metadata": {},
   "source": [
    "**case 1**"
   ]
  },
  {
   "cell_type": "code",
   "execution_count": 24,
   "metadata": {},
   "outputs": [
    {
     "name": "stdout",
     "output_type": "stream",
     "text": [
      "tensor([[-1.5494e+00,  9.0486e-01,  5.4884e-01],\n",
      "        [-2.0742e+00, -2.8472e-01, -8.2462e-01],\n",
      "        [ 1.3342e+00,  9.2211e-01, -1.1268e+00],\n",
      "        [ 1.3952e+00, -1.0791e+00,  2.9247e+00],\n",
      "        [-1.3841e-03, -4.5444e-01,  1.5352e+00]])\n"
     ]
    }
   ],
   "source": [
    "z = x + y\n",
    "print(z)"
   ]
  },
  {
   "cell_type": "markdown",
   "metadata": {},
   "source": [
    "**case 2**"
   ]
  },
  {
   "cell_type": "code",
   "execution_count": 26,
   "metadata": {},
   "outputs": [
    {
     "name": "stdout",
     "output_type": "stream",
     "text": [
      "tensor([[-1.5494e+00,  9.0486e-01,  5.4884e-01],\n",
      "        [-2.0742e+00, -2.8472e-01, -8.2462e-01],\n",
      "        [ 1.3342e+00,  9.2211e-01, -1.1268e+00],\n",
      "        [ 1.3952e+00, -1.0791e+00,  2.9247e+00],\n",
      "        [-1.3841e-03, -4.5444e-01,  1.5352e+00]])\n"
     ]
    }
   ],
   "source": [
    "z = torch.add(x, y)\n",
    "print(z)"
   ]
  },
  {
   "cell_type": "markdown",
   "metadata": {},
   "source": [
    "**case 3**"
   ]
  },
  {
   "cell_type": "code",
   "execution_count": 27,
   "metadata": {},
   "outputs": [
    {
     "name": "stdout",
     "output_type": "stream",
     "text": [
      "tensor([[-1.5494e+00,  9.0486e-01,  5.4884e-01],\n",
      "        [-2.0742e+00, -2.8472e-01, -8.2462e-01],\n",
      "        [ 1.3342e+00,  9.2211e-01, -1.1268e+00],\n",
      "        [ 1.3952e+00, -1.0791e+00,  2.9247e+00],\n",
      "        [-1.3841e-03, -4.5444e-01,  1.5352e+00]])\n"
     ]
    }
   ],
   "source": [
    "z = torch.empty(5, 3)\n",
    "torch.add(x, y, out=z)\n",
    "print(z)"
   ]
  },
  {
   "cell_type": "markdown",
   "metadata": {},
   "source": [
    "**case 3**"
   ]
  },
  {
   "cell_type": "code",
   "execution_count": 28,
   "metadata": {},
   "outputs": [
    {
     "name": "stdout",
     "output_type": "stream",
     "text": [
      "tensor([[-1.5494e+00,  9.0486e-01,  5.4884e-01],\n",
      "        [-2.0742e+00, -2.8472e-01, -8.2462e-01],\n",
      "        [ 1.3342e+00,  9.2211e-01, -1.1268e+00],\n",
      "        [ 1.3952e+00, -1.0791e+00,  2.9247e+00],\n",
      "        [-1.3841e-03, -4.5444e-01,  1.5352e+00]])\n"
     ]
    }
   ],
   "source": [
    "y.add_(x)\n",
    "print(y)"
   ]
  },
  {
   "cell_type": "markdown",
   "metadata": {},
   "source": [
    "# Numpy Bridge"
   ]
  },
  {
   "cell_type": "code",
   "execution_count": 41,
   "metadata": {},
   "outputs": [
    {
     "name": "stdout",
     "output_type": "stream",
     "text": [
      "torch.Size([3, 4])\n"
     ]
    }
   ],
   "source": [
    "a = torch.randn(3, 4)\n",
    "print(a.shape)"
   ]
  },
  {
   "cell_type": "code",
   "execution_count": 42,
   "metadata": {},
   "outputs": [
    {
     "name": "stdout",
     "output_type": "stream",
     "text": [
      "(3, 4)\n"
     ]
    }
   ],
   "source": [
    "b = a.numpy()\n",
    "print(b.shape)"
   ]
  },
  {
   "cell_type": "markdown",
   "metadata": {},
   "source": [
    "# CUDA 사용하기\n",
    "\n",
    "GPU를 이용하여 딥러닝을 학습하기 위해서는 데이터를 GPU로 전송해줘야 한다. \\\n",
    "pytorch에서는 간다하게 GPU연산을 할 수 있도록 함수를 제공해준다."
   ]
  },
  {
   "cell_type": "code",
   "execution_count": 43,
   "metadata": {},
   "outputs": [
    {
     "name": "stdout",
     "output_type": "stream",
     "text": [
      "False\n"
     ]
    }
   ],
   "source": [
    "print(torch.cuda.is_available())"
   ]
  },
  {
   "cell_type": "code",
   "execution_count": 44,
   "metadata": {},
   "outputs": [],
   "source": [
    "device = torch.device('cuda')"
   ]
  },
  {
   "cell_type": "code",
   "execution_count": null,
   "metadata": {},
   "outputs": [],
   "source": []
  }
 ],
 "metadata": {
  "hide_input": false,
  "kernelspec": {
   "display_name": "Python 3",
   "language": "python",
   "name": "python3"
  },
  "language_info": {
   "codemirror_mode": {
    "name": "ipython",
    "version": 3
   },
   "file_extension": ".py",
   "mimetype": "text/x-python",
   "name": "python",
   "nbconvert_exporter": "python",
   "pygments_lexer": "ipython3",
   "version": "3.7.6"
  },
  "toc": {
   "base_numbering": 1,
   "nav_menu": {},
   "number_sections": true,
   "sideBar": true,
   "skip_h1_title": false,
   "title_cell": "Table of Contents",
   "title_sidebar": "Contents",
   "toc_cell": false,
   "toc_position": {},
   "toc_section_display": true,
   "toc_window_display": false
  }
 },
 "nbformat": 4,
 "nbformat_minor": 2
}
