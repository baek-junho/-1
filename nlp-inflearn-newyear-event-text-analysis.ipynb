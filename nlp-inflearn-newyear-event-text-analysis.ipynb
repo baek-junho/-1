{
 "cells": [
  {
   "cell_type": "markdown",
   "metadata": {},
   "source": [
    "## 인프런 2020년 새해 다짐 이벤트 댓글 분석\n",
    "* https://www.inflearn.com/pages/newyear-event-20200102\n",
    "* 영상 튜토리얼 : [댓글 수백 수천개 분석하기?! [1/5] 이벤트 데이터 크롤링 feat. 인프런 새해 다짐 이벤트 - YouTube](https://www.youtube.com/watch?v=OUSwQk79H8I&list=PLaTc2c6yEwmohRzCxWQqJ7Z9aqc-sQ5gC)\n",
    "\n",
    "## 기획자나 마케터가 되어 이벤트 댓글을 분석해 보자!\n",
    "### 내가 만약 수백 수천개의 댓글을 다 읽어봐야 한다면?\n",
    "### 댓글 속에 제품에 대한 관심을 빈도수로 추출해야 한다면?\n",
    "* 쇼핑몰에서 제품 관련 이벤트 진행시 어떤 제품을 고객이 선호하는지 알고 싶다면?\n",
    "* 고객 DB와 연계할 수 있다면 이벤트 혹은 마케팅 세그먼트로 활용해 볼 수도 있지 않을까?\n",
    "\n",
    "### 향후 마케팅이나 전략을 어떻게 세워야 할까?"
   ]
  },
  {
   "cell_type": "markdown",
   "metadata": {},
   "source": [
    "## 라이브러리 로드"
   ]
  },
  {
   "cell_type": "code",
   "execution_count": 1,
   "metadata": {},
   "outputs": [],
   "source": [
    "import pandas as pd\n",
    "import numpy as np\n",
    "import re\n",
    "import matplotlib.pyplot as plt\n",
    "\n",
    "%matplotlib inline\n",
    "# 시각화 결과가 선명하게 표시되도록\n",
    "%config InlineBackend.figure_format = 'retina'"
   ]
  },
  {
   "cell_type": "markdown",
   "metadata": {},
   "source": [
    "## 시각화를 위한 한글폰트 설정"
   ]
  },
  {
   "cell_type": "code",
   "execution_count": 2,
   "metadata": {},
   "outputs": [],
   "source": [
    "# Window 한글폰트 설정\n",
    "plt.rc(\"font\", family=\"Malgun Gothic\")\n",
    "# Mac 한글폰트 설정\n",
    "#plt.rc(\"font\", family=\"AppleGothic\")\n",
    "plt.rc('axes', unicode_minus=False)"
   ]
  },
  {
   "cell_type": "markdown",
   "metadata": {},
   "source": [
    "## 크롤링한 파일 로드하기"
   ]
  },
  {
   "cell_type": "code",
   "execution_count": 45,
   "metadata": {
    "scrolled": true
   },
   "outputs": [
    {
     "data": {
      "text/plain": [
       "(2449, 1)"
      ]
     },
     "execution_count": 45,
     "metadata": {},
     "output_type": "execute_result"
    }
   ],
   "source": [
    "# df 라는 변수에 이벤트 댓글 파일을 로드합니다.\n",
    "df = pd.read_csv('data/inflearn-event.csv')\n",
    "df.shape"
   ]
  },
  {
   "cell_type": "code",
   "execution_count": 46,
   "metadata": {},
   "outputs": [
    {
     "data": {
      "text/html": [
       "<div>\n",
       "<style scoped>\n",
       "    .dataframe tbody tr th:only-of-type {\n",
       "        vertical-align: middle;\n",
       "    }\n",
       "\n",
       "    .dataframe tbody tr th {\n",
       "        vertical-align: top;\n",
       "    }\n",
       "\n",
       "    .dataframe thead th {\n",
       "        text-align: right;\n",
       "    }\n",
       "</style>\n",
       "<table border=\"1\" class=\"dataframe\">\n",
       "  <thead>\n",
       "    <tr style=\"text-align: right;\">\n",
       "      <th></th>\n",
       "      <th>text</th>\n",
       "    </tr>\n",
       "  </thead>\n",
       "  <tbody>\n",
       "    <tr>\n",
       "      <th>0</th>\n",
       "      <td>2020년 목표: 스프링 열심히 공부하서 직장에서 사랑받고 싶어요!!\\n관심 있는 ...</td>\n",
       "    </tr>\n",
       "    <tr>\n",
       "      <th>1</th>\n",
       "      <td>2020년 목표: C++ 열심히 공부해서, 학교에서 꼭 A 맞기..!! \\n관심있는...</td>\n",
       "    </tr>\n",
       "    <tr>\n",
       "      <th>2</th>\n",
       "      <td>2020년 목표 : 리액트 공부하기</td>\n",
       "    </tr>\n",
       "    <tr>\n",
       "      <th>3</th>\n",
       "      <td>40대 프로그래밍 시작! : 우리를 위한 프로그래밍 : 파이썬 중급</td>\n",
       "    </tr>\n",
       "    <tr>\n",
       "      <th>4</th>\n",
       "      <td>2020년 목표 : 돌머리 비전공자가 멋진 전공자 되기!</td>\n",
       "    </tr>\n",
       "  </tbody>\n",
       "</table>\n",
       "</div>"
      ],
      "text/plain": [
       "                                                text\n",
       "0  2020년 목표: 스프링 열심히 공부하서 직장에서 사랑받고 싶어요!!\\n관심 있는 ...\n",
       "1  2020년 목표: C++ 열심히 공부해서, 학교에서 꼭 A 맞기..!! \\n관심있는...\n",
       "2                                2020년 목표 : 리액트 공부하기\n",
       "3              40대 프로그래밍 시작! : 우리를 위한 프로그래밍 : 파이썬 중급\n",
       "4                    2020년 목표 : 돌머리 비전공자가 멋진 전공자 되기!"
      ]
     },
     "execution_count": 46,
     "metadata": {},
     "output_type": "execute_result"
    }
   ],
   "source": [
    "# head 로 미리보기 합니다.\n",
    "df.head()"
   ]
  },
  {
   "cell_type": "code",
   "execution_count": 47,
   "metadata": {},
   "outputs": [
    {
     "data": {
      "text/html": [
       "<div>\n",
       "<style scoped>\n",
       "    .dataframe tbody tr th:only-of-type {\n",
       "        vertical-align: middle;\n",
       "    }\n",
       "\n",
       "    .dataframe tbody tr th {\n",
       "        vertical-align: top;\n",
       "    }\n",
       "\n",
       "    .dataframe thead th {\n",
       "        text-align: right;\n",
       "    }\n",
       "</style>\n",
       "<table border=\"1\" class=\"dataframe\">\n",
       "  <thead>\n",
       "    <tr style=\"text-align: right;\">\n",
       "      <th></th>\n",
       "      <th>text</th>\n",
       "    </tr>\n",
       "  </thead>\n",
       "  <tbody>\n",
       "    <tr>\n",
       "      <th>2444</th>\n",
       "      <td>작년 한해도 일이 바쁘다, 야근해서 힘들다는 핑계로 김영한님의 JPA 강의를 또 스...</td>\n",
       "    </tr>\n",
       "    <tr>\n",
       "      <th>2445</th>\n",
       "      <td>저는 졸업을 1년 남기고 있는 컴퓨터공학과 학생입니다. 졸업 프로젝트로 웹/앱 개발...</td>\n",
       "    </tr>\n",
       "    <tr>\n",
       "      <th>2446</th>\n",
       "      <td>에프터 이펙트를 써본 적은 있는데, 매번 기초만 배우다 말았어요. 이걸 할 줄 안다...</td>\n",
       "    </tr>\n",
       "    <tr>\n",
       "      <th>2447</th>\n",
       "      <td>저번에 인프런에서 페이스북 마케팅 강의를 듣고 많은 도움을 받았습니다. 마케팅 업무...</td>\n",
       "    </tr>\n",
       "    <tr>\n",
       "      <th>2448</th>\n",
       "      <td>인프런 0호 팀원이에요!\\n그동안 서비스 개발 때문에 js 를 많이 했었는데 앞으론...</td>\n",
       "    </tr>\n",
       "  </tbody>\n",
       "</table>\n",
       "</div>"
      ],
      "text/plain": [
       "                                                   text\n",
       "2444  작년 한해도 일이 바쁘다, 야근해서 힘들다는 핑계로 김영한님의 JPA 강의를 또 스...\n",
       "2445  저는 졸업을 1년 남기고 있는 컴퓨터공학과 학생입니다. 졸업 프로젝트로 웹/앱 개발...\n",
       "2446  에프터 이펙트를 써본 적은 있는데, 매번 기초만 배우다 말았어요. 이걸 할 줄 안다...\n",
       "2447  저번에 인프런에서 페이스북 마케팅 강의를 듣고 많은 도움을 받았습니다. 마케팅 업무...\n",
       "2448  인프런 0호 팀원이에요!\\n그동안 서비스 개발 때문에 js 를 많이 했었는데 앞으론..."
      ]
     },
     "execution_count": 47,
     "metadata": {},
     "output_type": "execute_result"
    }
   ],
   "source": [
    "# tail 로 미리보기 합니다.\n",
    "df.tail()"
   ]
  },
  {
   "cell_type": "markdown",
   "metadata": {},
   "source": [
    "## 데이터 전처리"
   ]
  },
  {
   "cell_type": "markdown",
   "metadata": {},
   "source": [
    "### 네트워크 오류 등으로 발생한 중복 입력 값을 제거\n",
    "* 빈도 수 중복을 방지하기 위해"
   ]
  },
  {
   "cell_type": "code",
   "execution_count": 48,
   "metadata": {},
   "outputs": [
    {
     "data": {
      "text/plain": [
       "(2449, 1)"
      ]
     },
     "execution_count": 48,
     "metadata": {},
     "output_type": "execute_result"
    }
   ],
   "source": [
    "df.shape"
   ]
  },
  {
   "cell_type": "code",
   "execution_count": 49,
   "metadata": {},
   "outputs": [
    {
     "data": {
      "text/plain": [
       "(2411, 1)"
      ]
     },
     "execution_count": 49,
     "metadata": {},
     "output_type": "execute_result"
    }
   ],
   "source": [
    "# drop_duplicates 를 통해 중복을 제거합니다. 이때 마지막 글을 남깁니다.\n",
    "df = df.drop_duplicates(keep='last')\n",
    "df.shape"
   ]
  },
  {
   "cell_type": "markdown",
   "metadata": {},
   "source": [
    "### 원본은 따로 보존"
   ]
  },
  {
   "cell_type": "code",
   "execution_count": 50,
   "metadata": {},
   "outputs": [
    {
     "data": {
      "text/html": [
       "<div>\n",
       "<style scoped>\n",
       "    .dataframe tbody tr th:only-of-type {\n",
       "        vertical-align: middle;\n",
       "    }\n",
       "\n",
       "    .dataframe tbody tr th {\n",
       "        vertical-align: top;\n",
       "    }\n",
       "\n",
       "    .dataframe thead th {\n",
       "        text-align: right;\n",
       "    }\n",
       "</style>\n",
       "<table border=\"1\" class=\"dataframe\">\n",
       "  <thead>\n",
       "    <tr style=\"text-align: right;\">\n",
       "      <th></th>\n",
       "      <th>text</th>\n",
       "      <th>origin_text</th>\n",
       "    </tr>\n",
       "  </thead>\n",
       "  <tbody>\n",
       "    <tr>\n",
       "      <th>0</th>\n",
       "      <td>2020년 목표: 스프링 열심히 공부하서 직장에서 사랑받고 싶어요!!\\n관심 있는 ...</td>\n",
       "      <td>2020년 목표: 스프링 열심히 공부하서 직장에서 사랑받고 싶어요!!\\n관심 있는 ...</td>\n",
       "    </tr>\n",
       "    <tr>\n",
       "      <th>1</th>\n",
       "      <td>2020년 목표: C++ 열심히 공부해서, 학교에서 꼭 A 맞기..!! \\n관심있는...</td>\n",
       "      <td>2020년 목표: C++ 열심히 공부해서, 학교에서 꼭 A 맞기..!! \\n관심있는...</td>\n",
       "    </tr>\n",
       "    <tr>\n",
       "      <th>3</th>\n",
       "      <td>40대 프로그래밍 시작! : 우리를 위한 프로그래밍 : 파이썬 중급</td>\n",
       "      <td>40대 프로그래밍 시작! : 우리를 위한 프로그래밍 : 파이썬 중급</td>\n",
       "    </tr>\n",
       "    <tr>\n",
       "      <th>4</th>\n",
       "      <td>2020년 목표 : 돌머리 비전공자가 멋진 전공자 되기!</td>\n",
       "      <td>2020년 목표 : 돌머리 비전공자가 멋진 전공자 되기!</td>\n",
       "    </tr>\n",
       "    <tr>\n",
       "      <th>5</th>\n",
       "      <td>2020 년목표: 비전공자(경영)가 전공자(it) 되기!!!</td>\n",
       "      <td>2020 년목표: 비전공자(경영)가 전공자(it) 되기!!!</td>\n",
       "    </tr>\n",
       "  </tbody>\n",
       "</table>\n",
       "</div>"
      ],
      "text/plain": [
       "                                                text  \\\n",
       "0  2020년 목표: 스프링 열심히 공부하서 직장에서 사랑받고 싶어요!!\\n관심 있는 ...   \n",
       "1  2020년 목표: C++ 열심히 공부해서, 학교에서 꼭 A 맞기..!! \\n관심있는...   \n",
       "3              40대 프로그래밍 시작! : 우리를 위한 프로그래밍 : 파이썬 중급   \n",
       "4                    2020년 목표 : 돌머리 비전공자가 멋진 전공자 되기!   \n",
       "5                  2020 년목표: 비전공자(경영)가 전공자(it) 되기!!!   \n",
       "\n",
       "                                         origin_text  \n",
       "0  2020년 목표: 스프링 열심히 공부하서 직장에서 사랑받고 싶어요!!\\n관심 있는 ...  \n",
       "1  2020년 목표: C++ 열심히 공부해서, 학교에서 꼭 A 맞기..!! \\n관심있는...  \n",
       "3              40대 프로그래밍 시작! : 우리를 위한 프로그래밍 : 파이썬 중급  \n",
       "4                    2020년 목표 : 돌머리 비전공자가 멋진 전공자 되기!  \n",
       "5                  2020 년목표: 비전공자(경영)가 전공자(it) 되기!!!  "
      ]
     },
     "execution_count": 50,
     "metadata": {},
     "output_type": "execute_result"
    }
   ],
   "source": [
    "# 전처리 전에 원본을 보존하기 위해 origin_text 라는 컬럼에 복사해 둡니다.\n",
    "\n",
    "df['origin_text'] = df['text']\n",
    "df.head()"
   ]
  },
  {
   "cell_type": "markdown",
   "metadata": {},
   "source": [
    "### 소문자 변환"
   ]
  },
  {
   "cell_type": "code",
   "execution_count": 51,
   "metadata": {},
   "outputs": [],
   "source": [
    "# \"text\" 파이썬은 대소문자를 구분하기 때문에 데이터 필터링을 위해 대문자를 모두 소문자로 변경\n",
    "\n",
    "df['text'] = df['text'].str.lower()"
   ]
  },
  {
   "cell_type": "code",
   "execution_count": 52,
   "metadata": {
    "scrolled": true
   },
   "outputs": [
    {
     "data": {
      "text/html": [
       "<div>\n",
       "<style scoped>\n",
       "    .dataframe tbody tr th:only-of-type {\n",
       "        vertical-align: middle;\n",
       "    }\n",
       "\n",
       "    .dataframe tbody tr th {\n",
       "        vertical-align: top;\n",
       "    }\n",
       "\n",
       "    .dataframe thead th {\n",
       "        text-align: right;\n",
       "    }\n",
       "</style>\n",
       "<table border=\"1\" class=\"dataframe\">\n",
       "  <thead>\n",
       "    <tr style=\"text-align: right;\">\n",
       "      <th></th>\n",
       "      <th>text</th>\n",
       "      <th>origin_text</th>\n",
       "    </tr>\n",
       "  </thead>\n",
       "  <tbody>\n",
       "    <tr>\n",
       "      <th>3</th>\n",
       "      <td>40대 프로그래밍 시작! : 우리를 위한 프로그래밍 : 파이썬 중급</td>\n",
       "      <td>40대 프로그래밍 시작! : 우리를 위한 프로그래밍 : 파이썬 중급</td>\n",
       "    </tr>\n",
       "    <tr>\n",
       "      <th>18</th>\n",
       "      <td>파이썬 데이터시각화 분석 실전 프로젝트 수강하고 싶어요</td>\n",
       "      <td>파이썬 데이터시각화 분석 실전 프로젝트 수강하고 싶어요</td>\n",
       "    </tr>\n",
       "    <tr>\n",
       "      <th>21</th>\n",
       "      <td>머신러닝 제대로 배워보고 싶습니다.\\n#관심강의 : 파이썬 머신러닝 완벽가이드</td>\n",
       "      <td>머신러닝 제대로 배워보고 싶습니다.\\n#관심강의 : 파이썬 머신러닝 완벽가이드</td>\n",
       "    </tr>\n",
       "    <tr>\n",
       "      <th>25</th>\n",
       "      <td>#관심강의: 프로그래밍 시작하기 : 파이썬 입문, 공공데이터로 파이썬 데이터 분석 ...</td>\n",
       "      <td>#관심강의: 프로그래밍 시작하기 : 파이썬 입문, 공공데이터로 파이썬 데이터 분석 ...</td>\n",
       "    </tr>\n",
       "    <tr>\n",
       "      <th>29</th>\n",
       "      <td>자바기반 웹 개발자입니다. 데이터 분석에 많이 쓰이는 파이썬이 궁금합니다.\\n#관심...</td>\n",
       "      <td>자바기반 웹 개발자입니다. 데이터 분석에 많이 쓰이는 Python이 궁금합니다.\\n...</td>\n",
       "    </tr>\n",
       "  </tbody>\n",
       "</table>\n",
       "</div>"
      ],
      "text/plain": [
       "                                                 text  \\\n",
       "3               40대 프로그래밍 시작! : 우리를 위한 프로그래밍 : 파이썬 중급   \n",
       "18                     파이썬 데이터시각화 분석 실전 프로젝트 수강하고 싶어요   \n",
       "21        머신러닝 제대로 배워보고 싶습니다.\\n#관심강의 : 파이썬 머신러닝 완벽가이드   \n",
       "25  #관심강의: 프로그래밍 시작하기 : 파이썬 입문, 공공데이터로 파이썬 데이터 분석 ...   \n",
       "29  자바기반 웹 개발자입니다. 데이터 분석에 많이 쓰이는 파이썬이 궁금합니다.\\n#관심...   \n",
       "\n",
       "                                          origin_text  \n",
       "3               40대 프로그래밍 시작! : 우리를 위한 프로그래밍 : 파이썬 중급  \n",
       "18                     파이썬 데이터시각화 분석 실전 프로젝트 수강하고 싶어요  \n",
       "21        머신러닝 제대로 배워보고 싶습니다.\\n#관심강의 : 파이썬 머신러닝 완벽가이드  \n",
       "25  #관심강의: 프로그래밍 시작하기 : 파이썬 입문, 공공데이터로 파이썬 데이터 분석 ...  \n",
       "29  자바기반 웹 개발자입니다. 데이터 분석에 많이 쓰이는 Python이 궁금합니다.\\n...  "
      ]
     },
     "execution_count": 52,
     "metadata": {},
     "output_type": "execute_result"
    }
   ],
   "source": [
    "# 같은 의미의 단어를 하나로 통일 예) python => 파이썬\n",
    "# replace 는 텍스트가 완전히 일치될 때만 사용할 수 있습니다.\n",
    "# 일부만 일치한다면 str.replace 를 사용하면 원하는 텍스트로 변경이 가능합니다.\n",
    "\n",
    "df['text'] = df['text'].str.replace('python', '파이썬')\n",
    "df[df['text'].str.contains('파이썬')].head()"
   ]
  },
  {
   "cell_type": "code",
   "execution_count": 53,
   "metadata": {},
   "outputs": [
    {
     "data": {
      "text/plain": [
       "{'python': '파이썬',\n",
       " 'java': '자바',\n",
       " 'react': '리액트',\n",
       " 'node': '노드',\n",
       " 'javascript': '자바스크립트'}"
      ]
     },
     "execution_count": 53,
     "metadata": {},
     "output_type": "execute_result"
    }
   ],
   "source": [
    "lang = {\n",
    "    'python': '파이썬',\n",
    "    'java': '자바',\n",
    "    'react': '리액트',\n",
    "    'node': '노드',\n",
    "    'javascript': '자바스크립트',\n",
    "}\n",
    "lang"
   ]
  },
  {
   "cell_type": "code",
   "execution_count": 54,
   "metadata": {},
   "outputs": [
    {
     "name": "stdout",
     "output_type": "stream",
     "text": [
      "python 파이썬\n",
      "java 자바\n",
      "react 리액트\n",
      "node 노드\n",
      "javascript 자바스크립트\n"
     ]
    }
   ],
   "source": [
    "for lang_name in lang:\n",
    "    print(lang_name, lang[lang_name])\n",
    "    df['text'] = df['text'].str.replace(lang_name, lang[lang_name])"
   ]
  },
  {
   "cell_type": "code",
   "execution_count": 55,
   "metadata": {},
   "outputs": [
    {
     "data": {
      "text/html": [
       "<div>\n",
       "<style scoped>\n",
       "    .dataframe tbody tr th:only-of-type {\n",
       "        vertical-align: middle;\n",
       "    }\n",
       "\n",
       "    .dataframe tbody tr th {\n",
       "        vertical-align: top;\n",
       "    }\n",
       "\n",
       "    .dataframe thead th {\n",
       "        text-align: right;\n",
       "    }\n",
       "</style>\n",
       "<table border=\"1\" class=\"dataframe\">\n",
       "  <thead>\n",
       "    <tr style=\"text-align: right;\">\n",
       "      <th></th>\n",
       "      <th>text</th>\n",
       "      <th>origin_text</th>\n",
       "    </tr>\n",
       "  </thead>\n",
       "  <tbody>\n",
       "    <tr>\n",
       "      <th>3</th>\n",
       "      <td>40대 프로그래밍 시작! : 우리를 위한 프로그래밍 : 파이썬 중급</td>\n",
       "      <td>40대 프로그래밍 시작! : 우리를 위한 프로그래밍 : 파이썬 중급</td>\n",
       "    </tr>\n",
       "    <tr>\n",
       "      <th>6</th>\n",
       "      <td>2020년 목표 : 리액트 공부하기, 스프링 공부하기</td>\n",
       "      <td>2020년 목표 : 리액트 공부하기, 스프링 공부하기</td>\n",
       "    </tr>\n",
       "    <tr>\n",
       "      <th>7</th>\n",
       "      <td>2020년에는 아이티 마스터가 되기 관심강의 리액트\\n#관심강의 : 리액트로 노드b...</td>\n",
       "      <td>2020년에는 아이티 마스터가 되기 관심강의 리액트\\n#관심강의 : React로 N...</td>\n",
       "    </tr>\n",
       "    <tr>\n",
       "      <th>8</th>\n",
       "      <td>2020년에는 아이티 마스터가 되기 관심강의 리액트</td>\n",
       "      <td>2020년에는 아이티 마스터가 되기 관심강의 리액트</td>\n",
       "    </tr>\n",
       "    <tr>\n",
       "      <th>12</th>\n",
       "      <td>2020년 목표 : 리액트 공부하기</td>\n",
       "      <td>2020년 목표 : 리액트 공부하기</td>\n",
       "    </tr>\n",
       "    <tr>\n",
       "      <th>17</th>\n",
       "      <td>자바 공부 마스터 하고 싶습니다.   더 자바, 코드를 조작하는 다양한 방법</td>\n",
       "      <td>자바 공부 마스터 하고 싶습니다.   더 자바, 코드를 조작하는 다양한 방법</td>\n",
       "    </tr>\n",
       "    <tr>\n",
       "      <th>18</th>\n",
       "      <td>파이썬 데이터시각화 분석 실전 프로젝트 수강하고 싶어요</td>\n",
       "      <td>파이썬 데이터시각화 분석 실전 프로젝트 수강하고 싶어요</td>\n",
       "    </tr>\n",
       "    <tr>\n",
       "      <th>21</th>\n",
       "      <td>머신러닝 제대로 배워보고 싶습니다.\\n#관심강의 : 파이썬 머신러닝 완벽가이드</td>\n",
       "      <td>머신러닝 제대로 배워보고 싶습니다.\\n#관심강의 : 파이썬 머신러닝 완벽가이드</td>\n",
       "    </tr>\n",
       "    <tr>\n",
       "      <th>22</th>\n",
       "      <td>querydsl 시리즈를 통해 회사 팀원 교육을 진행할 생각입니다.\\n#관심강의 :...</td>\n",
       "      <td>QueryDSL 시리즈를 통해 회사 팀원 교육을 진행할 생각입니다.\\n#관심강의 :...</td>\n",
       "    </tr>\n",
       "    <tr>\n",
       "      <th>23</th>\n",
       "      <td>next.js로 서버사이드 렌더링에 익숙해지고싶네요.  \\n#관심강의 : 리액트로 ...</td>\n",
       "      <td>Next.js로 서버사이드 렌더링에 익숙해지고싶네요.  \\n#관심강의 : React...</td>\n",
       "    </tr>\n",
       "  </tbody>\n",
       "</table>\n",
       "</div>"
      ],
      "text/plain": [
       "                                                 text  \\\n",
       "3               40대 프로그래밍 시작! : 우리를 위한 프로그래밍 : 파이썬 중급   \n",
       "6                       2020년 목표 : 리액트 공부하기, 스프링 공부하기   \n",
       "7   2020년에는 아이티 마스터가 되기 관심강의 리액트\\n#관심강의 : 리액트로 노드b...   \n",
       "8                        2020년에는 아이티 마스터가 되기 관심강의 리액트   \n",
       "12                                2020년 목표 : 리액트 공부하기   \n",
       "17         자바 공부 마스터 하고 싶습니다.   더 자바, 코드를 조작하는 다양한 방법   \n",
       "18                     파이썬 데이터시각화 분석 실전 프로젝트 수강하고 싶어요   \n",
       "21        머신러닝 제대로 배워보고 싶습니다.\\n#관심강의 : 파이썬 머신러닝 완벽가이드   \n",
       "22  querydsl 시리즈를 통해 회사 팀원 교육을 진행할 생각입니다.\\n#관심강의 :...   \n",
       "23  next.js로 서버사이드 렌더링에 익숙해지고싶네요.  \\n#관심강의 : 리액트로 ...   \n",
       "\n",
       "                                          origin_text  \n",
       "3               40대 프로그래밍 시작! : 우리를 위한 프로그래밍 : 파이썬 중급  \n",
       "6                       2020년 목표 : 리액트 공부하기, 스프링 공부하기  \n",
       "7   2020년에는 아이티 마스터가 되기 관심강의 리액트\\n#관심강의 : React로 N...  \n",
       "8                        2020년에는 아이티 마스터가 되기 관심강의 리액트  \n",
       "12                                2020년 목표 : 리액트 공부하기  \n",
       "17         자바 공부 마스터 하고 싶습니다.   더 자바, 코드를 조작하는 다양한 방법  \n",
       "18                     파이썬 데이터시각화 분석 실전 프로젝트 수강하고 싶어요  \n",
       "21        머신러닝 제대로 배워보고 싶습니다.\\n#관심강의 : 파이썬 머신러닝 완벽가이드  \n",
       "22  QueryDSL 시리즈를 통해 회사 팀원 교육을 진행할 생각입니다.\\n#관심강의 :...  \n",
       "23  Next.js로 서버사이드 렌더링에 익숙해지고싶네요.  \\n#관심강의 : React...  "
      ]
     },
     "execution_count": 55,
     "metadata": {},
     "output_type": "execute_result"
    }
   ],
   "source": [
    "df[df['text'].str.contains('파이썬|자바|리액트')].head(10)"
   ]
  },
  {
   "cell_type": "markdown",
   "metadata": {},
   "source": [
    "### 텍스트로 관심 강의 분리"
   ]
  },
  {
   "cell_type": "code",
   "execution_count": 56,
   "metadata": {
    "scrolled": true
   },
   "outputs": [],
   "source": [
    "# 이 이벤트에는 \"관심강의\"라는 텍스트가 있습니다.\n",
    "# \"관심강의\"를 기준으로 텍스트를 분리하고 관심강의 뒤에 있는 텍스트를 가져옵니다.\n",
    "# 대부분 \"관심강의\"라는 텍스트를 쓰고 뒤에 강의명을 쓰기 때문입니다.\n",
    "# 전처리한 내용은 실수를 방지하기 위해 \"course\" 라는 새로운 컬럼에 담습니다.\n",
    "# \"관심 강의\", \"관심 강좌\" 에 대해서도 똑같이 전처리 합니다.\n",
    "# \":\" 특수문자를 빈문자로 바꿔줍니다.\n",
    "\n",
    "df['course'] = df['text'].map(lambda x: x.split('관심강의')[-1]) # 관심강의가 들어가면 뒤에꺼가 가져오고 아니면 문장전체가 나옴\n",
    "df['course'] = df['course'].map(lambda x: x.split('관심강좌')[-1])\n",
    "df['course'] = df['course'].map(lambda x: x.split('관심 강좌')[-1])\n",
    "df['course'] = df['course'].map(lambda x: x.split('관심 강의')[-1])\n",
    "df['course'] = df['course'].str.replace(':', \"\")\n",
    "df['course'] = df['course'].str.strip() # 앞뒤로 공백제거"
   ]
  },
  {
   "cell_type": "code",
   "execution_count": 57,
   "metadata": {},
   "outputs": [
    {
     "data": {
      "text/html": [
       "<div>\n",
       "<style scoped>\n",
       "    .dataframe tbody tr th:only-of-type {\n",
       "        vertical-align: middle;\n",
       "    }\n",
       "\n",
       "    .dataframe tbody tr th {\n",
       "        vertical-align: top;\n",
       "    }\n",
       "\n",
       "    .dataframe thead th {\n",
       "        text-align: right;\n",
       "    }\n",
       "</style>\n",
       "<table border=\"1\" class=\"dataframe\">\n",
       "  <thead>\n",
       "    <tr style=\"text-align: right;\">\n",
       "      <th></th>\n",
       "      <th>text</th>\n",
       "      <th>course</th>\n",
       "    </tr>\n",
       "  </thead>\n",
       "  <tbody>\n",
       "    <tr>\n",
       "      <th>0</th>\n",
       "      <td>2020년 목표: 스프링 열심히 공부하서 직장에서 사랑받고 싶어요!!\\n관심 있는 ...</td>\n",
       "      <td>2020년 목표 스프링 열심히 공부하서 직장에서 사랑받고 싶어요!!\\n관심 있는 강...</td>\n",
       "    </tr>\n",
       "    <tr>\n",
       "      <th>1</th>\n",
       "      <td>2020년 목표: c++ 열심히 공부해서, 학교에서 꼭 a 맞기..!! \\n관심있는...</td>\n",
       "      <td>2020년 목표 c++ 열심히 공부해서, 학교에서 꼭 a 맞기..!! \\n관심있는 ...</td>\n",
       "    </tr>\n",
       "    <tr>\n",
       "      <th>3</th>\n",
       "      <td>40대 프로그래밍 시작! : 우리를 위한 프로그래밍 : 파이썬 중급</td>\n",
       "      <td>40대 프로그래밍 시작!  우리를 위한 프로그래밍  파이썬 중급</td>\n",
       "    </tr>\n",
       "    <tr>\n",
       "      <th>4</th>\n",
       "      <td>2020년 목표 : 돌머리 비전공자가 멋진 전공자 되기!</td>\n",
       "      <td>2020년 목표  돌머리 비전공자가 멋진 전공자 되기!</td>\n",
       "    </tr>\n",
       "    <tr>\n",
       "      <th>5</th>\n",
       "      <td>2020 년목표: 비전공자(경영)가 전공자(it) 되기!!!</td>\n",
       "      <td>2020 년목표 비전공자(경영)가 전공자(it) 되기!!!</td>\n",
       "    </tr>\n",
       "    <tr>\n",
       "      <th>6</th>\n",
       "      <td>2020년 목표 : 리액트 공부하기, 스프링 공부하기</td>\n",
       "      <td>2020년 목표  리액트 공부하기, 스프링 공부하기</td>\n",
       "    </tr>\n",
       "    <tr>\n",
       "      <th>7</th>\n",
       "      <td>2020년에는 아이티 마스터가 되기 관심강의 리액트\\n#관심강의 : 리액트로 노드b...</td>\n",
       "      <td>리액트로 노드bird sns 만들기</td>\n",
       "    </tr>\n",
       "    <tr>\n",
       "      <th>8</th>\n",
       "      <td>2020년에는 아이티 마스터가 되기 관심강의 리액트</td>\n",
       "      <td>리액트</td>\n",
       "    </tr>\n",
       "    <tr>\n",
       "      <th>9</th>\n",
       "      <td>2020년 더욱 성장하는 올해가 되었으면 합니다 !! ㅎㅎㅎㅎ \\n관심강의 : op...</td>\n",
       "      <td>open cv ,  dl(tensorflow, keras, etc. ), nlp</td>\n",
       "    </tr>\n",
       "    <tr>\n",
       "      <th>10</th>\n",
       "      <td>올해는 작년보다 더 성장하길\\n관심강의: 선형대수학개론</td>\n",
       "      <td>선형대수학개론</td>\n",
       "    </tr>\n",
       "  </tbody>\n",
       "</table>\n",
       "</div>"
      ],
      "text/plain": [
       "                                                 text  \\\n",
       "0   2020년 목표: 스프링 열심히 공부하서 직장에서 사랑받고 싶어요!!\\n관심 있는 ...   \n",
       "1   2020년 목표: c++ 열심히 공부해서, 학교에서 꼭 a 맞기..!! \\n관심있는...   \n",
       "3               40대 프로그래밍 시작! : 우리를 위한 프로그래밍 : 파이썬 중급   \n",
       "4                     2020년 목표 : 돌머리 비전공자가 멋진 전공자 되기!   \n",
       "5                   2020 년목표: 비전공자(경영)가 전공자(it) 되기!!!   \n",
       "6                       2020년 목표 : 리액트 공부하기, 스프링 공부하기   \n",
       "7   2020년에는 아이티 마스터가 되기 관심강의 리액트\\n#관심강의 : 리액트로 노드b...   \n",
       "8                        2020년에는 아이티 마스터가 되기 관심강의 리액트   \n",
       "9   2020년 더욱 성장하는 올해가 되었으면 합니다 !! ㅎㅎㅎㅎ \\n관심강의 : op...   \n",
       "10                     올해는 작년보다 더 성장하길\\n관심강의: 선형대수학개론   \n",
       "\n",
       "                                               course  \n",
       "0   2020년 목표 스프링 열심히 공부하서 직장에서 사랑받고 싶어요!!\\n관심 있는 강...  \n",
       "1   2020년 목표 c++ 열심히 공부해서, 학교에서 꼭 a 맞기..!! \\n관심있는 ...  \n",
       "3                 40대 프로그래밍 시작!  우리를 위한 프로그래밍  파이썬 중급  \n",
       "4                      2020년 목표  돌머리 비전공자가 멋진 전공자 되기!  \n",
       "5                    2020 년목표 비전공자(경영)가 전공자(it) 되기!!!  \n",
       "6                        2020년 목표  리액트 공부하기, 스프링 공부하기  \n",
       "7                                 리액트로 노드bird sns 만들기  \n",
       "8                                                 리액트  \n",
       "9        open cv ,  dl(tensorflow, keras, etc. ), nlp  \n",
       "10                                            선형대수학개론  "
      ]
     },
     "execution_count": 57,
     "metadata": {},
     "output_type": "execute_result"
    }
   ],
   "source": [
    "# \"text\", \"course\" 전처리 내용 미리보기\n",
    "\n",
    "df[['text', 'course']].head(10)"
   ]
  },
  {
   "cell_type": "markdown",
   "metadata": {},
   "source": [
    "## 띄어 쓰기를 제거한 텍스트에서 키워드 추출\n",
    "* TIOBE 프로그래밍 언어 순위 : [index | TIOBE - The Software Quality Company](https://www.tiobe.com/tiobe-index/?fbclid=IwAR34dJfgDHq2DK0C6X3g8IsUno2NhOiikMyxT6fw9SoyujFhy5FPvQogMoA)"
   ]
  },
  {
   "cell_type": "code",
   "execution_count": 58,
   "metadata": {},
   "outputs": [],
   "source": [
    "# 특정 키워드가 들어가는 댓글을 찾습니다.\n",
    "search_keyword = ['머신러닝', '딥러닝', '파이썬', '판다스', '공공데이터',\n",
    "                  'django', '크롤링', '시각화', '데이터분석', \n",
    "                  '웹개발', '엑셀', 'c', '자바', '자바스크립트', \n",
    "                  '노드', 'vue', '리액트']\n",
    "\n",
    "# for 문을 통해 해당 키워드가 있는지 여부를 True, False값으로 표시하도록 합니다.\n",
    "# 키워드에 따라 컬럼을 새로 만듭니다.\n",
    "for sword in search_keyword:\n",
    "    df[sword] = df['text'].str.contains(sword)"
   ]
  },
  {
   "cell_type": "code",
   "execution_count": 59,
   "metadata": {},
   "outputs": [
    {
     "data": {
      "text/plain": [
       "머신러닝      155\n",
       "딥러닝        74\n",
       "파이썬       429\n",
       "판다스         4\n",
       "공공데이터      12\n",
       "django     32\n",
       "크롤링        59\n",
       "시각화        30\n",
       "데이터분석      36\n",
       "웹개발        58\n",
       "엑셀         19\n",
       "c         547\n",
       "자바        421\n",
       "자바스크립트     86\n",
       "노드        137\n",
       "vue       146\n",
       "리액트       153\n",
       "dtype: int64"
      ]
     },
     "execution_count": 59,
     "metadata": {},
     "output_type": "execute_result"
    }
   ],
   "source": [
    "# 미리보기 합니다.\n",
    "\n",
    "# df['머신러닝'].sum()\n",
    "df[search_keyword].sum()"
   ]
  },
  {
   "cell_type": "code",
   "execution_count": 60,
   "metadata": {
    "scrolled": true
   },
   "outputs": [
    {
     "data": {
      "text/html": [
       "<div>\n",
       "<style scoped>\n",
       "    .dataframe tbody tr th:only-of-type {\n",
       "        vertical-align: middle;\n",
       "    }\n",
       "\n",
       "    .dataframe tbody tr th {\n",
       "        vertical-align: top;\n",
       "    }\n",
       "\n",
       "    .dataframe thead th {\n",
       "        text-align: right;\n",
       "    }\n",
       "</style>\n",
       "<table border=\"1\" class=\"dataframe\">\n",
       "  <thead>\n",
       "    <tr style=\"text-align: right;\">\n",
       "      <th></th>\n",
       "      <th>text</th>\n",
       "      <th>origin_text</th>\n",
       "      <th>course</th>\n",
       "      <th>머신러닝</th>\n",
       "      <th>딥러닝</th>\n",
       "      <th>파이썬</th>\n",
       "      <th>판다스</th>\n",
       "      <th>공공데이터</th>\n",
       "      <th>django</th>\n",
       "      <th>크롤링</th>\n",
       "      <th>시각화</th>\n",
       "      <th>데이터분석</th>\n",
       "      <th>웹개발</th>\n",
       "      <th>엑셀</th>\n",
       "      <th>c</th>\n",
       "      <th>자바</th>\n",
       "      <th>자바스크립트</th>\n",
       "      <th>노드</th>\n",
       "      <th>vue</th>\n",
       "      <th>리액트</th>\n",
       "    </tr>\n",
       "  </thead>\n",
       "  <tbody>\n",
       "    <tr>\n",
       "      <th>3</th>\n",
       "      <td>40대 프로그래밍 시작! : 우리를 위한 프로그래밍 : 파이썬 중급</td>\n",
       "      <td>40대 프로그래밍 시작! : 우리를 위한 프로그래밍 : 파이썬 중급</td>\n",
       "      <td>40대 프로그래밍 시작!  우리를 위한 프로그래밍  파이썬 중급</td>\n",
       "      <td>False</td>\n",
       "      <td>False</td>\n",
       "      <td>True</td>\n",
       "      <td>False</td>\n",
       "      <td>False</td>\n",
       "      <td>False</td>\n",
       "      <td>False</td>\n",
       "      <td>False</td>\n",
       "      <td>False</td>\n",
       "      <td>False</td>\n",
       "      <td>False</td>\n",
       "      <td>False</td>\n",
       "      <td>False</td>\n",
       "      <td>False</td>\n",
       "      <td>False</td>\n",
       "      <td>False</td>\n",
       "      <td>False</td>\n",
       "    </tr>\n",
       "    <tr>\n",
       "      <th>18</th>\n",
       "      <td>파이썬 데이터시각화 분석 실전 프로젝트 수강하고 싶어요</td>\n",
       "      <td>파이썬 데이터시각화 분석 실전 프로젝트 수강하고 싶어요</td>\n",
       "      <td>파이썬 데이터시각화 분석 실전 프로젝트 수강하고 싶어요</td>\n",
       "      <td>False</td>\n",
       "      <td>False</td>\n",
       "      <td>True</td>\n",
       "      <td>False</td>\n",
       "      <td>False</td>\n",
       "      <td>False</td>\n",
       "      <td>False</td>\n",
       "      <td>True</td>\n",
       "      <td>False</td>\n",
       "      <td>False</td>\n",
       "      <td>False</td>\n",
       "      <td>False</td>\n",
       "      <td>False</td>\n",
       "      <td>False</td>\n",
       "      <td>False</td>\n",
       "      <td>False</td>\n",
       "      <td>False</td>\n",
       "    </tr>\n",
       "    <tr>\n",
       "      <th>21</th>\n",
       "      <td>머신러닝 제대로 배워보고 싶습니다.\\n#관심강의 : 파이썬 머신러닝 완벽가이드</td>\n",
       "      <td>머신러닝 제대로 배워보고 싶습니다.\\n#관심강의 : 파이썬 머신러닝 완벽가이드</td>\n",
       "      <td>파이썬 머신러닝 완벽가이드</td>\n",
       "      <td>True</td>\n",
       "      <td>False</td>\n",
       "      <td>True</td>\n",
       "      <td>False</td>\n",
       "      <td>False</td>\n",
       "      <td>False</td>\n",
       "      <td>False</td>\n",
       "      <td>False</td>\n",
       "      <td>False</td>\n",
       "      <td>False</td>\n",
       "      <td>False</td>\n",
       "      <td>False</td>\n",
       "      <td>False</td>\n",
       "      <td>False</td>\n",
       "      <td>False</td>\n",
       "      <td>False</td>\n",
       "      <td>False</td>\n",
       "    </tr>\n",
       "    <tr>\n",
       "      <th>25</th>\n",
       "      <td>#관심강의: 프로그래밍 시작하기 : 파이썬 입문, 공공데이터로 파이썬 데이터 분석 ...</td>\n",
       "      <td>#관심강의: 프로그래밍 시작하기 : 파이썬 입문, 공공데이터로 파이썬 데이터 분석 ...</td>\n",
       "      <td>프로그래밍 시작하기  파이썬 입문, 공공데이터로 파이썬 데이터 분석 시작하기\\n파이...</td>\n",
       "      <td>False</td>\n",
       "      <td>False</td>\n",
       "      <td>True</td>\n",
       "      <td>False</td>\n",
       "      <td>True</td>\n",
       "      <td>False</td>\n",
       "      <td>False</td>\n",
       "      <td>False</td>\n",
       "      <td>False</td>\n",
       "      <td>False</td>\n",
       "      <td>False</td>\n",
       "      <td>False</td>\n",
       "      <td>False</td>\n",
       "      <td>False</td>\n",
       "      <td>False</td>\n",
       "      <td>False</td>\n",
       "      <td>False</td>\n",
       "    </tr>\n",
       "    <tr>\n",
       "      <th>29</th>\n",
       "      <td>자바기반 웹 개발자입니다. 데이터 분석에 많이 쓰이는 파이썬이 궁금합니다.\\n#관심...</td>\n",
       "      <td>자바기반 웹 개발자입니다. 데이터 분석에 많이 쓰이는 Python이 궁금합니다.\\n...</td>\n",
       "      <td>프로그래밍 시작하기  파이썬 입문, 공공데이터로 파이썬 데이터 분석 시작하기</td>\n",
       "      <td>False</td>\n",
       "      <td>False</td>\n",
       "      <td>True</td>\n",
       "      <td>False</td>\n",
       "      <td>True</td>\n",
       "      <td>False</td>\n",
       "      <td>False</td>\n",
       "      <td>False</td>\n",
       "      <td>False</td>\n",
       "      <td>False</td>\n",
       "      <td>False</td>\n",
       "      <td>False</td>\n",
       "      <td>True</td>\n",
       "      <td>False</td>\n",
       "      <td>False</td>\n",
       "      <td>False</td>\n",
       "      <td>False</td>\n",
       "    </tr>\n",
       "    <tr>\n",
       "      <th>...</th>\n",
       "      <td>...</td>\n",
       "      <td>...</td>\n",
       "      <td>...</td>\n",
       "      <td>...</td>\n",
       "      <td>...</td>\n",
       "      <td>...</td>\n",
       "      <td>...</td>\n",
       "      <td>...</td>\n",
       "      <td>...</td>\n",
       "      <td>...</td>\n",
       "      <td>...</td>\n",
       "      <td>...</td>\n",
       "      <td>...</td>\n",
       "      <td>...</td>\n",
       "      <td>...</td>\n",
       "      <td>...</td>\n",
       "      <td>...</td>\n",
       "      <td>...</td>\n",
       "      <td>...</td>\n",
       "      <td>...</td>\n",
       "    </tr>\n",
       "    <tr>\n",
       "      <th>2427</th>\n",
       "      <td>마음으로는 모든 강의가 듣고싶지만, 한가지씩 해나가고싶습니다. 우선은 파이썬부터 시...</td>\n",
       "      <td>마음으로는 모든 강의가 듣고싶지만, 한가지씩 해나가고싶습니다. 우선은 파이썬부터 시...</td>\n",
       "      <td>파이썬 사용자를 위한 웹개발 입문 a to z django + bootstrap</td>\n",
       "      <td>False</td>\n",
       "      <td>False</td>\n",
       "      <td>True</td>\n",
       "      <td>False</td>\n",
       "      <td>False</td>\n",
       "      <td>True</td>\n",
       "      <td>False</td>\n",
       "      <td>False</td>\n",
       "      <td>False</td>\n",
       "      <td>True</td>\n",
       "      <td>False</td>\n",
       "      <td>False</td>\n",
       "      <td>False</td>\n",
       "      <td>False</td>\n",
       "      <td>False</td>\n",
       "      <td>False</td>\n",
       "      <td>False</td>\n",
       "    </tr>\n",
       "    <tr>\n",
       "      <th>2432</th>\n",
       "      <td>주니어개발자입니다. 토이프로젝트를 꼭 해보고 싶습니다. 올해엔 자바스크립트기초를 탄...</td>\n",
       "      <td>주니어개발자입니다. 토이프로젝트를 꼭 해보고 싶습니다. 올해엔 자바스크립트기초를 탄...</td>\n",
       "      <td>파이썬입문과 크롤링기초 부트캠프 [쉽게! 하지만, 견고한 자료로!],노드.js로 웹...</td>\n",
       "      <td>False</td>\n",
       "      <td>False</td>\n",
       "      <td>True</td>\n",
       "      <td>False</td>\n",
       "      <td>False</td>\n",
       "      <td>False</td>\n",
       "      <td>True</td>\n",
       "      <td>False</td>\n",
       "      <td>False</td>\n",
       "      <td>False</td>\n",
       "      <td>False</td>\n",
       "      <td>False</td>\n",
       "      <td>True</td>\n",
       "      <td>True</td>\n",
       "      <td>True</td>\n",
       "      <td>False</td>\n",
       "      <td>False</td>\n",
       "    </tr>\n",
       "    <tr>\n",
       "      <th>2435</th>\n",
       "      <td>올해는 파이썬과 r을 자유롭게 사용하고 싶어요..\\n데이타 마이닝과, 업무능률향상 ...</td>\n",
       "      <td>올해는 파이썬과 R을 자유롭게 사용하고 싶어요..\\n데이타 마이닝과, 업무능률향상 ...</td>\n",
       "      <td>올해는 파이썬과 r을 자유롭게 사용하고 싶어요..\\n데이타 마이닝과, 업무능률향상 ...</td>\n",
       "      <td>False</td>\n",
       "      <td>False</td>\n",
       "      <td>True</td>\n",
       "      <td>False</td>\n",
       "      <td>False</td>\n",
       "      <td>False</td>\n",
       "      <td>False</td>\n",
       "      <td>False</td>\n",
       "      <td>False</td>\n",
       "      <td>False</td>\n",
       "      <td>False</td>\n",
       "      <td>False</td>\n",
       "      <td>False</td>\n",
       "      <td>False</td>\n",
       "      <td>False</td>\n",
       "      <td>False</td>\n",
       "      <td>False</td>\n",
       "    </tr>\n",
       "    <tr>\n",
       "      <th>2447</th>\n",
       "      <td>저번에 인프런에서 페이스북 마케팅 강의를 듣고 많은 도움을 받았습니다. 마케팅 업무...</td>\n",
       "      <td>저번에 인프런에서 페이스북 마케팅 강의를 듣고 많은 도움을 받았습니다. 마케팅 업무...</td>\n",
       "      <td>파이썬 입문 및 웹 크롤링을 활용한 다양한 자동화 어플리케이션 제작하기</td>\n",
       "      <td>False</td>\n",
       "      <td>False</td>\n",
       "      <td>True</td>\n",
       "      <td>False</td>\n",
       "      <td>False</td>\n",
       "      <td>False</td>\n",
       "      <td>True</td>\n",
       "      <td>False</td>\n",
       "      <td>True</td>\n",
       "      <td>False</td>\n",
       "      <td>False</td>\n",
       "      <td>False</td>\n",
       "      <td>False</td>\n",
       "      <td>False</td>\n",
       "      <td>False</td>\n",
       "      <td>False</td>\n",
       "      <td>False</td>\n",
       "    </tr>\n",
       "    <tr>\n",
       "      <th>2448</th>\n",
       "      <td>인프런 0호 팀원이에요!\\n그동안 서비스 개발 때문에 js 를 많이 했었는데 앞으론...</td>\n",
       "      <td>인프런 0호 팀원이에요!\\n그동안 서비스 개발 때문에 js 를 많이 했었는데 앞으론...</td>\n",
       "      <td>남박사의 파이썬 활용</td>\n",
       "      <td>False</td>\n",
       "      <td>False</td>\n",
       "      <td>True</td>\n",
       "      <td>False</td>\n",
       "      <td>False</td>\n",
       "      <td>False</td>\n",
       "      <td>False</td>\n",
       "      <td>False</td>\n",
       "      <td>False</td>\n",
       "      <td>False</td>\n",
       "      <td>False</td>\n",
       "      <td>False</td>\n",
       "      <td>False</td>\n",
       "      <td>False</td>\n",
       "      <td>False</td>\n",
       "      <td>False</td>\n",
       "      <td>False</td>\n",
       "    </tr>\n",
       "  </tbody>\n",
       "</table>\n",
       "<p>429 rows × 20 columns</p>\n",
       "</div>"
      ],
      "text/plain": [
       "                                                   text  \\\n",
       "3                 40대 프로그래밍 시작! : 우리를 위한 프로그래밍 : 파이썬 중급   \n",
       "18                       파이썬 데이터시각화 분석 실전 프로젝트 수강하고 싶어요   \n",
       "21          머신러닝 제대로 배워보고 싶습니다.\\n#관심강의 : 파이썬 머신러닝 완벽가이드   \n",
       "25    #관심강의: 프로그래밍 시작하기 : 파이썬 입문, 공공데이터로 파이썬 데이터 분석 ...   \n",
       "29    자바기반 웹 개발자입니다. 데이터 분석에 많이 쓰이는 파이썬이 궁금합니다.\\n#관심...   \n",
       "...                                                 ...   \n",
       "2427  마음으로는 모든 강의가 듣고싶지만, 한가지씩 해나가고싶습니다. 우선은 파이썬부터 시...   \n",
       "2432  주니어개발자입니다. 토이프로젝트를 꼭 해보고 싶습니다. 올해엔 자바스크립트기초를 탄...   \n",
       "2435  올해는 파이썬과 r을 자유롭게 사용하고 싶어요..\\n데이타 마이닝과, 업무능률향상 ...   \n",
       "2447  저번에 인프런에서 페이스북 마케팅 강의를 듣고 많은 도움을 받았습니다. 마케팅 업무...   \n",
       "2448  인프런 0호 팀원이에요!\\n그동안 서비스 개발 때문에 js 를 많이 했었는데 앞으론...   \n",
       "\n",
       "                                            origin_text  \\\n",
       "3                 40대 프로그래밍 시작! : 우리를 위한 프로그래밍 : 파이썬 중급   \n",
       "18                       파이썬 데이터시각화 분석 실전 프로젝트 수강하고 싶어요   \n",
       "21          머신러닝 제대로 배워보고 싶습니다.\\n#관심강의 : 파이썬 머신러닝 완벽가이드   \n",
       "25    #관심강의: 프로그래밍 시작하기 : 파이썬 입문, 공공데이터로 파이썬 데이터 분석 ...   \n",
       "29    자바기반 웹 개발자입니다. 데이터 분석에 많이 쓰이는 Python이 궁금합니다.\\n...   \n",
       "...                                                 ...   \n",
       "2427  마음으로는 모든 강의가 듣고싶지만, 한가지씩 해나가고싶습니다. 우선은 파이썬부터 시...   \n",
       "2432  주니어개발자입니다. 토이프로젝트를 꼭 해보고 싶습니다. 올해엔 자바스크립트기초를 탄...   \n",
       "2435  올해는 파이썬과 R을 자유롭게 사용하고 싶어요..\\n데이타 마이닝과, 업무능률향상 ...   \n",
       "2447  저번에 인프런에서 페이스북 마케팅 강의를 듣고 많은 도움을 받았습니다. 마케팅 업무...   \n",
       "2448  인프런 0호 팀원이에요!\\n그동안 서비스 개발 때문에 js 를 많이 했었는데 앞으론...   \n",
       "\n",
       "                                                 course   머신러닝    딥러닝   파이썬  \\\n",
       "3                   40대 프로그래밍 시작!  우리를 위한 프로그래밍  파이썬 중급  False  False  True   \n",
       "18                       파이썬 데이터시각화 분석 실전 프로젝트 수강하고 싶어요  False  False  True   \n",
       "21                                       파이썬 머신러닝 완벽가이드   True  False  True   \n",
       "25    프로그래밍 시작하기  파이썬 입문, 공공데이터로 파이썬 데이터 분석 시작하기\\n파이...  False  False  True   \n",
       "29           프로그래밍 시작하기  파이썬 입문, 공공데이터로 파이썬 데이터 분석 시작하기  False  False  True   \n",
       "...                                                 ...    ...    ...   ...   \n",
       "2427       파이썬 사용자를 위한 웹개발 입문 a to z django + bootstrap  False  False  True   \n",
       "2432  파이썬입문과 크롤링기초 부트캠프 [쉽게! 하지만, 견고한 자료로!],노드.js로 웹...  False  False  True   \n",
       "2435  올해는 파이썬과 r을 자유롭게 사용하고 싶어요..\\n데이타 마이닝과, 업무능률향상 ...  False  False  True   \n",
       "2447            파이썬 입문 및 웹 크롤링을 활용한 다양한 자동화 어플리케이션 제작하기  False  False  True   \n",
       "2448                                        남박사의 파이썬 활용  False  False  True   \n",
       "\n",
       "        판다스  공공데이터  django    크롤링    시각화  데이터분석    웹개발     엑셀      c     자바  \\\n",
       "3     False  False   False  False  False  False  False  False  False  False   \n",
       "18    False  False   False  False   True  False  False  False  False  False   \n",
       "21    False  False   False  False  False  False  False  False  False  False   \n",
       "25    False   True   False  False  False  False  False  False  False  False   \n",
       "29    False   True   False  False  False  False  False  False  False   True   \n",
       "...     ...    ...     ...    ...    ...    ...    ...    ...    ...    ...   \n",
       "2427  False  False    True  False  False  False   True  False  False  False   \n",
       "2432  False  False   False   True  False  False  False  False  False   True   \n",
       "2435  False  False   False  False  False  False  False  False  False  False   \n",
       "2447  False  False   False   True  False   True  False  False  False  False   \n",
       "2448  False  False   False  False  False  False  False  False  False  False   \n",
       "\n",
       "      자바스크립트     노드    vue    리액트  \n",
       "3      False  False  False  False  \n",
       "18     False  False  False  False  \n",
       "21     False  False  False  False  \n",
       "25     False  False  False  False  \n",
       "29     False  False  False  False  \n",
       "...      ...    ...    ...    ...  \n",
       "2427   False  False  False  False  \n",
       "2432    True   True  False  False  \n",
       "2435   False  False  False  False  \n",
       "2447   False  False  False  False  \n",
       "2448   False  False  False  False  \n",
       "\n",
       "[429 rows x 20 columns]"
      ]
     },
     "execution_count": 60,
     "metadata": {},
     "output_type": "execute_result"
    }
   ],
   "source": [
    "# 파이썬|공공데이터|판다스 라는 텍스트가 들어가는 데이터가 있는지 찾습니다.\n",
    "\n",
    "df[df['text'].str.contains('파이썬|공공데이터|판다스')]"
   ]
  },
  {
   "cell_type": "code",
   "execution_count": 62,
   "metadata": {
    "scrolled": true
   },
   "outputs": [
    {
     "data": {
      "text/plain": [
       "c         547\n",
       "파이썬       429\n",
       "자바        421\n",
       "머신러닝      155\n",
       "리액트       153\n",
       "vue       146\n",
       "노드        137\n",
       "자바스크립트     86\n",
       "딥러닝        74\n",
       "크롤링        59\n",
       "웹개발        58\n",
       "데이터분석      36\n",
       "django     32\n",
       "시각화        30\n",
       "엑셀         19\n",
       "공공데이터      12\n",
       "판다스         4\n",
       "dtype: int64"
      ]
     },
     "execution_count": 62,
     "metadata": {},
     "output_type": "execute_result"
    }
   ],
   "source": [
    "# 결과를 모두 더하면 해당 키워드의 등장 빈도수를 카운트 할 수 있습니다.\n",
    "# search_keyword 컬럼만 가져와서 빈도수를 sum으로 더합니다.\n",
    "\n",
    "df[search_keyword].sum().sort_values(ascending=False)"
   ]
  },
  {
   "cell_type": "code",
   "execution_count": 82,
   "metadata": {},
   "outputs": [
    {
     "name": "stdout",
     "output_type": "stream",
     "text": [
      "0 자바 공부 마스터 하고 싶습니다.   더 자바, 코드를 조작하는 다양한 방법\n",
      "1 querydsl 시리즈를 통해 회사 팀원 교육을 진행할 생각입니다.\n",
      "#관심강의 : 자바 orm 표준 jpa 프로그래밍\n",
      "2 자바기반 웹 개발자입니다. 데이터 분석에 많이 쓰이는 파이썬이 궁금합니다.\n",
      "#관심강의: 프로그래밍 시작하기 : 파이썬 입문, 공공데이터로 파이썬 데이터 분석 시작하기\n",
      "3 자바스크립트를 더 공부하고 싶습니다.\n",
      "#관심강의 : 함수형 프로그래밍과 자바script es6+ ,함수형 프로그래밍과 자바script es6+ 응용편\n",
      "4 자바를 공부하려고 가입했습니다. 영역을 더 넓혀 나갑시다~\n"
     ]
    }
   ],
   "source": [
    "# 공공데이터 텍스트가 들어가는 문장만 찾습니다.\n",
    "# pandas 를 통해 볼때 문장이 길면 끝까지 보이지 않습니다.\n",
    "# 문장의 전체를 보기 위해 for문을 통해 해당 텍스트를 순회하며 출력합니다.\n",
    "# 이 때, 데이터 사이에 ------ 줄로 구분해서 표시하도록 합니다.\n",
    "\n",
    "pub_data = df.loc[df['text'].str.contains('자바') & ~df['text'].str.contains('자바스크리트'), 'text']\n",
    "for num, pub_text in enumerate(pub_data[:5]):\n",
    "    # print(\"-\"=20)  이거 왜 안되냐\n",
    "    print(num, pub_text)"
   ]
  },
  {
   "cell_type": "markdown",
   "metadata": {},
   "source": [
    "## 판다스 단어가 들어가는 텍스트만 찾기\n",
    "* 이미 str.contains 를 통해 판다스가 들어가는 텍스트에 대해 컬럼을 만들어 놨습니다. 이 값이  True 라면 판다스 강좌 입니다."
   ]
  },
  {
   "cell_type": "code",
   "execution_count": 83,
   "metadata": {
    "scrolled": true
   },
   "outputs": [
    {
     "data": {
      "text/html": [
       "<div>\n",
       "<style scoped>\n",
       "    .dataframe tbody tr th:only-of-type {\n",
       "        vertical-align: middle;\n",
       "    }\n",
       "\n",
       "    .dataframe tbody tr th {\n",
       "        vertical-align: top;\n",
       "    }\n",
       "\n",
       "    .dataframe thead th {\n",
       "        text-align: right;\n",
       "    }\n",
       "</style>\n",
       "<table border=\"1\" class=\"dataframe\">\n",
       "  <thead>\n",
       "    <tr style=\"text-align: right;\">\n",
       "      <th></th>\n",
       "      <th>text</th>\n",
       "      <th>origin_text</th>\n",
       "      <th>course</th>\n",
       "      <th>머신러닝</th>\n",
       "      <th>딥러닝</th>\n",
       "      <th>파이썬</th>\n",
       "      <th>판다스</th>\n",
       "      <th>공공데이터</th>\n",
       "      <th>django</th>\n",
       "      <th>크롤링</th>\n",
       "      <th>시각화</th>\n",
       "      <th>데이터분석</th>\n",
       "      <th>웹개발</th>\n",
       "      <th>엑셀</th>\n",
       "      <th>c</th>\n",
       "      <th>자바</th>\n",
       "      <th>자바스크립트</th>\n",
       "      <th>노드</th>\n",
       "      <th>vue</th>\n",
       "      <th>리액트</th>\n",
       "    </tr>\n",
       "  </thead>\n",
       "  <tbody>\n",
       "    <tr>\n",
       "      <th>690</th>\n",
       "      <td>취미로 안드로이드 개발하는 사람입니다. 자바로 작성하다 보니, kotlin이 안드로...</td>\n",
       "      <td>취미로 안드로이드 개발하는 사람입니다. java로 작성하다 보니, kotlin이 안...</td>\n",
       "      <td>kotlin, pandas, 파이썬, c언어</td>\n",
       "      <td>False</td>\n",
       "      <td>False</td>\n",
       "      <td>True</td>\n",
       "      <td>False</td>\n",
       "      <td>False</td>\n",
       "      <td>False</td>\n",
       "      <td>False</td>\n",
       "      <td>False</td>\n",
       "      <td>False</td>\n",
       "      <td>False</td>\n",
       "      <td>False</td>\n",
       "      <td>True</td>\n",
       "      <td>True</td>\n",
       "      <td>False</td>\n",
       "      <td>False</td>\n",
       "      <td>False</td>\n",
       "      <td>False</td>\n",
       "    </tr>\n",
       "    <tr>\n",
       "      <th>758</th>\n",
       "      <td>pandas 라입러리에 관심이 많아서 배워보려 합니다 #관심강의 : 박조은 - pa...</td>\n",
       "      <td>pandas 라입러리에 관심이 많아서 배워보려 합니다 #관심강의 : 박조은 - pa...</td>\n",
       "      <td>박조은 - pandas</td>\n",
       "      <td>False</td>\n",
       "      <td>False</td>\n",
       "      <td>False</td>\n",
       "      <td>False</td>\n",
       "      <td>False</td>\n",
       "      <td>False</td>\n",
       "      <td>False</td>\n",
       "      <td>False</td>\n",
       "      <td>False</td>\n",
       "      <td>False</td>\n",
       "      <td>False</td>\n",
       "      <td>False</td>\n",
       "      <td>False</td>\n",
       "      <td>False</td>\n",
       "      <td>False</td>\n",
       "      <td>False</td>\n",
       "      <td>False</td>\n",
       "    </tr>\n",
       "  </tbody>\n",
       "</table>\n",
       "</div>"
      ],
      "text/plain": [
       "                                                  text  \\\n",
       "690  취미로 안드로이드 개발하는 사람입니다. 자바로 작성하다 보니, kotlin이 안드로...   \n",
       "758  pandas 라입러리에 관심이 많아서 배워보려 합니다 #관심강의 : 박조은 - pa...   \n",
       "\n",
       "                                           origin_text  \\\n",
       "690  취미로 안드로이드 개발하는 사람입니다. java로 작성하다 보니, kotlin이 안...   \n",
       "758  pandas 라입러리에 관심이 많아서 배워보려 합니다 #관심강의 : 박조은 - pa...   \n",
       "\n",
       "                       course   머신러닝    딥러닝    파이썬    판다스  공공데이터  django  \\\n",
       "690  kotlin, pandas, 파이썬, c언어  False  False   True  False  False   False   \n",
       "758              박조은 - pandas  False  False  False  False  False   False   \n",
       "\n",
       "       크롤링    시각화  데이터분석    웹개발     엑셀      c     자바  자바스크립트     노드    vue  \\\n",
       "690  False  False  False  False  False   True   True   False  False  False   \n",
       "758  False  False  False  False  False  False  False   False  False  False   \n",
       "\n",
       "       리액트  \n",
       "690  False  \n",
       "758  False  "
      ]
     },
     "execution_count": 83,
     "metadata": {},
     "output_type": "execute_result"
    }
   ],
   "source": [
    "# pandas 라는 텍스트가 들어가는 내용만 찾습니다.\n",
    "\n",
    "df[df['course'].str.contains('pandas')]"
   ]
  },
  {
   "cell_type": "markdown",
   "metadata": {},
   "source": [
    "## 빈도수 계산을 위한 텍스트 데이터 벡터화\n",
    "* BOW 단어 가방에 단어를 토큰화 해서 담아줌\n",
    "\n",
    "### BOW(bag of words)\n",
    "* 가장 간단하지만 효과적이라 널리쓰이는 방법\n",
    "* 장, 문단, 문장, 서식과 같은 입력 텍스트의 구조를 제외하고 각 단어가 이 말뭉치에 얼마나 많이 나타나는지만 헤아립니다.\n",
    "* 구조와 상관없이 단어의 출현횟수만 세기 때문에 텍스트를 담는 가방(bag)으로 생각할 수 있습니다.\n",
    "* BOW는 단어의 순서가 완전히 무시 된다는 단점이 있다. 예를 들어 의미가 완전히 반대인 두 문장이 있다고 합니다.\n",
    "    - `it's bad, not good at all.` \n",
    "    - `it's good, not bad at all.` \n",
    "* 위 두 문장은 의미가 전혀 반대지만 완전히 동일하게 반환됩니다.\n",
    "* 이를 보완하기 위해 n-gram을 사용하는 데 BOW는 하나의 토큰을 사용하지만 n-gram은 n개의 토큰을 사용할 수 있도록 합니다.\n",
    "* min_df는 문서에 특정 단어가 최소 몇 번 이상 문서에 등장하는 단어를 가방에 담겠다는 의미입니다.\n",
    "\n",
    "* [Bag-of-words model - Wikipedia](https://en.wikipedia.org/wiki/Bag-of-words_model)\n",
    "\n",
    "### 사이킷런의 CountVectorizer를 통해 벡터화\n",
    "* 미리 전처리 해둔 텍스트 데이터로 벡터화 합니다.\n",
    "* 모두 소문자로 변환시키기 때문에 영어의 경우 good, Good, gOod이 모두 같은 특성이 됩니다.\n",
    "* 의미없는 특성을 많이 생성하기 때문에 적어도 두 번이상 문서에 나타난 토큰만을 사용한다.\n",
    "* [6.2. Feature extraction — scikit-learn 0.22.2 documentation](https://scikit-learn.org/stable/modules/feature_extraction.html#text-feature-extraction)\n",
    "* [sklearn.feature_extraction.text.CountVectorizer — scikit-learn 0.22.2 documentation](https://scikit-learn.org/stable/modules/generated/sklearn.feature_extraction.text.CountVectorizer.html)"
   ]
  },
  {
   "cell_type": "code",
   "execution_count": 84,
   "metadata": {},
   "outputs": [
    {
     "data": {
      "text/plain": [
       "['파이썬', '데이터', '분석']"
      ]
     },
     "execution_count": 84,
     "metadata": {},
     "output_type": "execute_result"
    }
   ],
   "source": [
    "# \"파이썬 데이터 분석\" 이라는 텍스트를 토큰화 split 을 통해 해봅니다.\n",
    "\"파이썬 데이터 분석\".split()"
   ]
  },
  {
   "cell_type": "code",
   "execution_count": 90,
   "metadata": {},
   "outputs": [
    {
     "data": {
      "text/plain": [
       "CountVectorizer(analyzer='word', binary=False, decode_error='strict',\n",
       "                dtype=<class 'numpy.int64'>, encoding='utf-8', input='content',\n",
       "                lowercase=True, max_df=1.0, max_features=2000, min_df=1,\n",
       "                ngram_range=(3, 6), preprocessor=None, stop_words=None,\n",
       "                strip_accents=None, token_pattern='(?u)\\\\b\\\\w\\\\w+\\\\b',\n",
       "                tokenizer=None, vocabulary=None)"
      ]
     },
     "execution_count": 90,
     "metadata": {},
     "output_type": "execute_result"
    }
   ],
   "source": [
    "# 사이킷런의 CountVectorizer 를 통해 벡터화 합니다.\n",
    "# vectorizer 라는 변수에 CountVectorizer 를 담습니다.\n",
    "# analyzer = 'word', # 캐릭터 단위로 벡터화 할 수도 있습니다.\n",
    "# tokenizer = None, # 토크나이저를 따로 지정해 줄 수도 있습니다.\n",
    "# preprocessor = None, # 전처리 도구\n",
    "# stop_words = None, # 불용어 nltk등의 도구를 사용할 수도 있습니다.\n",
    "# min_df = 2, # 토큰이 나타날 최소 문서 개수로 오타나 자주 나오지 않는 특수한 전문용어 제거에 좋습니다. \n",
    "# ngram_range=(3, 6), # BOW의 단위 갯수의 범위를 지정합니다.\n",
    "# max_features = 2000 # 만들 피처의 수, 단어의 수\n",
    "\n",
    "from sklearn.feature_extraction.text import CountVectorizer\n",
    "vectorizer = CountVectorizer(max_features=2000, ngram_range=(3,6))\n",
    "vectorizer"
   ]
  },
  {
   "cell_type": "code",
   "execution_count": 92,
   "metadata": {},
   "outputs": [
    {
     "name": "stdout",
     "output_type": "stream",
     "text": [
      "[[0 0 0 ... 0 0 0]\n",
      " [0 0 0 ... 0 0 0]\n",
      " [0 0 0 ... 0 0 0]\n",
      " ...\n",
      " [0 0 0 ... 0 0 0]\n",
      " [0 0 0 ... 0 0 0]\n",
      " [0 0 0 ... 0 0 0]]\n"
     ]
    }
   ],
   "source": [
    "# df['course'] 만 vectorizer로 벡터화 합니다. 결과를 feature_vector 변수에 할당합니다.\n",
    "corpus = df['course']\n",
    "\n",
    "X = vectorizer.fit_transform(corpus)\n",
    "# print(vectorizer.get_feature_names())\n",
    "\n",
    "print(X.toarray())\n"
   ]
  },
  {
   "cell_type": "code",
   "execution_count": 94,
   "metadata": {},
   "outputs": [
    {
     "name": "stdout",
     "output_type": "stream",
     "text": [
      "2000\n"
     ]
    },
    {
     "data": {
      "text/plain": [
       "['12개 만들면서 배우는',\n",
       " '12개 만들면서 배우는 ios',\n",
       " '12개 만들면서 배우는 ios 아이폰',\n",
       " '12개 만들면서 배우는 ios 아이폰 개발',\n",
       " '12개를 만들며 배우는',\n",
       " '12개를 만들며 배우는 swift4',\n",
       " '12개를 만들며 배우는 swift4 ios11',\n",
       " '12개를 만들며 배우는 swift4 ios11 아이폰',\n",
       " '2018 do it',\n",
       " '2018 do it 안드로이드']"
      ]
     },
     "execution_count": 94,
     "metadata": {},
     "output_type": "execute_result"
    }
   ],
   "source": [
    "# vectorizer 에서 get_feature_names 를 추출합니다.\n",
    "# vocab 이라는 변수에 할당해서 재사용 합니다.\n",
    "vocab = vectorizer.get_feature_names()\n",
    "print(len(vocab))\n",
    "vocab[:10]"
   ]
  },
  {
   "cell_type": "code",
   "execution_count": 96,
   "metadata": {},
   "outputs": [
    {
     "data": {
      "text/html": [
       "<div>\n",
       "<style scoped>\n",
       "    .dataframe tbody tr th:only-of-type {\n",
       "        vertical-align: middle;\n",
       "    }\n",
       "\n",
       "    .dataframe tbody tr th {\n",
       "        vertical-align: top;\n",
       "    }\n",
       "\n",
       "    .dataframe thead th {\n",
       "        text-align: right;\n",
       "    }\n",
       "</style>\n",
       "<table border=\"1\" class=\"dataframe\">\n",
       "  <thead>\n",
       "    <tr style=\"text-align: right;\">\n",
       "      <th></th>\n",
       "      <th>12개 만들면서 배우는</th>\n",
       "      <th>12개 만들면서 배우는 ios</th>\n",
       "      <th>12개 만들면서 배우는 ios 아이폰</th>\n",
       "      <th>12개 만들면서 배우는 ios 아이폰 개발</th>\n",
       "      <th>12개를 만들며 배우는</th>\n",
       "      <th>12개를 만들며 배우는 swift4</th>\n",
       "      <th>12개를 만들며 배우는 swift4 ios11</th>\n",
       "      <th>12개를 만들며 배우는 swift4 ios11 아이폰</th>\n",
       "      <th>2018 do it</th>\n",
       "      <th>2018 do it 안드로이드</th>\n",
       "      <th>...</th>\n",
       "      <th>활용한 다양한 자동화 어플리케이션</th>\n",
       "      <th>활용한 다양한 자동화 어플리케이션 제작하기</th>\n",
       "      <th>활용한 데이터분석과 it보안</th>\n",
       "      <th>활용한 리액트 native</th>\n",
       "      <th>활용한 리액트 native 개발</th>\n",
       "      <th>활용한 메신져 만들기</th>\n",
       "      <th>활용한 메신져 만들기 android</th>\n",
       "      <th>활용한 파이썬 프로그래밍</th>\n",
       "      <th>활용한 파이썬 프로그래밍 완벽</th>\n",
       "      <th>활용한 파이썬 프로그래밍 완벽 이해</th>\n",
       "    </tr>\n",
       "  </thead>\n",
       "  <tbody>\n",
       "    <tr>\n",
       "      <th>0</th>\n",
       "      <td>0</td>\n",
       "      <td>0</td>\n",
       "      <td>0</td>\n",
       "      <td>0</td>\n",
       "      <td>0</td>\n",
       "      <td>0</td>\n",
       "      <td>0</td>\n",
       "      <td>0</td>\n",
       "      <td>0</td>\n",
       "      <td>0</td>\n",
       "      <td>...</td>\n",
       "      <td>0</td>\n",
       "      <td>0</td>\n",
       "      <td>0</td>\n",
       "      <td>0</td>\n",
       "      <td>0</td>\n",
       "      <td>0</td>\n",
       "      <td>0</td>\n",
       "      <td>0</td>\n",
       "      <td>0</td>\n",
       "      <td>0</td>\n",
       "    </tr>\n",
       "    <tr>\n",
       "      <th>1</th>\n",
       "      <td>0</td>\n",
       "      <td>0</td>\n",
       "      <td>0</td>\n",
       "      <td>0</td>\n",
       "      <td>0</td>\n",
       "      <td>0</td>\n",
       "      <td>0</td>\n",
       "      <td>0</td>\n",
       "      <td>0</td>\n",
       "      <td>0</td>\n",
       "      <td>...</td>\n",
       "      <td>0</td>\n",
       "      <td>0</td>\n",
       "      <td>0</td>\n",
       "      <td>0</td>\n",
       "      <td>0</td>\n",
       "      <td>0</td>\n",
       "      <td>0</td>\n",
       "      <td>0</td>\n",
       "      <td>0</td>\n",
       "      <td>0</td>\n",
       "    </tr>\n",
       "    <tr>\n",
       "      <th>2</th>\n",
       "      <td>0</td>\n",
       "      <td>0</td>\n",
       "      <td>0</td>\n",
       "      <td>0</td>\n",
       "      <td>0</td>\n",
       "      <td>0</td>\n",
       "      <td>0</td>\n",
       "      <td>0</td>\n",
       "      <td>0</td>\n",
       "      <td>0</td>\n",
       "      <td>...</td>\n",
       "      <td>0</td>\n",
       "      <td>0</td>\n",
       "      <td>0</td>\n",
       "      <td>0</td>\n",
       "      <td>0</td>\n",
       "      <td>0</td>\n",
       "      <td>0</td>\n",
       "      <td>0</td>\n",
       "      <td>0</td>\n",
       "      <td>0</td>\n",
       "    </tr>\n",
       "    <tr>\n",
       "      <th>3</th>\n",
       "      <td>0</td>\n",
       "      <td>0</td>\n",
       "      <td>0</td>\n",
       "      <td>0</td>\n",
       "      <td>0</td>\n",
       "      <td>0</td>\n",
       "      <td>0</td>\n",
       "      <td>0</td>\n",
       "      <td>0</td>\n",
       "      <td>0</td>\n",
       "      <td>...</td>\n",
       "      <td>0</td>\n",
       "      <td>0</td>\n",
       "      <td>0</td>\n",
       "      <td>0</td>\n",
       "      <td>0</td>\n",
       "      <td>0</td>\n",
       "      <td>0</td>\n",
       "      <td>0</td>\n",
       "      <td>0</td>\n",
       "      <td>0</td>\n",
       "    </tr>\n",
       "    <tr>\n",
       "      <th>4</th>\n",
       "      <td>0</td>\n",
       "      <td>0</td>\n",
       "      <td>0</td>\n",
       "      <td>0</td>\n",
       "      <td>0</td>\n",
       "      <td>0</td>\n",
       "      <td>0</td>\n",
       "      <td>0</td>\n",
       "      <td>0</td>\n",
       "      <td>0</td>\n",
       "      <td>...</td>\n",
       "      <td>0</td>\n",
       "      <td>0</td>\n",
       "      <td>0</td>\n",
       "      <td>0</td>\n",
       "      <td>0</td>\n",
       "      <td>0</td>\n",
       "      <td>0</td>\n",
       "      <td>0</td>\n",
       "      <td>0</td>\n",
       "      <td>0</td>\n",
       "    </tr>\n",
       "  </tbody>\n",
       "</table>\n",
       "<p>5 rows × 2000 columns</p>\n",
       "</div>"
      ],
      "text/plain": [
       "   12개 만들면서 배우는  12개 만들면서 배우는 ios  12개 만들면서 배우는 ios 아이폰  \\\n",
       "0             0                 0                     0   \n",
       "1             0                 0                     0   \n",
       "2             0                 0                     0   \n",
       "3             0                 0                     0   \n",
       "4             0                 0                     0   \n",
       "\n",
       "   12개 만들면서 배우는 ios 아이폰 개발  12개를 만들며 배우는  12개를 만들며 배우는 swift4  \\\n",
       "0                        0             0                    0   \n",
       "1                        0             0                    0   \n",
       "2                        0             0                    0   \n",
       "3                        0             0                    0   \n",
       "4                        0             0                    0   \n",
       "\n",
       "   12개를 만들며 배우는 swift4 ios11  12개를 만들며 배우는 swift4 ios11 아이폰  2018 do it  \\\n",
       "0                          0                              0           0   \n",
       "1                          0                              0           0   \n",
       "2                          0                              0           0   \n",
       "3                          0                              0           0   \n",
       "4                          0                              0           0   \n",
       "\n",
       "   2018 do it 안드로이드  ...  활용한 다양한 자동화 어플리케이션  활용한 다양한 자동화 어플리케이션 제작하기  \\\n",
       "0                 0  ...                   0                        0   \n",
       "1                 0  ...                   0                        0   \n",
       "2                 0  ...                   0                        0   \n",
       "3                 0  ...                   0                        0   \n",
       "4                 0  ...                   0                        0   \n",
       "\n",
       "   활용한 데이터분석과 it보안  활용한 리액트 native  활용한 리액트 native 개발  활용한 메신져 만들기  \\\n",
       "0                0               0                  0            0   \n",
       "1                0               0                  0            0   \n",
       "2                0               0                  0            0   \n",
       "3                0               0                  0            0   \n",
       "4                0               0                  0            0   \n",
       "\n",
       "   활용한 메신져 만들기 android  활용한 파이썬 프로그래밍  활용한 파이썬 프로그래밍 완벽  활용한 파이썬 프로그래밍 완벽 이해  \n",
       "0                    0              0                 0                    0  \n",
       "1                    0              0                 0                    0  \n",
       "2                    0              0                 0                    0  \n",
       "3                    0              0                 0                    0  \n",
       "4                    0              0                 0                    0  \n",
       "\n",
       "[5 rows x 2000 columns]"
      ]
     },
     "execution_count": 96,
     "metadata": {},
     "output_type": "execute_result"
    }
   ],
   "source": [
    "# 각 리뷰마다 등장하는 단어에 빈도수가 표현됩니다. 0 은 등장하지 않음을 의미합니다.\n",
    "# feature_vector[:10].toarray() 를 가져와 데이터프레임으로 만들고 컬럼명은 vocab 으로 지정합니다.\n",
    "\n",
    "df_vocab = pd.DataFrame(X.toarray())\n",
    "df_vocab.columns = vocab\n",
    "df_vocab.head()"
   ]
  },
  {
   "cell_type": "code",
   "execution_count": 103,
   "metadata": {},
   "outputs": [
    {
     "data": {
      "text/html": [
       "<div>\n",
       "<style scoped>\n",
       "    .dataframe tbody tr th:only-of-type {\n",
       "        vertical-align: middle;\n",
       "    }\n",
       "\n",
       "    .dataframe tbody tr th {\n",
       "        vertical-align: top;\n",
       "    }\n",
       "\n",
       "    .dataframe thead th {\n",
       "        text-align: right;\n",
       "    }\n",
       "</style>\n",
       "<table border=\"1\" class=\"dataframe\">\n",
       "  <thead>\n",
       "    <tr style=\"text-align: right;\">\n",
       "      <th></th>\n",
       "      <th>0</th>\n",
       "    </tr>\n",
       "  </thead>\n",
       "  <tbody>\n",
       "    <tr>\n",
       "      <th>홍정모의 따라하며 배우는</th>\n",
       "      <td>100</td>\n",
       "    </tr>\n",
       "    <tr>\n",
       "      <th>노드bird sns 만들기</th>\n",
       "      <td>60</td>\n",
       "    </tr>\n",
       "    <tr>\n",
       "      <th>스프링 데이터 jpa</th>\n",
       "      <td>60</td>\n",
       "    </tr>\n",
       "    <tr>\n",
       "      <th>리액트로 노드bird sns</th>\n",
       "      <td>49</td>\n",
       "    </tr>\n",
       "    <tr>\n",
       "      <th>머신러닝 완벽 가이드</th>\n",
       "      <td>49</td>\n",
       "    </tr>\n",
       "    <tr>\n",
       "      <th>리액트로 노드bird sns 만들기</th>\n",
       "      <td>49</td>\n",
       "    </tr>\n",
       "    <tr>\n",
       "      <th>파이썬 머신러닝 완벽</th>\n",
       "      <td>49</td>\n",
       "    </tr>\n",
       "    <tr>\n",
       "      <th>함수형 프로그래밍과 자바script es6</th>\n",
       "      <td>48</td>\n",
       "    </tr>\n",
       "    <tr>\n",
       "      <th>프로그래밍과 자바script es6</th>\n",
       "      <td>48</td>\n",
       "    </tr>\n",
       "    <tr>\n",
       "      <th>함수형 프로그래밍과 자바script</th>\n",
       "      <td>48</td>\n",
       "    </tr>\n",
       "    <tr>\n",
       "      <th>파이썬 머신러닝 완벽 가이드</th>\n",
       "      <td>48</td>\n",
       "    </tr>\n",
       "    <tr>\n",
       "      <th>2020년 공부 목표</th>\n",
       "      <td>47</td>\n",
       "    </tr>\n",
       "    <tr>\n",
       "      <th>스프링 부트와 jpa</th>\n",
       "      <td>40</td>\n",
       "    </tr>\n",
       "    <tr>\n",
       "      <th>실전 스프링 부트와 jpa</th>\n",
       "      <td>39</td>\n",
       "    </tr>\n",
       "    <tr>\n",
       "      <th>관심있는 인프런 강의명</th>\n",
       "      <td>39</td>\n",
       "    </tr>\n",
       "    <tr>\n",
       "      <th>실전 스프링 부트와</th>\n",
       "      <td>39</td>\n",
       "    </tr>\n",
       "    <tr>\n",
       "      <th>부트 개념과 활용</th>\n",
       "      <td>36</td>\n",
       "    </tr>\n",
       "    <tr>\n",
       "      <th>스프링 부트 개념과</th>\n",
       "      <td>35</td>\n",
       "    </tr>\n",
       "    <tr>\n",
       "      <th>orm 표준 jpa</th>\n",
       "      <td>34</td>\n",
       "    </tr>\n",
       "    <tr>\n",
       "      <th>표준 jpa 프로그래밍</th>\n",
       "      <td>34</td>\n",
       "    </tr>\n",
       "  </tbody>\n",
       "</table>\n",
       "</div>"
      ],
      "text/plain": [
       "                           0\n",
       "홍정모의 따라하며 배우는            100\n",
       "노드bird sns 만들기            60\n",
       "스프링 데이터 jpa               60\n",
       "리액트로 노드bird sns           49\n",
       "머신러닝 완벽 가이드               49\n",
       "리액트로 노드bird sns 만들기       49\n",
       "파이썬 머신러닝 완벽               49\n",
       "함수형 프로그래밍과 자바script es6   48\n",
       "프로그래밍과 자바script es6       48\n",
       "함수형 프로그래밍과 자바script       48\n",
       "파이썬 머신러닝 완벽 가이드           48\n",
       "2020년 공부 목표               47\n",
       "스프링 부트와 jpa               40\n",
       "실전 스프링 부트와 jpa            39\n",
       "관심있는 인프런 강의명              39\n",
       "실전 스프링 부트와                39\n",
       "부트 개념과 활용                 36\n",
       "스프링 부트 개념과                35\n",
       "orm 표준 jpa                34\n",
       "표준 jpa 프로그래밍              34"
      ]
     },
     "execution_count": 103,
     "metadata": {},
     "output_type": "execute_result"
    }
   ],
   "source": [
    "# 위에서 구한 단어벡터를  np.sum으로 더하면 단어가 전체에서 등장하는 횟수를 알 수 있습니다.\n",
    "# 벡터화 된 피처를 확인해 봅니다.\n",
    "# Bag of words 에 몇 개의 단어가 들어있는지 확인합니다.\n",
    "\n",
    "df_vocab_sum = pd.DataFrame(df_vocab.sum()).sort_values(by=0, ascending=False)\n",
    "df_vocab_sum.head(20)"
   ]
  },
  {
   "cell_type": "code",
   "execution_count": 104,
   "metadata": {},
   "outputs": [
    {
     "data": {
      "text/html": [
       "<div>\n",
       "<style scoped>\n",
       "    .dataframe tbody tr th:only-of-type {\n",
       "        vertical-align: middle;\n",
       "    }\n",
       "\n",
       "    .dataframe tbody tr th {\n",
       "        vertical-align: top;\n",
       "    }\n",
       "\n",
       "    .dataframe thead th {\n",
       "        text-align: right;\n",
       "    }\n",
       "</style>\n",
       "<table border=\"1\" class=\"dataframe\">\n",
       "  <thead>\n",
       "    <tr style=\"text-align: right;\">\n",
       "      <th></th>\n",
       "      <th>홍정모의 따라하며 배우는</th>\n",
       "      <th>노드bird sns 만들기</th>\n",
       "      <th>스프링 데이터 jpa</th>\n",
       "      <th>리액트로 노드bird sns</th>\n",
       "      <th>머신러닝 완벽 가이드</th>\n",
       "      <th>리액트로 노드bird sns 만들기</th>\n",
       "      <th>파이썬 머신러닝 완벽</th>\n",
       "      <th>함수형 프로그래밍과 자바script es6</th>\n",
       "      <th>프로그래밍과 자바script es6</th>\n",
       "      <th>함수형 프로그래밍과 자바script</th>\n",
       "      <th>...</th>\n",
       "      <th>방법 스프링 데이터 jpa 스프링</th>\n",
       "      <th>방법 스프링 데이터 jpa 스프링 프레임워크</th>\n",
       "      <th>배우고 싶습니다 관심있는</th>\n",
       "      <th>배우는 ios 아이폰</th>\n",
       "      <th>배우는 ios 아이폰 개발</th>\n",
       "      <th>배우는 swift4 ios11</th>\n",
       "      <th>배우는 swift4 ios11 아이폰</th>\n",
       "      <th>배우는 swift4 ios11 아이폰 ios</th>\n",
       "      <th>배우는 swift4 ios11 아이폰 ios 개발</th>\n",
       "      <th>활용한 파이썬 프로그래밍 완벽 이해</th>\n",
       "    </tr>\n",
       "  </thead>\n",
       "  <tbody>\n",
       "    <tr>\n",
       "      <th>0</th>\n",
       "      <td>100</td>\n",
       "      <td>60</td>\n",
       "      <td>60</td>\n",
       "      <td>49</td>\n",
       "      <td>49</td>\n",
       "      <td>49</td>\n",
       "      <td>49</td>\n",
       "      <td>48</td>\n",
       "      <td>48</td>\n",
       "      <td>48</td>\n",
       "      <td>...</td>\n",
       "      <td>2</td>\n",
       "      <td>2</td>\n",
       "      <td>2</td>\n",
       "      <td>2</td>\n",
       "      <td>2</td>\n",
       "      <td>2</td>\n",
       "      <td>2</td>\n",
       "      <td>2</td>\n",
       "      <td>2</td>\n",
       "      <td>2</td>\n",
       "    </tr>\n",
       "  </tbody>\n",
       "</table>\n",
       "<p>1 rows × 2000 columns</p>\n",
       "</div>"
      ],
      "text/plain": [
       "   홍정모의 따라하며 배우는  노드bird sns 만들기  스프링 데이터 jpa  리액트로 노드bird sns  머신러닝 완벽 가이드  \\\n",
       "0            100              60           60               49           49   \n",
       "\n",
       "   리액트로 노드bird sns 만들기  파이썬 머신러닝 완벽  함수형 프로그래밍과 자바script es6  \\\n",
       "0                   49           49                       48   \n",
       "\n",
       "   프로그래밍과 자바script es6  함수형 프로그래밍과 자바script  ...  방법 스프링 데이터 jpa 스프링  \\\n",
       "0                   48                   48  ...                   2   \n",
       "\n",
       "   방법 스프링 데이터 jpa 스프링 프레임워크  배우고 싶습니다 관심있는  배우는 ios 아이폰  배우는 ios 아이폰 개발  \\\n",
       "0                         2              2            2               2   \n",
       "\n",
       "   배우는 swift4 ios11  배우는 swift4 ios11 아이폰  배우는 swift4 ios11 아이폰 ios  \\\n",
       "0                 2                     2                         2   \n",
       "\n",
       "   배우는 swift4 ios11 아이폰 ios 개발  활용한 파이썬 프로그래밍 완벽 이해  \n",
       "0                            2                    2  \n",
       "\n",
       "[1 rows x 2000 columns]"
      ]
     },
     "execution_count": 104,
     "metadata": {},
     "output_type": "execute_result"
    }
   ],
   "source": [
    "# 행과 열의 축을 T로 바꿔주고 빈도수로 정렬합니다.\n",
    "\n",
    "df_vocab_sum.T"
   ]
  },
  {
   "cell_type": "code",
   "execution_count": 106,
   "metadata": {},
   "outputs": [
    {
     "data": {
      "text/html": [
       "<div>\n",
       "<style scoped>\n",
       "    .dataframe tbody tr th:only-of-type {\n",
       "        vertical-align: middle;\n",
       "    }\n",
       "\n",
       "    .dataframe tbody tr th {\n",
       "        vertical-align: top;\n",
       "    }\n",
       "\n",
       "    .dataframe thead th {\n",
       "        text-align: right;\n",
       "    }\n",
       "</style>\n",
       "<table border=\"1\" class=\"dataframe\">\n",
       "  <thead>\n",
       "    <tr style=\"text-align: right;\">\n",
       "      <th></th>\n",
       "      <th>course</th>\n",
       "      <th>freq</th>\n",
       "    </tr>\n",
       "  </thead>\n",
       "  <tbody>\n",
       "    <tr>\n",
       "      <th>0</th>\n",
       "      <td>홍정모의 따라하며 배우는</td>\n",
       "      <td>100</td>\n",
       "    </tr>\n",
       "    <tr>\n",
       "      <th>1</th>\n",
       "      <td>노드bird sns 만들기</td>\n",
       "      <td>60</td>\n",
       "    </tr>\n",
       "    <tr>\n",
       "      <th>2</th>\n",
       "      <td>스프링 데이터 jpa</td>\n",
       "      <td>60</td>\n",
       "    </tr>\n",
       "    <tr>\n",
       "      <th>3</th>\n",
       "      <td>리액트로 노드bird sns</td>\n",
       "      <td>49</td>\n",
       "    </tr>\n",
       "    <tr>\n",
       "      <th>4</th>\n",
       "      <td>머신러닝 완벽 가이드</td>\n",
       "      <td>49</td>\n",
       "    </tr>\n",
       "  </tbody>\n",
       "</table>\n",
       "</div>"
      ],
      "text/plain": [
       "            course  freq\n",
       "0    홍정모의 따라하며 배우는   100\n",
       "1   노드bird sns 만들기    60\n",
       "2      스프링 데이터 jpa    60\n",
       "3  리액트로 노드bird sns    49\n",
       "4      머신러닝 완벽 가이드    49"
      ]
     },
     "execution_count": 106,
     "metadata": {},
     "output_type": "execute_result"
    }
   ],
   "source": [
    "# [\"course\", \"freq\"] 라는 컬럼명을 주어 위에서 만든 데이터프레임을 변환합니다.\n",
    "\n",
    "df_vocab_count = df_vocab_sum.reset_index()\n",
    "df_vocab_count.columns = [\"course\", \"freq\"] \n",
    "df_vocab_count.head()"
   ]
  },
  {
   "cell_type": "code",
   "execution_count": 111,
   "metadata": {},
   "outputs": [
    {
     "data": {
      "text/plain": [
       "0      홍정모의 따라하며 배우는\n",
       "1     노드bird sns 만들기\n",
       "2        스프링 데이터 jpa\n",
       "3    리액트로 노드bird sns\n",
       "4        머신러닝 완벽 가이드\n",
       "Name: course4, dtype: object"
      ]
     },
     "execution_count": 111,
     "metadata": {},
     "output_type": "execute_result"
    }
   ],
   "source": [
    "# 강의명을 토큰 3개로 중복제거하기 위해, 강좌명에서 지식공유자의 이름을 빈문자열로 변경합니다.\n",
    "# 강의명을 lambda 식을 사용해서 x.split() 으로 나누고 [:4] 앞에서 4개까지만 텍스트를 가져오고 다시 join으로 합쳐줍니다. \n",
    "# 중복된 텍스트를 구분해서 보기 위함입니다.\n",
    "\n",
    "df_vocab_count['course4'] = df_vocab_count['course'].map(lambda x: \" \".join(x.split()[:4]))\n",
    "df_vocab_count['course4'].head()"
   ]
  },
  {
   "cell_type": "code",
   "execution_count": 115,
   "metadata": {},
   "outputs": [
    {
     "data": {
      "text/html": [
       "<div>\n",
       "<style scoped>\n",
       "    .dataframe tbody tr th:only-of-type {\n",
       "        vertical-align: middle;\n",
       "    }\n",
       "\n",
       "    .dataframe tbody tr th {\n",
       "        vertical-align: top;\n",
       "    }\n",
       "\n",
       "    .dataframe thead th {\n",
       "        text-align: right;\n",
       "    }\n",
       "</style>\n",
       "<table border=\"1\" class=\"dataframe\">\n",
       "  <thead>\n",
       "    <tr style=\"text-align: right;\">\n",
       "      <th></th>\n",
       "      <th>course</th>\n",
       "      <th>freq</th>\n",
       "      <th>course4</th>\n",
       "    </tr>\n",
       "  </thead>\n",
       "  <tbody>\n",
       "    <tr>\n",
       "      <th>0</th>\n",
       "      <td>홍정모의 따라하며 배우는</td>\n",
       "      <td>100</td>\n",
       "      <td>홍정모의 따라하며 배우는</td>\n",
       "    </tr>\n",
       "    <tr>\n",
       "      <th>1</th>\n",
       "      <td>노드bird sns 만들기</td>\n",
       "      <td>60</td>\n",
       "      <td>노드bird sns 만들기</td>\n",
       "    </tr>\n",
       "    <tr>\n",
       "      <th>2</th>\n",
       "      <td>스프링 데이터 jpa</td>\n",
       "      <td>60</td>\n",
       "      <td>스프링 데이터 jpa</td>\n",
       "    </tr>\n",
       "    <tr>\n",
       "      <th>3</th>\n",
       "      <td>리액트로 노드bird sns</td>\n",
       "      <td>49</td>\n",
       "      <td>리액트로 노드bird sns</td>\n",
       "    </tr>\n",
       "    <tr>\n",
       "      <th>4</th>\n",
       "      <td>머신러닝 완벽 가이드</td>\n",
       "      <td>49</td>\n",
       "      <td>머신러닝 완벽 가이드</td>\n",
       "    </tr>\n",
       "  </tbody>\n",
       "</table>\n",
       "</div>"
      ],
      "text/plain": [
       "            course  freq          course4\n",
       "0    홍정모의 따라하며 배우는   100    홍정모의 따라하며 배우는\n",
       "1   노드bird sns 만들기    60   노드bird sns 만들기\n",
       "2      스프링 데이터 jpa    60      스프링 데이터 jpa\n",
       "3  리액트로 노드bird sns    49  리액트로 노드bird sns\n",
       "4      머신러닝 완벽 가이드    49      머신러닝 완벽 가이드"
      ]
     },
     "execution_count": 115,
     "metadata": {},
     "output_type": "execute_result"
    }
   ],
   "source": [
    "# 3개의 ngram과 빈도수로 역순 정렬을 하게 되면 빈도수가 높고, ngram수가 많은 순으로 정렬이 됨 \n",
    "# 여기에서 drop_duplicates로 첫 번째 강좌를 남기고 나머지 중복을 삭제 합니다.\n",
    "\n",
    "df_vocab_count = df_vocab_count.drop_duplicates(['course4'])\n",
    "df_vocab_count.sort_values(by='freq', ascending=False).head()"
   ]
  },
  {
   "cell_type": "code",
   "execution_count": null,
   "metadata": {},
   "outputs": [],
   "source": [
    "# 빈도수로 정렬을 하고 어떤 강좌가 댓글에서 가장 많이 언급되었는지 봅니다.\n",
    "\n"
   ]
  },
  {
   "cell_type": "code",
   "execution_count": null,
   "metadata": {},
   "outputs": [],
   "source": [
    "# 전처리가 다 되었다면 다른 팀 또는 담당자에게 전달하기 위해  csv 형태로 저장합니다.\n",
    "\n"
   ]
  },
  {
   "cell_type": "markdown",
   "metadata": {},
   "source": [
    "## TF-IDF 로 가중치를 주어 벡터화\n",
    "### TfidfTransformer()\n",
    "* norm='l2' 각 문서의 피처 벡터를 어떻게 벡터 정규화 할지 정합니다.\n",
    "    - L2 : 벡터의 각 원소의 제곱의 합이 1이 되도록 만드는 것이고 기본 값(유클리디안거리)\n",
    "    - L1 : 벡터의 각 원소의 절댓값의 합이 1이 되도록 크기를 조절(맨하탄거리)\n",
    "* smooth_idf=False\n",
    "    - 피처를 만들 때 0으로 나오는 항목에 대해 작은 값을 더해서(스무딩을 해서) 피처를 만들지 아니면 그냥 생성할지를 결정\n",
    "* sublinear_tf=False\n",
    "* use_idf=True\n",
    "    - TF-IDF를 사용해 피처를 만들 것인지 아니면 단어 빈도 자체를 사용할 것인지 여부"
   ]
  },
  {
   "cell_type": "code",
   "execution_count": 119,
   "metadata": {},
   "outputs": [
    {
     "data": {
      "text/plain": [
       "array([[0, 0, 0, ..., 0, 0, 0],\n",
       "       [0, 0, 0, ..., 0, 0, 0],\n",
       "       [0, 0, 0, ..., 0, 0, 0],\n",
       "       ...,\n",
       "       [0, 0, 0, ..., 0, 0, 0],\n",
       "       [0, 0, 0, ..., 0, 0, 0],\n",
       "       [0, 0, 0, ..., 0, 0, 0]], dtype=int64)"
      ]
     },
     "execution_count": 119,
     "metadata": {},
     "output_type": "execute_result"
    }
   ],
   "source": [
    "# TfidfTransformer 를 불러와서 가중치를 주어 벡터화 합니다.\n",
    "# transformer 라는 변수로 저장하고 재사용합니다.\n",
    "\n",
    "\n",
    "from sklearn.feature_extraction.text import TfidfTransformer\n",
    "from sklearn.pipeline import Pipeline\n",
    "\n",
    "pipe = Pipeline([('count', CountVectorizer(vocabulary=vocab)),\n",
    "                 ('tfid', TfidfTransformer())]).fit(corpus)\n",
    "pipe['count'].transform(corpus).toarray()"
   ]
  },
  {
   "cell_type": "code",
   "execution_count": null,
   "metadata": {},
   "outputs": [],
   "source": []
  },
  {
   "cell_type": "code",
   "execution_count": null,
   "metadata": {},
   "outputs": [],
   "source": [
    "feauture_tfidf = pipe['tfid'].idf_\n",
    "feauture_tfidf"
   ]
  },
  {
   "cell_type": "code",
   "execution_count": 120,
   "metadata": {},
   "outputs": [
    {
     "ename": "KeyError",
     "evalue": "'tfidf'",
     "output_type": "error",
     "traceback": [
      "\u001b[1;31m---------------------------------------------------------------------------\u001b[0m",
      "\u001b[1;31mTypeError\u001b[0m                                 Traceback (most recent call last)",
      "\u001b[1;32m~\\anaconda3\\lib\\site-packages\\sklearn\\pipeline.py\u001b[0m in \u001b[0;36m__getitem__\u001b[1;34m(self, ind)\u001b[0m\n\u001b[0;32m    230\u001b[0m         \u001b[1;32mtry\u001b[0m\u001b[1;33m:\u001b[0m\u001b[1;33m\u001b[0m\u001b[1;33m\u001b[0m\u001b[0m\n\u001b[1;32m--> 231\u001b[1;33m             \u001b[0mname\u001b[0m\u001b[1;33m,\u001b[0m \u001b[0mest\u001b[0m \u001b[1;33m=\u001b[0m \u001b[0mself\u001b[0m\u001b[1;33m.\u001b[0m\u001b[0msteps\u001b[0m\u001b[1;33m[\u001b[0m\u001b[0mind\u001b[0m\u001b[1;33m]\u001b[0m\u001b[1;33m\u001b[0m\u001b[1;33m\u001b[0m\u001b[0m\n\u001b[0m\u001b[0;32m    232\u001b[0m         \u001b[1;32mexcept\u001b[0m \u001b[0mTypeError\u001b[0m\u001b[1;33m:\u001b[0m\u001b[1;33m\u001b[0m\u001b[1;33m\u001b[0m\u001b[0m\n",
      "\u001b[1;31mTypeError\u001b[0m: list indices must be integers or slices, not str",
      "\nDuring handling of the above exception, another exception occurred:\n",
      "\u001b[1;31mKeyError\u001b[0m                                  Traceback (most recent call last)",
      "\u001b[1;32m<ipython-input-120-dbd35d0318aa>\u001b[0m in \u001b[0;36m<module>\u001b[1;34m\u001b[0m\n\u001b[0;32m      1\u001b[0m \u001b[1;31m# fit_transform 으로 가중치를 적용하고 결과를 feature_tfidf 로 받습니다.\u001b[0m\u001b[1;33m\u001b[0m\u001b[1;33m\u001b[0m\u001b[1;33m\u001b[0m\u001b[0m\n\u001b[0;32m      2\u001b[0m \u001b[1;33m\u001b[0m\u001b[0m\n\u001b[1;32m----> 3\u001b[1;33m \u001b[0mpipe\u001b[0m\u001b[1;33m[\u001b[0m\u001b[1;34m'tfidf'\u001b[0m\u001b[1;33m]\u001b[0m\u001b[1;33m.\u001b[0m\u001b[0midf_\u001b[0m\u001b[1;33m\u001b[0m\u001b[1;33m\u001b[0m\u001b[0m\n\u001b[0m",
      "\u001b[1;32m~\\anaconda3\\lib\\site-packages\\sklearn\\pipeline.py\u001b[0m in \u001b[0;36m__getitem__\u001b[1;34m(self, ind)\u001b[0m\n\u001b[0;32m    232\u001b[0m         \u001b[1;32mexcept\u001b[0m \u001b[0mTypeError\u001b[0m\u001b[1;33m:\u001b[0m\u001b[1;33m\u001b[0m\u001b[1;33m\u001b[0m\u001b[0m\n\u001b[0;32m    233\u001b[0m             \u001b[1;31m# Not an int, try get step by name\u001b[0m\u001b[1;33m\u001b[0m\u001b[1;33m\u001b[0m\u001b[1;33m\u001b[0m\u001b[0m\n\u001b[1;32m--> 234\u001b[1;33m             \u001b[1;32mreturn\u001b[0m \u001b[0mself\u001b[0m\u001b[1;33m.\u001b[0m\u001b[0mnamed_steps\u001b[0m\u001b[1;33m[\u001b[0m\u001b[0mind\u001b[0m\u001b[1;33m]\u001b[0m\u001b[1;33m\u001b[0m\u001b[1;33m\u001b[0m\u001b[0m\n\u001b[0m\u001b[0;32m    235\u001b[0m         \u001b[1;32mreturn\u001b[0m \u001b[0mest\u001b[0m\u001b[1;33m\u001b[0m\u001b[1;33m\u001b[0m\u001b[0m\n\u001b[0;32m    236\u001b[0m \u001b[1;33m\u001b[0m\u001b[0m\n",
      "\u001b[1;31mKeyError\u001b[0m: 'tfidf'"
     ]
    }
   ],
   "source": [
    "# fit_transform 으로 가중치를 적용하고 결과를 feature_tfidf 로 받습니다.\n",
    "transformer = TfidfTransformer()\n",
    "transformer.fit_transform"
   ]
  },
  {
   "cell_type": "code",
   "execution_count": null,
   "metadata": {},
   "outputs": [],
   "source": [
    "pipe.transform(corpus)\n",
    "feature_tfidf.shape"
   ]
  },
  {
   "cell_type": "code",
   "execution_count": null,
   "metadata": {},
   "outputs": [],
   "source": [
    "# 각 row에서 전체 단어가방에 있는 어휘에서 등장하는 단어에 대한 one-hot-vector에 TF-IDF 가중치 반영한 결과를 봅니다.\n",
    "# feature_tfidf.toarray() 로 배열로 만들고  데이터 프레임을 만들어 tfidf_freq 라는 변수에 할당해서 봅니다.\n",
    "\n"
   ]
  },
  {
   "cell_type": "code",
   "execution_count": null,
   "metadata": {},
   "outputs": [],
   "source": [
    "# tfidf_freq를 sum 으로 가중치를 다 더해줍니다.\n",
    "\n"
   ]
  },
  {
   "cell_type": "code",
   "execution_count": null,
   "metadata": {},
   "outputs": [],
   "source": [
    "# 중간에 생략되는 단어를 자세히 보고자 할 때\n",
    "# for문으로 출력해 봅니다.\n",
    "\n"
   ]
  },
  {
   "cell_type": "markdown",
   "metadata": {},
   "source": [
    "## 군집화 \n",
    "### KMeans\n",
    "* [2.3. Clustering — scikit-learn 0.22.2 documentation](https://scikit-learn.org/stable/modules/clustering.html#k-means)"
   ]
  },
  {
   "cell_type": "code",
   "execution_count": 122,
   "metadata": {},
   "outputs": [],
   "source": [
    "from sklearn.cluster import KMeans\n",
    "from tqdm import trange\n",
    "inertia = []\n",
    "\n",
    "start = 30\n",
    "end = 70\n",
    "\n",
    "# 적절한 클러스터의 갯수를 알기 위해 inertia 값을 구함\n",
    "# trange 를 통해 시작과 끝 값을 지정해 주면 진행 정도를 알 수 있습니다.\n",
    "# 학습을 할 때는 feature_tfidf 값을 사용합니다.\n",
    "# cls.inertia_ 값을 inertia 리스트에 저장합니다.\n",
    "\n",
    "kmeans = KMeans(radom_state=42, n_jobs=-1, verbose=1)\n",
    "kmeans.fit(feature_tfidf)"
   ]
  },
  {
   "cell_type": "code",
   "execution_count": null,
   "metadata": {},
   "outputs": [],
   "source": [
    "# 위에서 구한 값을 시각화 합니다.\n",
    "# x축에는 클러스터의 수를 y축에는 inertia 값을 넣어 그립니다.\n",
    "\n",
    "\n"
   ]
  },
  {
   "cell_type": "markdown",
   "metadata": {},
   "source": [
    "* 적정한 클러스터 갯수를 넣어 군집화 합니다."
   ]
  },
  {
   "cell_type": "code",
   "execution_count": null,
   "metadata": {},
   "outputs": [],
   "source": [
    "# n_clusters 에 적절한 값을 넣어줍니다.\n",
    "# fit.predict 를 하고 결과를 cluster 라는 새로운 컬럼에 담습니다.\n",
    "\n"
   ]
  },
  {
   "cell_type": "code",
   "execution_count": null,
   "metadata": {},
   "outputs": [],
   "source": [
    "# df[\"cluster\"] 의 빈도수를 value_counts로 세어봅니다.\n",
    "\n"
   ]
  },
  {
   "cell_type": "markdown",
   "metadata": {},
   "source": [
    "### MiniBatchKMeans\n",
    "* [Comparison of the K-Means and MiniBatchKMeans clustering algorithms — scikit-learn 0.22.1 documentation](https://scikit-learn.org/stable/auto_examples/cluster/plot_mini_batch_kmeans.html)"
   ]
  },
  {
   "cell_type": "code",
   "execution_count": null,
   "metadata": {},
   "outputs": [],
   "source": [
    "# batch_size 를 쓸 수 있는 MiniBatchKMeans 로 군집화\n",
    "from sklearn.cluster import MiniBatchKMeans\n",
    "b_inertia = []\n",
    "\n",
    "# 적절한 클러스터의 갯수를 알기 위해 inertia 값을 구함\n",
    "# trange 를 통해 시작과 끝 값을 지정해 주면 진행 정도를 알 수 있습니다.\n",
    "# b_inertia 리스트에 cls.inertia_ 값을 넣어줍니다.\n"
   ]
  },
  {
   "cell_type": "code",
   "execution_count": null,
   "metadata": {},
   "outputs": [],
   "source": [
    "# 위에서 구한 값을 시각화 합니다.\n",
    "# x축에는 클러스터의 수를 y축에는 b_inertia 값을 넣어 그립니다.\n",
    "\n"
   ]
  },
  {
   "cell_type": "code",
   "execution_count": null,
   "metadata": {},
   "outputs": [],
   "source": [
    "# MiniBatchKMeans 를 통해 학습을 시킵니다.\n",
    "# 결과를 bcluster 라는 변수에 저장합니다.\n",
    "\n"
   ]
  },
  {
   "cell_type": "code",
   "execution_count": null,
   "metadata": {},
   "outputs": [],
   "source": [
    "# bcluster의 빈도수를 구합니다.\n",
    "\n"
   ]
  },
  {
   "cell_type": "code",
   "execution_count": null,
   "metadata": {},
   "outputs": [],
   "source": [
    "# 어떤 강좌명이 있는지 특정 클러스터의 값을 봅니다.  \n"
   ]
  },
  {
   "cell_type": "code",
   "execution_count": null,
   "metadata": {},
   "outputs": [],
   "source": [
    "# bcluster, cluster, course 값을 미리보기 합니다.\n",
    "\n"
   ]
  },
  {
   "cell_type": "markdown",
   "metadata": {},
   "source": [
    "### 클러스터 예측 정확도 확인하기"
   ]
  },
  {
   "cell_type": "code",
   "execution_count": null,
   "metadata": {},
   "outputs": [],
   "source": [
    "# n_clusters 위에서 정의한 클러스터 수를 사용\n",
    "feature_array = feature_vector.toarray()\n",
    "# 예측한 클러스터의 유니크 값\n",
    "labels = np.unique(prediction)\n",
    "df_cluster_score = []\n",
    "df_cluster = []\n",
    "for label in labels:\n",
    "    id_temp = np.where(prediction==label) # 예측한 값이 클러스터 번호와 매치 되는 것을 가져옴\n",
    "    x_means = np.mean(feature_array[id_temp], axis = 0) # 클러스터의 평균 값을 구함\n",
    "    sorted_means = np.argsort(x_means)[::-1][:n_clusters] # 값을 역순으로 정렬해서 클러스터 수 만큼 가져옴\n",
    "    features = vectorizer.get_feature_names()\n",
    "    best_features = [(features[i], x_means[i]) for i in sorted_means] \n",
    "    # 클러스터별 전체 스코어\n",
    "    df_score = pd.DataFrame(best_features, columns = ['features', 'score'])\n",
    "    df_cluster_score.append(df_score)\n",
    "    # 클러스터 대표 키워드\n",
    "    df_cluster.append(best_features[0])"
   ]
  },
  {
   "cell_type": "code",
   "execution_count": null,
   "metadata": {},
   "outputs": [],
   "source": [
    "# 개별 클러스터에서 점수가 가장 높은 단어를 추출 아래 점수가 클수록 예측 정확도가 높음\n",
    "# MiniBatchKMeans 로 예측한 값 기준\n",
    "\n"
   ]
  },
  {
   "cell_type": "code",
   "execution_count": null,
   "metadata": {},
   "outputs": [],
   "source": [
    "# score 정확도가 1이 나온 클러스터를 찾아봄 - 같은 강좌끼리 묶였는지 확인 함\n",
    "\n"
   ]
  },
  {
   "cell_type": "markdown",
   "metadata": {},
   "source": [
    "## WordCloud\n",
    "* [amueller/word_cloud: A little word cloud generator in Python](https://github.com/amueller/word_cloud)\n",
    "* 설치 방법 : [Wordcloud :: Anaconda Cloud](https://anaconda.org/conda-forge/wordcloud)"
   ]
  },
  {
   "cell_type": "code",
   "execution_count": null,
   "metadata": {},
   "outputs": [],
   "source": [
    "# 불용어 - 자주 등장하지만 의미가 크지 않아 제외하고 싶은 텍스트\n",
    "# stopwords = [\"관심 강의\", \"관심강의\", \"관심\", \"강의\", \"강좌\", \"강의를\",\n",
    "#              \"올해\", \"올해는\", \"열심히\", \"공부를\", \"합니다\", \"하고\", \"싶어요\", \n",
    "#              \"있는\", \"있습니다\", \"싶습니다\", \"2020년\"]\n",
    "# 불용어를 제거하지 않고 그리려면 아래 주석을 풀어서 stopword 변수에 덮어쓰기를 합니다.\n",
    "stopwords = []\n",
    "# displayWordCloud 라는 함수를 만들어 재사용합니다.\n",
    "\n"
   ]
  },
  {
   "cell_type": "code",
   "execution_count": null,
   "metadata": {
    "scrolled": true
   },
   "outputs": [],
   "source": []
  },
  {
   "cell_type": "code",
   "execution_count": null,
   "metadata": {},
   "outputs": [],
   "source": []
  }
 ],
 "metadata": {
  "hide_input": false,
  "kernelspec": {
   "display_name": "Python 3",
   "language": "python",
   "name": "python3"
  },
  "language_info": {
   "codemirror_mode": {
    "name": "ipython",
    "version": 3
   },
   "file_extension": ".py",
   "mimetype": "text/x-python",
   "name": "python",
   "nbconvert_exporter": "python",
   "pygments_lexer": "ipython3",
   "version": "3.7.6"
  },
  "toc": {
   "base_numbering": 1,
   "nav_menu": {},
   "number_sections": true,
   "sideBar": true,
   "skip_h1_title": false,
   "title_cell": "Table of Contents",
   "title_sidebar": "Contents",
   "toc_cell": false,
   "toc_position": {},
   "toc_section_display": true,
   "toc_window_display": false
  },
  "varInspector": {
   "cols": {
    "lenName": 16,
    "lenType": 16,
    "lenVar": 40
   },
   "kernels_config": {
    "python": {
     "delete_cmd_postfix": "",
     "delete_cmd_prefix": "del ",
     "library": "var_list.py",
     "varRefreshCmd": "print(var_dic_list())"
    },
    "r": {
     "delete_cmd_postfix": ") ",
     "delete_cmd_prefix": "rm(",
     "library": "var_list.r",
     "varRefreshCmd": "cat(var_dic_list()) "
    }
   },
   "types_to_exclude": [
    "module",
    "function",
    "builtin_function_or_method",
    "instance",
    "_Feature"
   ],
   "window_display": false
  }
 },
 "nbformat": 4,
 "nbformat_minor": 2
}
