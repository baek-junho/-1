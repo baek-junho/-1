{
 "cells": [
  {
   "cell_type": "code",
   "execution_count": 29,
   "metadata": {},
   "outputs": [],
   "source": [
    "import torch\n",
    "import torch.nn as nn\n",
    "import torchvision\n",
    "import torchvision.transforms as transforms\n",
    "\n",
    "from matplotlib import pyplot as plt\n",
    "import numpy as np"
   ]
  },
  {
   "cell_type": "code",
   "execution_count": 30,
   "metadata": {},
   "outputs": [],
   "source": [
    "device = torch.device('cuda' if torch.cuda.is_available() else 'cpu')\n",
    "# gpu 가능하면 cuda를 쓰고 아니면 cpu를 쓴다"
   ]
  },
  {
   "cell_type": "code",
   "execution_count": 31,
   "metadata": {},
   "outputs": [],
   "source": [
    "# 하이퍼 파라미터\n",
    "input_size = 784\n",
    "hidden_size = 500\n",
    "num_classes = 10\n",
    "num_epochs = 5\n",
    "batch_size = 64\n",
    "learning_rate = 0.001"
   ]
  },
  {
   "cell_type": "code",
   "execution_count": null,
   "metadata": {},
   "outputs": [],
   "source": [
    "torchvisin.datasets."
   ]
  },
  {
   "cell_type": "code",
   "execution_count": 46,
   "metadata": {},
   "outputs": [],
   "source": [
    "train_dataset = torchvision.datasets.MNIST(root='../../data', \n",
    "                                           train=True, \n",
    "                                           transform=transforms.ToTensor(), # 여기에 어그미테이션 이라는것을 사용할수 있는데 데이터를 늘려주는것을 의미한다  \n",
    "                                           download=True)\n",
    "\n",
    "test_dataset = torchvision.datasets.MNIST(root='../../data', \n",
    "                                          train=False, \n",
    "                                          transform=transforms.ToTensor())"
   ]
  },
  {
   "cell_type": "code",
   "execution_count": 39,
   "metadata": {},
   "outputs": [
    {
     "data": {
      "image/png": "[encoded data removed]",
      "text/plain": [
       "<Figure size 432x288 with 10 Axes>"
      ]
     },
     "metadata": {},
     "output_type": "display_data"
    }
   ],
   "source": [
    "fig = plt.figure()\n",
    " \n",
    "for i in range(10):\n",
    "    # 2x5 그리드에 i+1번째 subplot을 추가하고 얻어옴\n",
    "    subplot = fig.add_subplot(2, 5, i + 1)\n",
    "\n",
    "    # x, y 축의 지점 표시를 안함\n",
    "    subplot.set_xticks([])\n",
    "    subplot.set_yticks([])\n",
    "\n",
    "    # subplot의 제목을 i번째 결과에 해당하는 숫자로 설정\n",
    "    subplot.set_title('%d' % train_dataset[i][1])\n",
    "\n",
    "    # 입력으로 사용한 i번째 테스트 이미지를 28x28로 재배열하고\n",
    "    # 이 2차원 배열을 그레이스케일 이미지로 출력\n",
    "    subplot.imshow(train_dataset[i][0].squeeze().numpy(), cmap='gray')\n",
    "\n",
    "plt.show()"
   ]
  },
  {
   "cell_type": "code",
   "execution_count": 40,
   "metadata": {},
   "outputs": [],
   "source": [
    "# Data loader\n",
    "train_loader = torch.utils.data.DataLoader(dataset=train_dataset, \n",
    "                                           batch_size=batch_size, \n",
    "                                           shuffle=True)\n",
    "\n",
    "test_loader = torch.utils.data.DataLoader(dataset=test_dataset, \n",
    "                                          batch_size=batch_size, \n",
    "                                          shuffle=False)"
   ]
  },
  {
   "cell_type": "code",
   "execution_count": 41,
   "metadata": {},
   "outputs": [],
   "source": [
    "class NeuralNet(nn.Module):\n",
    "    def __init__(self, input_size, hidden_size, num_classes):\n",
    "        super(NeuralNet, self).__init__()\n",
    "        self.fc1 = nn.Linear(input_size, hidden_size) \n",
    "        self.relu = nn.ReLU()\n",
    "        self.fc2 = nn.Linear(hidden_size, num_classes)  \n",
    "    \n",
    "    def forward(self, x):\n",
    "        out = self.fc1(x)\n",
    "        out = self.relu(out)\n",
    "        out = self.fc2(out)\n",
    "        return out\n",
    "\n",
    "model = NeuralNet(input_size, hidden_size, num_classes).to(device)"
   ]
  },
  {
   "cell_type": "code",
   "execution_count": 60,
   "metadata": {},
   "outputs": [],
   "source": [
    "criterion = nn.CrossEntropyLoss()\n",
    "optimizer = torch.optim.SGD(model.parameters(), lr=learning_rate)  "
   ]
  },
  {
   "cell_type": "code",
   "execution_count": 43,
   "metadata": {},
   "outputs": [
    {
     "name": "stdout",
     "output_type": "stream",
     "text": [
      "Epoch [1/5], Loss: 0.6253\n",
      "Accuracy of the network on the 10000 test images: 91.37 %\n",
      "Epoch [2/5], Loss: 0.4450\n",
      "Accuracy of the network on the 10000 test images: 94.2 %\n",
      "Epoch [3/5], Loss: 0.3626\n",
      "Accuracy of the network on the 10000 test images: 95.3 %\n",
      "Epoch [4/5], Loss: 0.3098\n",
      "Accuracy of the network on the 10000 test images: 97.01 %\n",
      "Epoch [5/5], Loss: 0.2711\n",
      "Accuracy of the network on the 10000 test images: 97.39 %\n"
     ]
    }
   ],
   "source": [
    "# Train the model\n",
    "train_loss = []\n",
    "for epoch in range(num_epochs):\n",
    "    for i, (images, labels) in enumerate(train_loader):  \n",
    "        # Move tensors to the configured device\n",
    "        images = images.reshape(-1, 28*28).to(device)\n",
    "        labels = labels.to(device)\n",
    "        \n",
    "        # Forward pass\n",
    "        outputs = model(images)\n",
    "        loss = criterion(outputs, labels)\n",
    "        \n",
    "        # Backward and optimize\n",
    "        optimizer.zero_grad() # 각각 노드가가지고 있는 그레디언트를 초기화\n",
    "       \n",
    "        loss.backward()\n",
    "       \n",
    "        optimizer.step() # 여기가 그레디언트 디센트 해주는 부분\n",
    "        \n",
    "        train_loss.append(loss.item())\n",
    "    \n",
    "    print ('Epoch [{}/{}], Loss: {:.4f}' \n",
    "           .format(epoch+1, num_epochs, sum(train_loss)/len(train_loss)))\n",
    "    \n",
    "    with torch.no_grad():\n",
    "        correct = 0\n",
    "        total = 0\n",
    "        for images, labels in test_loader:\n",
    "            images = images.reshape(-1, 28*28).to(device)\n",
    "            labels = labels.to(device)\n",
    "            outputs = model(images)\n",
    "            _, predicted = torch.max(outputs.data, 1)\n",
    "            total += labels.size(0)\n",
    "            correct += (predicted == labels).sum().item()\n",
    "\n",
    "        print('Accuracy of the network on the 10000 test images: {} %'.format(100 * correct / total))"
   ]
  },
  {
   "cell_type": "code",
   "execution_count": 58,
   "metadata": {},
   "outputs": [],
   "source": [
    "bad_prediction = []\n",
    "with torch.no_grad():\n",
    "    for images, labels in test_loader:\n",
    "        images = images.reshape(-1, 28*28).to(device)\n",
    "        labels = labels.to(device)\n",
    "        outputs = model(images)\n",
    "        _, predicted = torch.max(outputs.data, 1)\n",
    "        for i in range(len(predicted)):\n",
    "            if predicted[i] != labels[i]:\n",
    "                bad_prediction.append([images[i].numpy(), predicted[i], labels[i]])"
   ]
  },
  {
   "cell_type": "code",
   "execution_count": 59,
   "metadata": {},
   "outputs": [
    {
     "data": {
      "image/png": "[encoded data removed]",
      "text/plain": [
       "<Figure size 432x288 with 10 Axes>"
      ]
     },
     "metadata": {},
     "output_type": "display_data"
    }
   ],
   "source": [
    "fig = plt.figure()\n",
    " \n",
    "for i in range(10):\n",
    "    # 2x5 그리드에 i+1번째 subplot을 추가하고 얻어옴\n",
    "    subplot = fig.add_subplot(2, 5, i + 1)\n",
    "\n",
    "    # x, y 축의 지점 표시를 안함\n",
    "    subplot.set_xticks([])\n",
    "    subplot.set_yticks([])\n",
    "\n",
    "    # subplot의 제목을 i번째 결과에 해당하는 숫자로 설정\n",
    "    subplot.set_title(f'{bad_prediction[i][1]}, {bad_prediction[i][2]}')\n",
    "\n",
    "    # 입력으로 사용한 i번째 테스트 이미지를 28x28로 재배열하고\n",
    "    # 이 2차원 배열을 그레이스케일 이미지로 출력\n",
    "    subplot.imshow(bad_prediction[i][0].reshape(28, 28), cmap='gray')\n",
    "\n",
    "plt.show()"
   ]
  },
  {
   "cell_type": "code",
   "execution_count": null,
   "metadata": {},
   "outputs": [],
   "source": []
  }
 ],
 "metadata": {
  "hide_input": false,
  "kernelspec": {
   "display_name": "Python 3",
   "language": "python",
   "name": "python3"
  },
  "language_info": {
   "codemirror_mode": {
    "name": "ipython",
    "version": 3
   },
   "file_extension": ".py",
   "mimetype": "text/x-python",
   "name": "python",
   "nbconvert_exporter": "python",
   "pygments_lexer": "ipython3",
   "version": "3.7.6"
  },
  "toc": {
   "base_numbering": 1,
   "nav_menu": {},
   "number_sections": true,
   "sideBar": true,
   "skip_h1_title": false,
   "title_cell": "Table of Contents",
   "title_sidebar": "Contents",
   "toc_cell": false,
   "toc_position": {},
   "toc_section_display": true,
   "toc_window_display": false
  }
 },
 "nbformat": 4,
 "nbformat_minor": 2
}
