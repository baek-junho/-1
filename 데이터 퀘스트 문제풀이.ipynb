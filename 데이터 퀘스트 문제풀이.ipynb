{
 "cells": [
  {
   "cell_type": "markdown",
   "metadata": {},
   "source": [
    "## 문제\n",
    "- dc_airbnb.csv라는 데이터 프레임을 읽 습니다 dc_listings.\n",
    "- print함수를 사용하여 의 첫 번째 행을 표시합니다 dc_listings."
   ]
  },
  {
   "cell_type": "code",
   "execution_count": 39,
   "metadata": {},
   "outputs": [
    {
     "name": "stdout",
     "output_type": "stream",
     "text": [
      "host_response_rate                  92%\n",
      "host_acceptance_rate                91%\n",
      "host_listings_count                  26\n",
      "accommodates                          4\n",
      "room_type               Entire home/apt\n",
      "bedrooms                              1\n",
      "bathrooms                             1\n",
      "beds                                  2\n",
      "price                           $160.00\n",
      "cleaning_fee                    $115.00\n",
      "security_deposit                $100.00\n",
      "minimum_nights                        1\n",
      "maximum_nights                     1125\n",
      "number_of_reviews                     0\n",
      "latitude                          38.89\n",
      "longitude                      -77.0028\n",
      "city                         Washington\n",
      "zipcode                           20003\n",
      "state                                DC\n",
      "Name: 0, dtype: object\n"
     ]
    }
   ],
   "source": [
    "import pandas as pd\n",
    "dc_listings = pd.read_csv('dc_airbnb.csv')\n",
    "print(dc_listings.iloc[0])"
   ]
  },
  {
   "cell_type": "code",
   "execution_count": 40,
   "metadata": {},
   "outputs": [
    {
     "data": {
      "text/plain": [
       "(3723, 19)"
      ]
     },
     "execution_count": 40,
     "metadata": {},
     "output_type": "execute_result"
    }
   ],
   "source": [
    "dc_listings.shape"
   ]
  },
  {
   "cell_type": "code",
   "execution_count": 41,
   "metadata": {},
   "outputs": [
    {
     "data": {
      "text/html": [
       "<div>\n",
       "<style scoped>\n",
       "    .dataframe tbody tr th:only-of-type {\n",
       "        vertical-align: middle;\n",
       "    }\n",
       "\n",
       "    .dataframe tbody tr th {\n",
       "        vertical-align: top;\n",
       "    }\n",
       "\n",
       "    .dataframe thead th {\n",
       "        text-align: right;\n",
       "    }\n",
       "</style>\n",
       "<table border=\"1\" class=\"dataframe\">\n",
       "  <thead>\n",
       "    <tr style=\"text-align: right;\">\n",
       "      <th></th>\n",
       "      <th>host_response_rate</th>\n",
       "      <th>host_acceptance_rate</th>\n",
       "      <th>host_listings_count</th>\n",
       "      <th>accommodates</th>\n",
       "      <th>room_type</th>\n",
       "      <th>bedrooms</th>\n",
       "      <th>bathrooms</th>\n",
       "      <th>beds</th>\n",
       "      <th>price</th>\n",
       "      <th>cleaning_fee</th>\n",
       "      <th>security_deposit</th>\n",
       "      <th>minimum_nights</th>\n",
       "      <th>maximum_nights</th>\n",
       "      <th>number_of_reviews</th>\n",
       "      <th>latitude</th>\n",
       "      <th>longitude</th>\n",
       "      <th>city</th>\n",
       "      <th>zipcode</th>\n",
       "      <th>state</th>\n",
       "    </tr>\n",
       "  </thead>\n",
       "  <tbody>\n",
       "    <tr>\n",
       "      <th>0</th>\n",
       "      <td>92%</td>\n",
       "      <td>91%</td>\n",
       "      <td>26</td>\n",
       "      <td>4</td>\n",
       "      <td>Entire home/apt</td>\n",
       "      <td>1.0</td>\n",
       "      <td>1.0</td>\n",
       "      <td>2.0</td>\n",
       "      <td>$160.00</td>\n",
       "      <td>$115.00</td>\n",
       "      <td>$100.00</td>\n",
       "      <td>1</td>\n",
       "      <td>1125</td>\n",
       "      <td>0</td>\n",
       "      <td>38.890046</td>\n",
       "      <td>-77.002808</td>\n",
       "      <td>Washington</td>\n",
       "      <td>20003</td>\n",
       "      <td>DC</td>\n",
       "    </tr>\n",
       "  </tbody>\n",
       "</table>\n",
       "</div>"
      ],
      "text/plain": [
       "  host_response_rate host_acceptance_rate  host_listings_count  accommodates  \\\n",
       "0                92%                  91%                   26             4   \n",
       "\n",
       "         room_type  bedrooms  bathrooms  beds    price cleaning_fee  \\\n",
       "0  Entire home/apt       1.0        1.0   2.0  $160.00      $115.00   \n",
       "\n",
       "  security_deposit  minimum_nights  maximum_nights  number_of_reviews  \\\n",
       "0          $100.00               1            1125                  0   \n",
       "\n",
       "    latitude  longitude        city zipcode state  \n",
       "0  38.890046 -77.002808  Washington   20003    DC  "
      ]
     },
     "execution_count": 41,
     "metadata": {},
     "output_type": "execute_result"
    }
   ],
   "source": [
    "dc_listings.head(1)"
   ]
  },
  {
   "cell_type": "markdown",
   "metadata": {},
   "source": [
    "## 문제 \n",
    "- 3 명을 수용 할 수있는 생활 공간과 데이터 프레임의 첫 번째 생활 공간 사이의 유클리드 거리를 계산합니다 dc_listings.\n",
    "- 함수를 first_distance사용하여 결과를 할당하고 값을 표시합니다 print."
   ]
  },
  {
   "cell_type": "code",
   "execution_count": 42,
   "metadata": {},
   "outputs": [
    {
     "name": "stdout",
     "output_type": "stream",
     "text": [
      "1\n"
     ]
    }
   ],
   "source": [
    "import numpy as np\n",
    "ab = 3\n",
    "first = dc_listings.iloc[0]['accommodates']\n",
    "first_distance = np.abs(ab - first)\n",
    "print(first_distance)"
   ]
  },
  {
   "cell_type": "markdown",
   "metadata": {},
   "source": [
    "## 문제\n",
    "- accommodates열의 각 값과 값 사이의 거리를 계산합니다. dc_listings이 값 3은 목록에서 수용 할 수있는 사람 수입니다.\n",
    "- 사용 apply의 각 값 사이의 절대 값을 계산하는 방법 accommodates과 3상기 거리 값을 포함하는 새로운 시리즈를 반환한다.\n",
    "- distance열에 거리 값을 지정하십시오 .\n",
    "- 시리즈 방법 value_counts과 print함수를 사용하여 distance열의 고유 한 값 수를 표시합니다 ."
   ]
  },
  {
   "cell_type": "code",
   "execution_count": 43,
   "metadata": {},
   "outputs": [
    {
     "name": "stdout",
     "output_type": "stream",
     "text": [
      "1     2294\n",
      "2      503\n",
      "0      461\n",
      "3      279\n",
      "5       73\n",
      "4       35\n",
      "7       22\n",
      "6       17\n",
      "9       12\n",
      "13       8\n",
      "8        7\n",
      "12       6\n",
      "11       4\n",
      "10       2\n",
      "Name: distance, dtype: int64\n"
     ]
    }
   ],
   "source": [
    "new = 3\n",
    "dc_listings['distance'] = dc_listings['accommodates'].apply(lambda x: np.abs(x - new))\n",
    "print(dc_listings['distance'].value_counts())"
   ]
  },
  {
   "cell_type": "markdown",
   "metadata": {},
   "source": [
    "## 문제\n",
    "- 의 행 순서를 무작위로 지정합니다 dc_listings.\n",
    "- np.random.permutation()함수를 사용하여 셔플 된 인덱스 값의 NumPy 배열을 반환합니다.\n",
    "- loc[]셔플 된 순서를 포함하는 새 Dataframe을 반환 하려면 Dataframe 메서드 를 사용합니다 .\n",
    "- 새 데이터 프레임을 dc_listings.\n",
    "- 무작위 화 후 열을 기준으로 정렬 dc_listings하고에 distance다시 할당합니다 dc_listings.\n",
    "- 함수를 price사용하여 열의 처음 10 개 값을 표시합니다 print."
   ]
  },
  {
   "cell_type": "code",
   "execution_count": 44,
   "metadata": {},
   "outputs": [
    {
     "name": "stdout",
     "output_type": "stream",
     "text": [
      "577     $185.00\n",
      "2166    $180.00\n",
      "3631    $175.00\n",
      "71      $128.00\n",
      "1011    $115.00\n",
      "380     $219.00\n",
      "943     $125.00\n",
      "3107    $250.00\n",
      "1499     $94.00\n",
      "625     $150.00\n",
      "Name: price, dtype: object\n"
     ]
    }
   ],
   "source": [
    "np.random.seed(1)\n",
    "dc_listings = dc_listings.loc[np.random.permutation(len(dc_listings))]\n",
    "dc_listings = dc_listings.sort_values('distance')\n",
    "print(dc_listings.iloc[0:10]['price'])"
   ]
  },
  {
   "cell_type": "markdown",
   "metadata": {},
   "source": [
    "## 문제\n",
    "- 열에서 쉼표 ( ,) 및 달러 기호 문자 ( $)를 제거하십시오 price.\n",
    "- 사용 str우리는 문자열 방법 다음에 열의 각 값에 문자열 방법을 적용 할 수 있도록   빈 문자로 모든 쉼표 문자를 대체하는 접근을 바꾸기 :stripped_commas = dc_listings['price'].str.replace(',', '')\n",
    "- 달러 기호 문자도 제거하려면 반복하십시오.\n",
    "- 정리 된 값을 포함하는 새 Series 객체를 float데이터 유형으로 변환하고 의 price열에 다시 할당합니다 dc_listings.\n",
    "- price열 에서 처음 5 개 값의 평균을 계산 하고에 할당합니다 mean_price.\n",
    "print아래 의 함수 또는 변수 검사기를 사용하여 mean_price."
   ]
  },
  {
   "cell_type": "code",
   "execution_count": 45,
   "metadata": {},
   "outputs": [
    {
     "name": "stdout",
     "output_type": "stream",
     "text": [
      "156.6\n"
     ]
    }
   ],
   "source": [
    "stripped_commas = dc_listings['price'].str.replace(',', '')\n",
    "stripped_dollars = stripped_commas.str.replace('$', '')\n",
    "dc_listings['price'] = stripped_dollars.astype('float')\n",
    "mean_price = dc_listings.iloc[0:5]['price'].mean()\n",
    "print(mean_price)"
   ]
  },
  {
   "cell_type": "markdown",
   "metadata": {},
   "source": [
    "## 문제\n",
    "- predict_pricek- 최근 접 이웃 머신 러닝 기법을 사용하여에 대한 모든 값에 대해 제안 된 가격을 계산할 수 있는 함수를 작성합니다 accommodates. 이 기능은 다음과 같아야합니다.\n",
    "\n",
    "- new_listing침실 수를 설명 하는 단일 매개 변수를 가져옵니다 .\n",
    "- dc_listings라는 새 데이터 프레임에 할당 하는 코드를 추가했습니다 temp_df. 우리는 사용 pandas.DataFrame.copy () 기본 dataframe에 할당되도록 방법을 temp_df대신 그냥 참고로, dc_listings.\n",
    "- accommodates열의 각 값 과 new_listing전달 된 값 사이의 거리를 계산합니다 . 결과 Series 객체를의 distance열에 할당합니다 temp_df.\n",
    "- 열을 기준으로 정렬 temp_df하고 distance열에서 처음 5 개 값을 선택합니다 price. 의 순서를 무작위로 지정하지 마십시오 temp_df.\n",
    "- 이 5 개 값의 평균을 계산하고이를 전체 predict_price함수 의 반환 값으로 사용 합니다.\n",
    "- 이 predict_price기능을 사용하여 다음과 같은 생활 공간에 대한 가격을 제안 하십시오 .\n",
    "\n",
    "- 1사람을 수용 하고 제안 된 가격을에 할당합니다 acc_one.\n",
    "- 은 (는) 2사람들을 수용 하고 제안 된 가격을에 할당합니다 acc_two.\n",
    "- 은 (는) 4사람들을 수용 하고 제안 된 가격을에 할당합니다 acc_four."
   ]
  },
  {
   "cell_type": "code",
   "execution_count": null,
   "metadata": {},
   "outputs": [],
   "source": [
    "dc_listings = pd.read_csv('dc_airbnb.csv')\n",
    "stripped_commas = dc_listings['price'].str.replace(',', '')\n",
    "stripped_dollars = stripped_commas.str.replace('$', '')\n",
    "dc_listings['price'] = stripped_dollars.astype('float')\n",
    "dc_listings = dc_listings.loc[np.random.permutation(len(dc_listings))]\n",
    "\n",
    "def predict_price(new_listing):\n",
    "    temp_df = dc_listings.copy()\n",
    "    ## Complete the function.\n",
    "    return(new_listing)\n",
    "\n",
    "acc_one = predict_price(1)\n",
    "acc_two = predict_price(2)\n",
    "acc_four = predict_price(4)"
   ]
  },
  {
   "cell_type": "code",
   "execution_count": null,
   "metadata": {},
   "outputs": [],
   "source": []
  },
  {
   "cell_type": "code",
   "execution_count": null,
   "metadata": {},
   "outputs": [],
   "source": []
  },
  {
   "cell_type": "code",
   "execution_count": null,
   "metadata": {},
   "outputs": [],
   "source": []
  },
  {
   "cell_type": "markdown",
   "metadata": {},
   "source": [
    "## 문제\n",
    "- numpy.random.permutation()함수를 사용하여 의 행 순서를 섞습니다 dc_listings.\n",
    "- 처음 1862 개 행을 선택하고에 할당합니다 split_one.\n",
    "- 나머지 1861 개 행을 선택하고에 할당합니다 split_two."
   ]
  },
  {
   "cell_type": "code",
   "execution_count": 47,
   "metadata": {},
   "outputs": [],
   "source": [
    "dc_listings = pd.read_csv(\"dc_airbnb.csv\")\n",
    "stripped_commas = dc_listings['price'].str.replace(',', '')\n",
    "stripped_dollars = stripped_commas.str.replace('$', '')\n",
    "dc_listings['price'] = stripped_dollars.astype('float')\n",
    "random = np.random.permutation(dc_listings.index)\n",
    "dc_listings = dc_listings.reindex(random)\n",
    "\n",
    "split_one = dc_listings.iloc[0:1862].copy()\n",
    "split_two = dc_listings.iloc[1862:].copy()"
   ]
  },
  {
   "cell_type": "markdown",
   "metadata": {},
   "source": [
    "## 문제\n",
    "- 다음 auto과 같은 기본 알고리즘 ( )과 기본 이웃 수 ( 5)를 사용하여 k- 최근 접 이웃 모델을 훈련 시킵니다 .\n",
    "- 의 accommodates열을 사용하여 train_one교육 및\n",
    "에서 테스트합니다 test_one.\n",
    "- 결과 RMSE 값을에 할당합니다 iteration_one_rmse.\n",
    "- 다음 auto과 같은 기본 알고리즘 ( )과 기본 이웃 수 ( 5)를 사용하여 k- 최근 접 이웃 모델을 훈련 시킵니다 .\n",
    "- 의 accommodates열을 사용하여 train_two교육 및\n",
    "에서 테스트합니다 test_two.\n",
    "- 결과 RMSE 값을에 할당합니다 iteration_two_rmse.\n",
    "- 사용 numpy.mean()에 2 개 RMSE 값과 할당의 평균을 계산합니다 avg_rmse."
   ]
  },
  {
   "cell_type": "code",
   "execution_count": 54,
   "metadata": {},
   "outputs": [
    {
     "name": "stdout",
     "output_type": "stream",
     "text": [
      "127.27344626271997 132.57677774728035 129.92511200500016\n"
     ]
    }
   ],
   "source": [
    "from sklearn.neighbors import KNeighborsRegressor\n",
    "from sklearn.metrics import mean_squared_error\n",
    "\n",
    "train_one = split_one\n",
    "test_one = split_two\n",
    "train_two = split_two\n",
    "test_two = split_one\n",
    "\n",
    "model = KNeighborsRegressor()\n",
    "model.fit(train_one[['accommodates']], train_one['price'])\n",
    "test_one['predicted_price'] = model.predict(test_one[['accommodates']])\n",
    "iteration_one_rmse = mean_squared_error(test_one['price'], test_one['predicted_price'])**(1/2)\n",
    "\n",
    "model.fit(train_two[['accommodates']], train_two['price'])\n",
    "test_two['predicted_price'] = model.predict(test_two[['accommodates']])\n",
    "iteration_two_rmse = mean_squared_error(test_two['price'], test_two['predicted_price'])**(1/2)\n",
    "\n",
    "avg_rmse = np.mean([iteration_one_rmse, iteration_two_rmse])\n",
    "\n",
    "print(iteration_one_rmse, iteration_two_rmse, avg_rmse)"
   ]
  },
  {
   "cell_type": "markdown",
   "metadata": {},
   "source": [
    "## 문제\n",
    "- 각 행이 속한 접기 번호를 포함하는 dc_listingsnamed에 새 열을 추가합니다 fold.\n",
    "- 접어 1인덱스에서 행이 있어야 0최대 745포함하지 않음을 745.\n",
    "- 접어 2인덱스에서 행이 있어야 745최대 1490포함하지 않음을 1490.\n",
    "- 접어 3인덱스에서 행이 있어야 1490최대 2234포함하지 않음을 2234.\n",
    "- 접어 4인덱스에서 행이 있어야 2234최대 2978포함하지 않음을 2978.\n",
    "- 접어 5인덱스에서 행이 있어야 2978최대 3723포함하지 않음을 3723.\n",
    "- fold열에 대한 고유 값 개수를 표시하여 각 접기에 요소 수가 대략적으로 동일한 지 확인합니다.\n",
    "- 누락 된 fold행이 없는지 확인하기 위해 열에 누락 된 값의 수를 표시합니다 ."
   ]
  },
  {
   "cell_type": "code",
   "execution_count": 55,
   "metadata": {},
   "outputs": [
    {
     "name": "stdout",
     "output_type": "stream",
     "text": [
      "5.0    745\n",
      "2.0    745\n",
      "1.0    745\n",
      "4.0    744\n",
      "3.0    744\n",
      "Name: fold, dtype: int64\n",
      "누락 된 값의 수 : 0\n"
     ]
    }
   ],
   "source": [
    "dc_listings.loc[dc_listings.index[0:745], 'fold'] = 1\n",
    "dc_listings.loc[dc_listings.index[745:1490], 'fold'] = 2\n",
    "dc_listings.loc[dc_listings.index[1490:2234], 'fold'] = 3\n",
    "dc_listings.loc[dc_listings.index[2234:2978], 'fold'] = 4\n",
    "dc_listings.loc[dc_listings.index[2978:3723], 'fold'] = 5\n",
    "\n",
    "print(dc_listings['fold'].value_counts())\n",
    "print(\"누락 된 값의 수 :\", dc_listings['fold'].isnull().sum())"
   ]
  },
  {
   "cell_type": "markdown",
   "metadata": {},
   "source": [
    "사용하여 K-가장 가까운 이웃 모델 기차 accommodates주름에서 유일한 기능으로 열 2을 5훈련 세트로합니다.\n",
    "모델을 사용하여 테스트 세트 ( accommodates접힌 열 1)에 대한 예측을 수행하고 예측 레이블을에 할당합니다 labels.\n",
    "price열을 예측 된 레이블과 비교하여 RMSE 값을 계산합니다 .\n",
    "RMSE 값을에 할당합니다 iteration_one_rmse."
   ]
  },
  {
   "cell_type": "code",
   "execution_count": 56,
   "metadata": {},
   "outputs": [],
   "source": [
    "from sklearn.neighbors import KNeighborsRegressor\n",
    "from sklearn.metrics import mean_squared_error\n",
    "\n",
    "model = KNeighborsRegressor()\n",
    "train_iteration_one = dc_listings[dc_listings[\"fold\"] != 1]\n",
    "test_iteration_one = dc_listings[dc_listings[\"fold\"] == 1].copy()\n",
    "model.fit(train_iteration_one[[\"accommodates\"]], train_iteration_one[\"price\"])\n",
    "\n",
    "labels = model.predict(test_iteration_one[[\"accommodates\"]])\n",
    "test_iteration_one[\"predicted_price\"] = labels\n",
    "iteration_one_mse = mean_squared_error(test_iteration_one[\"price\"], test_iteration_one[\"predicted_price\"])\n",
    "iteration_one_rmse = iteration_one_mse ** (1/2)"
   ]
  },
  {
   "cell_type": "code",
   "execution_count": 57,
   "metadata": {},
   "outputs": [
    {
     "data": {
      "text/plain": [
       "141.06019182647103"
      ]
     },
     "execution_count": 57,
     "metadata": {},
     "output_type": "execute_result"
    }
   ],
   "source": [
    "iteration_one_rmse"
   ]
  },
  {
   "cell_type": "markdown",
   "metadata": {},
   "source": [
    "train_and_validate데이터 프레임을 첫 번째 매개 변수 ( df)로, 폴드 값 목록 ( 1이 5경우에는 to )을 두 번째 매개 변수 ( folds) 로 사용 하는 함수를 작성합니다 . 이 기능은 다음과 같아야합니다.\n",
    "\n",
    "기차 n모델 (여기서 n주름의 수이다)와 (K 배하여 교차 검증을 수행 n폴드). 기본 사용 k가치 KNeighborsRegressor클래스를.\n",
    "RMSE 값 목록을 반환합니다. 여기서 첫 번째 요소는 접기 1가 테스트 세트 일 때의 RMSE이고, 두 번째 요소는 접기 2가 테스트 세트 일 때의 RMSE입니다 .\n",
    "train_and_validate함수를 사용하여 dc_listingsDataframe에 대한 RMSE 값 목록을 반환 하고에 할당합니다 rmses.\n",
    "\n",
    "이 값의 평균을 계산하고에 할당합니다 avg_rmse.\n",
    "모두 표시 rmses하고 avg_rmse."
   ]
  },
  {
   "cell_type": "code",
   "execution_count": 58,
   "metadata": {},
   "outputs": [
    {
     "name": "stdout",
     "output_type": "stream",
     "text": [
      "[141.06019182647103, 121.3146165468921, 147.83474626859908, 129.84762865245813, 133.75555666811496]\n",
      "134.76254799250708\n"
     ]
    }
   ],
   "source": [
    "# Use np.mean to calculate the mean.\n",
    "import numpy as np\n",
    "fold_ids = [1,2,3,4,5]\n",
    "def train_and_validate(df, folds):\n",
    "    fold_rmses = []\n",
    "    for fold in folds:\n",
    "        # Train\n",
    "        model = KNeighborsRegressor()\n",
    "        train = df[df[\"fold\"] != fold]\n",
    "        test = df[df[\"fold\"] == fold].copy()\n",
    "        model.fit(train[[\"accommodates\"]], train[\"price\"])\n",
    "        # Predict\n",
    "        labels = model.predict(test[[\"accommodates\"]])\n",
    "        test[\"predicted_price\"] = labels\n",
    "        mse = mean_squared_error(test[\"price\"], test[\"predicted_price\"])\n",
    "        rmse = mse**(1/2)\n",
    "        fold_rmses.append(rmse)\n",
    "    return(fold_rmses)\n",
    "\n",
    "rmses = train_and_validate(dc_listings, fold_ids)\n",
    "print(rmses)\n",
    "avg_rmse = np.mean(rmses)\n",
    "print(avg_rmse)"
   ]
  },
  {
   "cell_type": "markdown",
   "metadata": {},
   "source": [
    "KFold다음 속성 을 사용하여 클래스 의 새 인스턴스를 만듭니다 .\n",
    "\n",
    "5 주름,\n",
    "셔플이로 설정 됨 True,\n",
    "임의의 시드 설정 1(동일한 시드를 사용하여 확인에 답할 수 있음)\n",
    "변수에 할당됩니다 kf.\n",
    "KNeighborsRegressor클래스 의 새 인스턴스를 만들고에 할당합니다 knn.\n",
    "\n",
    "cross_val_score()함수를 사용하여 k- 겹 교차 검증을 수행합니다.\n",
    "\n",
    "KNeighborsRegressor 인스턴스 사용 knn,\n",
    "accommodates교육용 열을 사용하여\n",
    "은 USING price대상 열로 열을\n",
    "MSE 값의 배열을 반환합니다 (폴드마다 하나의 값).\n",
    "MSE 값의 결과 목록을에 할당합니다 mses. 그런 다음 절대 값과 각 MSE 값의 제곱근을 가져옵니다. 그런 다음 결과 RMSE 값의 평균을 계산하고에 할당합니다 avg_rmse."
   ]
  },
  {
   "cell_type": "code",
   "execution_count": 59,
   "metadata": {},
   "outputs": [
    {
     "name": "stdout",
     "output_type": "stream",
     "text": [
      "[104.63459025 170.47761191 117.58890122 132.99210887 110.77106538]\n",
      "127.2928555250945\n"
     ]
    }
   ],
   "source": [
    "from sklearn.model_selection import cross_val_score, KFold\n",
    "kf = KFold(5, shuffle=True, random_state=1)\n",
    "model = KNeighborsRegressor()\n",
    "mses = cross_val_score(model, dc_listings[[\"accommodates\"]], dc_listings[\"price\"], scoring=\"neg_mean_squared_error\", cv=kf)\n",
    "rmses = np.sqrt(np.absolute(mses))\n",
    "avg_rmse = np.mean(rmses)\n",
    "\n",
    "print(rmses)\n",
    "print(avg_rmse)"
   ]
  },
  {
   "cell_type": "code",
   "execution_count": 60,
   "metadata": {},
   "outputs": [
    {
     "name": "stdout",
     "output_type": "stream",
     "text": [
      "3 folds:  avg RMSE:  129.90428443359949 std RMSE:  4.7029015855488705\n",
      "5 folds:  avg RMSE:  127.2928555250945 std RMSE:  23.57090552538319\n",
      "7 folds:  avg RMSE:  138.8254787100833 std RMSE:  25.966532627999783\n",
      "9 folds:  avg RMSE:  126.03268200811314 std RMSE:  25.994136061402976\n",
      "10 folds:  avg RMSE:  126.71998749180477 std RMSE:  34.918930856195274\n",
      "11 folds:  avg RMSE:  127.81229498417237 std RMSE:  31.39255586453055\n",
      "13 folds:  avg RMSE:  133.18323076144813 std RMSE:  36.67353767787447\n",
      "15 folds:  avg RMSE:  131.44382851865646 std RMSE:  41.049699660644215\n",
      "17 folds:  avg RMSE:  122.36003137127655 std RMSE:  40.2862102559604\n",
      "19 folds:  avg RMSE:  123.79789641093899 std RMSE:  39.67425555274921\n",
      "21 folds:  avg RMSE:  128.54025922391315 std RMSE:  40.86181406713698\n",
      "23 folds:  avg RMSE:  124.03852575973475 std RMSE:  39.36723201728224\n"
     ]
    }
   ],
   "source": [
    "from sklearn.model_selection import cross_val_score, KFold\n",
    "\n",
    "num_folds = [3, 5, 7, 9, 10, 11, 13, 15, 17, 19, 21, 23]\n",
    "\n",
    "for fold in num_folds:\n",
    "    kf = KFold(fold, shuffle=True, random_state=1)\n",
    "    model = KNeighborsRegressor()\n",
    "    mses = cross_val_score(model, dc_listings[[\"accommodates\"]], dc_listings[\"price\"], scoring=\"neg_mean_squared_error\", cv=kf)\n",
    "    rmses = np.sqrt(np.absolute(mses))\n",
    "    avg_rmse = np.mean(rmses)\n",
    "    std_rmse = np.std(rmses)\n",
    "    print(str(fold), \"folds: \", \"avg RMSE: \", str(avg_rmse), \"std RMSE: \", str(std_rmse))"
   ]
  },
  {
   "cell_type": "markdown",
   "metadata": {},
   "source": [
    "AmesHousing.txt탭 구분 기호 ( \\t)를 사용하여 데이터 프레임을 읽고 에 할당합니다 data.\n",
    "에서 첫 번째 1460행을 선택 data하고에 할당합니다 train.\n",
    "에서 나머지 행을 선택 data하고에 할당합니다 test.\n",
    "dataframe.info()방법을 사용하여 각 열에 대한 정보를 표시합니다.\n",
    "각 열에 대해 자세히 알아 보려면 데이터 문서 를 읽으십시오 .\n",
    "데이터 문서를 사용하여 예측하려는 대상 열을 결정합니다. 열 이름을에 문자열로 지정합니다 target."
   ]
  },
  {
   "cell_type": "code",
   "execution_count": 62,
   "metadata": {},
   "outputs": [
    {
     "name": "stdout",
     "output_type": "stream",
     "text": [
      "<class 'pandas.core.frame.DataFrame'>\n",
      "RangeIndex: 1461 entries, 0 to 1460\n",
      "Data columns (total 82 columns):\n",
      " #   Column           Non-Null Count  Dtype  \n",
      "---  ------           --------------  -----  \n",
      " 0   Order            1461 non-null   int64  \n",
      " 1   PID              1461 non-null   int64  \n",
      " 2   MS SubClass      1461 non-null   int64  \n",
      " 3   MS Zoning        1461 non-null   object \n",
      " 4   Lot Frontage     1211 non-null   float64\n",
      " 5   Lot Area         1461 non-null   int64  \n",
      " 6   Street           1461 non-null   object \n",
      " 7   Alley            109 non-null    object \n",
      " 8   Lot Shape        1461 non-null   object \n",
      " 9   Land Contour     1461 non-null   object \n",
      " 10  Utilities        1461 non-null   object \n",
      " 11  Lot Config       1461 non-null   object \n",
      " 12  Land Slope       1461 non-null   object \n",
      " 13  Neighborhood     1461 non-null   object \n",
      " 14  Condition 1      1461 non-null   object \n",
      " 15  Condition 2      1461 non-null   object \n",
      " 16  Bldg Type        1461 non-null   object \n",
      " 17  House Style      1461 non-null   object \n",
      " 18  Overall Qual     1461 non-null   int64  \n",
      " 19  Overall Cond     1461 non-null   int64  \n",
      " 20  Year Built       1461 non-null   int64  \n",
      " 21  Year Remod/Add   1461 non-null   int64  \n",
      " 22  Roof Style       1461 non-null   object \n",
      " 23  Roof Matl        1461 non-null   object \n",
      " 24  Exterior 1st     1461 non-null   object \n",
      " 25  Exterior 2nd     1461 non-null   object \n",
      " 26  Mas Vnr Type     1450 non-null   object \n",
      " 27  Mas Vnr Area     1450 non-null   float64\n",
      " 28  Exter Qual       1461 non-null   object \n",
      " 29  Exter Cond       1461 non-null   object \n",
      " 30  Foundation       1461 non-null   object \n",
      " 31  Bsmt Qual        1421 non-null   object \n",
      " 32  Bsmt Cond        1421 non-null   object \n",
      " 33  Bsmt Exposure    1420 non-null   object \n",
      " 34  BsmtFin Type 1   1421 non-null   object \n",
      " 35  BsmtFin SF 1     1460 non-null   float64\n",
      " 36  BsmtFin Type 2   1420 non-null   object \n",
      " 37  BsmtFin SF 2     1460 non-null   float64\n",
      " 38  Bsmt Unf SF      1460 non-null   float64\n",
      " 39  Total Bsmt SF    1460 non-null   float64\n",
      " 40  Heating          1461 non-null   object \n",
      " 41  Heating QC       1461 non-null   object \n",
      " 42  Central Air      1461 non-null   object \n",
      " 43  Electrical       1461 non-null   object \n",
      " 44  1st Flr SF       1461 non-null   int64  \n",
      " 45  2nd Flr SF       1461 non-null   int64  \n",
      " 46  Low Qual Fin SF  1461 non-null   int64  \n",
      " 47  Gr Liv Area      1461 non-null   int64  \n",
      " 48  Bsmt Full Bath   1460 non-null   float64\n",
      " 49  Bsmt Half Bath   1460 non-null   float64\n",
      " 50  Full Bath        1461 non-null   int64  \n",
      " 51  Half Bath        1461 non-null   int64  \n",
      " 52  Bedroom AbvGr    1461 non-null   int64  \n",
      " 53  Kitchen AbvGr    1461 non-null   int64  \n",
      " 54  Kitchen Qual     1461 non-null   object \n",
      " 55  TotRms AbvGrd    1461 non-null   int64  \n",
      " 56  Functional       1461 non-null   object \n",
      " 57  Fireplaces       1461 non-null   int64  \n",
      " 58  Fireplace Qu     744 non-null    object \n",
      " 59  Garage Type      1387 non-null   object \n",
      " 60  Garage Yr Blt    1386 non-null   float64\n",
      " 61  Garage Finish    1386 non-null   object \n",
      " 62  Garage Cars      1461 non-null   float64\n",
      " 63  Garage Area      1461 non-null   float64\n",
      " 64  Garage Qual      1386 non-null   object \n",
      " 65  Garage Cond      1386 non-null   object \n",
      " 66  Paved Drive      1461 non-null   object \n",
      " 67  Wood Deck SF     1461 non-null   int64  \n",
      " 68  Open Porch SF    1461 non-null   int64  \n",
      " 69  Enclosed Porch   1461 non-null   int64  \n",
      " 70  3Ssn Porch       1461 non-null   int64  \n",
      " 71  Screen Porch     1461 non-null   int64  \n",
      " 72  Pool Area        1461 non-null   int64  \n",
      " 73  Pool QC          1 non-null      object \n",
      " 74  Fence            297 non-null    object \n",
      " 75  Misc Feature     60 non-null     object \n",
      " 76  Misc Val         1461 non-null   int64  \n",
      " 77  Mo Sold          1461 non-null   int64  \n",
      " 78  Yr Sold          1461 non-null   int64  \n",
      " 79  Sale Type        1461 non-null   object \n",
      " 80  Sale Condition   1461 non-null   object \n",
      " 81  SalePrice        1461 non-null   int64  \n",
      "dtypes: float64(11), int64(28), object(43)\n",
      "memory usage: 936.1+ KB\n"
     ]
    }
   ],
   "source": [
    "import pandas as pd\n",
    "\n",
    "a = pd.read_csv('AmesHousing.txt', sep = '\\t')\n",
    "a.head()\n",
    "\n",
    "train = a.iloc[0:1461]\n",
    "test = a.iloc[1460:]\n",
    "\n",
    "train.info()\n",
    "\n",
    "target = 'SalePrice'"
   ]
  },
  {
   "cell_type": "markdown",
   "metadata": {},
   "source": [
    "데이터를 탐색하려면 데이터 train프레임을 사용하여 플롯을 만듭니다 .\n",
    "\n",
    "단일 열에 세 개의 산점도를 포함하는 치수가 7 x 15 인 Figure를 만듭니다.\n",
    "첫 번째 플롯은 y 축의 열에 Garage Area대해 x 축의 열을 플로팅해야합니다 SalePrice.\n",
    "두 번째 는 y 축의 열에 Gr Liv Area대해 x 축의 열을 플로팅해야합니다 SalePrice.\n",
    "세 번째 Overall Cond는 x 축의 SalePrice열을 y 축의 열에 대해 플로팅해야합니다 .\n",
    "데이터 문서 에서이 3 개 열에 대해 자세히 알아보세요 ."
   ]
  },
  {
   "cell_type": "code",
   "execution_count": 63,
   "metadata": {},
   "outputs": [
    {
     "data": {
      "image/png": "[encoded data removed]",
      "text/plain": [
       "<Figure size 504x1080 with 3 Axes>"
      ]
     },
     "metadata": {
      "needs_background": "light"
     },
     "output_type": "display_data"
    }
   ],
   "source": [
    "import matplotlib.pyplot as plt\n",
    "fig = plt.figure(figsize=(7,15))\n",
    "\n",
    "ax1 = fig.add_subplot(3, 1, 1)\n",
    "ax2 = fig.add_subplot(3, 1, 2)\n",
    "ax3 = fig.add_subplot(3, 1, 3)\n",
    "\n",
    "train.plot(x=\"Garage Area\", y=\"SalePrice\", ax=ax1, kind=\"scatter\")\n",
    "train.plot(x=\"Gr Liv Area\", y=\"SalePrice\", ax=ax2, kind=\"scatter\")\n",
    "train.plot(x=\"Overall Cond\", y=\"SalePrice\", ax=ax3, kind=\"scatter\")\n",
    "\n",
    "plt.show()"
   ]
  },
  {
   "cell_type": "markdown",
   "metadata": {},
   "source": [
    "선형 회귀 모델을 가져오고 인스턴스화합니다.\n",
    "가격을 예측하기 위해 최상의 기능을 사용하는 선형 회귀 모델을 적합합니다. 기본 인수를 사용합니다 .\n",
    "coef_및 intercept_속성을 사용하여 피팅 된 모델의 계수와 절편을 표시 합니다.\n",
    "Assign a1 to a1 and a0 to a0"
   ]
  },
  {
   "cell_type": "code",
   "execution_count": 64,
   "metadata": {},
   "outputs": [
    {
     "name": "stdout",
     "output_type": "stream",
     "text": [
      "[116.92461444]\n",
      "5307.908448440809\n"
     ]
    }
   ],
   "source": [
    "from sklearn.linear_model import LinearRegression\n",
    "lr = LinearRegression()\n",
    "lr.fit(train[['Gr Liv Area']], train['SalePrice'])\n",
    "print(lr.coef_)\n",
    "print(lr.intercept_)\n",
    "\n",
    "a0 = lr.intercept_\n",
    "a1 = lr.coef_"
   ]
  },
  {
   "cell_type": "markdown",
   "metadata": {},
   "source": [
    "적합 모델을 사용하여 훈련 세트와 테스트 세트 모두에 대해 예측합니다.\n",
    "훈련 세트의 예측에 대한 RMSE 값을 계산하고에 할당합니다 train_rmse.\n",
    "테스트 세트의 예측에 대한 RMSE 값을 계산하고에 할당합니다 test_rmse."
   ]
  },
  {
   "cell_type": "code",
   "execution_count": 65,
   "metadata": {},
   "outputs": [
    {
     "name": "stdout",
     "output_type": "stream",
     "text": [
      "56025.48502868523\n",
      "57090.79429669655\n"
     ]
    }
   ],
   "source": [
    "import numpy as np\n",
    "\n",
    "lr = LinearRegression()\n",
    "lr.fit(train[['Gr Liv Area']], train['SalePrice'])\n",
    "from sklearn.metrics import mean_squared_error\n",
    "\n",
    "train_predictions = lr.predict(train[['Gr Liv Area']])\n",
    "test_predictions = lr.predict(test[['Gr Liv Area']])\n",
    "\n",
    "train_mse = mean_squared_error(train_predictions, train['SalePrice'])\n",
    "test_mse = mean_squared_error(test_predictions, test['SalePrice'])\n",
    "\n",
    "train_rmse = np.sqrt(train_mse)\n",
    "test_rmse = np.sqrt(test_mse)\n",
    "\n",
    "print(train_rmse)\n",
    "print(test_rmse)"
   ]
  },
  {
   "cell_type": "markdown",
   "metadata": {},
   "source": [
    "의 열을 사용하여 선형 회귀 모델을 훈련시킵니다 cols.\n",
    "피팅 된 모델을 사용하여 훈련 및 테스트 데이터 세트 모두에 대해 예측합니다.\n",
    "훈련 세트의 예측에 대한 RMSE 값을 계산하고에 할당합니다 train_rmse_2.\n",
    "테스트 세트의 예측에 대한 RMSE 값을 계산하고에 할당합니다 test_rmse_2."
   ]
  },
  {
   "cell_type": "code",
   "execution_count": 66,
   "metadata": {},
   "outputs": [
    {
     "name": "stdout",
     "output_type": "stream",
     "text": [
      "56023.43045249407\n",
      "57068.982233394214\n"
     ]
    }
   ],
   "source": [
    "cols = ['Overall Cond', 'Gr Liv Area']\n",
    "lr.fit(train[cols], train['SalePrice'])\n",
    "train_predictions = lr.predict(train[cols])\n",
    "test_predictions = lr.predict(test[cols])\n",
    "\n",
    "train_rmse_2 = np.sqrt(mean_squared_error(train_predictions, train['SalePrice']))\n",
    "test_rmse_2 = np.sqrt(mean_squared_error(test_predictions, test['SalePrice']))\n",
    "\n",
    "print(train_rmse_2)\n",
    "print(test_rmse_2)"
   ]
  },
  {
   "cell_type": "code",
   "execution_count": null,
   "metadata": {},
   "outputs": [],
   "source": []
  },
  {
   "cell_type": "code",
   "execution_count": null,
   "metadata": {},
   "outputs": [],
   "source": []
  },
  {
   "cell_type": "markdown",
   "metadata": {},
   "source": [
    "admissions.csv라는 데이터 프레임을 읽 습니다 admissions.\n",
    "Matplotlib 메서드 scatter 를 사용하여 다음을 사용하여 산점도 를 생성합니다.\n",
    "gpa x 축의 열.\n",
    "admit y 축의 열.\n",
    "plt.show()산점도를 표시하는 데 사용 합니다."
   ]
  },
  {
   "cell_type": "code",
   "execution_count": 68,
   "metadata": {},
   "outputs": [
    {
     "data": {
      "image/png": "[encoded data removed]",
      "text/plain": [
       "<Figure size 432x288 with 1 Axes>"
      ]
     },
     "metadata": {
      "needs_background": "light"
     },
     "output_type": "display_data"
    }
   ],
   "source": [
    "import pandas as pd\n",
    "import matplotlib.pyplot as plt\n",
    "admissions = pd.read_csv('admissions.csv')\n",
    "plt.scatter(admissions['gpa'], admissions['admit'])\n",
    "plt.show()"
   ]
  },
  {
   "cell_type": "code",
   "execution_count": 69,
   "metadata": {},
   "outputs": [
    {
     "data": {
      "image/png": "[encoded data removed]",
      "text/plain": [
       "<Figure size 432x288 with 1 Axes>"
      ]
     },
     "metadata": {
      "needs_background": "light"
     },
     "output_type": "display_data"
    }
   ],
   "source": [
    "import numpy as np\n",
    "\n",
    "# Logistic Function\n",
    "def logistic(x):\n",
    "    # np.exp(x) raises x to the exponential power, ie e^x. e ~= 2.71828\n",
    "    return np.exp(x)  / (1 + np.exp(x)) \n",
    "    \n",
    "# Generate 50 real values, evenly spaced, between -6 and 6.\n",
    "x = np.linspace(-6,6,50, dtype=float)\n",
    "\n",
    "# Transform each number in t using the logistic function.\n",
    "y = logistic(x)\n",
    "\n",
    "# Plot the resulting data.\n",
    "plt.plot(x, y)\n",
    "plt.ylabel(\"Probability\")\n",
    "plt.show()"
   ]
  },
  {
   "cell_type": "markdown",
   "metadata": {},
   "source": [
    "LogisticRegression 클래스를 가져 오고 이름이 logistic_model.\n",
    "LogisticRegression 방법 fit을 사용하여 모델을 데이터에 맞 춥니 다. 우리는 gpa값을 사용하여 값을 예측 하는 모델을 구성하는 데에만 관심이 admit있습니다.\n",
    "문제 가 발생하면 LogisticRegression 클래스에 대한 설명서를 참조하십시오 ."
   ]
  },
  {
   "cell_type": "code",
   "execution_count": null,
   "metadata": {},
   "outputs": [],
   "source": [
    "from sklearn.linear_model import LinearRegression\n",
    "linear_model = LinearRegression()\n",
    "linear_model.fit(admissions['gpa'],admissions['admit'])"
   ]
  },
  {
   "cell_type": "code",
   "execution_count": 71,
   "metadata": {},
   "outputs": [
    {
     "data": {
      "text/plain": [
       "LogisticRegression()"
      ]
     },
     "execution_count": 71,
     "metadata": {},
     "output_type": "execute_result"
    }
   ],
   "source": [
    "from sklearn.linear_model import LogisticRegression\n",
    "logistic_model = LogisticRegression()\n",
    "logistic_model.fit(admissions[[\"gpa\"]], admissions[\"admit\"])"
   ]
  },
  {
   "cell_type": "markdown",
   "metadata": {},
   "source": [
    "LogisticRegression 메서드 predict_proba를 사용하여 gpa열의 데이터에 대한 예측 확률을 반환합니다 . 반환 된 확률을에 할당합니다 pred_probs.\n",
    "\n",
    "Matplotlib scatter함수를 사용하여 산점도를 만들고 표시합니다 .\n",
    "\n",
    "x 축은 gpa열의 값입니다.\n",
    "y 축은 label로 분류 될 확률입니다 1."
   ]
  },
  {
   "cell_type": "code",
   "execution_count": 72,
   "metadata": {},
   "outputs": [
    {
     "data": {
      "text/plain": [
       "<matplotlib.collections.PathCollection at 0x261fbce6f88>"
      ]
     },
     "execution_count": 72,
     "metadata": {},
     "output_type": "execute_result"
    },
    {
     "data": {
      "image/png": "[encoded data removed]",
      "text/plain": [
       "<Figure size 432x288 with 1 Axes>"
      ]
     },
     "metadata": {
      "needs_background": "light"
     },
     "output_type": "display_data"
    }
   ],
   "source": [
    "logistic_model = LogisticRegression()\n",
    "logistic_model.fit(admissions[[\"gpa\"]], admissions[\"admit\"])\n",
    "pred_probs = logistic_model.predict_proba(admissions[[\"gpa\"]])\n",
    "plt.scatter(admissions[\"gpa\"], pred_probs[:,1])"
   ]
  },
  {
   "cell_type": "markdown",
   "metadata": {},
   "source": [
    "LogisticRegression 메서드predict 를 사용하여 훈련 세트의 각 레이블에 대한 예측값을 반환합니다.\n",
    "\n",
    "predict메소드 의 매개 변수는 메소드 의 매개 변수 와 일치합니다 predict_proba.\n",
    "X: 예측에 사용할 데이터 행입니다.\n",
    "결과를에 할당합니다 fitted_labels.\n",
    "Matplotlib scatter함수를 사용하여 산점도를 만들고 표시합니다 .\n",
    "\n",
    "x 축은 gpa열의 값입니다.\n",
    "y 축은 fitted_labels"
   ]
  },
  {
   "cell_type": "code",
   "execution_count": 74,
   "metadata": {},
   "outputs": [
    {
     "data": {
      "text/plain": [
       "<matplotlib.collections.PathCollection at 0x261fdf86908>"
      ]
     },
     "execution_count": 74,
     "metadata": {},
     "output_type": "execute_result"
    },
    {
     "data": {
      "image/png": "[encoded data removed]",
      "text/plain": [
       "<Figure size 432x288 with 1 Axes>"
      ]
     },
     "metadata": {
      "needs_background": "light"
     },
     "output_type": "display_data"
    }
   ],
   "source": [
    "logistic_model = LogisticRegression()\n",
    "logistic_model.fit(admissions[['gpa']], admissions['admit'])\n",
    "fitted_labels = logistic_model.predict(admissions[['gpa']])\n",
    "plt.scatter(admissions['gpa'], fitted_labels)"
   ]
  },
  {
   "cell_type": "code",
   "execution_count": null,
   "metadata": {},
   "outputs": [],
   "source": []
  },
  {
   "cell_type": "code",
   "execution_count": null,
   "metadata": {},
   "outputs": [],
   "source": []
  },
  {
   "cell_type": "code",
   "execution_count": null,
   "metadata": {},
   "outputs": [],
   "source": []
  },
  {
   "cell_type": "code",
   "execution_count": null,
   "metadata": {},
   "outputs": [],
   "source": []
  },
  {
   "cell_type": "code",
   "execution_count": null,
   "metadata": {},
   "outputs": [],
   "source": []
  },
  {
   "cell_type": "code",
   "execution_count": null,
   "metadata": {},
   "outputs": [],
   "source": []
  },
  {
   "cell_type": "code",
   "execution_count": null,
   "metadata": {},
   "outputs": [],
   "source": []
  },
  {
   "cell_type": "code",
   "execution_count": null,
   "metadata": {},
   "outputs": [],
   "source": []
  },
  {
   "cell_type": "code",
   "execution_count": null,
   "metadata": {},
   "outputs": [],
   "source": []
  },
  {
   "cell_type": "code",
   "execution_count": null,
   "metadata": {},
   "outputs": [],
   "source": []
  },
  {
   "cell_type": "code",
   "execution_count": null,
   "metadata": {},
   "outputs": [],
   "source": []
  },
  {
   "cell_type": "code",
   "execution_count": null,
   "metadata": {},
   "outputs": [],
   "source": []
  },
  {
   "cell_type": "code",
   "execution_count": null,
   "metadata": {},
   "outputs": [],
   "source": []
  },
  {
   "cell_type": "code",
   "execution_count": null,
   "metadata": {},
   "outputs": [],
   "source": []
  },
  {
   "cell_type": "code",
   "execution_count": null,
   "metadata": {},
   "outputs": [],
   "source": []
  },
  {
   "cell_type": "code",
   "execution_count": null,
   "metadata": {},
   "outputs": [],
   "source": []
  },
  {
   "cell_type": "code",
   "execution_count": null,
   "metadata": {},
   "outputs": [],
   "source": []
  },
  {
   "cell_type": "code",
   "execution_count": null,
   "metadata": {},
   "outputs": [],
   "source": []
  },
  {
   "cell_type": "code",
   "execution_count": null,
   "metadata": {},
   "outputs": [],
   "source": []
  },
  {
   "cell_type": "code",
   "execution_count": null,
   "metadata": {},
   "outputs": [],
   "source": []
  }
 ],
 "metadata": {
  "hide_input": false,
  "kernelspec": {
   "display_name": "Python 3",
   "language": "python",
   "name": "python3"
  },
  "language_info": {
   "codemirror_mode": {
    "name": "ipython",
    "version": 3
   },
   "file_extension": ".py",
   "mimetype": "text/x-python",
   "name": "python",
   "nbconvert_exporter": "python",
   "pygments_lexer": "ipython3",
   "version": "3.7.6"
  },
  "toc": {
   "base_numbering": 1,
   "nav_menu": {},
   "number_sections": true,
   "sideBar": true,
   "skip_h1_title": false,
   "title_cell": "Table of Contents",
   "title_sidebar": "Contents",
   "toc_cell": false,
   "toc_position": {},
   "toc_section_display": true,
   "toc_window_display": false
  }
 },
 "nbformat": 4,
 "nbformat_minor": 4
}
