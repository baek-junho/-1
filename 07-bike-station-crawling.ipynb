{
 "cells": [
  {
   "cell_type": "markdown",
   "metadata": {},
   "source": [
    "# 크롤링으로 위경도 가져오기\n",
    "* 따릉이 대여소 정보 가져오기\n",
    "* 크롤링 위치 : https://www.bikeseoul.com/app/station/moveStationSearchView.do?currentPageNo=1\n"
   ]
  },
  {
   "cell_type": "code",
   "execution_count": 7,
   "metadata": {},
   "outputs": [],
   "source": [
    "# 라이브러리 로드\n",
    "# requests는 작은 웹브라우저로 웹사이트 내용을 가져옵니다.\n",
    "import requests\n",
    "# bs4에서 BeautifulSoup 을 bs 라는 별칭으로 읽어옵니다. 웹페이지를 파싱합니다.\n",
    "from bs4 import BeautifulSoup as bs\n",
    "\n",
    "# random은 랜덤한 시간차를 두고 가져오기 위해 사용합니다.\n",
    "import random\n",
    "# time 으로 시간을 구합니다.\n",
    "import time\n",
    "# 크롤링 후 결과를 데이터프레임 형태로 보기 위해 판다스를 불러옵니다.\n",
    "import pandas as pd"
   ]
  },
  {
   "cell_type": "markdown",
   "metadata": {},
   "source": [
    "## 전체 목록 받아오기\n",
    "\n",
    "1. requests.get 으로 url을 읽어옵니다.\n",
    "1. response.status_code != 200 HTTP 응답값을 확인합니다.\n",
    "1. bs(response.text, 'html.parser') 로 파싱합니다.\n",
    "1. 복사해온 html 엘리먼트 값을 사용해서 크롤링하고자 하는 태그를 찾습니다.\n",
    "1. not tbody 로 tobody 값이 없다면 종료하도록 합니다.\n",
    "1. www.bikeseoul.com 사이트의 서버에 부담을 덜 주기 위해 시간차를 두고 가져옵니다.\n",
    "time.sleep(random.uniform(1,3))\n",
    "1. 크롤링 해서 가져온 대여소 정보를 리스트에 담아 줍니다.\n",
    "1. 몇 페이지를 크롤링 하고 있는지 찍어봅니다. \n",
    "1. 페이지 하나를 불러왔다면 페이지 번호를 넣어주면 해당 페이지를 불러오는 함수를 만듭니다.\n",
    "1. 이전 결과가 있다면 페이지번호를 하나씩 더해서 재귀호출을 합니다.\n",
    "1. 같은 함수를 재귀호출해서 실행합니다.\n",
    "1. 함수 내부에 response의 tbody 값을 전달해 각 대여소의 상세 정보를 받아오는 함수를 작성합니다."
   ]
  },
  {
   "cell_type": "code",
   "execution_count": 8,
   "metadata": {},
   "outputs": [],
   "source": [
    "# 크롤링 할 사이트\n",
    "base_url = 'https://www.bikeseoul.com/app/station/moveStationSearchView.do?currentPageNo='\n",
    "\n",
    "# 전체 대여소 정보를 담아줄 비어있는 리스트를 만듭니다.\n",
    "all_stations = []\n",
    "\n",
    "def crawling_rent_station(pnum):\n",
    "    return all_stations"
   ]
  },
  {
   "cell_type": "code",
   "execution_count": 13,
   "metadata": {},
   "outputs": [
    {
     "data": {
      "text/html": [
       "<div>\n",
       "<style scoped>\n",
       "    .dataframe tbody tr th:only-of-type {\n",
       "        vertical-align: middle;\n",
       "    }\n",
       "\n",
       "    .dataframe tbody tr th {\n",
       "        vertical-align: top;\n",
       "    }\n",
       "\n",
       "    .dataframe thead th {\n",
       "        text-align: right;\n",
       "    }\n",
       "</style>\n",
       "<table border=\"1\" class=\"dataframe\">\n",
       "  <thead>\n",
       "    <tr style=\"text-align: right;\">\n",
       "      <th></th>\n",
       "      <th>대여소 이름</th>\n",
       "      <th>상태정보</th>\n",
       "      <th>거치대수</th>\n",
       "      <th>대여가능거치대수</th>\n",
       "      <th>위치</th>\n",
       "    </tr>\n",
       "  </thead>\n",
       "  <tbody>\n",
       "    <tr>\n",
       "      <th>0</th>\n",
       "      <td>1001. 광진교 남단 사거리(디지털프라자앞)</td>\n",
       "      <td>운영중</td>\n",
       "      <td>15</td>\n",
       "      <td>1</td>\n",
       "      <td>서울특별시 강동구 올림픽로 674 로석빌딩</td>\n",
       "    </tr>\n",
       "    <tr>\n",
       "      <th>1</th>\n",
       "      <td>1002. 해공공원(천호동)</td>\n",
       "      <td>운영중</td>\n",
       "      <td>10</td>\n",
       "      <td>0</td>\n",
       "      <td>서울특별시 강동구 올림픽로 702 해공도서관</td>\n",
       "    </tr>\n",
       "    <tr>\n",
       "      <th>2</th>\n",
       "      <td>1003. 해공도서관앞</td>\n",
       "      <td>운영중</td>\n",
       "      <td>20</td>\n",
       "      <td>0</td>\n",
       "      <td>서울특별시 강동구 올림픽로 702 해공도서관</td>\n",
       "    </tr>\n",
       "    <tr>\n",
       "      <th>3</th>\n",
       "      <td>1004. 삼성광나루아파트 버스정류장</td>\n",
       "      <td>운영중</td>\n",
       "      <td>10</td>\n",
       "      <td>1</td>\n",
       "      <td>서울특별시 강동구 올림픽로 812</td>\n",
       "    </tr>\n",
       "    <tr>\n",
       "      <th>4</th>\n",
       "      <td>1006. 롯데캐슬 115동앞</td>\n",
       "      <td>운영중</td>\n",
       "      <td>15</td>\n",
       "      <td>0</td>\n",
       "      <td>서울특별시 강동구 고덕로 131 강동 롯데캐슬퍼스트아파트</td>\n",
       "    </tr>\n",
       "  </tbody>\n",
       "</table>\n",
       "</div>"
      ],
      "text/plain": [
       "                      대여소 이름 상태정보  거치대수  대여가능거치대수  \\\n",
       "0  1001. 광진교 남단 사거리(디지털프라자앞)  운영중    15         1   \n",
       "1            1002. 해공공원(천호동)  운영중    10         0   \n",
       "2               1003. 해공도서관앞  운영중    20         0   \n",
       "3       1004. 삼성광나루아파트 버스정류장  운영중    10         1   \n",
       "4           1006. 롯데캐슬 115동앞  운영중    15         0   \n",
       "\n",
       "                                위치  \n",
       "0          서울특별시 강동구 올림픽로 674 로석빌딩  \n",
       "1         서울특별시 강동구 올림픽로 702 해공도서관  \n",
       "2         서울특별시 강동구 올림픽로 702 해공도서관  \n",
       "3               서울특별시 강동구 올림픽로 812  \n",
       "4  서울특별시 강동구 고덕로 131 강동 롯데캐슬퍼스트아파트  "
      ]
     },
     "execution_count": 13,
     "metadata": {},
     "output_type": "execute_result"
    }
   ],
   "source": [
    "#pd.read_html(base_url+\"1\")\n",
    "table = pd.read_html(f\"{base_url}1\")\n",
    "table[0]"
   ]
  },
  {
   "cell_type": "markdown",
   "metadata": {},
   "source": [
    "## 각 대여소의 정보를 받아오기\n",
    "1. tbody 값이 있는지 확인합니다.\n",
    "1. tr을 반복문으로 순회합니다.\n",
    "1. '.' 이 대여소명에 들어가는지 확인하고 이 문자로 대여소 번호와 대여소명을 가져옵니다. \n",
    "1. get_text()를 통해 문자만 가져올 수 있습니다.\n",
    "1. 없다면 대여소번호를 np.nan 으로 결측치를 넣어주고 대여소는 텍스트 데이터를 넣어줍니다.\n",
    "1. 거치대수를 가져옵니다.\n",
    "1. 운영여부를 가져옵니다.\n",
    "1. 주소를 가져옵니다.\n",
    "1. 위도, 경도를 가져옵니다 .find('a')['param-data'] 로 찾습니다.\n",
    "1. 위도, 경도를 \",\" 문자로 분리합니다.\n",
    "1. 대여소 리스트에 info 리스트를 담습니다.\n",
    "1. rent_stations 에 담고 다 만들었다면 반환합니다."
   ]
  },
  {
   "cell_type": "code",
   "execution_count": 14,
   "metadata": {},
   "outputs": [
    {
     "data": {
      "text/plain": [
       "'https://www.bikeseoul.com/app/station/moveStationSearchView.do?currentPageNo='"
      ]
     },
     "execution_count": 14,
     "metadata": {},
     "output_type": "execute_result"
    }
   ],
   "source": [
    "base_url"
   ]
  },
  {
   "cell_type": "code",
   "execution_count": 18,
   "metadata": {},
   "outputs": [],
   "source": [
    "response = requests.get(f\"{base_url}1\")"
   ]
  },
  {
   "cell_type": "code",
   "execution_count": 19,
   "metadata": {},
   "outputs": [
    {
     "data": {
      "text/plain": [
       "'<!DOCTYPE html>\\r\\n<html lang=\"ko\">\\r\\n<head>\\r\\n<meta charset=\"utf-8\" />\\r\\n<meta http-equiv=\"X-UA-Compatible\" content=\"IE=edge\" /> \\r\\n<meta name=\"viewport\" content=\"width=device-width, initial-scale=1, minimum-scale=1, maximum-scale=1, user-scalable=no\" />\\r\\n<meta name=\"description=\" Content=\"\" />\\r\\n<title>서울자전거 따릉이 - 무인대여시스템</title>\\r\\n<link href=\"/css/jquery-ui.css\" rel=\"stylesheet\" type=\"text/css\" />\\r\\n<script type=\"text/javascript\" src=\"/js/jquery-1.12.4.js\"></script> \\r\\n<script type=\"text/javascript\" src=\"/js/jquery-ui.js\"></script>\\r\\n<script type=\"text/javascript\" src=\"/js/easing/jquery.easing.1.3.js\"></script>\\r\\n<script type=\"text/javascript\" src=\"/js/gibberish-aes.js\"></script>\\r\\n<script type=\"text/javascript\" src=\"/js/jquery.simpler-sidebar.min.js\"></script>\\r\\n<script type=\"text/javascript\" src=\"/js/jquery-confirm.js\"></script>\\r\\n<script type=\"text/javascript\" src=\"/js/comm.js\"></script>\\r\\n<script type=\"text/javascript\" src=\"/js/common_spb.js\"></script>\\r\\n\\r\\n<link rel=\"stylesheet\" href=\"/css/style_kr_v2.css?ver=0428\" type=\"text/css\">\\r\\n<link rel=\"stylesheet\" href=\"/css/common.css\" type=\"text/css\">\\r\\n<link rel=\"stylesheet\" href=\"/css/jquery-confirm.css\">\\r\\n<!--[if lt IE 9]>\\r\\n<link href=\"/css/pw.css\" title=\"ie8chn\" rel=\"stylesheet\" type=\"text/css\" />\\r\\n<script src=\"/js/html5.js\"></script>\\r\\n<script src=\"/js/respond.min.js\"></script>\\r\\n<![endif]-->\\r\\n<style type=\"text/css\">\\r\\n.nodata {height: 35px;text-align: center; border-bottom: 1px solid #d2d2d2;margin-top: 12px;};\\r\\n</style>\\r\\n</head>\\r\\n<body>\\r\\n    <!--\\r\\n    *****************************\\r\\n    ** 스켑네비\\r\\n    * 2015\\r\\n    *****************************\\r\\n    -->\\r\\n    <!-- <div id=\"skip_navi\">\\r\\n\\t<ul>\\r\\n\\t\\t<li><a href=\"#pwPC\"><span>주메뉴 바로가기</span></a></li>\\r\\n\\t\\t<li><a href=\"#container\"><span>본문 바로가기</span></a></li>\\r\\n\\t</ul>\\r\\n</div> --><!--\\r\\n    *****************************\\r\\n    ** 상단 영역 (GNB 포함)\\r\\n    * 2015\\r\\n    *****************************\\r\\n    -->\\r\\n    <!--웹 : 헤더추가-->\\r\\n    <div class=\"header_wrap\">\\r\\n        <div class=\"header\">\\r\\n        \\t<div class=\"top\">\\r\\n\\t\\t\\t\\t<div class=\"m_sub_header_wrap\">\\r\\n\\t\\t\\t\\t\\t<div class=\"m_sub_header\">\\r\\n\\t\\t\\t\\t\\t\\t<button class=\"back\"></button>\\r\\n\\t\\t\\t\\t\\t\\t<button class=\"close\"></button>\\r\\n\\t\\t\\t\\t\\t\\t<span id=\"title\"></span>\\r\\n\\t\\t\\t\\t\\t</div>\\r\\n\\t\\t\\t\\t\\t<!-- //.m_sub_header -->\\r\\n\\t\\t\\t\\t</div>\\r\\n\\t\\t\\t\\t<!-- //.m_sub_header_wrap -->\\r\\n\\t\\t\\t\\r\\n        \\t\\t<div class=\"m_menu\">메뉴열기</div>\\r\\n\\t\\t\\t\\t<div class=\"m_global\">언어선택</div>\\r\\n\\t\\t\\t\\t<div class=\"info\"><a href=\"/info/infoReg.do\">이용안내</a></div>\\r\\n\\t\\t\\t\\t<div class=\"alim\"><a href=\"/app/mybike/getPushHistory.do\">알림</a></div>\\r\\n\\t\\t\\t\\t<a class=\"join\" href=\"/memberRegSelect.do?appOsType=\">회원가입</a>\\r\\n\\t\\t\\t\\t\\t\\t<a class=\"login\" href=\"/login.do\">\\r\\n\\t\\t\\t\\t\\t\\t\\t로그인</a>\\r\\n\\t\\t\\t\\t\\t<div class=\"global\" id=\"changeLang\">\\r\\n\\t\\t\\t\\t\\t<ul>\\r\\n\\t\\t\\t\\t\\t\\t<li class=\"en\"><a href=\"https://www.bikeseoul.com:457/main.do?lang=en\">ENGLISH</a></li>\\r\\n\\t\\t\\t\\t\\t\\t\\t    <li class=\"ch\"><a href=\"https://www.bikeseoul.com:457/main.do?lang=zh\">中國語</a></li>\\r\\n\\t\\t\\t\\t\\t\\t\\t    <li class=\"ja\"><a href=\"https://www.bikeseoul.com:457/main.do?lang=ja\">日本語</a></li>\\r\\n\\t\\t\\t\\t\\t\\t\\t    <li class=\"ko\"><a href=\"https://www.bikeseoul.com:456/main.do?lang=ko\">한국어</a></li>\\r\\n\\t\\t\\t\\t\\t\\t\\t</ul>\\r\\n\\t\\t\\t\\t</div>\\r\\n\\t\\t\\t\\t\\r\\n\\t\\t\\t\\t\\r\\n\\t\\t\\t</div>\\r\\n\\t\\t\\t<!-- 모바일 화면 -->\\r\\n\\t\\t\\t<div class=\"logo\"><a href=\"/main.do\"><img src=\"/images/logo.png\" alt=\"서울자전거 따릉이\"></a></div>\\r\\n            \\r\\n            <!--메뉴(웹)-->\\r\\n            <div class=\"menu_web\">\\r\\n                <ul>\\r\\n                    <li><a href=\"/main.do#bike_info\">사업소개</a></li>\\r\\n                    <li><a href=\"/app/station/moveStationRealtimeStatus.do\">대여소 조회</a></li>\\r\\n                    <li><a href=\"/app/ticket/member/buyTicketList.do\">이용권 구매</a></li>\\r\\n                    <li><a href=\"/customer/opinionBoard/opinionBoardList.do\">문의/FAQ</a></li>\\r\\n                    <li><a href=\"/customer/notice/noticeList.do\">공지사항</a></li>\\r\\n                    <li><a href=\"/customer/faq/faqList.do\">안전수칙</a></li>\\r\\n                </ul>\\r\\n            </div>\\r\\n            <!--메뉴(웹)--> \\r\\n        </div>\\r\\n        <div class=\"bike_tap\">\\r\\n\\t\\t  \\t<ul>\\r\\n\\t\\t\\t\\t<li class=\"first\"><span id=\"all\">전체</span></li>\\r\\n\\t\\t\\t\\t<li class=\"second\"><span id=\"lcd\">LCD형<br>따릉이</span></li>\\r\\n\\t\\t\\t\\t<li class=\"third\"><span id=\"qr\">QR형<br>뉴따릉이</span></li>\\r\\n\\t\\t\\t\\t<li class=\"forth\"><span id=\"elec\">e 따릉이</span></li>\\r\\n\\t\\t\\t</ul>\\r\\n\\t\\t</div>\\r\\n\\t\\t<div class=\"remarks\">\\r\\n\\t\\t\\t<ul>\\r\\n\\t\\t\\t\\t<li class=\"title\">대여소</li>\\r\\n\\t\\t\\t\\t<li class=\"place01\">LCD형,&nbsp;QR형<br>따릉이&nbsp;반납가능</li>\\r\\n\\t\\t\\t\\t<li class=\"place02\">QR형&nbsp;뉴따릉이&nbsp;전용<br><span class=\"lcd\">(LCD형&nbsp;반납불가)</span></li>\\r\\n\\t\\t\\t</ul>\\r\\n\\t\\t</div> \\r\\n\\t\\t<!-- //remarks -->\\r\\n    </div>\\r\\n    <!--웹 : 헤더추가--><!--\\r\\n    *****************************\\r\\n    ** 반응형 슬라이드메뉴\\r\\n    * 2015\\r\\n    *****************************\\r\\n    -->\\r\\n    <script type=\"text/javascript\">\\r\\n\\t\\r\\n\\t\\tfunction moveSnsViewPage(flag){\\r\\n\\t\\t\\t\\r\\n\\t\\t\\tvar tUrl = \"\";\\r\\n\\t\\t\\tif(flag === \\'snsFacebook\\') {\\r\\n\\t\\t\\t\\ttUrl = \"https://www.facebook.com/seoulbike\";\\r\\n\\t\\t    } else {\\r\\n\\t\\t    \\ttUrl = \"https://twitter.com/seoulbike\";\\r\\n\\t\\t    }\\r\\n\\t\\t\\tswitch(window.osType){\\r\\n\\t\\t\\t    case \"web\" :\\r\\n\\t\\t\\t    \\twindow.open(tUrl,\"_blank\");\\r\\n\\t\\t\\t        break;\\r\\n\\t\\t\\t    case \"android\" :\\r\\n\\t\\t\\t        var pData = {targetUrl  :tUrl, returnFnc : \"\", title : \"서울자전거sns\" };\\r\\n\\t\\t\\t        window.android.openWebviewPopup(JSON.stringify(pData));\\r\\n\\t\\t\\t        break;\\r\\n\\t\\t\\t    case \"ios\" : \\r\\n\\t\\t\\t        var iosUrl = \\'toApp://?{\"targetUrl\" : \"\\'+tUrl+\\'\",\"title\" : \"서울자전거sns\", \"returnFnc\" : \"\", \"call\":\"openWebviewPopup\"}\\';\\r\\n\\t\\t\\t        window.location = iosUrl;\\r\\n\\t\\t\\t        break;\\r\\n\\t\\t    }\\r\\n\\t\\t}\\r\\n\\t</script>\\r\\n<div id=\"subctn\">\\r\\n        <!--\\r\\n        *****************************\\r\\n        ** LNB 영역\\r\\n        * 2015\\r\\n        *****************************\\r\\n        -->\\r\\n        <!-- <script src=\"/js/accordion/jquery-2.1.0.min.js\"></script> -->\\r\\n<script src=\"/js/accordion/jquery.responsiveTabs.js\" type=\"text/javascript\"></script>\\r\\n<script type=\"text/javascript\">\\r\\n        $(document).ready(function () {\\r\\n            var $tabs = $(\\'#horizontalTab\\');\\r\\n            $tabs.responsiveTabs({\\r\\n                rotate: false,\\r\\n                startCollapsed: \\'accordion\\',\\r\\n                collapsible: \\'accordion\\',\\r\\n                setHash: true,\\r\\n                disabled: [8,9],\\r\\n                click: function(e, tab) {\\r\\n                \\t\\r\\n                },\\r\\n                activate: function(e, tab) {\\r\\n                  \\r\\n                },\\r\\n    \\t\\t\\tactivateState: function(e, state) {\\r\\n    \\t\\t\\t\\t//console.log(state);\\r\\n    \\t\\t\\t}\\r\\n            });\\r\\n\\r\\n            $(\\'#start-rotation\\').on(\\'click\\', function() {\\r\\n                $tabs.responsiveTabs(\\'startRotation\\', 1000);\\r\\n            });\\r\\n            $(\\'#stop-rotation\\').on(\\'click\\', function() {\\r\\n                $tabs.responsiveTabs(\\'stopRotation\\');\\r\\n            });\\r\\n            $(\\'#start-rotation\\').on(\\'click\\', function() {\\r\\n                $tabs.responsiveTabs(\\'active\\');\\r\\n            });\\r\\n            $(\\'#enable-tab\\').on(\\'click\\', function() {\\r\\n                $tabs.responsiveTabs(\\'enable\\', 3);\\r\\n            });\\r\\n            $(\\'#disable-tab\\').on(\\'click\\', function() {\\r\\n                $tabs.responsiveTabs(\\'disable\\', 3);\\r\\n            });\\r\\n            $(\\'.select-tab\\').on(\\'click\\', function() {\\r\\n                $tabs.responsiveTabs(\\'activate\\', $(this).val());\\r\\n            });\\r\\n\\r\\n\\t\\t     $(\\'ul.tabs li\\').click(function(){\\r\\n    var tab_id = $(this).attr(\\'data-tab\\');\\t\\r\\n    var tab_idx = tab_id.substring(4);\\r\\n\\r\\n    $(\\'ul.tabs li\\').removeClass(\\'current\\');\\r\\n    $(\\'.tab-content\\').removeClass(\\'current\\');\\r\\n \\r\\n    $(this).addClass(\\'current\\');\\r\\n    $(\"#\"+tab_id).addClass(\\'current\\');\\r\\n\\r\\n    //다른 항목에 있는 current 까지 삭제 한거 복구 \\r\\n\\tif(tab_idx.length == 2) {\\r\\n\\t\\t$(\"#tab-\"+tab_id.substring(1)).addClass(\\'current\\');\\r\\n\\t} else if(tab_idx.length == 1) {\\r\\n\\t\\t$(\"#tab-\"+tab_idx+tab_idx).addClass(\\'current\\');\\r\\n\\t}\\r\\n\\r\\n  })\\r\\n\\r\\n\\r\\n});\\r\\n\\r\\n</script>\\r\\n\\r\\n<!--하단바-->\\r\\n    <div class=\"bottom\">\\r\\n        <dl> \\r\\n            <dd class=\"my\">\\r\\n            \\t<button id=\"showLeft\" class=\"my\" style=\"display: none\"></button>\\r\\n            \\t<a href=\"/leftPage.do\"></a>\\r\\n                \\r\\n            </dd>\\r\\n            <dd class=\"bookmark\"><a href=\"/app/mybike/favoriteStation.do\"></a></dd>\\r\\n            <dt class=\"guide\"><a href=\"/info/infoReg.do\"></a></dt>\\r\\n            <dd class=\"qr\"><a href=\"javascript:goQrRent();\" id=\"qr\"></a></dd>\\r\\n            <dd class=\"ticket\"><a href=\"/app/ticket/member/buyTicketList.do\"></a></dd>\\r\\n        </dl>\\r\\n        \\r\\n    </div>\\r\\n    <!--하단바--><!--\\r\\n        *****************************\\r\\n        ** 컨텐츠 영역\\r\\n        * 2015\\r\\n        *****************************\\r\\n        -->\\r\\n        <article id=\"container\">\\r\\n            <h4>대여소 조회</h4>\\r\\n            <div class=\"ctnlocation\">\\r\\n                <span>서울자전거 대여소를 조회합니다.</span>\\r\\n                <p> &gt; 대여소 조회 &gt; <span>대여소 조회</span></p>\\r\\n            </div>\\r\\n           \\r\\n            <section class=\"searchbox\">\\r\\n            <form id=\"searchForm\">\\r\\n                <input type=\"hidden\" name=\"currentPageNo\" value=\"1\">\\r\\n                <fieldset>\\r\\n                    <legend>대여소그룹 선택</legend>\\r\\n                  <!--   <label for=\"stationsch\">지역</label> -->\\r\\n                    <select id=\"stationsch\" name=\"stationGrpSeq\">\\r\\n                        <option value=\"\">지역구 선택</option>\\r\\n                    </select>\\r\\n                    \\r\\n<!--                     <select id=\"stationsch\" name=\"stationGrpSeq\">\\r\\n                        <option value=\"\">대여소 선택</option>\\r\\n                    </select>   -->         \\r\\n                    <button type=\"button\" class=\"green1btn searchicon1\" id=\"searchBtn\" ><span>검색</span></button>\\r\\n                    <!-- <button type=\"button\" class=\"greenbtn1 btnsize1\" id=\"mapOpen\"><span>지도보기</span></button> -->\\r\\n                </fieldset>\\r\\n            </form>\\r\\n            </section>\\r\\n            <p class=\"tbuptext tr\"><span id=\"totStationCnt\">2038</span> 곳의 대여소가 있습니다.</p>\\r\\n            <table class=\"psboard1\">\\r\\n                <caption>\\r\\n                    <details>\\r\\n                        <summary>주변상권 홍보 및 연계</summary>\\r\\n                        <p>대여소, 업종, 이름, 전화, 위치, 내용</p>\\r\\n                    </details>\\r\\n                </caption>\\r\\n                <colgroup>\\r\\n                    <col style=\"width:25%\" />\\r\\n                    <col style=\"width:15%\" />\\r\\n                    <col style=\"width:10%\" />\\r\\n                    <col style=\"width:10%\" />\\r\\n                    <col class=\"mhid\" style=\"width:auto\" />\\r\\n                </colgroup>\\r\\n                <thead>\\r\\n                    <tr>\\r\\n                        <th scope=\"col\">대여소 이름</th>\\r\\n                        <th scope=\"col\">상태정보</th>\\r\\n                        <th scope=\"col\">거치대수</th>\\r\\n                        <th scope=\"col\">대여가능<br />거치대수</th>\\r\\n                        <th  class=\"mhid\" scope=\"col\">위치</th>\\r\\n                    </tr>\\r\\n                </thead>\\r\\n                <tbody>\\r\\n                <tr>\\r\\n\\t\\t                <td class=\"pl10\"><a href=\"#\" param-data=\"37.54179382,127.12474823\" >1001. 광진교 남단 사거리(디지털프라자앞)</a></td>\\r\\n\\t\\t                <td class=\"pl10\">\\r\\n                        운영중</td>\\r\\n\\t\\t                <td class=\"tr\">15</td>\\r\\n\\t\\t                <td class=\"tr\">1</td>\\r\\n\\t\\t                <td class=\"tbleft mhid\"><span>서울특별시 강동구 올림픽로 674 로석빌딩 </span></td>\\r\\n\\t                </tr>\\r\\n                <tr>\\r\\n\\t\\t                <td class=\"pl10\"><a href=\"#\" param-data=\"37.54526138,127.12594604\" >1002. 해공공원(천호동)</a></td>\\r\\n\\t\\t                <td class=\"pl10\">\\r\\n                        운영중</td>\\r\\n\\t\\t                <td class=\"tr\">10</td>\\r\\n\\t\\t                <td class=\"tr\">0</td>\\r\\n\\t\\t                <td class=\"tbleft mhid\"><span>서울특별시 강동구 올림픽로 702 해공도서관 </span></td>\\r\\n\\t                </tr>\\r\\n                <tr>\\r\\n\\t\\t                <td class=\"pl10\"><a href=\"#\" param-data=\"37.54395676,127.12548828\" >1003. 해공도서관앞</a></td>\\r\\n\\t\\t                <td class=\"pl10\">\\r\\n                        운영중</td>\\r\\n\\t\\t                <td class=\"tr\">20</td>\\r\\n\\t\\t                <td class=\"tr\">0</td>\\r\\n\\t\\t                <td class=\"tbleft mhid\"><span>서울특별시 강동구 올림픽로 702 해공도서관 </span></td>\\r\\n\\t                </tr>\\r\\n                <tr>\\r\\n\\t\\t                <td class=\"pl10\"><a href=\"#\" param-data=\"37.55332947,127.12886810\" >1004. 삼성광나루아파트 버스정류장</a></td>\\r\\n\\t\\t                <td class=\"pl10\">\\r\\n                        운영중</td>\\r\\n\\t\\t                <td class=\"tr\">10</td>\\r\\n\\t\\t                <td class=\"tr\">1</td>\\r\\n\\t\\t                <td class=\"tbleft mhid\"><span>서울특별시 강동구 올림픽로 812 </span></td>\\r\\n\\t                </tr>\\r\\n                <tr>\\r\\n\\t\\t                <td class=\"pl10\"><a href=\"#\" param-data=\"37.55486679,127.14279938\" >1006. 롯데캐슬 115동앞</a></td>\\r\\n\\t\\t                <td class=\"pl10\">\\r\\n                        운영중</td>\\r\\n\\t\\t                <td class=\"tr\">15</td>\\r\\n\\t\\t                <td class=\"tr\">0</td>\\r\\n\\t\\t                <td class=\"tbleft mhid\"><span>서울특별시 강동구 고덕로 131 강동 롯데캐슬퍼스트아파트 </span></td>\\r\\n\\t                </tr>\\r\\n                </tbody>\\r\\n            </table>\\r\\n            <div class=\"paging\">\\r\\n                <div id=\"pagingWeb\">\\r\\n                <a href=\"#\" onclick=\"pageSelect(1); return false;\"><img src=\"/images/first.gif\" alt=\"맨 처음 페이지\" /></a>\\n<a href=\"#\" onclick=\"pageSelect(1); return false;\"><img src=\"/images/p_prev.gif\" alt=\"이전 페이지\" /></a>\\n<span class=\"on\"><a href=\"#\"><strong>1</strong></a></span>\\n<span><a href=\"#\" onclick=\"pageSelect(2); return false;\">2</a></span>\\n<span><a href=\"#\" onclick=\"pageSelect(3); return false;\">3</a></span>\\n<span><a href=\"#\" onclick=\"pageSelect(4); return false;\">4</a></span>\\n<span><a href=\"#\" onclick=\"pageSelect(5); return false;\">5</a></span>\\n<a href=\"#\" onclick=\"pageSelect(6); return false;\"><img src=\"/images/p_next.gif\" alt=\"다음 페이지\" /></a>\\n<a href=\"#\" onclick=\"pageSelect(408); return false;\"><img src=\"/images/last.gif\" alt=\"마지막 페이지\" /></a>\\n\\n</div>\\r\\n                <div id=\"pagingMobile\">\\r\\n                <a href=\"#\" onclick=\"pageSelect(1); return false;\"><img src=\"/images/first.gif\" alt=\"맨 처음 페이지\" /></a>\\n<a href=\"#\" onclick=\"pageSelect(1); return false;\"><img src=\"/images/p_prev.gif\" alt=\"이전 페이지\" /></a>\\n<span class=\"on\"><a href=\"#\"><strong>1</strong></a></span>\\n<span><a href=\"#\" onclick=\"pageSelect(2); return false;\">2</a></span>\\n<span><a href=\"#\" onclick=\"pageSelect(3); return false;\">3</a></span>\\n<a href=\"#\" onclick=\"pageSelect(4); return false;\"><img src=\"/images/p_next.gif\" alt=\"다음 페이지\" /></a>\\n<a href=\"#\" onclick=\"pageSelect(408); return false;\"><img src=\"/images/last.gif\" alt=\"마지막 페이지\" /></a>\\n\\n</div>\\r\\n            </div>\\r\\n            <p class=\"tc mt40\" id=\"pdfDiv\">\\r\\n\\t\\t\\t<button type=\"button\" class=\"greenbtn1 btnsize1\" id=\"mapOpen\">지도보기<span></span></button>\\r\\n            </p>\\r\\n        </article>\\r\\n    </div>\\r\\n    <!--\\r\\n    *****************************\\r\\n    ** 하단 풋더 영역\\r\\n    * 2015\\r\\n    *****************************\\r\\n    -->\\r\\n    <!-- <div > \\r\\n         <h1 class=\"popTt\"></h1>\\r\\n        <div id=\"mapDivPop\" class=\"popmaparea\">\\r\\n            \\r\\n            ++ 테스트이미지입니다. 지워주세요 HTML Validator 제외부분\\r\\n            ++ 개발을 위한 POSITION 값 인라인 코딩\\r\\n           \\r\\n        </div>\\r\\n    </div> -->\\r\\n    <!--footer-->\\r\\n    <div class=\"footer_wrap\">\\r\\n        <div class=\"footer\">\\r\\n        \\t<div class=\"left\">\\r\\n            <ul>\\r\\n                <!--<li><a href=\"\">개인정보처리방침</a></li>\\r\\n                <li class=\"line\"><a href=\"\">이메일주소무단수집거부</a></li>-->\\r\\n                <li><a href=\"/app/use/moveUseMenuClauseInfo.do\">이용약관</a></li>\\r\\n                <li class=\"line\"><a href=\"/app/use/moveUseMenuClauseInfo.do?tabInfo=2\">개인정보처리방침</a></li>\\r\\n                <li class=\"line\"><a href=\"/app/use/moveUseMenuInsurance.do\">보험안내</a></li>\\r\\n                <li class=\"line\"><a href=\"/customer/donor/donorList.do\">도움주신 분</a></li>\\r\\n                            \\r\\n            </ul>\\r\\n            <p>서울특별시 중구 세종대로 110 서울특별시 대표자 서정협, Tel : 1599-0120 (사업자등록번호 : 104-83-00469) 우편번호 04524</p>\\r\\n            <p>COPYRIGHT ⓒ 2018 bikeseoul All RIGHTS RESERVED.</p>\\r\\n            </div>\\r\\n            <dl>\\r\\n                <dt>sns</dt>\\r\\n                <dd class=\"face\" onclick=\"javascript:moveSnsViewPage(\\'snsFacebook\\')\"><a href=\"#\" id=\"snsFacebook\">&nbsp;</a></dd>\\r\\n                <dd class=\"twit\" onclick=\"javascript:moveSnsViewPage(\\'snsTweeter\\')\"><a href=\"#\" id=\"snsTweeter\">&nbsp;</a></dd>\\r\\n            </dl>\\r\\n        </div>\\r\\n    </div>\\r\\n<!--footer-->\\r\\n\\r\\n<script type=\"text/javascript\">\\r\\n\\r\\n$(function() {\\r\\n    $(\".back\").on(\"click\", goBack);\\r\\n});\\r\\n\\r\\n$(function() {\\r\\n    $(\".back.left\").on(\"click\", goBackLeft);\\r\\n});\\r\\n\\r\\n$(function() {\\r\\n    $(\".back.right\").on(\"click\", goBackRight);\\r\\n});\\r\\n\\r\\n$(function() {\\r\\n    $(\".pwback\").on(\"click\", goBack);\\r\\n});\\r\\n$(function() {\\r\\n    $(\".close\").on(\"click\", goHome);\\r\\n});\\r\\n$(function() {\\r\\n    $(\".logo\").on(\"click\", goHome);\\r\\n});\\r\\n$(function() {\\r\\n    $(\".alim\").on(\"click\", goAlim);\\r\\n});\\r\\n$(function() {\\r\\n    //$(\"#changeLang\").on(\"click\", changeLang);\\r\\n});\\r\\nfunction osInfo(pOSobj){\\r\\n    var obj = JSON.parse(pOSobj);\\r\\n    window.osType = obj.osInfo;\\r\\n    \\r\\n    //대여소 찿기 PDF 버튼 숨기기.\\r\\n    if($(\"#pdfDiv\") !== \\'undefined\\') {\\r\\n\\t    $(\"#pdfDiv\").css(\"display\",\"none\");\\r\\n    }\\r\\n};\\r\\n\\r\\nfunction goBack(e) {\\r\\n\\t//e.preventDefault();\\r\\n    //alert(\"2->\"+e.type +\":\"+ window.osType);\\r\\n    window.osType = \\'\\';\\r\\n    //alert(window.osType);\\r\\n    switch(window.osType){\\r\\n    case \"web\" :\\r\\n    \\twindow.history.go(-1);      \\r\\n        break;\\r\\n    case \"android\" :\\r\\n        window.android.goBack();\\r\\n        break;\\r\\n    case \"ios\" : \\r\\n        window.location = \\'toApp://?{\"call\":\"goBack\"}\\';\\r\\n        break;\\r\\n    case \"\" :\\r\\n    \\twindow.history.go(-1);      \\r\\n        break;\\r\\n    }\\r\\n}\\r\\n\\r\\nfunction goBackLeft(e) {\\r\\n    //e.preventDefault();\\r\\n    //alert(\"2->\"+e.type +\":\"+ window.osType);\\r\\n   /*  switch(window.osType){\\r\\n    case \"web\" :\\r\\n        window.location.href=\\'/main.do\\';     \\r\\n        break;\\r\\n    case \"android\" :\\r\\n    \\twindow.location.href=\\'/main.do\\';\\r\\n        break;\\r\\n    case \"ios\" : \\r\\n    \\twindow.location.href=\\'/main.do\\';\\r\\n        break;\\r\\n    case \"\" :\\r\\n    \\twindow.location.href=\\'/main.do\\';      \\r\\n        break;    \\r\\n    } */\\r\\n}\\r\\n\\r\\nfunction goBackRight(e) {\\r\\n    //e.preventDefault();\\r\\n    //alert(\"2->\"+e.type +\":\"+ window.osType);\\r\\n    /* switch(window.osType){\\r\\n    case \"web\" :\\r\\n        window.location.href=\\'/main.do\\';     \\r\\n        break;\\r\\n    case \"android\" :\\r\\n    \\twindow.location.href=\\'/main.do\\';\\r\\n        break;\\r\\n    case \"ios\" : \\r\\n    \\twindow.location.href=\\'/main.do\\';\\r\\n        break;\\r\\n    case \"\" :\\r\\n    \\twindow.location.href=\\'/main.do\\';      \\r\\n        break;    \\r\\n    } */\\r\\n\\t/* switch(window.osType){\\r\\n    case \"web\" :\\r\\n    \\twindow.history.go(-1);      \\r\\n        break;\\r\\n    case \"android\" :\\r\\n        window.android.goBack();\\r\\n        break;\\r\\n    case \"ios\" : \\r\\n        window.location = \\'toApp://?{\"call\":\"goBack\"}\\';\\r\\n        break;\\r\\n    case \"\" :\\r\\n    \\twindow.history.go(-1);      \\r\\n        break;\\r\\n    } */\\r\\n}\\r\\n\\r\\nfunction goHome(e) {\\r\\n\\tsetCookie(\"step\", 0);\\r\\n    //e.preventDefault();\\r\\n    //alert(\"2->\"+e.type +\":\"+ window.osType);\\r\\n    switch(window.osType){\\r\\n    case \"web\" :\\r\\n        window.location.href=\\'/main.do\\';     \\r\\n        break;\\r\\n    case \"android\" :\\r\\n    \\twindow.location.href=\\'/main.do\\';\\r\\n        break;\\r\\n    case \"ios\" : \\r\\n    \\twindow.location.href=\\'/main.do\\';\\r\\n        break;\\r\\n    case \"\" :\\r\\n    \\twindow.location.href=\\'/main.do\\';      \\r\\n        break;    \\r\\n    }\\r\\n}\\r\\n\\r\\nfunction goAlim(e) {\\r\\n    //e.preventDefault();\\r\\n    //alert(\"2->\"+e.type +\":\"+ window.osType);\\r\\n    switch(window.osType){\\r\\n    case \"web\" :\\r\\n        window.location.href=\\'/app/mybike/getPushHistory.do\\';     \\r\\n        break;\\r\\n    case \"android\" :\\r\\n    \\twindow.location.href=\\'/app/mybike/getPushHistory.do\\';\\r\\n        break;\\r\\n    case \"ios\" : \\r\\n    \\twindow.location.href=\\'/app/mybike/getPushHistory.do\\';\\r\\n        break;\\r\\n    case \"\" :\\r\\n        window.location.href=\\'/app/mybike/getPushHistory.do\\';     \\r\\n        break;    \\r\\n    }\\r\\n}\\r\\n\\r\\nfunction changeLang(e) {\\r\\n\\tvar lang = \\'en\\'\\n\\r\\n\\tswitch(window.osType){\\r\\n    case \"web\" :\\r\\n        window.location.href=\\'/main.do?lang=\\'+lang;     \\r\\n        break;\\r\\n    case \"android\" :\\r\\n    \\twindow.location.href=\\'/main.do?lang=\\'+lang;\\r\\n        break;\\r\\n    case \"ios\" : \\r\\n    \\twindow.location.href=\\'/main.do?lang=\\'+lang;\\r\\n        break;\\r\\n    case \"\" :\\r\\n        window.location.href=\\'/main.do?lang=\\'+lang;     \\r\\n        break;    \\r\\n    }\\r\\n}\\r\\n\\r\\nfunction moveSnsViewPage(flag){\\r\\n\\t\\t\\t\\r\\n\\tvar tUrl = \"\";\\r\\n\\tif(flag === \\'snsFacebook\\') {\\r\\n\\t\\ttUrl = \"https://www.facebook.com/seoulbike\";\\r\\n    } else {\\r\\n    \\ttUrl = \"https://twitter.com/seoulbike\";\\r\\n    }\\r\\n\\tswitch(window.osType){\\r\\n\\t    case \"web\" :\\r\\n\\t    \\twindow.open(tUrl,\"_blank\");\\r\\n\\t        break;\\r\\n\\t    case \"android\" :\\r\\n\\t        var pData = {targetUrl  :tUrl, returnFnc : \"\", title : \"서울자전거sns\" };\\r\\n\\t        window.android.openWebviewPopup(JSON.stringify(pData));\\r\\n\\t        break;\\r\\n\\t    case \"ios\" : \\r\\n\\t        var iosUrl = \\'toApp://?{\"targetUrl\" : \"\\'+tUrl+\\'\",\"title\" : \"서울자전거sns\", \"returnFnc\" : \"\", \"call\":\"openWebviewPopup\"}\\';\\r\\n\\t        window.location = iosUrl;\\r\\n\\t        break;\\r\\n    }\\r\\n}\\r\\n\\t\\t\\r\\n</script>\\r\\n<script type=\"text/javascript\" src=\"/js/common_spb.js\"></script>\\r\\n    <script type=\"text/javascript\" src=\"/js/stationView.js\"></script>\\r\\n    <script type=\"text/javascript\">\\r\\n    $(function(){\\r\\n        station.makeStationCombo($(\"#stationsch\"),\"\");\\r\\n        $(\"#searchBtn\").on(\"click\", searchStation);\\r\\n        $(\".psboard1 tbody tr\").find(\\'a\\').on(\\'click\\', openMapPopup);\\r\\n        var appOsType =  \\'\\';\\r\\n        if(appOsType === \"android\" || appOsType === \"ios\") {\\r\\n        \\t$(\"#mapOpen\").hide();\\r\\n        } else {\\r\\n        \\tstationGrpSeqMap(\"\");\\r\\n        \\t$(\"#mapOpen\").on(\"click\", action);\\r\\n        }\\r\\n    });\\r\\n  //2017.01.20\\r\\n    var guname = [\"종로구 \", \"중구 \", \"마포구 \", \"서대문구 \", \"성동구 \", \"광진구 \", \"동대문구 \", \"영등포구 \", \"양천구 \", \"용산구 \", \"은평구 \"];\\r\\n    var show = \"지도보기\";\\r\\n    var image = \"/images/bikemap/map_\";\\r\\n    \\r\\n    function stationGrpSeqMap(stationGrpSeq) {\\r\\n    \\tvar Seq = Number(stationGrpSeq);\\r\\n    \\tif(stationGrpSeq === \"\"){\\r\\n    \\t\\t$(\"#mapOpen\").text(show);\\r\\n    \\t}else{\\r\\n    \\t\\t$(\"#mapOpen\").text(guname[Seq-10]+show);\\r\\n    \\t}\\r\\n    }\\r\\n  //2017.01.20\\r\\n    function pageSelect(pageNo) {\\r\\n    \\t$(\"[name=\\'currentPageNo\\']\").val(pageNo);\\r\\n    \\texeList();\\r\\n    }\\r\\n    function searchStation(e) {\\r\\n        e.preventDefault();\\r\\n        $(\"[name=\\'currentPageNo\\']\").val(1);\\r\\n        exeList();\\r\\n    }\\r\\n    function exeList() {\\r\\n    \\t$(\"#searchForm\").attr({action : \"/app/station/moveStationSearchView.do\"}).submit();\\r\\n    }\\r\\n    function openMapPopup(e){\\r\\n        var title = $(this).text() ;\\r\\n        var lat = $(this).attr(\\'param-data\\').split(\",\")[0];\\r\\n        var log = $(this).attr(\\'param-data\\').split(\",\")[1];\\r\\n        \\r\\n        var tUrl = \\'https://www.bikeseoul.com:443/app/station/showStationDetailPop.do?stationLongitude=\\'+log+\\'&stationLatitude=\\'+ lat;\\r\\n        \\r\\n    \\tswitch(window.osType){\\r\\n    \\t    case \"web\" :\\r\\n    \\t    \\tif($(\".winNewPop\").length > 0) {\\r\\n                    $(\"body\").find(\".winNewPop\").remove();\\r\\n                }\\r\\n                var pop = $(\\'<a>\\').attr({\\'href\\':\"/app/station/showStationDetailPop.do\",\\'title\\':\"새창으로 열림\" ,\\'data-title\\': title \\r\\n                         ,\\'data-width\\' :600, \\'data-height\\':500,\\'data-pmt\\':\"&stationLongitude=\"+ log+\"&stationLatitude=\"+lat}).addClass(\\'winNewPop\\');\\r\\n                $(\"body\").append(pop);\\r\\n                $(\".winNewPop\").trigger(\"click\");\\r\\n    \\t    \\tbreak;\\r\\n    \\t    case \"android\" :\\r\\n    \\t    \\tvar pData = {targetUrl  :tUrl, returnFnc : \"\", title : title };\\r\\n                window.android.openWebviewPopup(JSON.stringify(pData));\\r\\n    \\t        break;\\r\\n    \\t    case \"ios\" : \\r\\n    \\t    \\tvar iosUrl = \\'toApp://?{\"targetUrl\" : \"\\'+tUrl+\\'\",\"title\" : \"\\'+title+\\'\", \"returnFnc\" : \"\", \"call\":\"openWebviewPopup\"}\\';\\r\\n    \\t    \\twindow.location = iosUrl;\\r\\n    \\t    \\tbreak;\\r\\n    \\t}\\r\\n    }\\r\\n    function action(){\\r\\n    \\t//2017.01.20\\r\\n    \\tvar select = Number($(\"#stationsch option:selected\").val());\\r\\n    \\tif(select === 0){\\r\\n    \\t\\talert(\"지역구를 선택하십시오.\");\\r\\n    \\t}else{\\r\\n    \\t\\tlocation.href = image + String(select) + \".jpg\";\\r\\n    \\t}\\r\\n    \\t//2017.01.20\\r\\n\\t}\\r\\n    </script>\\r\\n</body>\\r\\n</html>\\r\\n'"
      ]
     },
     "execution_count": 19,
     "metadata": {},
     "output_type": "execute_result"
    }
   ],
   "source": [
    "response.text"
   ]
  },
  {
   "cell_type": "code",
   "execution_count": 20,
   "metadata": {},
   "outputs": [
    {
     "data": {
      "text/plain": [
       "str"
      ]
     },
     "execution_count": 20,
     "metadata": {},
     "output_type": "execute_result"
    }
   ],
   "source": [
    "type(response.text)"
   ]
  },
  {
   "cell_type": "code",
   "execution_count": 22,
   "metadata": {},
   "outputs": [
    {
     "data": {
      "text/plain": [
       "<!DOCTYPE html>\n",
       "<html lang=\"ko\">\n",
       "<head>\n",
       "<meta charset=\"utf-8\"/>\n",
       "<meta content=\"IE=edge\" http-equiv=\"X-UA-Compatible\"/>\n",
       "<meta content=\"width=device-width, initial-scale=1, minimum-scale=1, maximum-scale=1, user-scalable=no\" name=\"viewport\"/>\n",
       "<meta content=\"\" name=\"description=\"/>\n",
       "<title>서울자전거 따릉이 - 무인대여시스템</title>\n",
       "<link href=\"/css/jquery-ui.css\" rel=\"stylesheet\" type=\"text/css\"/>\n",
       "<script src=\"/js/jquery-1.12.4.js\" type=\"text/javascript\"></script>\n",
       "<script src=\"/js/jquery-ui.js\" type=\"text/javascript\"></script>\n",
       "<script src=\"/js/easing/jquery.easing.1.3.js\" type=\"text/javascript\"></script>\n",
       "<script src=\"/js/gibberish-aes.js\" type=\"text/javascript\"></script>\n",
       "<script src=\"/js/jquery.simpler-sidebar.min.js\" type=\"text/javascript\"></script>\n",
       "<script src=\"/js/jquery-confirm.js\" type=\"text/javascript\"></script>\n",
       "<script src=\"/js/comm.js\" type=\"text/javascript\"></script>\n",
       "<script src=\"/js/common_spb.js\" type=\"text/javascript\"></script>\n",
       "<link href=\"/css/style_kr_v2.css?ver=0428\" rel=\"stylesheet\" type=\"text/css\"/>\n",
       "<link href=\"/css/common.css\" rel=\"stylesheet\" type=\"text/css\"/>\n",
       "<link href=\"/css/jquery-confirm.css\" rel=\"stylesheet\"/>\n",
       "<!--[if lt IE 9]>\n",
       "<link href=\"/css/pw.css\" title=\"ie8chn\" rel=\"stylesheet\" type=\"text/css\" />\n",
       "<script src=\"/js/html5.js\"></script>\n",
       "<script src=\"/js/respond.min.js\"></script>\n",
       "<![endif]-->\n",
       "<style type=\"text/css\">\n",
       ".nodata {height: 35px;text-align: center; border-bottom: 1px solid #d2d2d2;margin-top: 12px;};\n",
       "</style>\n",
       "</head>\n",
       "<body>\n",
       "<!--\n",
       "    *****************************\n",
       "    ** 스켑네비\n",
       "    * 2015\n",
       "    *****************************\n",
       "    -->\n",
       "<!-- <div id=\"skip_navi\">\n",
       "\t<ul>\n",
       "\t\t<li><a href=\"#pwPC\"><span>주메뉴 바로가기</span></a></li>\n",
       "\t\t<li><a href=\"#container\"><span>본문 바로가기</span></a></li>\n",
       "\t</ul>\n",
       "</div> --><!--\n",
       "    *****************************\n",
       "    ** 상단 영역 (GNB 포함)\n",
       "    * 2015\n",
       "    *****************************\n",
       "    -->\n",
       "<!--웹 : 헤더추가-->\n",
       "<div class=\"header_wrap\">\n",
       "<div class=\"header\">\n",
       "<div class=\"top\">\n",
       "<div class=\"m_sub_header_wrap\">\n",
       "<div class=\"m_sub_header\">\n",
       "<button class=\"back\"></button>\n",
       "<button class=\"close\"></button>\n",
       "<span id=\"title\"></span>\n",
       "</div>\n",
       "<!-- //.m_sub_header -->\n",
       "</div>\n",
       "<!-- //.m_sub_header_wrap -->\n",
       "<div class=\"m_menu\">메뉴열기</div>\n",
       "<div class=\"m_global\">언어선택</div>\n",
       "<div class=\"info\"><a href=\"/info/infoReg.do\">이용안내</a></div>\n",
       "<div class=\"alim\"><a href=\"/app/mybike/getPushHistory.do\">알림</a></div>\n",
       "<a class=\"join\" href=\"/memberRegSelect.do?appOsType=\">회원가입</a>\n",
       "<a class=\"login\" href=\"/login.do\">\n",
       "\t\t\t\t\t\t\t로그인</a>\n",
       "<div class=\"global\" id=\"changeLang\">\n",
       "<ul>\n",
       "<li class=\"en\"><a href=\"https://www.bikeseoul.com:457/main.do?lang=en\">ENGLISH</a></li>\n",
       "<li class=\"ch\"><a href=\"https://www.bikeseoul.com:457/main.do?lang=zh\">中國語</a></li>\n",
       "<li class=\"ja\"><a href=\"https://www.bikeseoul.com:457/main.do?lang=ja\">日本語</a></li>\n",
       "<li class=\"ko\"><a href=\"https://www.bikeseoul.com:456/main.do?lang=ko\">한국어</a></li>\n",
       "</ul>\n",
       "</div>\n",
       "</div>\n",
       "<!-- 모바일 화면 -->\n",
       "<div class=\"logo\"><a href=\"/main.do\"><img alt=\"서울자전거 따릉이\" src=\"/images/logo.png\"/></a></div>\n",
       "<!--메뉴(웹)-->\n",
       "<div class=\"menu_web\">\n",
       "<ul>\n",
       "<li><a href=\"/main.do#bike_info\">사업소개</a></li>\n",
       "<li><a href=\"/app/station/moveStationRealtimeStatus.do\">대여소 조회</a></li>\n",
       "<li><a href=\"/app/ticket/member/buyTicketList.do\">이용권 구매</a></li>\n",
       "<li><a href=\"/customer/opinionBoard/opinionBoardList.do\">문의/FAQ</a></li>\n",
       "<li><a href=\"/customer/notice/noticeList.do\">공지사항</a></li>\n",
       "<li><a href=\"/customer/faq/faqList.do\">안전수칙</a></li>\n",
       "</ul>\n",
       "</div>\n",
       "<!--메뉴(웹)-->\n",
       "</div>\n",
       "<div class=\"bike_tap\">\n",
       "<ul>\n",
       "<li class=\"first\"><span id=\"all\">전체</span></li>\n",
       "<li class=\"second\"><span id=\"lcd\">LCD형<br/>따릉이</span></li>\n",
       "<li class=\"third\"><span id=\"qr\">QR형<br/>뉴따릉이</span></li>\n",
       "<li class=\"forth\"><span id=\"elec\">e 따릉이</span></li>\n",
       "</ul>\n",
       "</div>\n",
       "<div class=\"remarks\">\n",
       "<ul>\n",
       "<li class=\"title\">대여소</li>\n",
       "<li class=\"place01\">LCD형, QR형<br/>따릉이 반납가능</li>\n",
       "<li class=\"place02\">QR형 뉴따릉이 전용<br/><span class=\"lcd\">(LCD형 반납불가)</span></li>\n",
       "</ul>\n",
       "</div>\n",
       "<!-- //remarks -->\n",
       "</div>\n",
       "<!--웹 : 헤더추가--><!--\n",
       "    *****************************\n",
       "    ** 반응형 슬라이드메뉴\n",
       "    * 2015\n",
       "    *****************************\n",
       "    -->\n",
       "<script type=\"text/javascript\">\n",
       "\t\n",
       "\t\tfunction moveSnsViewPage(flag){\n",
       "\t\t\t\n",
       "\t\t\tvar tUrl = \"\";\n",
       "\t\t\tif(flag === 'snsFacebook') {\n",
       "\t\t\t\ttUrl = \"https://www.facebook.com/seoulbike\";\n",
       "\t\t    } else {\n",
       "\t\t    \ttUrl = \"https://twitter.com/seoulbike\";\n",
       "\t\t    }\n",
       "\t\t\tswitch(window.osType){\n",
       "\t\t\t    case \"web\" :\n",
       "\t\t\t    \twindow.open(tUrl,\"_blank\");\n",
       "\t\t\t        break;\n",
       "\t\t\t    case \"android\" :\n",
       "\t\t\t        var pData = {targetUrl  :tUrl, returnFnc : \"\", title : \"서울자전거sns\" };\n",
       "\t\t\t        window.android.openWebviewPopup(JSON.stringify(pData));\n",
       "\t\t\t        break;\n",
       "\t\t\t    case \"ios\" : \n",
       "\t\t\t        var iosUrl = 'toApp://?{\"targetUrl\" : \"'+tUrl+'\",\"title\" : \"서울자전거sns\", \"returnFnc\" : \"\", \"call\":\"openWebviewPopup\"}';\n",
       "\t\t\t        window.location = iosUrl;\n",
       "\t\t\t        break;\n",
       "\t\t    }\n",
       "\t\t}\n",
       "\t</script>\n",
       "<div id=\"subctn\">\n",
       "<!--\n",
       "        *****************************\n",
       "        ** LNB 영역\n",
       "        * 2015\n",
       "        *****************************\n",
       "        -->\n",
       "<!-- <script src=\"/js/accordion/jquery-2.1.0.min.js\"></script> -->\n",
       "<script src=\"/js/accordion/jquery.responsiveTabs.js\" type=\"text/javascript\"></script>\n",
       "<script type=\"text/javascript\">\n",
       "        $(document).ready(function () {\n",
       "            var $tabs = $('#horizontalTab');\n",
       "            $tabs.responsiveTabs({\n",
       "                rotate: false,\n",
       "                startCollapsed: 'accordion',\n",
       "                collapsible: 'accordion',\n",
       "                setHash: true,\n",
       "                disabled: [8,9],\n",
       "                click: function(e, tab) {\n",
       "                \t\n",
       "                },\n",
       "                activate: function(e, tab) {\n",
       "                  \n",
       "                },\n",
       "    \t\t\tactivateState: function(e, state) {\n",
       "    \t\t\t\t//console.log(state);\n",
       "    \t\t\t}\n",
       "            });\n",
       "\n",
       "            $('#start-rotation').on('click', function() {\n",
       "                $tabs.responsiveTabs('startRotation', 1000);\n",
       "            });\n",
       "            $('#stop-rotation').on('click', function() {\n",
       "                $tabs.responsiveTabs('stopRotation');\n",
       "            });\n",
       "            $('#start-rotation').on('click', function() {\n",
       "                $tabs.responsiveTabs('active');\n",
       "            });\n",
       "            $('#enable-tab').on('click', function() {\n",
       "                $tabs.responsiveTabs('enable', 3);\n",
       "            });\n",
       "            $('#disable-tab').on('click', function() {\n",
       "                $tabs.responsiveTabs('disable', 3);\n",
       "            });\n",
       "            $('.select-tab').on('click', function() {\n",
       "                $tabs.responsiveTabs('activate', $(this).val());\n",
       "            });\n",
       "\n",
       "\t\t     $('ul.tabs li').click(function(){\n",
       "    var tab_id = $(this).attr('data-tab');\t\n",
       "    var tab_idx = tab_id.substring(4);\n",
       "\n",
       "    $('ul.tabs li').removeClass('current');\n",
       "    $('.tab-content').removeClass('current');\n",
       " \n",
       "    $(this).addClass('current');\n",
       "    $(\"#\"+tab_id).addClass('current');\n",
       "\n",
       "    //다른 항목에 있는 current 까지 삭제 한거 복구 \n",
       "\tif(tab_idx.length == 2) {\n",
       "\t\t$(\"#tab-\"+tab_id.substring(1)).addClass('current');\n",
       "\t} else if(tab_idx.length == 1) {\n",
       "\t\t$(\"#tab-\"+tab_idx+tab_idx).addClass('current');\n",
       "\t}\n",
       "\n",
       "  })\n",
       "\n",
       "\n",
       "});\n",
       "\n",
       "</script>\n",
       "<!--하단바-->\n",
       "<div class=\"bottom\">\n",
       "<dl>\n",
       "<dd class=\"my\">\n",
       "<button class=\"my\" id=\"showLeft\" style=\"display: none\"></button>\n",
       "<a href=\"/leftPage.do\"></a>\n",
       "</dd>\n",
       "<dd class=\"bookmark\"><a href=\"/app/mybike/favoriteStation.do\"></a></dd>\n",
       "<dt class=\"guide\"><a href=\"/info/infoReg.do\"></a></dt>\n",
       "<dd class=\"qr\"><a href=\"javascript:goQrRent();\" id=\"qr\"></a></dd>\n",
       "<dd class=\"ticket\"><a href=\"/app/ticket/member/buyTicketList.do\"></a></dd>\n",
       "</dl>\n",
       "</div>\n",
       "<!--하단바--><!--\n",
       "        *****************************\n",
       "        ** 컨텐츠 영역\n",
       "        * 2015\n",
       "        *****************************\n",
       "        -->\n",
       "<article id=\"container\">\n",
       "<h4>대여소 조회</h4>\n",
       "<div class=\"ctnlocation\">\n",
       "<span>서울자전거 대여소를 조회합니다.</span>\n",
       "<p> &gt; 대여소 조회 &gt; <span>대여소 조회</span></p>\n",
       "</div>\n",
       "<section class=\"searchbox\">\n",
       "<form id=\"searchForm\">\n",
       "<input name=\"currentPageNo\" type=\"hidden\" value=\"1\"/>\n",
       "<fieldset>\n",
       "<legend>대여소그룹 선택</legend>\n",
       "<!--   <label for=\"stationsch\">지역</label> -->\n",
       "<select id=\"stationsch\" name=\"stationGrpSeq\">\n",
       "<option value=\"\">지역구 선택</option>\n",
       "</select>\n",
       "<!--                     <select id=\"stationsch\" name=\"stationGrpSeq\">\n",
       "                        <option value=\"\">대여소 선택</option>\n",
       "                    </select>   -->\n",
       "<button class=\"green1btn searchicon1\" id=\"searchBtn\" type=\"button\"><span>검색</span></button>\n",
       "<!-- <button type=\"button\" class=\"greenbtn1 btnsize1\" id=\"mapOpen\"><span>지도보기</span></button> -->\n",
       "</fieldset>\n",
       "</form>\n",
       "</section>\n",
       "<p class=\"tbuptext tr\"><span id=\"totStationCnt\">2038</span> 곳의 대여소가 있습니다.</p>\n",
       "<table class=\"psboard1\">\n",
       "<caption>\n",
       "<details>\n",
       "<summary>주변상권 홍보 및 연계</summary>\n",
       "<p>대여소, 업종, 이름, 전화, 위치, 내용</p>\n",
       "</details>\n",
       "</caption>\n",
       "<colgroup>\n",
       "<col style=\"width:25%\"/>\n",
       "<col style=\"width:15%\"/>\n",
       "<col style=\"width:10%\"/>\n",
       "<col style=\"width:10%\"/>\n",
       "<col class=\"mhid\" style=\"width:auto\"/>\n",
       "</colgroup>\n",
       "<thead>\n",
       "<tr>\n",
       "<th scope=\"col\">대여소 이름</th>\n",
       "<th scope=\"col\">상태정보</th>\n",
       "<th scope=\"col\">거치대수</th>\n",
       "<th scope=\"col\">대여가능<br/>거치대수</th>\n",
       "<th class=\"mhid\" scope=\"col\">위치</th>\n",
       "</tr>\n",
       "</thead>\n",
       "<tbody>\n",
       "<tr>\n",
       "<td class=\"pl10\"><a href=\"#\" param-data=\"37.54179382,127.12474823\">1001. 광진교 남단 사거리(디지털프라자앞)</a></td>\n",
       "<td class=\"pl10\">\n",
       "                        운영중</td>\n",
       "<td class=\"tr\">15</td>\n",
       "<td class=\"tr\">1</td>\n",
       "<td class=\"tbleft mhid\"><span>서울특별시 강동구 올림픽로 674 로석빌딩 </span></td>\n",
       "</tr>\n",
       "<tr>\n",
       "<td class=\"pl10\"><a href=\"#\" param-data=\"37.54526138,127.12594604\">1002. 해공공원(천호동)</a></td>\n",
       "<td class=\"pl10\">\n",
       "                        운영중</td>\n",
       "<td class=\"tr\">10</td>\n",
       "<td class=\"tr\">0</td>\n",
       "<td class=\"tbleft mhid\"><span>서울특별시 강동구 올림픽로 702 해공도서관 </span></td>\n",
       "</tr>\n",
       "<tr>\n",
       "<td class=\"pl10\"><a href=\"#\" param-data=\"37.54395676,127.12548828\">1003. 해공도서관앞</a></td>\n",
       "<td class=\"pl10\">\n",
       "                        운영중</td>\n",
       "<td class=\"tr\">20</td>\n",
       "<td class=\"tr\">0</td>\n",
       "<td class=\"tbleft mhid\"><span>서울특별시 강동구 올림픽로 702 해공도서관 </span></td>\n",
       "</tr>\n",
       "<tr>\n",
       "<td class=\"pl10\"><a href=\"#\" param-data=\"37.55332947,127.12886810\">1004. 삼성광나루아파트 버스정류장</a></td>\n",
       "<td class=\"pl10\">\n",
       "                        운영중</td>\n",
       "<td class=\"tr\">10</td>\n",
       "<td class=\"tr\">1</td>\n",
       "<td class=\"tbleft mhid\"><span>서울특별시 강동구 올림픽로 812 </span></td>\n",
       "</tr>\n",
       "<tr>\n",
       "<td class=\"pl10\"><a href=\"#\" param-data=\"37.55486679,127.14279938\">1006. 롯데캐슬 115동앞</a></td>\n",
       "<td class=\"pl10\">\n",
       "                        운영중</td>\n",
       "<td class=\"tr\">15</td>\n",
       "<td class=\"tr\">0</td>\n",
       "<td class=\"tbleft mhid\"><span>서울특별시 강동구 고덕로 131 강동 롯데캐슬퍼스트아파트 </span></td>\n",
       "</tr>\n",
       "</tbody>\n",
       "</table>\n",
       "<div class=\"paging\">\n",
       "<div id=\"pagingWeb\">\n",
       "<a href=\"#\" onclick=\"pageSelect(1); return false;\"><img alt=\"맨 처음 페이지\" src=\"/images/first.gif\"/></a>\n",
       "<a href=\"#\" onclick=\"pageSelect(1); return false;\"><img alt=\"이전 페이지\" src=\"/images/p_prev.gif\"/></a>\n",
       "<span class=\"on\"><a href=\"#\"><strong>1</strong></a></span>\n",
       "<span><a href=\"#\" onclick=\"pageSelect(2); return false;\">2</a></span>\n",
       "<span><a href=\"#\" onclick=\"pageSelect(3); return false;\">3</a></span>\n",
       "<span><a href=\"#\" onclick=\"pageSelect(4); return false;\">4</a></span>\n",
       "<span><a href=\"#\" onclick=\"pageSelect(5); return false;\">5</a></span>\n",
       "<a href=\"#\" onclick=\"pageSelect(6); return false;\"><img alt=\"다음 페이지\" src=\"/images/p_next.gif\"/></a>\n",
       "<a href=\"#\" onclick=\"pageSelect(408); return false;\"><img alt=\"마지막 페이지\" src=\"/images/last.gif\"/></a>\n",
       "</div>\n",
       "<div id=\"pagingMobile\">\n",
       "<a href=\"#\" onclick=\"pageSelect(1); return false;\"><img alt=\"맨 처음 페이지\" src=\"/images/first.gif\"/></a>\n",
       "<a href=\"#\" onclick=\"pageSelect(1); return false;\"><img alt=\"이전 페이지\" src=\"/images/p_prev.gif\"/></a>\n",
       "<span class=\"on\"><a href=\"#\"><strong>1</strong></a></span>\n",
       "<span><a href=\"#\" onclick=\"pageSelect(2); return false;\">2</a></span>\n",
       "<span><a href=\"#\" onclick=\"pageSelect(3); return false;\">3</a></span>\n",
       "<a href=\"#\" onclick=\"pageSelect(4); return false;\"><img alt=\"다음 페이지\" src=\"/images/p_next.gif\"/></a>\n",
       "<a href=\"#\" onclick=\"pageSelect(408); return false;\"><img alt=\"마지막 페이지\" src=\"/images/last.gif\"/></a>\n",
       "</div>\n",
       "</div>\n",
       "<p class=\"tc mt40\" id=\"pdfDiv\">\n",
       "<button class=\"greenbtn1 btnsize1\" id=\"mapOpen\" type=\"button\">지도보기<span></span></button>\n",
       "</p>\n",
       "</article>\n",
       "</div>\n",
       "<!--\n",
       "    *****************************\n",
       "    ** 하단 풋더 영역\n",
       "    * 2015\n",
       "    *****************************\n",
       "    -->\n",
       "<!-- <div > \n",
       "         <h1 class=\"popTt\"></h1>\n",
       "        <div id=\"mapDivPop\" class=\"popmaparea\">\n",
       "            \n",
       "            ++ 테스트이미지입니다. 지워주세요 HTML Validator 제외부분\n",
       "            ++ 개발을 위한 POSITION 값 인라인 코딩\n",
       "           \n",
       "        </div>\n",
       "    </div> -->\n",
       "<!--footer-->\n",
       "<div class=\"footer_wrap\">\n",
       "<div class=\"footer\">\n",
       "<div class=\"left\">\n",
       "<ul>\n",
       "<!--<li><a href=\"\">개인정보처리방침</a></li>\n",
       "                <li class=\"line\"><a href=\"\">이메일주소무단수집거부</a></li>-->\n",
       "<li><a href=\"/app/use/moveUseMenuClauseInfo.do\">이용약관</a></li>\n",
       "<li class=\"line\"><a href=\"/app/use/moveUseMenuClauseInfo.do?tabInfo=2\">개인정보처리방침</a></li>\n",
       "<li class=\"line\"><a href=\"/app/use/moveUseMenuInsurance.do\">보험안내</a></li>\n",
       "<li class=\"line\"><a href=\"/customer/donor/donorList.do\">도움주신 분</a></li>\n",
       "</ul>\n",
       "<p>서울특별시 중구 세종대로 110 서울특별시 대표자 서정협, Tel : 1599-0120 (사업자등록번호 : 104-83-00469) 우편번호 04524</p>\n",
       "<p>COPYRIGHT ⓒ 2018 bikeseoul All RIGHTS RESERVED.</p>\n",
       "</div>\n",
       "<dl>\n",
       "<dt>sns</dt>\n",
       "<dd class=\"face\" onclick=\"javascript:moveSnsViewPage('snsFacebook')\"><a href=\"#\" id=\"snsFacebook\"> </a></dd>\n",
       "<dd class=\"twit\" onclick=\"javascript:moveSnsViewPage('snsTweeter')\"><a href=\"#\" id=\"snsTweeter\"> </a></dd>\n",
       "</dl>\n",
       "</div>\n",
       "</div>\n",
       "<!--footer-->\n",
       "<script type=\"text/javascript\">\n",
       "\n",
       "$(function() {\n",
       "    $(\".back\").on(\"click\", goBack);\n",
       "});\n",
       "\n",
       "$(function() {\n",
       "    $(\".back.left\").on(\"click\", goBackLeft);\n",
       "});\n",
       "\n",
       "$(function() {\n",
       "    $(\".back.right\").on(\"click\", goBackRight);\n",
       "});\n",
       "\n",
       "$(function() {\n",
       "    $(\".pwback\").on(\"click\", goBack);\n",
       "});\n",
       "$(function() {\n",
       "    $(\".close\").on(\"click\", goHome);\n",
       "});\n",
       "$(function() {\n",
       "    $(\".logo\").on(\"click\", goHome);\n",
       "});\n",
       "$(function() {\n",
       "    $(\".alim\").on(\"click\", goAlim);\n",
       "});\n",
       "$(function() {\n",
       "    //$(\"#changeLang\").on(\"click\", changeLang);\n",
       "});\n",
       "function osInfo(pOSobj){\n",
       "    var obj = JSON.parse(pOSobj);\n",
       "    window.osType = obj.osInfo;\n",
       "    \n",
       "    //대여소 찿기 PDF 버튼 숨기기.\n",
       "    if($(\"#pdfDiv\") !== 'undefined') {\n",
       "\t    $(\"#pdfDiv\").css(\"display\",\"none\");\n",
       "    }\n",
       "};\n",
       "\n",
       "function goBack(e) {\n",
       "\t//e.preventDefault();\n",
       "    //alert(\"2->\"+e.type +\":\"+ window.osType);\n",
       "    window.osType = '';\n",
       "    //alert(window.osType);\n",
       "    switch(window.osType){\n",
       "    case \"web\" :\n",
       "    \twindow.history.go(-1);      \n",
       "        break;\n",
       "    case \"android\" :\n",
       "        window.android.goBack();\n",
       "        break;\n",
       "    case \"ios\" : \n",
       "        window.location = 'toApp://?{\"call\":\"goBack\"}';\n",
       "        break;\n",
       "    case \"\" :\n",
       "    \twindow.history.go(-1);      \n",
       "        break;\n",
       "    }\n",
       "}\n",
       "\n",
       "function goBackLeft(e) {\n",
       "    //e.preventDefault();\n",
       "    //alert(\"2->\"+e.type +\":\"+ window.osType);\n",
       "   /*  switch(window.osType){\n",
       "    case \"web\" :\n",
       "        window.location.href='/main.do';     \n",
       "        break;\n",
       "    case \"android\" :\n",
       "    \twindow.location.href='/main.do';\n",
       "        break;\n",
       "    case \"ios\" : \n",
       "    \twindow.location.href='/main.do';\n",
       "        break;\n",
       "    case \"\" :\n",
       "    \twindow.location.href='/main.do';      \n",
       "        break;    \n",
       "    } */\n",
       "}\n",
       "\n",
       "function goBackRight(e) {\n",
       "    //e.preventDefault();\n",
       "    //alert(\"2->\"+e.type +\":\"+ window.osType);\n",
       "    /* switch(window.osType){\n",
       "    case \"web\" :\n",
       "        window.location.href='/main.do';     \n",
       "        break;\n",
       "    case \"android\" :\n",
       "    \twindow.location.href='/main.do';\n",
       "        break;\n",
       "    case \"ios\" : \n",
       "    \twindow.location.href='/main.do';\n",
       "        break;\n",
       "    case \"\" :\n",
       "    \twindow.location.href='/main.do';      \n",
       "        break;    \n",
       "    } */\n",
       "\t/* switch(window.osType){\n",
       "    case \"web\" :\n",
       "    \twindow.history.go(-1);      \n",
       "        break;\n",
       "    case \"android\" :\n",
       "        window.android.goBack();\n",
       "        break;\n",
       "    case \"ios\" : \n",
       "        window.location = 'toApp://?{\"call\":\"goBack\"}';\n",
       "        break;\n",
       "    case \"\" :\n",
       "    \twindow.history.go(-1);      \n",
       "        break;\n",
       "    } */\n",
       "}\n",
       "\n",
       "function goHome(e) {\n",
       "\tsetCookie(\"step\", 0);\n",
       "    //e.preventDefault();\n",
       "    //alert(\"2->\"+e.type +\":\"+ window.osType);\n",
       "    switch(window.osType){\n",
       "    case \"web\" :\n",
       "        window.location.href='/main.do';     \n",
       "        break;\n",
       "    case \"android\" :\n",
       "    \twindow.location.href='/main.do';\n",
       "        break;\n",
       "    case \"ios\" : \n",
       "    \twindow.location.href='/main.do';\n",
       "        break;\n",
       "    case \"\" :\n",
       "    \twindow.location.href='/main.do';      \n",
       "        break;    \n",
       "    }\n",
       "}\n",
       "\n",
       "function goAlim(e) {\n",
       "    //e.preventDefault();\n",
       "    //alert(\"2->\"+e.type +\":\"+ window.osType);\n",
       "    switch(window.osType){\n",
       "    case \"web\" :\n",
       "        window.location.href='/app/mybike/getPushHistory.do';     \n",
       "        break;\n",
       "    case \"android\" :\n",
       "    \twindow.location.href='/app/mybike/getPushHistory.do';\n",
       "        break;\n",
       "    case \"ios\" : \n",
       "    \twindow.location.href='/app/mybike/getPushHistory.do';\n",
       "        break;\n",
       "    case \"\" :\n",
       "        window.location.href='/app/mybike/getPushHistory.do';     \n",
       "        break;    \n",
       "    }\n",
       "}\n",
       "\n",
       "function changeLang(e) {\n",
       "\tvar lang = 'en'\n",
       "\n",
       "\tswitch(window.osType){\n",
       "    case \"web\" :\n",
       "        window.location.href='/main.do?lang='+lang;     \n",
       "        break;\n",
       "    case \"android\" :\n",
       "    \twindow.location.href='/main.do?lang='+lang;\n",
       "        break;\n",
       "    case \"ios\" : \n",
       "    \twindow.location.href='/main.do?lang='+lang;\n",
       "        break;\n",
       "    case \"\" :\n",
       "        window.location.href='/main.do?lang='+lang;     \n",
       "        break;    \n",
       "    }\n",
       "}\n",
       "\n",
       "function moveSnsViewPage(flag){\n",
       "\t\t\t\n",
       "\tvar tUrl = \"\";\n",
       "\tif(flag === 'snsFacebook') {\n",
       "\t\ttUrl = \"https://www.facebook.com/seoulbike\";\n",
       "    } else {\n",
       "    \ttUrl = \"https://twitter.com/seoulbike\";\n",
       "    }\n",
       "\tswitch(window.osType){\n",
       "\t    case \"web\" :\n",
       "\t    \twindow.open(tUrl,\"_blank\");\n",
       "\t        break;\n",
       "\t    case \"android\" :\n",
       "\t        var pData = {targetUrl  :tUrl, returnFnc : \"\", title : \"서울자전거sns\" };\n",
       "\t        window.android.openWebviewPopup(JSON.stringify(pData));\n",
       "\t        break;\n",
       "\t    case \"ios\" : \n",
       "\t        var iosUrl = 'toApp://?{\"targetUrl\" : \"'+tUrl+'\",\"title\" : \"서울자전거sns\", \"returnFnc\" : \"\", \"call\":\"openWebviewPopup\"}';\n",
       "\t        window.location = iosUrl;\n",
       "\t        break;\n",
       "    }\n",
       "}\n",
       "\t\t\n",
       "</script>\n",
       "<script src=\"/js/common_spb.js\" type=\"text/javascript\"></script>\n",
       "<script src=\"/js/stationView.js\" type=\"text/javascript\"></script>\n",
       "<script type=\"text/javascript\">\n",
       "    $(function(){\n",
       "        station.makeStationCombo($(\"#stationsch\"),\"\");\n",
       "        $(\"#searchBtn\").on(\"click\", searchStation);\n",
       "        $(\".psboard1 tbody tr\").find('a').on('click', openMapPopup);\n",
       "        var appOsType =  '';\n",
       "        if(appOsType === \"android\" || appOsType === \"ios\") {\n",
       "        \t$(\"#mapOpen\").hide();\n",
       "        } else {\n",
       "        \tstationGrpSeqMap(\"\");\n",
       "        \t$(\"#mapOpen\").on(\"click\", action);\n",
       "        }\n",
       "    });\n",
       "  //2017.01.20\n",
       "    var guname = [\"종로구 \", \"중구 \", \"마포구 \", \"서대문구 \", \"성동구 \", \"광진구 \", \"동대문구 \", \"영등포구 \", \"양천구 \", \"용산구 \", \"은평구 \"];\n",
       "    var show = \"지도보기\";\n",
       "    var image = \"/images/bikemap/map_\";\n",
       "    \n",
       "    function stationGrpSeqMap(stationGrpSeq) {\n",
       "    \tvar Seq = Number(stationGrpSeq);\n",
       "    \tif(stationGrpSeq === \"\"){\n",
       "    \t\t$(\"#mapOpen\").text(show);\n",
       "    \t}else{\n",
       "    \t\t$(\"#mapOpen\").text(guname[Seq-10]+show);\n",
       "    \t}\n",
       "    }\n",
       "  //2017.01.20\n",
       "    function pageSelect(pageNo) {\n",
       "    \t$(\"[name='currentPageNo']\").val(pageNo);\n",
       "    \texeList();\n",
       "    }\n",
       "    function searchStation(e) {\n",
       "        e.preventDefault();\n",
       "        $(\"[name='currentPageNo']\").val(1);\n",
       "        exeList();\n",
       "    }\n",
       "    function exeList() {\n",
       "    \t$(\"#searchForm\").attr({action : \"/app/station/moveStationSearchView.do\"}).submit();\n",
       "    }\n",
       "    function openMapPopup(e){\n",
       "        var title = $(this).text() ;\n",
       "        var lat = $(this).attr('param-data').split(\",\")[0];\n",
       "        var log = $(this).attr('param-data').split(\",\")[1];\n",
       "        \n",
       "        var tUrl = 'https://www.bikeseoul.com:443/app/station/showStationDetailPop.do?stationLongitude='+log+'&stationLatitude='+ lat;\n",
       "        \n",
       "    \tswitch(window.osType){\n",
       "    \t    case \"web\" :\n",
       "    \t    \tif($(\".winNewPop\").length > 0) {\n",
       "                    $(\"body\").find(\".winNewPop\").remove();\n",
       "                }\n",
       "                var pop = $('<a>').attr({'href':\"/app/station/showStationDetailPop.do\",'title':\"새창으로 열림\" ,'data-title': title \n",
       "                         ,'data-width' :600, 'data-height':500,'data-pmt':\"&stationLongitude=\"+ log+\"&stationLatitude=\"+lat}).addClass('winNewPop');\n",
       "                $(\"body\").append(pop);\n",
       "                $(\".winNewPop\").trigger(\"click\");\n",
       "    \t    \tbreak;\n",
       "    \t    case \"android\" :\n",
       "    \t    \tvar pData = {targetUrl  :tUrl, returnFnc : \"\", title : title };\n",
       "                window.android.openWebviewPopup(JSON.stringify(pData));\n",
       "    \t        break;\n",
       "    \t    case \"ios\" : \n",
       "    \t    \tvar iosUrl = 'toApp://?{\"targetUrl\" : \"'+tUrl+'\",\"title\" : \"'+title+'\", \"returnFnc\" : \"\", \"call\":\"openWebviewPopup\"}';\n",
       "    \t    \twindow.location = iosUrl;\n",
       "    \t    \tbreak;\n",
       "    \t}\n",
       "    }\n",
       "    function action(){\n",
       "    \t//2017.01.20\n",
       "    \tvar select = Number($(\"#stationsch option:selected\").val());\n",
       "    \tif(select === 0){\n",
       "    \t\talert(\"지역구를 선택하십시오.\");\n",
       "    \t}else{\n",
       "    \t\tlocation.href = image + String(select) + \".jpg\";\n",
       "    \t}\n",
       "    \t//2017.01.20\n",
       "\t}\n",
       "    </script>\n",
       "</body>\n",
       "</html>"
      ]
     },
     "execution_count": 22,
     "metadata": {},
     "output_type": "execute_result"
    }
   ],
   "source": [
    "html = bs(response.text)\n",
    "html"
   ]
  },
  {
   "cell_type": "code",
   "execution_count": 25,
   "metadata": {},
   "outputs": [
    {
     "data": {
      "text/plain": [
       "5"
      ]
     },
     "execution_count": 25,
     "metadata": {},
     "output_type": "execute_result"
    }
   ],
   "source": [
    "# # > id 를 의미\n",
    "# . > class를 의미\n",
    "#container >  table > tbody > trinth-child(1) > tdinth-child(1) > a\n",
    "trs = html.select('#container > table > tbody > tr')\n",
    "len(trs)"
   ]
  },
  {
   "cell_type": "code",
   "execution_count": 32,
   "metadata": {},
   "outputs": [
    {
     "data": {
      "text/plain": [
       "'1001. 광진교 남단 사거리(디지털프라자앞)'"
      ]
     },
     "execution_count": 32,
     "metadata": {},
     "output_type": "execute_result"
    }
   ],
   "source": [
    "# 대여소명\n",
    "trs[0].select(\"td\")[0].get_text()"
   ]
  },
  {
   "cell_type": "code",
   "execution_count": 38,
   "metadata": {},
   "outputs": [
    {
     "data": {
      "text/plain": [
       "['37.54179382', '127.12474823']"
      ]
     },
     "execution_count": 38,
     "metadata": {},
     "output_type": "execute_result"
    }
   ],
   "source": [
    "trs[0].select(\"td\")[0].select(\"a\")[0][\"param-data\"].split(\",\")"
   ]
  },
  {
   "cell_type": "code",
   "execution_count": 39,
   "metadata": {},
   "outputs": [
    {
     "data": {
      "text/plain": [
       "<tr>\n",
       "<td class=\"pl10\"><a href=\"#\" param-data=\"37.54179382,127.12474823\">1001. 광진교 남단 사거리(디지털프라자앞)</a></td>\n",
       "<td class=\"pl10\">\n",
       "                        운영중</td>\n",
       "<td class=\"tr\">15</td>\n",
       "<td class=\"tr\">1</td>\n",
       "<td class=\"tbleft mhid\"><span>서울특별시 강동구 올림픽로 674 로석빌딩 </span></td>\n",
       "</tr>"
      ]
     },
     "execution_count": 39,
     "metadata": {},
     "output_type": "execute_result"
    }
   ],
   "source": [
    "trs[0]"
   ]
  },
  {
   "cell_type": "code",
   "execution_count": 53,
   "metadata": {},
   "outputs": [],
   "source": [
    "#       info = []\n",
    "        # 대여소번호, 대여소명\n",
    "\n",
    "\n",
    "        # 거치대수\n",
    "\n",
    "        # 운영여부\n",
    "\n",
    "        # 주소\n",
    "        # 위도, 경도\n",
    "\n",
    "def parse_tr(tr):\n",
    "    info = []\n",
    "    \n",
    "    title = tr.select(\"td\")[0].get_text()\n",
    "    lat = tr.select(\"td\")[0].select(\"a\")[0][\"param-data\"].split(\",\")[0]\n",
    "    long = tr.select(\"td\")[0].select(\"a\")[0][\"param-data\"].split(\",\")[1]\n",
    "    onoff = tr.select(\"td\")[1].get_text(strip=True) # strip=True 하면 앞에 쓸모없는 것들 삭제 (공백이나 문자 등등)\n",
    "    address = tr.select(\"td\")[4].get_text()\n",
    "    \n",
    "    info.append(title)\n",
    "    info.append(lat)\n",
    "    info.append(long)\n",
    "    info.append(onoff)\n",
    "    info.append(address)\n",
    "    \n",
    "    return info"
   ]
  },
  {
   "cell_type": "code",
   "execution_count": 54,
   "metadata": {},
   "outputs": [
    {
     "data": {
      "text/plain": [
       "['1001. 광진교 남단 사거리(디지털프라자앞)',\n",
       " '37.54179382',\n",
       " '127.12474823',\n",
       " '운영중',\n",
       " '서울특별시 강동구 올림픽로 674 로석빌딩 ']"
      ]
     },
     "execution_count": 54,
     "metadata": {},
     "output_type": "execute_result"
    }
   ],
   "source": [
    "parse_tr(trs[0])"
   ]
  },
  {
   "cell_type": "code",
   "execution_count": 55,
   "metadata": {},
   "outputs": [],
   "source": [
    "# ['대여소번호', '대여소', '거치대수', '상태', '주소', '위도', '경도'] 를 반환합니다.\n",
    "def station_info(trs):\n",
    "    rent_stations = []\n",
    "    # tr을 반복문으로 순회합니다.\n",
    "        # 대여소 정보를 담아준다.\n",
    "    for tr in trs:\n",
    "        info = parse_tr(tr)\n",
    "        rent_stations.append(info)\n",
    "        \n",
    "\n",
    "    return rent_stations"
   ]
  },
  {
   "cell_type": "code",
   "execution_count": 56,
   "metadata": {},
   "outputs": [
    {
     "data": {
      "text/plain": [
       "[['1001. 광진교 남단 사거리(디지털프라자앞)',\n",
       "  '37.54179382',\n",
       "  '127.12474823',\n",
       "  '운영중',\n",
       "  '서울특별시 강동구 올림픽로 674 로석빌딩 '],\n",
       " ['1002. 해공공원(천호동)',\n",
       "  '37.54526138',\n",
       "  '127.12594604',\n",
       "  '운영중',\n",
       "  '서울특별시 강동구 올림픽로 702 해공도서관 '],\n",
       " ['1003. 해공도서관앞',\n",
       "  '37.54395676',\n",
       "  '127.12548828',\n",
       "  '운영중',\n",
       "  '서울특별시 강동구 올림픽로 702 해공도서관 '],\n",
       " ['1004. 삼성광나루아파트 버스정류장',\n",
       "  '37.55332947',\n",
       "  '127.12886810',\n",
       "  '운영중',\n",
       "  '서울특별시 강동구 올림픽로 812 '],\n",
       " ['1006. 롯데캐슬 115동앞',\n",
       "  '37.55486679',\n",
       "  '127.14279938',\n",
       "  '운영중',\n",
       "  '서울특별시 강동구 고덕로 131 강동 롯데캐슬퍼스트아파트 ']]"
      ]
     },
     "execution_count": 56,
     "metadata": {},
     "output_type": "execute_result"
    }
   ],
   "source": [
    "trs = html.select('#container > table > tbody > tr')\n",
    "station_info(trs)"
   ]
  },
  {
   "cell_type": "code",
   "execution_count": 58,
   "metadata": {},
   "outputs": [
    {
     "data": {
      "text/plain": [
       "'https://www.bikeseoul.com/app/station/moveStationSearchView.do?currentPageNo='"
      ]
     },
     "execution_count": 58,
     "metadata": {},
     "output_type": "execute_result"
    }
   ],
   "source": [
    "base_url"
   ]
  },
  {
   "cell_type": "code",
   "execution_count": 99,
   "metadata": {},
   "outputs": [
    {
     "data": {
      "text/plain": [
       "0.9281754542387596"
      ]
     },
     "execution_count": 99,
     "metadata": {},
     "output_type": "execute_result"
    }
   ],
   "source": [
    "import numpy as np\n",
    "random_time = np.random.uniform(0, 1)\n",
    "random_time"
   ]
  },
  {
   "cell_type": "code",
   "execution_count": 70,
   "metadata": {},
   "outputs": [],
   "source": [
    "# 전체 대여소 정보를 담아줄 비어있는 리스트를 만듭니다.\n",
    "all_stations = []\n",
    "\n",
    "def crawling_rent_station(pnum):\n",
    "    #랜덤 타임만큼 쉬었다가 가져온다.\n",
    "    time.sleep(rnadom_time)\n",
    "    \n",
    "    url = f\"{base_url}{pnum}\"\n",
    "    response = requests.get(url)\n",
    "    if response.status_code == 200:\n",
    "        html = bs(response.text)\n",
    "        trs = html.select('#container > table > tbody > tr')\n",
    "        return trs\n",
    "    else:\n",
    "        return False"
   ]
  },
  {
   "cell_type": "code",
   "execution_count": 72,
   "metadata": {},
   "outputs": [
    {
     "data": {
      "text/plain": [
       "False"
      ]
     },
     "execution_count": 72,
     "metadata": {},
     "output_type": "execute_result"
    }
   ],
   "source": [
    "crawling_rent_station(-5)"
   ]
  },
  {
   "cell_type": "code",
   "execution_count": 104,
   "metadata": {},
   "outputs": [],
   "source": [
    "# 재귀호출 사용하는방법\n",
    "all_station = []\n",
    "def crawling_all_station(pnum):\n",
    "    #랜덤 타임만큼 쉬었다가 가져온다.\n",
    "    time.sleep(random_time)\n",
    "    trs = crawling_rent_station(pnum)\n",
    "    if trs :\n",
    "        stations = station_info(trs)\n",
    "        all_station.extend(stations)\n",
    "        # 결과가 정상동작한다면 다음 페이지 번호를 호출합니다.\n",
    "        pnum = pnum + 1\n",
    "        #재귀호출 => 자기자신을 호출합니다.\n",
    "        return crawling_all_station(pnum)\n",
    "    else:\n",
    "        # 페이지가 없다면 all_station 을 반환합니다\n",
    "        return all_station"
   ]
  },
  {
   "cell_type": "code",
   "execution_count": 105,
   "metadata": {},
   "outputs": [],
   "source": [
    "#재귀호출\n",
    "all_stations = crawling_all_station(406)"
   ]
  },
  {
   "cell_type": "code",
   "execution_count": 106,
   "metadata": {},
   "outputs": [
    {
     "data": {
      "text/html": [
       "<div>\n",
       "<style scoped>\n",
       "    .dataframe tbody tr th:only-of-type {\n",
       "        vertical-align: middle;\n",
       "    }\n",
       "\n",
       "    .dataframe tbody tr th {\n",
       "        vertical-align: top;\n",
       "    }\n",
       "\n",
       "    .dataframe thead th {\n",
       "        text-align: right;\n",
       "    }\n",
       "</style>\n",
       "<table border=\"1\" class=\"dataframe\">\n",
       "  <thead>\n",
       "    <tr style=\"text-align: right;\">\n",
       "      <th></th>\n",
       "      <th>0</th>\n",
       "      <th>1</th>\n",
       "      <th>2</th>\n",
       "      <th>3</th>\n",
       "      <th>4</th>\n",
       "    </tr>\n",
       "  </thead>\n",
       "  <tbody>\n",
       "    <tr>\n",
       "      <th>0</th>\n",
       "      <td>985.은평온누리약국앞</td>\n",
       "      <td>37.60119247</td>\n",
       "      <td>126.92638397</td>\n",
       "      <td>운영중</td>\n",
       "      <td>서울특별시 은평구 은평로 170 상현빌딩</td>\n",
       "    </tr>\n",
       "    <tr>\n",
       "      <th>1</th>\n",
       "      <td>989.응암 꼬꼬닭치킨호프 앞</td>\n",
       "      <td>37.59181213</td>\n",
       "      <td>126.91483307</td>\n",
       "      <td>운영중</td>\n",
       "      <td>서울특별시 은평구 가좌로 255</td>\n",
       "    </tr>\n",
       "    <tr>\n",
       "      <th>2</th>\n",
       "      <td>991.흥국사 정류장</td>\n",
       "      <td>37.65676880</td>\n",
       "      <td>126.94200897</td>\n",
       "      <td>운영중</td>\n",
       "      <td>서울특별시 은평구 진관동 298-2</td>\n",
       "    </tr>\n",
       "    <tr>\n",
       "      <th>3</th>\n",
       "      <td>992.북한산입구 정류장</td>\n",
       "      <td>37.65842819</td>\n",
       "      <td>126.94606018</td>\n",
       "      <td>운영중</td>\n",
       "      <td>서울특별시 은평구 진관동 289</td>\n",
       "    </tr>\n",
       "    <tr>\n",
       "      <th>4</th>\n",
       "      <td>993.은평뉴타운 온뜨락아파트앞</td>\n",
       "      <td>37.63028717</td>\n",
       "      <td>126.91956329</td>\n",
       "      <td>운영중</td>\n",
       "      <td>서울특별시 은평구 진관동 235-2</td>\n",
       "    </tr>\n",
       "  </tbody>\n",
       "</table>\n",
       "</div>"
      ],
      "text/plain": [
       "                   0            1             2    3                        4\n",
       "0       985.은평온누리약국앞  37.60119247  126.92638397  운영중  서울특별시 은평구 은평로 170 상현빌딩 \n",
       "1   989.응암 꼬꼬닭치킨호프 앞  37.59181213  126.91483307  운영중       서울특별시 은평구 가좌로 255 \n",
       "2        991.흥국사 정류장  37.65676880  126.94200897  운영중     서울특별시 은평구 진관동 298-2 \n",
       "3      992.북한산입구 정류장  37.65842819  126.94606018  운영중       서울특별시 은평구 진관동 289 \n",
       "4  993.은평뉴타운 온뜨락아파트앞  37.63028717  126.91956329  운영중     서울특별시 은평구 진관동 235-2 "
      ]
     },
     "execution_count": 106,
     "metadata": {},
     "output_type": "execute_result"
    }
   ],
   "source": [
    "df = pd.DataFrame(data)\n",
    "df.head()"
   ]
  },
  {
   "cell_type": "code",
   "execution_count": null,
   "metadata": {},
   "outputs": [],
   "source": [
    "### 위아래 같음 "
   ]
  },
  {
   "cell_type": "code",
   "execution_count": 101,
   "metadata": {},
   "outputs": [
    {
     "name": "stderr",
     "output_type": "stream",
     "text": [
      "100%|██████████████████████████████████████████████████████████████████████████████████| 10/10 [00:08<00:00,  1.23it/s]\n"
     ]
    }
   ],
   "source": [
    "from tqdm import tqdm, trange\n",
    "# for 문을 쓰는 방법\n",
    "start_page_no = 1\n",
    "end_page_no = 10\n",
    "\n",
    "# 초기화\n",
    "all_station = []\n",
    "for pnum in trange(start_page_no, end_page_no+1):\n",
    "    trs = crawling_rent_station(pnum)\n",
    "    if trs :\n",
    "        stations = station_info(trs)\n",
    "        all_station.extend(stations)\n",
    "        all_station"
   ]
  },
  {
   "cell_type": "code",
   "execution_count": 112,
   "metadata": {},
   "outputs": [],
   "source": [
    "all_stations = all_station"
   ]
  },
  {
   "cell_type": "code",
   "execution_count": 113,
   "metadata": {},
   "outputs": [
    {
     "data": {
      "text/html": [
       "<div>\n",
       "<style scoped>\n",
       "    .dataframe tbody tr th:only-of-type {\n",
       "        vertical-align: middle;\n",
       "    }\n",
       "\n",
       "    .dataframe tbody tr th {\n",
       "        vertical-align: top;\n",
       "    }\n",
       "\n",
       "    .dataframe thead th {\n",
       "        text-align: right;\n",
       "    }\n",
       "</style>\n",
       "<table border=\"1\" class=\"dataframe\">\n",
       "  <thead>\n",
       "    <tr style=\"text-align: right;\">\n",
       "      <th></th>\n",
       "      <th>0</th>\n",
       "      <th>1</th>\n",
       "      <th>2</th>\n",
       "      <th>3</th>\n",
       "      <th>4</th>\n",
       "    </tr>\n",
       "  </thead>\n",
       "  <tbody>\n",
       "    <tr>\n",
       "      <th>0</th>\n",
       "      <td>985.은평온누리약국앞</td>\n",
       "      <td>37.60119247</td>\n",
       "      <td>126.92638397</td>\n",
       "      <td>운영중</td>\n",
       "      <td>서울특별시 은평구 은평로 170 상현빌딩</td>\n",
       "    </tr>\n",
       "    <tr>\n",
       "      <th>1</th>\n",
       "      <td>989.응암 꼬꼬닭치킨호프 앞</td>\n",
       "      <td>37.59181213</td>\n",
       "      <td>126.91483307</td>\n",
       "      <td>운영중</td>\n",
       "      <td>서울특별시 은평구 가좌로 255</td>\n",
       "    </tr>\n",
       "    <tr>\n",
       "      <th>2</th>\n",
       "      <td>991.흥국사 정류장</td>\n",
       "      <td>37.65676880</td>\n",
       "      <td>126.94200897</td>\n",
       "      <td>운영중</td>\n",
       "      <td>서울특별시 은평구 진관동 298-2</td>\n",
       "    </tr>\n",
       "    <tr>\n",
       "      <th>3</th>\n",
       "      <td>992.북한산입구 정류장</td>\n",
       "      <td>37.65842819</td>\n",
       "      <td>126.94606018</td>\n",
       "      <td>운영중</td>\n",
       "      <td>서울특별시 은평구 진관동 289</td>\n",
       "    </tr>\n",
       "    <tr>\n",
       "      <th>4</th>\n",
       "      <td>993.은평뉴타운 온뜨락아파트앞</td>\n",
       "      <td>37.63028717</td>\n",
       "      <td>126.91956329</td>\n",
       "      <td>운영중</td>\n",
       "      <td>서울특별시 은평구 진관동 235-2</td>\n",
       "    </tr>\n",
       "  </tbody>\n",
       "</table>\n",
       "</div>"
      ],
      "text/plain": [
       "                   0            1             2    3                        4\n",
       "0       985.은평온누리약국앞  37.60119247  126.92638397  운영중  서울특별시 은평구 은평로 170 상현빌딩 \n",
       "1   989.응암 꼬꼬닭치킨호프 앞  37.59181213  126.91483307  운영중       서울특별시 은평구 가좌로 255 \n",
       "2        991.흥국사 정류장  37.65676880  126.94200897  운영중     서울특별시 은평구 진관동 298-2 \n",
       "3      992.북한산입구 정류장  37.65842819  126.94606018  운영중       서울특별시 은평구 진관동 289 \n",
       "4  993.은평뉴타운 온뜨락아파트앞  37.63028717  126.91956329  운영중     서울특별시 은평구 진관동 235-2 "
      ]
     },
     "execution_count": 113,
     "metadata": {},
     "output_type": "execute_result"
    }
   ],
   "source": [
    "df= pd.DataFrame(all_stations)\n",
    "df.head()"
   ]
  },
  {
   "cell_type": "markdown",
   "metadata": {},
   "source": [
    "## 함수 동작확인"
   ]
  },
  {
   "cell_type": "code",
   "execution_count": 73,
   "metadata": {
    "collapsed": true
   },
   "outputs": [
    {
     "data": {
      "text/plain": [
       "[<tr>\n",
       " <td class=\"pl10\"><a href=\"#\" param-data=\"37.56597900,127.04311371\">3553.마장역3번출구</a></td>\n",
       " <td class=\"pl10\">\n",
       "                         운영중</td>\n",
       " <td class=\"tr\">1</td>\n",
       " <td class=\"tr\">0</td>\n",
       " <td class=\"tbleft mhid\"><span>서울특별시 성동구 마장로 302 </span></td>\n",
       " </tr>,\n",
       " <tr>\n",
       " <td class=\"pl10\"><a href=\"#\" param-data=\"37.56681824,127.02915192\">3555.양지사거리(센트라스APT 115동앞)</a></td>\n",
       " <td class=\"pl10\">\n",
       "                         운영중</td>\n",
       " <td class=\"tr\">1</td>\n",
       " <td class=\"tr\">0</td>\n",
       " <td class=\"tbleft mhid\"><span>서울특별시 성동구 왕십리로 410 센트라스 </span></td>\n",
       " </tr>,\n",
       " <tr>\n",
       " <td class=\"pl10\"><a href=\"#\" param-data=\"37.55610657,127.01978302\">3556.신금호파크자이APT앞</a></td>\n",
       " <td class=\"pl10\">\n",
       "                         운영중</td>\n",
       " <td class=\"tr\">1</td>\n",
       " <td class=\"tr\">0</td>\n",
       " <td class=\"tbleft mhid\"><span>서울특별시 성동구 금호동2가 1-5 </span></td>\n",
       " </tr>,\n",
       " <tr>\n",
       " <td class=\"pl10\"><a href=\"#\" param-data=\"37.55653000,127.03913116\">3557.서울숲리버뷰자이APT105동 앞</a></td>\n",
       " <td class=\"pl10\">\n",
       "                         운영중</td>\n",
       " <td class=\"tr\">1</td>\n",
       " <td class=\"tr\">0</td>\n",
       " <td class=\"tbleft mhid\"><span>서울특별시 성동구 행당동 379-1 </span></td>\n",
       " </tr>,\n",
       " <tr>\n",
       " <td class=\"pl10\"><a href=\"#\" param-data=\"37.56339645,127.04187012\">3558.마장동 금호어울림APT앞</a></td>\n",
       " <td class=\"pl10\">\n",
       "                         운영중</td>\n",
       " <td class=\"tr\">1</td>\n",
       " <td class=\"tr\">0</td>\n",
       " <td class=\"tbleft mhid\"><span>서울특별시 성동구 마장동 336-11 </span></td>\n",
       " </tr>]"
      ]
     },
     "execution_count": 73,
     "metadata": {},
     "output_type": "execute_result"
    }
   ],
   "source": [
    "# 전체를 돌려보기 전에 일부만 돌려본다.\n",
    "crawling_rent_station(306)"
   ]
  },
  {
   "cell_type": "markdown",
   "metadata": {},
   "source": [
    "## 데이터 프레임으로 일부 결과 저장 확인하기"
   ]
  },
  {
   "cell_type": "code",
   "execution_count": 115,
   "metadata": {
    "scrolled": true
   },
   "outputs": [
    {
     "data": {
      "text/html": [
       "<div>\n",
       "<style scoped>\n",
       "    .dataframe tbody tr th:only-of-type {\n",
       "        vertical-align: middle;\n",
       "    }\n",
       "\n",
       "    .dataframe tbody tr th {\n",
       "        vertical-align: top;\n",
       "    }\n",
       "\n",
       "    .dataframe thead th {\n",
       "        text-align: right;\n",
       "    }\n",
       "</style>\n",
       "<table border=\"1\" class=\"dataframe\">\n",
       "  <thead>\n",
       "    <tr style=\"text-align: right;\">\n",
       "      <th></th>\n",
       "      <th>대여소</th>\n",
       "      <th>위도</th>\n",
       "      <th>경도</th>\n",
       "      <th>상태</th>\n",
       "      <th>주소</th>\n",
       "    </tr>\n",
       "  </thead>\n",
       "  <tbody>\n",
       "    <tr>\n",
       "      <th>9</th>\n",
       "      <td>위트콤공장</td>\n",
       "      <td>0.00000000</td>\n",
       "      <td>0.00000000</td>\n",
       "      <td>운영중</td>\n",
       "      <td>서울특별시 서초구 방배로 110 석교빌딩 4층</td>\n",
       "    </tr>\n",
       "  </tbody>\n",
       "</table>\n",
       "</div>"
      ],
      "text/plain": [
       "     대여소          위도          경도   상태                         주소\n",
       "9  위트콤공장  0.00000000  0.00000000  운영중  서울특별시 서초구 방배로 110 석교빌딩 4층"
      ]
     },
     "execution_count": 115,
     "metadata": {},
     "output_type": "execute_result"
    }
   ],
   "source": [
    "header = [ '대여소', '위도', '경도', '상태', '주소']\n",
    "df = pd.DataFrame(all_stations,  columns = header).sample()\n",
    "df.head()"
   ]
  },
  {
   "cell_type": "markdown",
   "metadata": {},
   "source": [
    "## 전체 크롤링 하기"
   ]
  },
  {
   "cell_type": "code",
   "execution_count": null,
   "metadata": {},
   "outputs": [],
   "source": [
    "# 전체 코드를 돌리기 전에 다시 리스트를 비워줍니다.\n",
    "all_stations = []\n",
    "# 아래의 pnum에 1을 입력하면 1페이지부터 끝까지 가져옵니다.\n",
    "# pnum에 306 을 306페이지부터 끝까지 가져옵니다.\n",
    "pnum = 306\n",
    "# pnum = 300\n",
    "# 크롤링 함수를 호출합니다.\n",
    "crawling_rent_station(pnum)"
   ]
  },
  {
   "cell_type": "code",
   "execution_count": null,
   "metadata": {},
   "outputs": [],
   "source": [
    "# 크롤링한 전체 결과를 프린트 한다.\n",
    "all_stations[:2]"
   ]
  },
  {
   "cell_type": "markdown",
   "metadata": {},
   "source": [
    "## 데이터 프레임 만들기"
   ]
  },
  {
   "cell_type": "code",
   "execution_count": null,
   "metadata": {},
   "outputs": [],
   "source": [
    "header = ['대여소번호', '대여소', '거치대수', '상태', '주소', '위도', '경도']\n"
   ]
  },
  {
   "cell_type": "code",
   "execution_count": null,
   "metadata": {
    "scrolled": true
   },
   "outputs": [],
   "source": [
    "# 미리보기 합니다.\n"
   ]
  },
  {
   "cell_type": "code",
   "execution_count": null,
   "metadata": {},
   "outputs": [],
   "source": []
  },
  {
   "cell_type": "markdown",
   "metadata": {},
   "source": [
    "## CSV 파일로 저장하고 확인하기"
   ]
  },
  {
   "cell_type": "code",
   "execution_count": null,
   "metadata": {},
   "outputs": [],
   "source": [
    "# csv 파일로 저장하기\n",
    "df.to_csv(\"seoul_bike_station.csv\", index=False)"
   ]
  },
  {
   "cell_type": "code",
   "execution_count": null,
   "metadata": {},
   "outputs": [],
   "source": [
    "# 파일이 제대로 생성되었는지 확인\n",
    "pd.read_csv(\"seoul_bike_station.csv\")"
   ]
  },
  {
   "cell_type": "code",
   "execution_count": null,
   "metadata": {},
   "outputs": [],
   "source": []
  }
 ],
 "metadata": {
  "hide_input": false,
  "kernelspec": {
   "display_name": "Python 3",
   "language": "python",
   "name": "python3"
  },
  "language_info": {
   "codemirror_mode": {
    "name": "ipython",
    "version": 3
   },
   "file_extension": ".py",
   "mimetype": "text/x-python",
   "name": "python",
   "nbconvert_exporter": "python",
   "pygments_lexer": "ipython3",
   "version": "3.7.6"
  },
  "toc": {
   "base_numbering": 1,
   "nav_menu": {},
   "number_sections": true,
   "sideBar": true,
   "skip_h1_title": false,
   "title_cell": "Table of Contents",
   "title_sidebar": "Contents",
   "toc_cell": false,
   "toc_position": {},
   "toc_section_display": true,
   "toc_window_display": false
  },
  "varInspector": {
   "cols": {
    "lenName": 16,
    "lenType": 16,
    "lenVar": 40
   },
   "kernels_config": {
    "python": {
     "delete_cmd_postfix": "",
     "delete_cmd_prefix": "del ",
     "library": "var_list.py",
     "varRefreshCmd": "print(var_dic_list())"
    },
    "r": {
     "delete_cmd_postfix": ") ",
     "delete_cmd_prefix": "rm(",
     "library": "var_list.r",
     "varRefreshCmd": "cat(var_dic_list()) "
    }
   },
   "types_to_exclude": [
    "module",
    "function",
    "builtin_function_or_method",
    "instance",
    "_Feature"
   ],
   "window_display": false
  }
 },
 "nbformat": 4,
 "nbformat_minor": 2
}
